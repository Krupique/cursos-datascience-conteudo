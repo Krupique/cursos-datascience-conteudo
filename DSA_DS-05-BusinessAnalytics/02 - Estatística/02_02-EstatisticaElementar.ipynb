{
 "cells": [
  {
   "cell_type": "markdown",
   "metadata": {},
   "source": [
    "# Definição sobre os principais resumos estatísticos"
   ]
  },
  {
   "cell_type": "markdown",
   "metadata": {},
   "source": [
    "**Média**<br/>\n",
    "A média de uma variável de observação é uma medida numérica da localização central dos valores dos dados. \n",
    "É a soma de seus valores de dados divididos pela contagem de dados.\n",
    "\n",
    "**Mediana**<br/>\n",
    "A mediana de uma variável é o valor no meio quando os dados são classificados em ordem crescente. \n",
    "É uma medida ordinal da localização central dos valores de dados.\n",
    "\n",
    "**Quantil**<br/>\n",
    "Existem vários quartis de uma variável. O primeiro quartil, ou quartil inferior, é o valor \n",
    "que corta os primeiros 25% dos dados quando é classificado em ordem crescente. \n",
    "O segundo quartil, ou mediana, é o valor que corta os primeiros 50%. \n",
    "O terceiro quartil, ou quartil superior, é o valor que corta os primeiros 75%.\n",
    "\n",
    "**Range (Amplitude)**<br/>\n",
    "O intervalo de uma variável é a diferença de seus maiores e menores valores de dados. \n",
    "É uma medida de quão distante os dados se espalham.\n",
    "\n",
    "**IQR**<br/>\n",
    "A variação interquartil de uma variável é a diferença de seus quartis superior e inferior. \n",
    "É uma medida de quão distante a parte média dos dados se espalha.\n",
    "\n",
    "\n",
    "**Variância**<br/>\n",
    "A variância é uma medida numérica de como os valores dos dados estão dispersos em torno da média.\n",
    "\n",
    "**Desvio padrão**<br/>\n",
    "O desvio padrão de uma variável é a raiz quadrada de sua variância.\n",
    "\n",
    "**Covariância**<br/>\n",
    "A covariância de duas variáveis x e y em um conjunto de dados mede como as duas variáveis estão linearmente relacionadas. \n",
    "Uma covariância positiva indicaria uma relação linear positiva entre as variáveis, e uma covariância \n",
    "negativa indicaria o contrário.\n",
    "\n",
    "\n",
    "**Correlação**<br/>\n",
    "O coeficiente de correlação de duas variáveis em um conjunto de dados é igual a sua covariância dividida \n",
    "pelo produto de seus desvios-padrão individuais. É uma medida normalizada de como os dois estão \n",
    "linearmente relacionados. Os valores vão de -1 a +1. Valores próximos de zero indicadm que não há correlação.\n",
    "Valor de -1 indica forte correlação negativa e +1 forte correlação positiva.\n",
    "\n",
    "\n",
    "**Skewness**<br/>\n",
    "O skewness é uma medida de simetria. Como regra, a inclinação negativa indica que a média \n",
    "dos valores dos dados é menor que a mediana e a distribuição dos dados é inclinada para a esquerda. \n",
    "A inclinação positiva indicaria que a média dos valores dos dados é maior do que a mediana e a distribuição \n",
    "dos dados é desviada para a direita.\n",
    "\n",
    "\n",
    "**Curtose**<br/>\n",
    "A curtose descreve a forma da cauda da distribuição de dados. \n",
    "A distribuição normal tem kurtosis igual a zero."
   ]
  }
 ],
 "metadata": {
  "language_info": {
   "name": "python"
  },
  "orig_nbformat": 4
 },
 "nbformat": 4,
 "nbformat_minor": 2
}
