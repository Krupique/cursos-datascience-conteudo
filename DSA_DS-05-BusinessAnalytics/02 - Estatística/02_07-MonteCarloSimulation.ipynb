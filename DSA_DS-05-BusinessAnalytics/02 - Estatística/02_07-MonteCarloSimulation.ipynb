{
 "cells": [
  {
   "cell_type": "markdown",
   "metadata": {},
   "source": [
    "## Simulação de Monte Carlo"
   ]
  },
  {
   "cell_type": "code",
   "execution_count": 1,
   "metadata": {},
   "outputs": [],
   "source": [
    "# Pacote para simulação de Monte Carlo em Python. Só funciona com Python 2.7\n",
    "# !pip install montecarlo"
   ]
  },
  {
   "cell_type": "code",
   "execution_count": 2,
   "metadata": {},
   "outputs": [],
   "source": [
    "from random import random\n",
    "from math import pow, sqrt"
   ]
  },
  {
   "cell_type": "code",
   "execution_count": 3,
   "metadata": {},
   "outputs": [
    {
     "name": "stdout",
     "output_type": "stream",
     "text": [
      "pi = 3.138351138351138\n"
     ]
    }
   ],
   "source": [
    "# Simulação de Monte Carlo para detemrinar o valor de pi.\n",
    "DARTS = 1000000\n",
    "hits = 0\n",
    "throws = 0\n",
    "for i in range (1, DARTS):\n",
    "    throws += 1\n",
    "    x = random()\n",
    "    y = random()\n",
    "    dist = sqrt(pow(x, 2) + pow(y, 2))\n",
    "    if dist <= 1.0:\n",
    "        hits = hits + 1.0\n",
    "\n",
    "# hits / throws = 1/4 Pi\n",
    "pi = 4 * (hits / throws)\n",
    "\n",
    "print (\"pi = %s\" %(pi))"
   ]
  },
  {
   "cell_type": "markdown",
   "metadata": {},
   "source": [
    "## Projetando o Comportamento das Ações com Simulação de Monte Carlo"
   ]
  },
  {
   "cell_type": "code",
   "execution_count": 4,
   "metadata": {
    "collapsed": true
   },
   "outputs": [],
   "source": [
    "import numpy as np\n",
    "import math\n",
    "import matplotlib.pyplot as plt\n",
    "%matplotlib inline\n",
    "from scipy.stats import norm"
   ]
  },
  {
   "cell_type": "code",
   "execution_count": 5,
   "metadata": {
    "collapsed": true
   },
   "outputs": [],
   "source": [
    "# Definido as variáveis\n",
    "\n",
    "# Número de dias de funcionamento do mercado de ações\n",
    "T = 250 \n",
    "\n",
    "# Retorno esperado\n",
    "mu = 0.09\n",
    "\n",
    "# Volatilidade - Experimente alterar este parâmetro e ver o resultado da simulação\n",
    "vol = 0.1 "
   ]
  },
  {
   "cell_type": "code",
   "execution_count": 6,
   "metadata": {},
   "outputs": [],
   "source": [
    "# Calculando o retorno de um dia no mercado de ações\n",
    "daily_returns=np.random.normal(mu/T,vol/math.sqrt(T),T)+1"
   ]
  },
  {
   "cell_type": "code",
   "execution_count": 7,
   "metadata": {
    "collapsed": true
   },
   "outputs": [],
   "source": [
    "# Definindo o preço da ação e simulando para diversos dias\n",
    "price_list = [200]\n",
    "for x in daily_returns:\n",
    "    price_list.append(price_list[-1]*x)"
   ]
  },
  {
   "cell_type": "code",
   "execution_count": 8,
   "metadata": {},
   "outputs": [
    {
     "data": {
      "image/png": "[encoded data removed]",
      "text/plain": [
       "<matplotlib.figure.Figure at 0x10e78c630>"
      ]
     },
     "metadata": {},
     "output_type": "display_data"
    }
   ],
   "source": [
    "# Plots\n",
    "plt.plot(price_list)\n",
    "#plt.hist(daily_returns-1, 100) \n",
    "plt.show()"
   ]
  },
  {
   "cell_type": "markdown",
   "metadata": {},
   "source": [
    "## Projetando o Preço das Ações com Simulação de Monte Carlo"
   ]
  },
  {
   "cell_type": "code",
   "execution_count": 9,
   "metadata": {},
   "outputs": [
    {
     "name": "stdout",
     "output_type": "stream",
     "text": [
      "Price: 14.5089\n"
     ]
    }
   ],
   "source": [
    "import datetime\n",
    "from random import gauss\n",
    "from math import exp, sqrt\n",
    "\n",
    "def generate_asset_price(S,v,r,T):\n",
    "    return S * exp((r - 0.5 * v**2) * T + v * sqrt(T) * gauss(0,1.0))\n",
    "\n",
    "def call_payoff(S_T,K):\n",
    "    return max(0.0,S_T-K)\n",
    "\n",
    "S = 857.29 # preço\n",
    "v = 0.2076 # volume de 20.76%\n",
    "r = 0.0014 # rate de 0.14%\n",
    "T = (datetime.date(2013,9,21) - datetime.date(2013,9,3)).days / 365.0\n",
    "K = 860.\n",
    "simulations = 90000\n",
    "payoffs = []\n",
    "discount_factor = math.exp(-r * T)\n",
    "\n",
    "for i in range(simulations):\n",
    "    S_T = generate_asset_price(S,v,r,T)\n",
    "    payoffs.append(\n",
    "        call_payoff(S_T, K)\n",
    "    )\n",
    "\n",
    "price = discount_factor * (sum(payoffs) / float(simulations))\n",
    "print ('Price: %.4f' % price)"
   ]
  },
  {
   "cell_type": "markdown",
   "metadata": {},
   "source": [
    "## Projeção do Valor de um Ativo"
   ]
  },
  {
   "cell_type": "code",
   "execution_count": 10,
   "metadata": {
    "collapsed": true
   },
   "outputs": [],
   "source": [
    "import numpy as np \n",
    "import pylab as pl"
   ]
  },
  {
   "cell_type": "code",
   "execution_count": 11,
   "metadata": {
    "collapsed": true
   },
   "outputs": [],
   "source": [
    "# Variáveis\n",
    "\n",
    "# Número de caminhos\n",
    "M = 1000\n",
    "\n",
    "# Número de passos\n",
    "N = 50\n",
    "\n",
    "# Horizonte de tempo de simulação\n",
    "T = 1.0 \n",
    "\n",
    "# Volatilidade anual\n",
    "sigma = 0.3 \n",
    "\n",
    "# Drift rate\n",
    "mu = 0.05\n",
    "\n",
    "# Tempo de simulação\n",
    "dt = T/N\n",
    "\n",
    "# Preço do ativo S\n",
    "S0 = 100\n"
   ]
  },
  {
   "cell_type": "code",
   "execution_count": 12,
   "metadata": {
    "collapsed": true
   },
   "outputs": [],
   "source": [
    "# Matriz onde nós armazenamos todos os trajetos do preço do ativo\n",
    "# Perceba que a primeira coluna é o preço inicial do ativo (S0)\n",
    "S = np.zeros((M,N+1))\n",
    "S[:,0] = S0"
   ]
  },
  {
   "cell_type": "code",
   "execution_count": 13,
   "metadata": {
    "collapsed": true
   },
   "outputs": [],
   "source": [
    "# Começamos com uma implementação direta do algoritmo sem qualquer tentativa de otimizar o desempenho. \n",
    "# Aqui aninhamos dois loops. O exterior sobre os caminhos M - o interno sobre todos os passos do tempo. \n",
    "# Em cada etapa estamos calculando o preço do ativo em função de um sorteio aleatório e o valor no passo anterior. \n",
    "# Esta é a equação de propagação (definida ao final do loop):\n",
    "# S[m,n+1] = S[m,n]*np.exp( (mu-0.5*sigma**2)*dt + eps*sigma*np.sqrt(dt) )\n",
    "for m in range(M):\n",
    "  for n in range(N):\n",
    "    eps = np.random.normal(0, 1, 1)[0]\n",
    "    S[m,n+1] = S[m,n]*np.exp( (mu-0.5*sigma**2)*dt + eps*sigma*np.sqrt(dt) )"
   ]
  },
  {
   "cell_type": "code",
   "execution_count": 14,
   "metadata": {
    "collapsed": true
   },
   "outputs": [],
   "source": [
    "# Esse trecho de código acima é lento. \n",
    "# Em nossa máquina de teste leva um pouco mais de 600 ms (mili segundos) para uma matriz de 1000 caminhos e \n",
    "# 50 etapas de tempo.\n",
    "# Primeiro, otimizamos o loop externo. A equação para o passo de propagação funciona perfeitamente bem também em forma de vetor.\n",
    "# Uma vetorização simples como esta faz maravilhas para o desempenho\n",
    "# O tempo de execução na nossa máquina é agora apenas cerca de 4,3 ms. \n",
    "# Devemos sempre fazer isso como caminhos individuais em uma simulação Monte Carlo.\n",
    "# É importante ter atenção à dimensão dos arrays. Python assume a multiplicação de vetor elementwise \n",
    "# por padrão para matrizes numpy.\n",
    "for n in range(N):\n",
    "  eps = np.random.normal(0, 1, (M))\n",
    "  S[:,n+1] = S[:,n]*np.exp((mu-0.5*sigma**2)*dt + eps*sigma*np.sqrt(dt));"
   ]
  },
  {
   "cell_type": "code",
   "execution_count": 15,
   "metadata": {
    "collapsed": true
   },
   "outputs": [],
   "source": [
    "# Podemos também ajustar o loop interno (ao longo do tempo). \n",
    "# Todas as entradas, exceto a primeira coluna da matriz, são preenchidas com a alteração relativa no preço do ativo, \n",
    "# que calculamos reescrevendo a equação acima, da seguinte maneira:\n",
    "eps = np.random.normal(0, 1, (M,N))\n",
    "S[:,1:] = np.exp((mu-0.5*sigma**2)*dt + eps*sigma*np.sqrt(dt))\n",
    "S = np.cumprod(S, axis = 1)\n",
    "# Em seguida, realizamos a propagação tomando o produto cumulativo na dimensão de tempo \n",
    "# (eixo = 1 para a dimensão da linha). A função cumprod é totalmente vectorizada e portanto muito rápida."
   ]
  },
  {
   "cell_type": "code",
   "execution_count": 17,
   "metadata": {},
   "outputs": [
    {
     "data": {
      "image/png": "[encoded data removed]",
      "text/plain": [
       "<matplotlib.figure.Figure at 0x111362f60>"
      ]
     },
     "metadata": {},
     "output_type": "display_data"
    }
   ],
   "source": [
    "# Plot\n",
    "pl.plot(np.linspace(0,T,N+1), np.percentile(S, 95, axis = 0))\n",
    "pl.title('Projeção do Preço de Ativos com 95 Percentil')\n",
    "pl.xlabel('t')\n",
    "pl.show()"
   ]
  }
 ],
 "metadata": {
  "anaconda-cloud": {},
  "kernelspec": {
   "display_name": "Python 3",
   "language": "python",
   "name": "python3"
  },
  "language_info": {
   "codemirror_mode": {
    "name": "ipython",
    "version": 3
   },
   "file_extension": ".py",
   "mimetype": "text/x-python",
   "name": "python",
   "nbconvert_exporter": "python",
   "pygments_lexer": "ipython3",
   "version": "3.6.1"
  }
 },
 "nbformat": 4,
 "nbformat_minor": 1
}
