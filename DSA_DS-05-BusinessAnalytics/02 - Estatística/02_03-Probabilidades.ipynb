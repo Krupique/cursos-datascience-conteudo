{
 "cells": [
  {
   "cell_type": "markdown",
   "metadata": {},
   "source": [
    "# Distribuições de Probabilidade"
   ]
  },
  {
   "cell_type": "markdown",
   "metadata": {},
   "source": [
    "Uma distribuição de probabilidade descreve como os valores de uma variável aleatória são distribuídos. <br/>\n",
    "Por exemplo, a coleção de todos os resultados possíveis de uma sequência de lançamento de moeda é conhecido por seguir a distribuição binomial. \n",
    "\n",
    "Médias de amostras suficientemente grandes de uma população de dados são conhecidos por se assemelhar a distribuição normal. \n",
    "\n",
    "Como as características dessas distribuições teóricas são bem compreendidas, elas podem ser usadas para fazer inferências estatísticas em toda a população de dados como um todo. Os algoritmos de Machine Learning são baseados em distribuições de probabilidade.\n",
    "\n",
    "Abaixo você encontra as principais distribuições de probabilidade"
   ]
  },
  {
   "cell_type": "code",
   "execution_count": 9,
   "metadata": {},
   "outputs": [],
   "source": [
    "# Importação da função binom\n",
    "from scipy.stats import binom"
   ]
  },
  {
   "cell_type": "markdown",
   "metadata": {},
   "source": [
    "**Distribuição Binomial**<br/>\n",
    "A distribuição binomial é uma distribuição de probabilidade discreta.  Ela descreve o resultado de n experimentos independentes em um experimento. Cada ensaio é suposto ter apenas dois resultados, seja sucesso ou fracasso.\n",
    "\n",
    "Suponha que haja 12 perguntas de múltipla escolha em um exame. Cada pergunta tem 5 respostas possíveis, e apenas 1 delas está correta. Encontre a probabilidade de ter quatro ou menos respostas corretas se um aluno tentar responder a todas as perguntas aleatoriamente.\n",
    "#?dbinom\n",
    "\n",
    "Uma vez que apenas uma entre cinco respostas possíveis está correta, a probabilidade de responder a uma pergunta corretamente por aleatoriedade é 1/5 = 0,2. Podemos encontrar a probabilidade de ter exatamente 4 respostas corretas por tentativas aleatórias como segue.<br/>\n",
    "Em R: #dbinom(4, size = 12, prob = 0.2) "
   ]
  },
  {
   "cell_type": "code",
   "execution_count": 10,
   "metadata": {},
   "outputs": [
    {
     "data": {
      "text/plain": [
       "0.13287555071999996"
      ]
     },
     "execution_count": 10,
     "metadata": {},
     "output_type": "execute_result"
    }
   ],
   "source": [
    "# eventos , experimentos, probabilidades\n",
    "prob = binom.pmf(4, 12, 0.2)\n",
    "prob"
   ]
  },
  {
   "cell_type": "markdown",
   "metadata": {},
   "source": [
    "A probabilidade de quatro ou menos perguntas respondidas corretamente por sorteio em um questionário de múltipla escolha é de 92,7%.<br/>\n",
    "Em R: #pbinom(4, size = 12, prob = 0.2) "
   ]
  },
  {
   "cell_type": "code",
   "execution_count": 12,
   "metadata": {},
   "outputs": [
    {
     "data": {
      "text/plain": [
       "0.9274445004799999"
      ]
     },
     "execution_count": 12,
     "metadata": {},
     "output_type": "execute_result"
    }
   ],
   "source": [
    "# eventos , experimentos, probabilidades\n",
    "prob = binom.cdf(4, 12, 0.2)\n",
    "prob"
   ]
  },
  {
   "cell_type": "markdown",
   "metadata": {},
   "source": [
    "<hr/>\n",
    "\n",
    "**Distribuição Poisson**"
   ]
  },
  {
   "cell_type": "code",
   "execution_count": 13,
   "metadata": {},
   "outputs": [],
   "source": [
    "# Importação da função\n",
    "from scipy.stats import poisson"
   ]
  },
  {
   "cell_type": "markdown",
   "metadata": {},
   "source": [
    "A distribuição de Poisson é a distribuição de probabilidade de ocorrências de eventos independentes em um  intervalo.\n",
    "\n",
    "Se há doze carros cruzando uma ponte por minuto em média, encontre a probabilidade de ter dezessete ou mais carros cruzando a ponte em um minuto específico.\n",
    "#?ppois\n",
    "\n",
    "A probabilidade de ter 17 ou mais carros cruzando a ponte em um minuto está na parte superior da cauda da função de densidade de probabilidade. Se há doze carros cruzando uma ponte por minuto em média, a probabilidade de ter dezessete ou mais carros que cruzam a ponte em um minuto particular é 10.1%.<br/>\n",
    "Em R: ppois(16, lambda = 12, lower = FALSE)"
   ]
  },
  {
   "cell_type": "code",
   "execution_count": 15,
   "metadata": {},
   "outputs": [
    {
     "data": {
      "text/plain": [
       "0.10129100743983793"
      ]
     },
     "execution_count": 15,
     "metadata": {},
     "output_type": "execute_result"
    }
   ],
   "source": [
    "poisson.sf(16, 12)"
   ]
  },
  {
   "cell_type": "markdown",
   "metadata": {},
   "source": [
    "A probabilidade de ter dezesseis ou menos carros cruzando a ponte em um minuto específico é dada pela função ppois.<br/>\n",
    "Em R: ppois(16, lambda = 12) "
   ]
  },
  {
   "cell_type": "code",
   "execution_count": 16,
   "metadata": {},
   "outputs": [
    {
     "data": {
      "text/plain": [
       "0.8987089925601621"
      ]
     },
     "execution_count": 16,
     "metadata": {},
     "output_type": "execute_result"
    }
   ],
   "source": [
    "poisson.cdf(16, 12)"
   ]
  },
  {
   "cell_type": "markdown",
   "metadata": {},
   "source": [
    "<hr/>\n",
    "\n",
    "**Distribuição Uniforme Contínua**<br/>\n",
    "\n",
    "A distribuição uniforme contínua é a distribuição de probabilidade de seleção de números aleatórios a partir do intervalo contínuo entre a e b. <br/>\n",
    "#runif(10, min = 1, max = 3) <br/>\n",
    "#hist(runif(10, min = 1, max = 3))"
   ]
  },
  {
   "cell_type": "code",
   "execution_count": 22,
   "metadata": {},
   "outputs": [],
   "source": [
    "import numpy as np\n",
    "import seaborn as sns"
   ]
  },
  {
   "cell_type": "code",
   "execution_count": 23,
   "metadata": {},
   "outputs": [
    {
     "data": {
      "text/plain": [
       "<AxesSubplot:ylabel='Count'>"
      ]
     },
     "execution_count": 23,
     "metadata": {},
     "output_type": "execute_result"
    },
    {
     "data": {
      "image/png": "[encoded data removed]",
      "text/plain": [
       "<Figure size 432x288 with 1 Axes>"
      ]
     },
     "metadata": {
      "needs_background": "light"
     },
     "output_type": "display_data"
    }
   ],
   "source": [
    "sns.histplot(np.random.uniform(low=1, high=3, size=10))"
   ]
  },
  {
   "cell_type": "markdown",
   "metadata": {},
   "source": [
    "<hr/>\n",
    "\n",
    "**Distribuição Exponencial**\n",
    "\n",
    "A distribuição exponencial descreve o tempo de chegada de uma seqüência de eventos independentes, aleatoriamente recorrentes.\n",
    "\n",
    "Suponha que o tempo médio de checkout de um caixa de supermercado seja de 3 minutos. <br/>\n",
    "Encontre a probabilidade de uma verificação de cliente ser concluída pelo caixa em menos de 2 minutos.\n",
    "\n",
    "A taxa de processamento de saída é igual a 1 dividido pelo tempo médio de conclusão do checkout. Daí a taxa de processamento é 1/3 checkouts por minuto. \n",
    "Aplicamos então a função pexp da distribuição exponencial com taxa = 1/3.\n",
    "\n",
    "A probabilidade de terminar um checkout em menos de dois minutos pelo caixa é de 48,7% <br/>\n",
    "Em R: pexp(2, rate = 1/3) \n"
   ]
  },
  {
   "cell_type": "markdown",
   "metadata": {},
   "source": [
    "<hr/>\n",
    "\n",
    "**Distribuição normal,  Gauss ou Gaussiana**\n",
    "\n",
    "A distribuição normal é uma das mais importantes distribuições da estatística, conhecida também  como Distribuição de Gauss ou Gaussiana.\n",
    "\n",
    "Além de descrever uma série de fenômenos físicos e financeiros, possui grande uso na estatística inferencial. \n",
    "É inteiramente descrita por seus parâmetros de média e desvio padrão, ou seja, conhecendo-se estes valores consegue-se determinar qualquer probabilidade em uma distribuição Normal.\n",
    "\n",
    "Um interessante uso da Distribuição Normal é que ela serve de aproximação para o cálculo de outras distribuições quando o número de observações for muito grande. \n",
    "Essa importante propriedade provém do Teorema do Limite Central que diz que \"toda soma de variáveis aleatórias independentes de média finita e variância limitada é aproximadamente Normal, desde que o número de termos da soma seja suficientemente grande\"\n",
    "\n",
    "Suponha que as pontuações dos exames de vestibular se enquadrem numa distribuição normal. \n",
    "Além disso, o score médio do teste é 72 e o desvio padrão é 15,2. Qual é a percentagem de alunos com mais de 84 pontos no exame?\n",
    "\n",
    "Aplicamos a função pnorm da distribuição normal com média 72 e desvio padrão 15,2. Uma vez que estamos procurando o percentual de alunos com pontuação superior a 84, estamos interessados na cauda superior da distribuição normal.\n",
    "\n",
    "A percentagem de alunos com pontuação de 84 ou mais no vestibular é de 21,5%.<br/>\n",
    "#pnorm(84, mean = 72, sd = 15.2, lower.tail = FALSE) <br/>\n",
    "#rnorm(84, mean = 72, sd = 15.2) <br/>\n",
    "#hist(rnorm(84, mean = 72, sd = 15.2))"
   ]
  },
  {
   "cell_type": "code",
   "execution_count": 28,
   "metadata": {},
   "outputs": [],
   "source": [
    "# Importação da função norm\n",
    "from scipy.stats import norm"
   ]
  },
  {
   "cell_type": "code",
   "execution_count": 37,
   "metadata": {},
   "outputs": [
    {
     "name": "stdout",
     "output_type": "stream",
     "text": [
      "Percentual de alunos com nota superior a 84 pontos:\n",
      "0.21491760231127244\n",
      "\n",
      "Percentual de alunos com nota inferior a 84 pontos:\n",
      "0.7850823976887276\n"
     ]
    }
   ],
   "source": [
    "# Conjunto de objetos, a média e o desvio padrão\n",
    "# Parte superior da cauda da distribuição\n",
    "print('Percentual de alunos com nota superior a 84 pontos:')\n",
    "print(norm.sf(84, 72, 15.2))\n",
    "\n",
    "# Conjunto de objetos, a média e o desvio padrão\n",
    "print('\\nPercentual de alunos com nota inferior a 84 pontos:')\n",
    "print(norm.cdf(84, 72, 15.2))"
   ]
  },
  {
   "cell_type": "code",
   "execution_count": 47,
   "metadata": {},
   "outputs": [
    {
     "data": {
      "text/plain": [
       "<AxesSubplot:ylabel='Count'>"
      ]
     },
     "execution_count": 47,
     "metadata": {},
     "output_type": "execute_result"
    },
    {
     "data": {
      "image/png": "[encoded data removed]",
      "text/plain": [
       "<Figure size 432x288 with 1 Axes>"
      ]
     },
     "metadata": {
      "needs_background": "light"
     },
     "output_type": "display_data"
    }
   ],
   "source": [
    "sns.histplot(np.random.normal(72,15.2,84))"
   ]
  }
 ],
 "metadata": {
  "kernelspec": {
   "display_name": "Python 3.8.9 64-bit",
   "language": "python",
   "name": "python3"
  },
  "language_info": {
   "codemirror_mode": {
    "name": "ipython",
    "version": 3
   },
   "file_extension": ".py",
   "mimetype": "text/x-python",
   "name": "python",
   "nbconvert_exporter": "python",
   "pygments_lexer": "ipython3",
   "version": "3.8.9"
  },
  "orig_nbformat": 4,
  "vscode": {
   "interpreter": {
    "hash": "b081a66ee97bd2b6a16f43955f1d810b7ea816d6eaeb65e157ef9e038445f0c6"
   }
  }
 },
 "nbformat": 4,
 "nbformat_minor": 2
}
