{
 "cells": [
  {
   "cell_type": "markdown",
   "metadata": {},
   "source": [
    "# Redes Neurais"
   ]
  },
  {
   "cell_type": "markdown",
   "metadata": {},
   "source": [
    "## Backpropagation "
   ]
  },
  {
   "cell_type": "code",
   "execution_count": 1,
   "metadata": {
    "tags": []
   },
   "outputs": [],
   "source": [
    "import numpy as np\n",
    "import math"
   ]
  },
  {
   "cell_type": "code",
   "execution_count": 2,
   "metadata": {},
   "outputs": [],
   "source": [
    "# Função de ativação Sigmoid\n",
    "def sigmoid(x):     \n",
    "    return 1 /(1+(math.e**-x))\n",
    "\n",
    "# Função derivada da função Sigmoid (para cálculo do gradiente)\n",
    "def deriv_sigmoid(y):\n",
    "    return y * (1.0 - y)   "
   ]
  },
  {
   "cell_type": "code",
   "execution_count": 3,
   "metadata": {},
   "outputs": [],
   "source": [
    "# Learning rate\n",
    "alpha = .1   "
   ]
  },
  {
   "cell_type": "code",
   "execution_count": 4,
   "metadata": {},
   "outputs": [],
   "source": [
    "# Gerando dados aleatórios para x e y\n",
    "# X será o dataset com 3 features (3 atributos)\n",
    "X = np.array([  [.35,.21,.33],\n",
    "                [.2,.4,.3],\n",
    "                [.4,.34,.5],\n",
    "                [.18,.21,16] ])                \n",
    "\n",
    "y = np.array([[0],\n",
    "        [1],\n",
    "        [1],\n",
    "        [0]])"
   ]
  },
  {
   "cell_type": "code",
   "execution_count": 5,
   "metadata": {},
   "outputs": [],
   "source": [
    "# Inicializando randomicamente os vetores de pesos (serão criadas 2 camadas ocultas)\n",
    "np.random.seed(1)\n",
    "theta0 = 2*np.random.random((3,4)) - 1\n",
    "theta1 = 2*np.random.random((4,1)) - 1"
   ]
  },
  {
   "cell_type": "markdown",
   "metadata": {},
   "source": [
    "### Passos Realizados pelo Backpropagation"
   ]
  },
  {
   "cell_type": "markdown",
   "metadata": {},
   "source": [
    "1- Feedforward pass: Inicializamos aleatoriamente os vetores de peso e multiplicamos a entrada com os vetores de peso subsequentes em direção a uma saída final."
   ]
  },
  {
   "cell_type": "markdown",
   "metadata": {},
   "source": [
    "2- Cálculo do erro: Calculamos o erro / perda da saída do passo de feedforward."
   ]
  },
  {
   "cell_type": "markdown",
   "metadata": {},
   "source": [
    "3- Backpropagation para a última camada oculta (em relação à saída): Calculamos o gradiente desse erro e alteramos os pesos para a direção do gradiente. Fazemos isso multiplicando o vetor de pesos pelos gradientes calculados."
   ]
  },
  {
   "cell_type": "markdown",
   "metadata": {},
   "source": [
    "4- Atualiza os pesos até o critério de parada ser atingido (erro mínimo ou número de rodadas de treinamento)."
   ]
  },
  {
   "cell_type": "code",
   "execution_count": null,
   "metadata": {},
   "outputs": [],
   "source": [
    "# Loop for para percorrer a rede neural\n",
    "# O valor 205000 especifica a quantidade de rounds de treinamento\n",
    "for iter in range(205000): \n",
    "    # Etapa 1: Feedforward \n",
    "    input_layer = X\n",
    "    l1 = sigmoid(np.dot(input_layer, theta0))\n",
    "    l2 = sigmoid(np.dot(l1,theta1))\n",
    "\n",
    "    # Etapa 2: Calculando o erro \n",
    "    l2_error = y - l2\n",
    "    \n",
    "    if (iter% 1000) == 0:\n",
    "        print (\"Acurácia da Rede Neural: \" + str(np.mean(1-(np.abs(l2_error)))))\n",
    "        \n",
    "    # Etapa 3: Calculando os gradientes de forma vetorizada \n",
    "    l2_delta = alpha * (l2_error * deriv_sigmoid(l2))\n",
    "    l1_error = l2_delta.dot(theta1.T)\n",
    "    l1_delta = alpha * (l1_error * deriv_sigmoid(l1))\n",
    "\n",
    "    # Etapa 4 - Atualiza os vetores de pesos\n",
    "    theta1 += l1.T.dot(l2_delta)\n",
    "    theta0 += input_layer.T.dot(l1_delta)"
   ]
  }
 ],
 "metadata": {
  "anaconda-cloud": {},
  "kernelspec": {
   "display_name": "Python 3.8.9 64-bit",
   "language": "python",
   "name": "python3"
  },
  "language_info": {
   "codemirror_mode": {
    "name": "ipython",
    "version": 3
   },
   "file_extension": ".py",
   "mimetype": "text/x-python",
   "name": "python",
   "nbconvert_exporter": "python",
   "pygments_lexer": "ipython3",
   "version": "3.8.9"
  },
  "vscode": {
   "interpreter": {
    "hash": "b081a66ee97bd2b6a16f43955f1d810b7ea816d6eaeb65e157ef9e038445f0c6"
   }
  }
 },
 "nbformat": 4,
 "nbformat_minor": 4
}
