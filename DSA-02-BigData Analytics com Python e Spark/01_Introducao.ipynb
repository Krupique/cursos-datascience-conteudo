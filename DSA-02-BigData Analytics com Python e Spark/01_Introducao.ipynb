{
 "cells": [
  {
   "cell_type": "markdown",
   "metadata": {},
   "source": [
    "# Introdução ao PySpark"
   ]
  },
  {
   "cell_type": "markdown",
   "metadata": {},
   "source": [
    "PySpark é uma API Python para Apache SPARK que é denominado como o mecanismo de processamento analítico para aplicações de processamento de dados distribuídos em larga escala e aprendizado de máquina em tempo real, ou seja, para grandes volumes de dados, conhecido como Big Data.\n",
    "O uso da biblioteca Pyspark possui diversas vantagens:\n",
    "* É um mecanismo de processamento distribuído , na memória, que permite o processamento de dados de forma eficiente e de características distribuída.\n",
    "* Com o uso do PySpark, é possível o processamento de dados em Hadoop (HDFS), AWS S3 e outros sistemas de arquivos.\n",
    "* Possui bibliotecas de aprendizado de máquina e gráficos.\n",
    "* Geralmente as aplicações criadas e executadas no PySpark são 100x mais rápidas que outras em sistemas de dados conhecidos.\n",
    "\n",
    "Toda a execução dos scripts são realizados dentro do Apache Spark, que distribui o processamento dentro de um ambiente de cluster que são interligados aos NÓs que realizam a execução e transformação dos dados.\n",
    "\n",
    "**Spark Workflow**<br/>\n",
    "O Apache Spark segue os seguintes passos:\n",
    "1. Carga de dados: Fontes que geram dados em tempo real, HDFS, NoSQL.\n",
    "2. Transformação: Filtro, limpeza, join.\n",
    "3. Processamento: Em memória, HDFS, NoSQL.\n",
    "4. Análise interativa: Shell, SparkSQL.\n",
    "5. Machine Learning: Modelos preditivos aplicados a Stream de Dados.\n",
    "6. Ação: Tomada de decisão.\n",
    "\n",
    "**Spark Driver e Workers**<br/>\n",
    "Uma aplicação Spark possui 2 programas:\n",
    "* *Driver Program*: É executado em uma única máquina.\n",
    "* *Worker Program*: São executados em cada node do cluster. Os Dataframes são distribuídos através dos Clusters.\n",
    "\n",
    "**Spark Contexts**<br/>\n",
    "O Spark cria um programa chamado SparkContext, que é um objeto que define como e onde o Spark acessa o cluster. No shell do PySpark, o SparkContext é criado automaticamente. Já no Jupyter notebook ou em outra IDE, precisamos criar o SparkContext.\n",
    "Na sequência, criamos o sqlContext, que é o objeto usado para criar os dataframes, as estruturas que vão armazenar os dados.\n",
    "\n",
    "**Hadoop ou Apache Spark**\n",
    "O Hadoop é mais recomendado quando o volume de dados for massivo na casa dos Petabytes, além disso, quando for bem estruturado.\n",
    "Já o Apache Spark é mais recomendado quando o volume de dados não for tão grande ou quando os dados não são estruturados, ou seja, fluxo de dados.\n",
    "\n",
    "<img src='assets/tabela01.png'/>\n",
    "\n",
    "Quando o tamanho do conjunto de dados for menor que 1TB devemos utilizar o Apache Spark, já quando o tamanho do conjunto de dados foi maior que 1TB podemos utilizar o Hadoop para armazenamento e o Spark para processamento dos dados.\n",
    "\n",
    "**MapReduce x Spark**<br/>\n",
    "O Hadoop HDFS serve para o armazenamento distribuído em Clusters e o Hadoop MapReduce para processamento distribuído.\n",
    "O MapReduce é um motor de computação distribuída fornecido pelo Hadoop. Enquanto que o HDFS fornece um sistema de arquivos distribuídos para armazenamento de grande conjunto de dados, o MapReduce fornece uma estrutura de computação para o processamento de grande conjunto de dados em paralelo através de um Cluster de computadores.\n",
    "\n",
    "<img src='assets/figura01.png'/>\n",
    "\n",
    "* O Spark suporta mais do que apenas as funções de Map e Reduce;\n",
    "* Hadoop MapReduce grava os resultados intermediários em disco, enquanto o Spark grava os resultados intermediários em memória, o que é muito mais rápido.\n",
    "* O Spark fornece APIs concisas e consistentes em Scala, Java e Python (e mais recentemente em R);\n",
    "* O Spark oferece shell interativo para Scala, Python e R;\n",
    "* O Spark pode utilizar o HDFS como uma de suas fontes de dados.\n",
    "\n",
    "### RDD - Resilient Distributed Datasets\n",
    "É como uma tabela de banco de dados, é a essência do funcionamento do Spark. É uma coleção de objetos distribuída e imutável, é read-only. Cada conjunto de dados no RDD é dividido em partições lógicas, que podem ser computadas em diferentes nodes do cluster.\n",
    "Existem duas formas de criar o RDD:\n",
    "Paralelizando uma coleção existente (função sc.parallelize);\n",
    "Referenciando um dataset externo (HDFS, RDBMS, NoSQL, S3).\n",
    "O Spark utiliza o conceito de RDDs para aplicar o MapReduce de maneira rápida. Por padrão, os RDDs são computados cada vez que executamos uma ação. Entretanto, podemos “persistir” o RDD na memória (ou mesmo no disco) de modo que os dados estejam disponíveis ao longo do cluster e possam ser processados de forma muito mais rápida pelas operações de análise de dados.<br/>\n",
    "O RDD suporta dois tipos de operações:\n",
    "<img src='assets/tabela02.png'/>\n",
    "Cada transformação gera um novo RDD, pois os RDDs são imutáveis. As ações aplicam as transformações nos RDDs e retornam o resultado.\n",
    "\n",
    "**Características dos RDDs:**\n",
    "* Spark é baseado em RDDs. Criamos, transformamos e armazenamos RDDs em Spark;\n",
    "* RDD representa uma coleção de elementos de dados particionados que podem ser operados em paralelo.\n",
    "* RDDs são objetos imutáveis. Eles não podem ser alterados uma vez criados.\n",
    "* RDDs podem ser colocados em cache e permitem persistência (mesmo objeto usado entre sessões diferentes).\n",
    "* Ao aplicarmos Transformações em RDDs criamos novos RDDs.\n",
    "* Ações aplicam as transformações nos RDDs e geram um resultado.\n",
    "\n",
    "**Existem dois tipos de transformações:**\n",
    "* *Narrow*: Resultado de funções como map() e filter() e os dados vem de uma única partição\n",
    "* *Wide*: Resultado de funções como groupByKey() e os dados podem vir de diversas partições.\n",
    "\n",
    "\n",
    "### Spark SQL\n",
    "**Cloud e Cluster Computing**<br/>\n",
    "Não temos como processar e armazenar Big Data em apenas um computador. É um sistema que compreende dois ou mais computadores, chamados de nodes. Os nodes funcionam como se fosse apenas um único computador.\n",
    "O MapReduce é a principal tecnologia para o processamento em sistemas distribuídos.\n",
    "\n",
    "**Linguagem SQL**<br/>\n",
    "A linguagem sql surgiu por volta dos anos 70. É uma linguagem de script utilizada para controlar, manipular e selecionar dados em banco de dados.\n",
    "\n",
    "**Spark SQL**<br/>\n",
    "O Spark sql permite realizar consultas sql no spark. O Spark possui dataframes, semelhante com os dataframes do Pandas. O Spark SQL possui três principais componentes:\n",
    "* Dataframe (Schema RDD);\n",
    "* Spark Session;\n",
    "* SQL Context.\n",
    "\n",
    "### Spark Streaming\n",
    "A proposta do Spark Stream é analisar dados em tempo real, e não esperar horas para fazer a análise e processamento. \"*A vida não acontece em batches*\".<br/>\n",
    "Streaming de dados não é apenas para projetos altamente especializados. Computação baseada em Streaming está se tornando a regra para empresas orientadas a dados.<br/>\n",
    "Uma das principais fontes de dados contínuos são os sensores, da internet das coisas.\n",
    "Existem quatro areas principais que o Spark Streaming vem sendo utilizado:\n",
    "* Streaming ETL;\n",
    "* Detecção de anomalias;\n",
    "* Enriquecimento de dados;\n",
    "* Sessões complexas e aprendizado contínuo.\n",
    "\n",
    "*Uma importante vantagem de usar o Spark para Big Data Analytics é a possibilidade de combinar processamento em batch e processamento de streaming em um único sistema*.<br/.\n",
    "* **Batch**: Você inicia o processamento de um arquivo ou dataset finito, o spark processa as tarefas configuradas e conclui o trabalho.\n",
    "* **Streaming**: Você processa um stream de dados contínuos; a execução não pára até que haja algum erro ou você termine a aplicação manualmente.\n",
    "\n",
    "### DStreams: Discretized Streams\n",
    "Assim como os RDDs são a base do Apache Spark, os DStreams são a base do Apache Spark Streaming.<br/>\n",
    "O dstream é uma sequência de dados que são coletados ao longo do tempo. Internamente, um dstream é representado por uma sequência de RDDs coletados em cada intervalo de tempo. Pode ser criado por diversas fontes, como Kafka, Flume, Twitter, etc..<br/>\n",
    "Uma vez que são criados, os dstreams oferecem dois tipos e operações:\n",
    "* **Transformações**: Geram um novo dstream;\n",
    "* **Ações (operações de output)**: Gravam os dados em um sistema de armazenamento ou outra fonte externa.\n",
    "Os DStreams oferecem muitas das operações que podem ser realizadas com os RDDs, mais operações relacionadas ao tempo, como sliding windows.\n",
    "\n",
    "<img src=\"assets/figura02.png\"/>\n",
    "\n",
    "**O que pode ser feito com DStreams:**\n",
    "* Map;\n",
    "* FlatMap;\n",
    "* Filter;\n",
    "* ReduceByKey;\n",
    "* Join;\n",
    "* Window;\n",
    "* Manter o controle de estado dos dados (Stateful Data)\n",
    "\n",
    "**Windowing**\n",
    "Computação em uma janela de tempo. A cada janela de tempo, um RDD é criado no DStream, podemos querer ver o que acontece em um determinado intervalo de tempo.\n",
    "* Window length: Duração da window;\n",
    "* Sliding interval: Intervalo entre as windows.\n",
    "\n",
    "Exemplo de uso:\n",
    "> ssc = StreamingContext(sc, INTERVALO_BATCH);<br/>\n",
    "window(windowDuration: Duration, slideDuration: Duration): DStream[T]<br/>\n",
    "\n",
    "Windowing permite computar os resultados ao longo de períodos de tempo maiores que o batch interval.\n",
    "\n",
    "São três os intervalos de tempo que devemos considerar ao trabalhar com streaming:\n",
    "* Batch interval: Frequência com que os dados são capturados em um DStream;\n",
    "* Frequência com que uma window é aplicada;\n",
    "* Intervalo de tepo capturado para computação e geração de resultados;\n",
    "\n",
    "**Principais mecanismos de tolerância a falhas:**\n",
    "* Todos os dados são replicados para no mínimo 2 worker nodes;\n",
    "* *ssc.checkpoint()*: Um diretório de checkpoint pode ser usado para armazenar o estado do streaming de dados, no caso em que é necessário reiniciar o streaming.\n",
    "* *Falha no Receiver*: Alguns receivers são melhores que outros. Receiver como Twitter, Kafka e Flume não permitem recuperação de dados. Se o receiver falha, os dados do streaming são perdidos. Outros garantem a recuperação dos dados em caso de falhas: HDFS, Directly-consumed Kafka, Pull-based Flume.\n",
    "* *Falha no Driver Context*: Embora os dados sejam replicados para os worker nodes, o DriverContext é executado no node master e este pode ser um ponto único de falha. Podemos usar o checkpoint() para recuperar dados em caso de falhas e usamos a função streamingContext.getOrCreate() para continuar o processamento de onde ele foi interrompido em caso de falha.\n",
    "Em caso de falha no script sendo executado no DriverContext, podemos reiniciar automaticamente o processo de streaming, usando o Zookeeper (no modo supervise). O zookeeper é um cluster manager usado pelo spark.\n",
    "\n",
    "**Integração com outros sistemas: Kafka, Flume e Kinesis.**<br/>\n",
    "É um sistema para gerenciamento de fluxos de dados em tempo real. O Linkedin é o maior ambiente Kafka atualmente. Foi desenvolvido com o propósito de servir como repositório de dados gerados em tempo real. Foi desenvolvido com dois objetivos em mente:\n",
    "* Transportar dados entre diversos sistemas de dados;\n",
    "* Enriquecer a análise de dados.\n",
    "\n",
    "Kafka com spark: Instalar o pacote **spark-streaming-kafka**\n",
    "\n",
    "**Apache Flume**<br/>\n",
    "É parecido com o Kafka, mas é específico para logs em servidores, e pode ser muito útil para o processo de análise de dados.\n",
    "Instalação:\n",
    "* *Spark-streaming-flume*: Push-based;\n",
    "* *Spark-streaming-flume-sink*: Pull-Based.\n",
    "\n",
    "**Amazon Kinesis**<br/>\n",
    "É similar ao kafka, mas pode ser integrado direto com a nuvem da amazon.\n",
    "* *Spark-streaming-kinesis-asl*: Requer a licença da Amazon.\n",
    "\n",
    "\n",
    "\n",
    "### Para acompanhar a execução dos jobs basta acessar o seguinte endereço:\n",
    "Acesse http://localhost:4040 sempre que quiser acompanhar a execução dos jobs"
   ]
  },
  {
   "cell_type": "markdown",
   "metadata": {},
   "source": [
    "## Introdução ao PySpark"
   ]
  },
  {
   "cell_type": "code",
   "execution_count": 2,
   "metadata": {},
   "outputs": [
    {
     "name": "stdout",
     "output_type": "stream",
     "text": [
      "3.9.7 (default, Sep 16 2021, 16:59:28) [MSC v.1916 64 bit (AMD64)]\n",
      "<SparkContext master=local[*] appName=PySparkShell>\n",
      "3.0.3\n"
     ]
    }
   ],
   "source": [
    "import sys\n",
    "print(sys.version)\n",
    "print(sc)\n",
    "print(sc.version)"
   ]
  },
  {
   "cell_type": "code",
   "execution_count": 3,
   "metadata": {},
   "outputs": [],
   "source": [
    "# Testando o Spark e criando uma RDD\n",
    "lst = [25, 90, 81, 37, 776, 3320]\n",
    "testData = sc.parallelize(lst)"
   ]
  },
  {
   "cell_type": "code",
   "execution_count": 4,
   "metadata": {},
   "outputs": [],
   "source": [
    "?sc.parallelize"
   ]
  },
  {
   "cell_type": "code",
   "execution_count": 5,
   "metadata": {},
   "outputs": [
    {
     "data": {
      "text/plain": [
       "pyspark.rdd.RDD"
      ]
     },
     "execution_count": 5,
     "metadata": {},
     "output_type": "execute_result"
    }
   ],
   "source": [
    "type(testData)"
   ]
  },
  {
   "cell_type": "code",
   "execution_count": 6,
   "metadata": {},
   "outputs": [
    {
     "data": {
      "text/plain": [
       "6"
      ]
     },
     "execution_count": 6,
     "metadata": {},
     "output_type": "execute_result"
    }
   ],
   "source": [
    "testData.count()"
   ]
  },
  {
   "cell_type": "code",
   "execution_count": 7,
   "metadata": {},
   "outputs": [
    {
     "data": {
      "text/plain": [
       "[25, 90, 81, 37, 776, 3320]"
      ]
     },
     "execution_count": 7,
     "metadata": {},
     "output_type": "execute_result"
    }
   ],
   "source": [
    "testData.collect()"
   ]
  },
  {
   "cell_type": "markdown",
   "metadata": {},
   "source": [
    "RDD's são coleções distribuídas de itens. RDD's podem ser criadas a partir do Hadoop (arquivos no HDFS), através da transformação de outras RDD's, a partir de bancos de dados (relacionais e não-relacionais) ou a partir de arquivos locais."
   ]
  },
  {
   "cell_type": "code",
   "execution_count": 8,
   "metadata": {},
   "outputs": [],
   "source": [
    "# Criando uma RDD a partir de um arquivo csv\n",
    "sentimentoRDD = sc.textFile(\"data/sentimentos.csv\")"
   ]
  },
  {
   "cell_type": "code",
   "execution_count": 9,
   "metadata": {},
   "outputs": [
    {
     "data": {
      "text/plain": [
       "pyspark.rdd.RDD"
      ]
     },
     "execution_count": 9,
     "metadata": {},
     "output_type": "execute_result"
    }
   ],
   "source": [
    "type(sentimentoRDD)"
   ]
  },
  {
   "cell_type": "code",
   "execution_count": 10,
   "metadata": {},
   "outputs": [
    {
     "data": {
      "text/plain": [
       "100"
      ]
     },
     "execution_count": 10,
     "metadata": {},
     "output_type": "execute_result"
    }
   ],
   "source": [
    "# Ação - Contando o número de registros\n",
    "sentimentoRDD.count()"
   ]
  },
  {
   "cell_type": "code",
   "execution_count": 11,
   "metadata": {},
   "outputs": [
    {
     "data": {
      "text/plain": [
       "['positivo,Esse livro é incrível.',\n",
       " 'positivo,Um dos melhores livros que eu já li.',\n",
       " 'positivo,um dos melhores livros que eu já li',\n",
       " 'positivo,Acho que ele tem um conteúdo que vai além do que está em sua descrição.',\n",
       " 'positivo,O Sol é para todos é profundo e emocionante']"
      ]
     },
     "execution_count": 11,
     "metadata": {},
     "output_type": "execute_result"
    }
   ],
   "source": [
    "# Listando os 5 primeiros registros\n",
    "sentimentoRDD.take(5)"
   ]
  },
  {
   "cell_type": "code",
   "execution_count": 12,
   "metadata": {},
   "outputs": [
    {
     "data": {
      "text/plain": [
       "['POSITIVO,ESSE LIVRO É INCRÍVEL.',\n",
       " 'POSITIVO,UM DOS MELHORES LIVROS QUE EU JÁ LI.',\n",
       " 'POSITIVO,UM DOS MELHORES LIVROS QUE EU JÁ LI',\n",
       " 'POSITIVO,ACHO QUE ELE TEM UM CONTEÚDO QUE VAI ALÉM DO QUE ESTÁ EM SUA DESCRIÇÃO.',\n",
       " 'POSITIVO,O SOL É PARA TODOS É PROFUNDO E EMOCIONANTE']"
      ]
     },
     "execution_count": 12,
     "metadata": {},
     "output_type": "execute_result"
    }
   ],
   "source": [
    "# Transformando os dados - transformação para letras maiúsculas\n",
    "transfRDD = sentimentoRDD.map(lambda x : x.upper())\n",
    "transfRDD.take(5)"
   ]
  },
  {
   "cell_type": "code",
   "execution_count": 13,
   "metadata": {},
   "outputs": [
    {
     "data": {
      "text/plain": [
       "['positivo,Esse livro é incrível.',\n",
       " 'positivo,Um dos melhores livros que eu já li.',\n",
       " 'positivo,um dos melhores livros que eu já li',\n",
       " 'positivo,Acho que ele tem um conteúdo que vai além do que está em sua descrição.',\n",
       " 'positivo,O Sol é para todos é profundo e emocionante']"
      ]
     },
     "execution_count": 13,
     "metadata": {},
     "output_type": "execute_result"
    }
   ],
   "source": [
    "sentimentoRDD.take(5)"
   ]
  },
  {
   "cell_type": "code",
   "execution_count": 15,
   "metadata": {},
   "outputs": [
    {
     "data": {
      "text/plain": [
       "pyspark.rdd.RDD"
      ]
     },
     "execution_count": 15,
     "metadata": {},
     "output_type": "execute_result"
    }
   ],
   "source": [
    "arquivo = sc.textFile(\"data/sentimentos.csv\")\n",
    "type(arquivo)"
   ]
  },
  {
   "cell_type": "code",
   "execution_count": 16,
   "metadata": {},
   "outputs": [
    {
     "data": {
      "text/plain": [
       "100"
      ]
     },
     "execution_count": 16,
     "metadata": {},
     "output_type": "execute_result"
    }
   ],
   "source": [
    "arquivo.count()"
   ]
  },
  {
   "cell_type": "code",
   "execution_count": 17,
   "metadata": {},
   "outputs": [
    {
     "data": {
      "text/plain": [
       "'positivo,Esse livro é incrível.'"
      ]
     },
     "execution_count": 17,
     "metadata": {},
     "output_type": "execute_result"
    }
   ],
   "source": [
    "arquivo.first()"
   ]
  },
  {
   "cell_type": "code",
   "execution_count": 18,
   "metadata": {},
   "outputs": [],
   "source": [
    "linhasComSol = arquivo.filter(lambda line: \"Sol\" in line)"
   ]
  },
  {
   "cell_type": "code",
   "execution_count": 19,
   "metadata": {},
   "outputs": [
    {
     "data": {
      "text/plain": [
       "pyspark.rdd.PipelinedRDD"
      ]
     },
     "execution_count": 19,
     "metadata": {},
     "output_type": "execute_result"
    }
   ],
   "source": [
    "type(linhasComSol)"
   ]
  },
  {
   "cell_type": "code",
   "execution_count": 20,
   "metadata": {},
   "outputs": [
    {
     "data": {
      "text/plain": [
       "3"
      ]
     },
     "execution_count": 20,
     "metadata": {},
     "output_type": "execute_result"
    }
   ],
   "source": [
    "linhasComSol.count()"
   ]
  },
  {
   "cell_type": "markdown",
   "metadata": {},
   "source": [
    "Primeiro a função map() determina o comprimento de cada linha do arquivo, criando uma RDD. A função reduce() é chamada para encontrar a linha com maior número de caracteres. O argumento para as funções map() e reduce() são funções anônimas criadas com lambda (da linguagem Python)."
   ]
  },
  {
   "cell_type": "code",
   "execution_count": 21,
   "metadata": {},
   "outputs": [
    {
     "data": {
      "text/plain": [
       "27"
      ]
     },
     "execution_count": 21,
     "metadata": {},
     "output_type": "execute_result"
    }
   ],
   "source": [
    "arquivo.map(lambda line: len(line.split())).reduce(lambda a, b: a if (a > b) else b)"
   ]
  },
  {
   "cell_type": "markdown",
   "metadata": {},
   "source": [
    "Esta linha pode ser reescrita da seguinte forma:"
   ]
  },
  {
   "cell_type": "code",
   "execution_count": 23,
   "metadata": {},
   "outputs": [
    {
     "data": {
      "text/plain": [
       "27"
      ]
     },
     "execution_count": 23,
     "metadata": {},
     "output_type": "execute_result"
    }
   ],
   "source": [
    "def max(a, b):\n",
    "    if a > b:\n",
    "        return a\n",
    "    else:\n",
    "        return b\n",
    "\n",
    "arquivo.map(lambda line: len(line.split())).reduce(max)"
   ]
  },
  {
   "cell_type": "markdown",
   "metadata": {},
   "source": [
    "## Operação de MapReduce"
   ]
  },
  {
   "cell_type": "markdown",
   "metadata": {},
   "source": [
    "As operações de MapReduce foram popularizadas pelo Hadoop e podem ser feitas com Spark até 100x mais rápido."
   ]
  },
  {
   "cell_type": "code",
   "execution_count": 24,
   "metadata": {},
   "outputs": [],
   "source": [
    "contaPalavras = arquivo.flatMap(lambda line: line.split()).map(lambda palavra: (palavra, 1)).reduceByKey(lambda a, b: a+b)"
   ]
  },
  {
   "cell_type": "code",
   "execution_count": 25,
   "metadata": {},
   "outputs": [
    {
     "data": {
      "text/plain": [
       "[('livro', 5),\n",
       " ('que', 13),\n",
       " ('li.', 4),\n",
       " ('positivo,um', 3),\n",
       " ('li', 1),\n",
       " ('positivo,Acho', 1),\n",
       " ('tem', 1),\n",
       " ('um', 3),\n",
       " ('vai', 1),\n",
       " ('do', 2),\n",
       " ('em', 1),\n",
       " ('descrição.', 1),\n",
       " ('positivo,O', 2),\n",
       " ('para', 5),\n",
       " ('todos', 4),\n",
       " ('positivo,Me', 1),\n",
       " ('este', 1),\n",
       " ('livro,', 1),\n",
       " ('antigo', 1),\n",
       " ('uma', 4),\n",
       " ('história', 1),\n",
       " ('antiga', 1),\n",
       " ('positivo,The', 6),\n",
       " ('Da', 38),\n",
       " ('Vinci', 45),\n",
       " ('Code', 24),\n",
       " ('is', 17),\n",
       " ('good', 3),\n",
       " ('movie...', 1),\n",
       " ('thought', 2),\n",
       " ('was', 4),\n",
       " ('pretty', 1),\n",
       " ('book.', 4),\n",
       " ('realmente', 1),\n",
       " ('deveria', 1),\n",
       " ('todas', 1),\n",
       " ('as', 1),\n",
       " ('pessoas.', 1),\n",
       " ('an', 6),\n",
       " ('*', 2),\n",
       " ('book', 2),\n",
       " ('turn', 1),\n",
       " ('positivo,Harper', 1),\n",
       " ('aborda', 1),\n",
       " ('muito', 3),\n",
       " ('polêmicos,', 1),\n",
       " ('como', 1),\n",
       " ('Bullying,', 1),\n",
       " ('olhos', 1),\n",
       " ('inocentes', 1),\n",
       " ('positivo,i', 4),\n",
       " ('love', 6),\n",
       " ('da', 13),\n",
       " ('code....', 1),\n",
       " ('loved', 5),\n",
       " ('code..', 2),\n",
       " ('VINCI', 4),\n",
       " ('BEAUTIFUL', 1),\n",
       " ('positivo,THE', 1),\n",
       " ('slash', 1),\n",
       " ('race.', 1),\n",
       " ('positivo,Hey', 1),\n",
       " ('The', 13),\n",
       " ('Code!..', 1),\n",
       " ('positivo,also', 1),\n",
       " ('sobre', 2),\n",
       " ('relação', 1),\n",
       " ('educação', 1),\n",
       " ('pais', 1),\n",
       " ('filhos,', 1),\n",
       " ('fala', 1),\n",
       " ('like', 3),\n",
       " ('Angels', 1),\n",
       " ('Demons', 1),\n",
       " ('more', 2),\n",
       " ('really', 5),\n",
       " ('positivo,Da', 4),\n",
       " ('s', 1),\n",
       " ('positivo,And', 1),\n",
       " ('we', 2),\n",
       " ('awesome.', 2),\n",
       " ('awesome', 6),\n",
       " ('book!', 2),\n",
       " ('positivo,oh', 1),\n",
       " ('code.', 3),\n",
       " ('ripping', 1),\n",
       " ('music', 1),\n",
       " ('cold...', 1),\n",
       " ('[', 1),\n",
       " ('tell', 1),\n",
       " ('anyone', 1),\n",
       " ('but', 3),\n",
       " ('of', 4),\n",
       " ('positivo,Os', 1),\n",
       " ('personagens', 1),\n",
       " ('positivo,omg', 1),\n",
       " ('i', 5),\n",
       " ('falar', 1),\n",
       " ('INCRÍVEL?', 1),\n",
       " ('O', 1),\n",
       " ('sol', 1),\n",
       " ('negativo,da', 2),\n",
       " ('terrible', 1),\n",
       " ('negativo,i', 2),\n",
       " ('movie', 1),\n",
       " ('think', 2),\n",
       " ('this', 2),\n",
       " ('bolsters', 1),\n",
       " ('arguments', 1),\n",
       " ('both', 1),\n",
       " ('know', 2),\n",
       " ('inaccurate.', 1),\n",
       " ('hate', 9),\n",
       " ('negativo,The', 4),\n",
       " ('say', 1),\n",
       " ('evil', 1),\n",
       " ('sucked', 4),\n",
       " ('long', 1),\n",
       " ('slow.....', 1),\n",
       " ('negativo,not', 1),\n",
       " ('sure', 1),\n",
       " ('already', 1),\n",
       " ('threw', 1),\n",
       " ('at', 2),\n",
       " ('negativo,This', 1),\n",
       " ('why', 1),\n",
       " ('Code:', 1),\n",
       " ('pop', 1),\n",
       " ('question', 1),\n",
       " ('congrats', 1),\n",
       " ('beating', 1),\n",
       " ('Jay', 1),\n",
       " ('must', 1),\n",
       " ('Rickards', 1),\n",
       " ('when', 1),\n",
       " ('beat', 1),\n",
       " ('them', 1),\n",
       " ('in', 1),\n",
       " ('balls', 1),\n",
       " ('worst', 1),\n",
       " ('shit', 1),\n",
       " (\"I've\", 1),\n",
       " ('ever', 1),\n",
       " ('God', 1),\n",
       " ('Has', 1),\n",
       " ('told', 1),\n",
       " ('nans', 1),\n",
       " ('before', 1),\n",
       " ('said', 1),\n",
       " (\"'!!\", 1),\n",
       " ('negativo,Sol', 1),\n",
       " ('ruim', 9),\n",
       " ('negativo,Livro', 9),\n",
       " ('negativo,the', 1),\n",
       " ('sucks', 1),\n",
       " ('negativo,\"poderia', 2),\n",
       " ('ter', 2),\n",
       " ('sido', 2),\n",
       " ('melhor\"', 2),\n",
       " ('raso', 1),\n",
       " ('negativo,well', 1),\n",
       " ('SUCKS!!', 1),\n",
       " ('ass', 1),\n",
       " (\"you're\", 1),\n",
       " ('code...', 1),\n",
       " ('esqueci', 1),\n",
       " ('negativo,todos', 1),\n",
       " ('disseram', 1),\n",
       " ('mas', 1),\n",
       " ('achei', 1),\n",
       " ('negativo,abaixo', 1),\n",
       " ('das', 1),\n",
       " ('expectativas', 1),\n",
       " ('negativo,muito', 1),\n",
       " ('gostei.', 1),\n",
       " ('infantil!', 1),\n",
       " ('positivo,Esse', 1),\n",
       " ('é', 6),\n",
       " ('incrível.', 1),\n",
       " ('positivo,Um', 3),\n",
       " ('dos', 5),\n",
       " ('melhores', 5),\n",
       " ('livros', 5),\n",
       " ('eu', 5),\n",
       " ('já', 5),\n",
       " ('ele', 1),\n",
       " ('conteúdo', 2),\n",
       " ('além', 1),\n",
       " ('está', 1),\n",
       " ('sua', 1),\n",
       " ('Sol', 2),\n",
       " ('profundo', 1),\n",
       " ('e', 8),\n",
       " ('emocionante', 1),\n",
       " ('encantei', 1),\n",
       " ('por', 2),\n",
       " ('positivo,Este', 1),\n",
       " ('apesar', 1),\n",
       " ('de', 8),\n",
       " ('com', 1),\n",
       " ('trata', 1),\n",
       " ('época', 1),\n",
       " ('mais', 1),\n",
       " ('ainda,', 1),\n",
       " ('possui', 1),\n",
       " ('atual', 1),\n",
       " ('extrema', 1),\n",
       " ('importância.', 1),\n",
       " ('actually', 1),\n",
       " ('a', 8),\n",
       " ('positivo,I', 8),\n",
       " ('the', 23),\n",
       " ('ser', 1),\n",
       " ('lido', 1),\n",
       " ('amazing', 2),\n",
       " ('positivo,then', 1),\n",
       " ('I', 7),\n",
       " ('on', 2),\n",
       " ('light', 1),\n",
       " ('and', 10),\n",
       " ('radio', 1),\n",
       " ('enjoy', 1),\n",
       " ('my', 2),\n",
       " ('Code.', 12),\n",
       " ('Lee', 1),\n",
       " ('temas', 1),\n",
       " ('o', 3),\n",
       " ('racismo', 1),\n",
       " ('pelos', 1),\n",
       " ('criança', 1),\n",
       " ('7', 1),\n",
       " ('anos.', 1),\n",
       " ('vinci', 17),\n",
       " ('positivo,TO', 1),\n",
       " ('NIGHT::', 1),\n",
       " ('THE', 2),\n",
       " ('DA', 4),\n",
       " ('CODE', 3),\n",
       " ('AND', 1),\n",
       " ('A', 1),\n",
       " ('MIND...', 1),\n",
       " ('AN', 1),\n",
       " ('AWESOME', 1),\n",
       " ('BOOK....', 1),\n",
       " ('positivo,very', 1),\n",
       " ('code', 12),\n",
       " ('positivo,Ele', 1),\n",
       " ('relata', 1),\n",
       " ('respeito,', 1),\n",
       " ('individualidade', 1),\n",
       " ('mais.', 1),\n",
       " ('then', 2),\n",
       " ('movie.', 2),\n",
       " ('amazing.', 1),\n",
       " ('positivo,Book', 1),\n",
       " ('(', 1),\n",
       " ('):', 1),\n",
       " ('Code..', 2),\n",
       " ('went', 1),\n",
       " ('to', 4),\n",
       " ('see', 1),\n",
       " ('awesome!', 1),\n",
       " ('SUCH', 1),\n",
       " ('LOVE', 1),\n",
       " ('CODE...', 1),\n",
       " ('so', 1),\n",
       " ('beautiful', 1),\n",
       " ('Code...', 2),\n",
       " ('miss', 1),\n",
       " ('acoustic', 1),\n",
       " ('positivo,looks', 1),\n",
       " ('amazingly', 1),\n",
       " ('fun', 1),\n",
       " ('possibly', 1),\n",
       " ('bit', 1),\n",
       " (\"don't\", 1),\n",
       " (']', 1),\n",
       " ('course', 1),\n",
       " ('positivo,\"I', 1),\n",
       " ('\"\"', 1),\n",
       " ('Code!\"', 1),\n",
       " ('LOVED', 1),\n",
       " ('positivo,da', 1),\n",
       " ('são', 1),\n",
       " ('maravilhosos...', 1),\n",
       " ('that', 3),\n",
       " ('such', 1),\n",
       " ('desde', 1),\n",
       " ('me', 2),\n",
       " ('conquistou', 1),\n",
       " ('forma', 1),\n",
       " ('pura!', 1),\n",
       " ('boring.', 1),\n",
       " ('negativo,Da', 4),\n",
       " ('does', 1),\n",
       " ('suck.', 2),\n",
       " ('negativo,I', 10),\n",
       " ('England', 1),\n",
       " ('sucks...', 2),\n",
       " ('negativo,And', 2),\n",
       " ('better..-We', 1),\n",
       " ('all', 1),\n",
       " ('bogus', 1),\n",
       " ('you', 3),\n",
       " ('too', 2),\n",
       " ('if', 2),\n",
       " ('because', 1),\n",
       " ('it', 2),\n",
       " ('takes', 1),\n",
       " ('nothing', 1),\n",
       " ('fucking', 2),\n",
       " ('culture', 1),\n",
       " ('phenomenon', 1),\n",
       " ('get', 1),\n",
       " ('people', 1),\n",
       " ('things.', 1),\n",
       " ('did', 1),\n",
       " ('suck', 1),\n",
       " ('been', 1),\n",
       " ('time', 1),\n",
       " ('finals.', 1),\n",
       " ('sucks.', 1),\n",
       " ('hated', 3),\n",
       " ('going', 1),\n",
       " ('sucks..', 1),\n",
       " ('also', 1),\n",
       " (\"it's\", 1),\n",
       " ('piece', 1),\n",
       " ('read.', 1),\n",
       " ('negativo,Thank', 1),\n",
       " ('Someone', 1),\n",
       " ('Sense', 1),\n",
       " ('negativo,RACHEL', 1),\n",
       " ('could', 1),\n",
       " ('your', 1),\n",
       " ('libarian', 1),\n",
       " (\"hated'The\", 1),\n",
       " ('Livro', 1),\n",
       " ('btw..', 1),\n",
       " ('negativo,simples', 1),\n",
       " ('negativo,O', 1),\n",
       " ('não', 2),\n",
       " ('todos.', 1),\n",
       " ('wondering.', 1),\n",
       " ('negativo,about', 1),\n",
       " ('how', 1),\n",
       " ('much', 1),\n",
       " ('absolutely', 1),\n",
       " ('loathe', 1),\n",
       " ('ruim...', 2),\n",
       " ('negativo,já', 1),\n",
       " ('tão', 1),\n",
       " ('foi.', 1),\n",
       " ('era', 1),\n",
       " ('bom,', 1),\n",
       " ('negativo,Não', 1)]"
      ]
     },
     "execution_count": 25,
     "metadata": {},
     "output_type": "execute_result"
    }
   ],
   "source": [
    "contaPalavras.collect()"
   ]
  },
  {
   "cell_type": "markdown",
   "metadata": {},
   "source": [
    "# Transformações"
   ]
  },
  {
   "cell_type": "code",
   "execution_count": 1,
   "metadata": {},
   "outputs": [],
   "source": [
    "# Criando uma lista em Python\n",
    "lista1 = [124, 901, 652, 102, 397]"
   ]
  },
  {
   "cell_type": "code",
   "execution_count": 2,
   "metadata": {},
   "outputs": [
    {
     "data": {
      "text/plain": [
       "list"
      ]
     },
     "execution_count": 2,
     "metadata": {},
     "output_type": "execute_result"
    }
   ],
   "source": [
    "type(lista1)"
   ]
  },
  {
   "cell_type": "code",
   "execution_count": 3,
   "metadata": {},
   "outputs": [],
   "source": [
    "# Carregando dados de uma coleção\n",
    "lstRDD = sc.parallelize(lista1)"
   ]
  },
  {
   "cell_type": "code",
   "execution_count": 4,
   "metadata": {},
   "outputs": [
    {
     "data": {
      "text/plain": [
       "pyspark.rdd.RDD"
      ]
     },
     "execution_count": 4,
     "metadata": {},
     "output_type": "execute_result"
    }
   ],
   "source": [
    "type(lstRDD)"
   ]
  },
  {
   "cell_type": "code",
   "execution_count": 5,
   "metadata": {},
   "outputs": [
    {
     "data": {
      "text/plain": [
       "[124, 901, 652, 102, 397]"
      ]
     },
     "execution_count": 5,
     "metadata": {},
     "output_type": "execute_result"
    }
   ],
   "source": [
    "lstRDD.collect()"
   ]
  },
  {
   "cell_type": "code",
   "execution_count": 6,
   "metadata": {},
   "outputs": [
    {
     "data": {
      "text/plain": [
       "5"
      ]
     },
     "execution_count": 6,
     "metadata": {},
     "output_type": "execute_result"
    }
   ],
   "source": [
    "lstRDD.count()"
   ]
  },
  {
   "cell_type": "code",
   "execution_count": 7,
   "metadata": {},
   "outputs": [],
   "source": [
    "# Carregando um arquivo e criando um RDD. \n",
    "autoDataRDD = sc.textFile(\"carros.csv\")"
   ]
  },
  {
   "cell_type": "code",
   "execution_count": 8,
   "metadata": {},
   "outputs": [
    {
     "data": {
      "text/plain": [
       "pyspark.rdd.RDD"
      ]
     },
     "execution_count": 8,
     "metadata": {},
     "output_type": "execute_result"
    }
   ],
   "source": [
    "type(autoDataRDD)"
   ]
  },
  {
   "cell_type": "code",
   "execution_count": 9,
   "metadata": {},
   "outputs": [
    {
     "data": {
      "text/plain": [
       "'MAKE,FUELTYPE,ASPIRE,DOORS,BODY,DRIVE,CYLINDERS,HP,RPM,MPG-CITY,MPG-HWY,PRICE'"
      ]
     },
     "execution_count": 9,
     "metadata": {},
     "output_type": "execute_result"
    }
   ],
   "source": [
    "# Operação de Ação. \n",
    "autoDataRDD.first()"
   ]
  },
  {
   "cell_type": "code",
   "execution_count": 10,
   "metadata": {},
   "outputs": [
    {
     "data": {
      "text/plain": [
       "['MAKE,FUELTYPE,ASPIRE,DOORS,BODY,DRIVE,CYLINDERS,HP,RPM,MPG-CITY,MPG-HWY,PRICE',\n",
       " 'subaru,gas,std,two,hatchback,fwd,four,69,4900,31,36,5118',\n",
       " 'chevrolet,gas,std,two,hatchback,fwd,three,48,5100,47,53,5151',\n",
       " 'mazda,gas,std,two,hatchback,fwd,four,68,5000,30,31,5195',\n",
       " 'toyota,gas,std,two,hatchback,fwd,four,62,4800,35,39,5348']"
      ]
     },
     "execution_count": 10,
     "metadata": {},
     "output_type": "execute_result"
    }
   ],
   "source": [
    "autoDataRDD.take(5)"
   ]
  },
  {
   "cell_type": "code",
   "execution_count": 11,
   "metadata": {},
   "outputs": [
    {
     "data": {
      "text/plain": [
       "carros.csv MapPartitionsRDD[3] at textFile at NativeMethodAccessorImpl.java:0"
      ]
     },
     "execution_count": 11,
     "metadata": {},
     "output_type": "execute_result"
    }
   ],
   "source": [
    "# Cada ação gera um novo processo de computação dos dados. \n",
    "# Mas podemos persistir os dados em cache para que ele possa ser usado por outras ações, sem a necessidade \n",
    "# de nova computação.\n",
    "autoDataRDD.cache()"
   ]
  },
  {
   "cell_type": "code",
   "execution_count": 12,
   "metadata": {},
   "outputs": [
    {
     "name": "stdout",
     "output_type": "stream",
     "text": [
      "MAKE,FUELTYPE,ASPIRE,DOORS,BODY,DRIVE,CYLINDERS,HP,RPM,MPG-CITY,MPG-HWY,PRICE\n",
      "subaru,gas,std,two,hatchback,fwd,four,69,4900,31,36,5118\n",
      "chevrolet,gas,std,two,hatchback,fwd,three,48,5100,47,53,5151\n",
      "mazda,gas,std,two,hatchback,fwd,four,68,5000,30,31,5195\n",
      "toyota,gas,std,two,hatchback,fwd,four,62,4800,35,39,5348\n",
      "mitsubishi,gas,std,two,hatchback,fwd,four,68,5500,37,41,5389\n",
      "honda,gas,std,two,hatchback,fwd,four,60,5500,38,42,5399\n",
      "nissan,gas,std,two,sedan,fwd,four,69,5200,31,37,5499\n",
      "dodge,gas,std,two,hatchback,fwd,four,68,5500,37,41,5572\n",
      "plymouth,gas,std,two,hatchback,fwd,four,68,5500,37,41,5572\n",
      "mazda,gas,std,two,hatchback,fwd,four,68,5000,31,38,6095\n",
      "mitsubishi,gas,std,two,hatchback,fwd,four,68,5500,31,38,6189\n",
      "dodge,gas,std,four,hatchback,fwd,four,68,5500,31,38,6229\n",
      "plymouth,gas,std,four,hatchback,fwd,four,68,5500,31,38,6229\n",
      "chevrolet,gas,std,two,hatchback,fwd,four,70,5400,38,43,6295\n",
      "toyota,gas,std,two,hatchback,fwd,four,62,4800,31,38,6338\n",
      "dodge,gas,std,two,hatchback,fwd,four,68,5500,31,38,6377\n",
      "honda,gas,std,two,hatchback,fwd,four,58,4800,49,54,6479\n",
      "toyota,gas,std,four,hatchback,fwd,four,62,4800,31,38,6488\n",
      "honda,gas,std,two,hatchback,fwd,four,76,6000,30,34,6529\n",
      "chevrolet,gas,std,four,sedan,fwd,four,70,5400,38,43,6575\n",
      "nissan,gas,std,two,sedan,fwd,four,69,5200,31,37,6649\n",
      "mitsubishi,gas,std,two,hatchback,fwd,four,68,5500,31,38,6669\n",
      "dodge,gas,std,four,sedan,fwd,four,68,5500,31,38,6692\n",
      "plymouth,gas,std,four,sedan,fwd,four,68,5500,31,38,6692\n",
      "mazda,gas,std,four,sedan,fwd,four,68,5000,31,38,6695\n",
      "isuzu,gas,std,four,sedan,rwd,four,78,4800,24,29,6785\n",
      "mazda,gas,std,two,hatchback,fwd,four,68,5000,31,38,6795\n",
      "nissan,gas,std,four,sedan,fwd,four,69,5200,31,37,6849\n",
      "honda,gas,std,two,hatchback,fwd,four,76,6000,31,38,6855\n",
      "toyota,gas,std,four,wagon,fwd,four,62,4800,31,37,6918\n",
      "toyota,gas,std,four,sedan,fwd,four,70,4800,30,37,6938\n",
      "mitsubishi,gas,std,four,sedan,fwd,four,88,5000,25,32,6989\n",
      "subaru,gas,std,two,hatchback,fwd,four,73,4400,26,31,7053\n",
      "nissan,diesel,std,two,sedan,fwd,four,55,4800,45,50,7099\n",
      "subaru,gas,std,four,sedan,fwd,four,82,4800,32,37,7126\n",
      "honda,gas,std,two,hatchback,fwd,four,76,6000,30,34,7129\n",
      "toyota,gas,std,four,hatchback,fwd,four,70,4800,30,37,7198\n",
      "honda,gas,std,four,sedan,fwd,four,76,6000,30,34,7295\n",
      "honda,gas,std,four,wagon,fwd,four,76,6000,30,34,7295\n",
      "nissan,gas,std,two,sedan,fwd,four,69,5200,31,37,7299\n",
      "nissan,gas,std,four,wagon,fwd,four,69,5200,31,37,7349\n",
      "mazda,gas,std,four,sedan,fwd,four,68,5000,31,38,7395\n",
      "subaru,gas,std,four,wagon,fwd,four,82,4800,28,32,7463\n",
      "nissan,gas,std,four,sedan,fwd,four,69,5200,31,37,7499\n",
      "subaru,gas,std,two,hatchback,4wd,four,73,4400,26,31,7603\n",
      "dodge,gas,std,four,sedan,fwd,four,68,5500,31,38,7609\n",
      "plymouth,gas,std,four,sedan,fwd,four,68,5500,31,38,7609\n",
      "mitsubishi,gas,turbo,two,hatchback,fwd,four,102,5500,24,30,7689\n",
      "toyota,gas,std,four,sedan,fwd,four,70,4800,38,47,7738\n",
      "subaru,gas,std,four,sedan,fwd,four,82,4400,28,33,7775\n",
      "volkswagen,diesel,std,two,sedan,fwd,four,52,4800,37,46,7775\n",
      "toyota,diesel,std,four,hatchback,fwd,four,56,4500,38,47,7788\n",
      "nissan,gas,std,two,hatchback,fwd,four,69,5200,31,37,7799\n",
      "honda,gas,std,two,hatchback,fwd,four,86,5800,27,33,7895\n",
      "toyota,gas,std,four,wagon,4wd,four,62,4800,27,32,7898\n",
      "toyota,diesel,std,four,sedan,fwd,four,56,4500,34,36,7898\n",
      "dodge,gas,turbo,two,hatchback,fwd,four,102,5500,24,30,7957\n",
      "plymouth,gas,turbo,two,hatchback,fwd,four,102,5500,24,30,7957\n",
      "volkswagen,gas,std,two,sedan,fwd,four,85,5250,27,34,7975\n",
      "volkswagen,diesel,std,four,sedan,fwd,four,52,4800,37,46,7995\n",
      "nissan,gas,std,four,wagon,fwd,four,69,5200,31,37,7999\n",
      "subaru,gas,std,four,wagon,4wd,four,82,4800,23,29,8013\n",
      "toyota,gas,std,two,sedan,rwd,four,70,4800,29,34,8058\n",
      "mitsubishi,gas,std,four,sedan,fwd,four,88,5000,25,32,8189\n",
      "volkswagen,gas,std,four,sedan,fwd,four,85,5250,27,34,8195\n",
      "toyota,gas,std,two,hatchback,rwd,four,70,4800,29,34,8238\n",
      "nissan,gas,std,two,hardtop,fwd,four,69,5200,31,37,8249\n",
      "toyota,gas,std,four,hatchback,fwd,four,70,4800,28,34,8358\n",
      "toyota,gas,std,two,hardtop,rwd,four,116,4800,24,30,8449\n",
      "mazda,gas,std,four,sedan,fwd,four,84,4800,26,32,8495\n",
      "volkswagen,gas,std,four,sedan,fwd,four,85,5250,27,34,8495\n",
      "mitsubishi,gas,std,two,hatchback,fwd,four,88,5000,25,32,8499\n",
      "toyota,gas,std,four,wagon,4wd,four,62,4800,27,32,8778\n",
      "honda,gas,std,four,sedan,fwd,four,86,5800,27,33,8845\n",
      "mazda,gas,std,two,hatchback,fwd,four,84,4800,26,32,8845\n",
      "dodge,gas,std,four,wagon,fwd,four,88,5000,24,30,8921\n",
      "plymouth,gas,std,four,wagon,fwd,four,88,5000,24,30,8921\n",
      "toyota,gas,std,four,sedan,fwd,four,92,4200,29,34,8948\n",
      "nissan,gas,std,four,hatchback,fwd,four,97,5200,27,34,8949\n",
      "honda,gas,std,two,hatchback,fwd,four,86,5800,27,33,9095\n",
      "subaru,gas,std,four,sedan,4wd,four,82,4800,24,25,9233\n",
      "toyota,gas,std,four,sedan,fwd,four,70,4800,28,34,9258\n",
      "mitsubishi,gas,turbo,four,sedan,fwd,four,116,5500,23,30,9279\n",
      "mitsubishi,gas,std,four,sedan,fwd,four,116,5500,23,30,9279\n",
      "toyota,gas,std,two,sedan,rwd,four,112,6600,26,29,9298\n",
      "volkswagen,diesel,turbo,four,sedan,fwd,four,68,4500,37,42,9495\n",
      "toyota,gas,std,two,hatchback,rwd,four,112,6600,26,29,9538\n",
      "nissan,gas,std,four,sedan,fwd,four,97,5200,27,34,9549\n",
      "toyota,gas,std,two,hardtop,rwd,four,116,4800,24,30,9639\n",
      "mitsubishi,gas,turbo,two,hatchback,fwd,four,116,5500,23,30,9959\n",
      "subaru,gas,std,four,sedan,fwd,four,94,5200,26,32,9960\n",
      "volkswagen,gas,std,two,hatchback,fwd,four,90,5500,24,29,9980\n",
      "toyota,gas,std,four,hatchback,fwd,four,92,4200,27,32,9988\n",
      "toyota,gas,std,two,hatchback,rwd,four,116,4800,24,30,9989\n",
      "volkswagen,gas,std,four,sedan,fwd,four,100,5500,26,32,9995\n",
      "subaru,gas,std,four,wagon,fwd,four,94,5200,25,31,10198\n",
      "mazda,gas,std,four,sedan,fwd,four,84,4800,26,32,10245\n",
      "honda,gas,std,four,sedan,fwd,four,86,5800,27,33,10295\n",
      "honda,gas,std,two,sedan,fwd,four,100,5500,25,31,10345\n",
      "mazda,gas,std,two,hatchback,fwd,four,84,4800,26,32,10595\n",
      "toyota,diesel,turbo,four,sedan,fwd,four,73,4500,30,33,10698\n",
      "toyota,gas,std,four,sedan,fwd,four,92,4200,27,32,10898\n",
      "mazda,gas,std,two,hatchback,rwd,two,101,6000,17,23,10945\n",
      "isuzu,gas,std,two,hatchback,rwd,four,90,5000,24,29,11048\n",
      "toyota,gas,std,two,hardtop,rwd,four,116,4800,24,30,11199\n",
      "mazda,gas,std,four,hatchback,fwd,four,84,4800,26,32,11245\n",
      "toyota,gas,std,four,hatchback,fwd,four,92,4200,27,32,11248\n",
      "subaru,gas,turbo,four,sedan,4wd,four,111,4800,24,29,11259\n",
      "toyota,gas,std,two,hatchback,rwd,four,116,4800,24,30,11549\n",
      "volkswagen,gas,std,two,convertible,fwd,four,90,5500,24,29,11595\n",
      "subaru,gas,turbo,four,wagon,4wd,four,111,4800,23,23,11694\n",
      "mazda,gas,std,two,hatchback,rwd,two,101,6000,17,23,11845\n",
      "saab,gas,std,two,hatchback,fwd,four,110,5250,21,28,11850\n",
      "peugot,gas,std,four,sedan,rwd,four,97,5000,19,24,11900\n",
      "saab,gas,std,four,sedan,fwd,four,110,5250,21,28,12170\n",
      "volkswagen,gas,std,four,wagon,fwd,four,88,5500,25,31,12290\n",
      "peugot,gas,std,four,wagon,rwd,four,97,5000,19,24,12440\n",
      "mitsubishi,gas,turbo,two,hatchback,fwd,four,145,5000,19,24,12629\n",
      "plymouth,gas,turbo,two,hatchback,rwd,four,145,5000,19,24,12764\n",
      "volvo,gas,std,four,sedan,rwd,four,114,5400,23,28,12940\n",
      "honda,gas,std,four,sedan,fwd,four,101,5800,24,28,12945\n",
      "dodge,gas,turbo,two,hatchback,fwd,four,145,5000,19,24,12964\n",
      "peugot,diesel,turbo,four,sedan,rwd,four,95,4150,28,33,13200\n",
      "volkswagen,gas,std,four,sedan,fwd,five,110,5500,19,24,13295\n",
      "volvo,gas,std,four,wagon,rwd,four,114,5400,23,28,13415\n",
      "alfa-romero,gas,std,two,convertible,rwd,four,111,5000,21,27,13495\n",
      "nissan,gas,std,four,sedan,fwd,six,152,5200,17,22,13499\n",
      "nissan,gas,std,four,sedan,fwd,six,152,5200,19,25,13499\n",
      "mazda,gas,std,two,hatchback,rwd,two,101,6000,17,23,13645\n",
      "volkswagen,diesel,turbo,four,sedan,fwd,four,68,4500,33,38,13845\n",
      "peugot,diesel,turbo,four,wagon,rwd,four,95,4150,25,25,13860\n",
      "audi,gas,std,four,sedan,fwd,four,102,5500,24,30,13950\n",
      "nissan,gas,std,four,wagon,fwd,six,152,5200,17,22,14399\n",
      "mitsubishi,gas,turbo,two,hatchback,fwd,four,145,5000,19,24,14489\n",
      "mitsubishi,gas,turbo,two,hatchback,fwd,four,145,5000,19,24,14869\n",
      "saab,gas,std,two,hatchback,fwd,four,110,5250,21,28,15040\n",
      "audi,gas,std,two,sedan,fwd,five,110,5500,19,25,15250\n",
      "saab,gas,std,four,sedan,fwd,four,110,5250,21,28,15510\n",
      "peugot,gas,std,four,sedan,rwd,four,95,5000,19,24,15580\n",
      "mazda,gas,std,two,hatchback,rwd,two,135,6000,16,23,15645\n",
      "toyota,gas,std,four,sedan,rwd,six,156,5200,20,24,15690\n",
      "toyota,gas,std,four,wagon,rwd,six,156,5200,19,24,15750\n",
      "volvo,gas,std,four,sedan,rwd,four,114,5400,24,28,15985\n",
      "toyota,gas,std,two,hatchback,rwd,six,161,5200,19,24,15998\n",
      "bmw,gas,std,two,sedan,rwd,four,101,5800,23,29,16430\n",
      "alfa-romero,gas,std,two,convertible,rwd,four,111,5000,21,27,16500\n",
      "alfa-romero,gas,std,two,hatchback,rwd,six,154,5000,19,26,16500\n",
      "mercury,gas,turbo,two,hatchback,rwd,four,175,5000,19,24,16503\n",
      "volvo,gas,std,four,wagon,rwd,four,114,5400,24,28,16515\n",
      "toyota,gas,std,two,hatchback,rwd,six,161,5200,20,24,16558\n",
      "peugot,gas,std,four,sedan,rwd,four,97,5000,19,24,16630\n",
      "peugot,gas,std,four,wagon,rwd,four,95,5000,19,24,16695\n",
      "volvo,gas,std,four,sedan,rwd,four,114,5400,23,28,16845\n",
      "peugot,diesel,turbo,four,sedan,rwd,four,95,4150,28,33,16900\n",
      "bmw,gas,std,four,sedan,rwd,four,101,5800,23,29,16925\n",
      "peugot,diesel,turbo,four,wagon,rwd,four,95,4150,25,25,17075\n",
      "nissan,gas,std,two,hatchback,rwd,six,160,5200,19,25,17199\n",
      "audi,gas,std,four,sedan,4wd,five,115,5500,18,22,17450\n",
      "toyota,gas,std,two,convertible,rwd,four,116,4800,24,30,17669\n",
      "audi,gas,std,four,sedan,fwd,five,110,5500,19,25,17710\n",
      "peugot,diesel,turbo,four,sedan,rwd,four,95,4150,28,33,17950\n",
      "peugot,gas,turbo,four,sedan,rwd,four,142,5600,18,24,18150\n",
      "saab,gas,turbo,two,hatchback,fwd,four,160,5500,19,26,18150\n",
      "mazda,gas,std,four,sedan,rwd,four,120,5000,19,27,18280\n",
      "mazda,diesel,std,four,sedan,rwd,four,72,4200,31,39,18344\n",
      "nissan,gas,std,two,hatchback,rwd,six,160,5200,19,25,18399\n",
      "volvo,gas,turbo,four,sedan,rwd,four,162,5100,17,22,18420\n",
      "saab,gas,turbo,four,sedan,fwd,four,160,5500,19,26,18620\n",
      "audi,gas,std,four,wagon,fwd,five,110,5500,19,25,18920\n",
      "volvo,gas,turbo,four,wagon,rwd,four,162,5100,17,22,18950\n",
      "volvo,gas,turbo,four,sedan,rwd,four,160,5300,19,25,19045\n",
      "nissan,gas,turbo,two,hatchback,rwd,six,200,5200,17,23,19699\n",
      "bmw,gas,std,two,sedan,rwd,six,121,4250,21,28,20970\n",
      "bmw,gas,std,four,sedan,rwd,six,121,4250,21,28,21105\n",
      "volvo,gas,std,four,sedan,rwd,six,134,5500,18,23,21485\n",
      "porsche,gas,std,two,hatchback,rwd,four,143,5500,19,27,22018\n",
      "volvo,diesel,turbo,four,sedan,rwd,six,106,4800,26,27,22470\n",
      "volvo,gas,turbo,four,sedan,rwd,four,114,5400,19,25,22625\n",
      "audi,gas,turbo,four,sedan,fwd,five,140,5500,17,20,23875\n",
      "bmw,gas,std,four,sedan,rwd,six,121,4250,20,25,24565\n",
      "mercedes-benz,diesel,turbo,four,sedan,rwd,five,123,4350,22,25,25552\n",
      "mercedes-benz,diesel,turbo,two,hardtop,rwd,five,123,4350,22,25,28176\n",
      "mercedes-benz,diesel,turbo,four,wagon,rwd,five,123,4350,22,25,28248\n",
      "bmw,gas,std,four,sedan,rwd,six,182,5400,16,22,30760\n",
      "mercedes-benz,diesel,turbo,four,sedan,rwd,five,123,4350,22,25,31600\n",
      "jaguar,gas,std,four,sedan,rwd,six,176,4750,15,19,32250\n",
      "porsche,gas,std,two,hardtop,rwd,six,207,5900,17,25,32528\n",
      "porsche,gas,std,two,hardtop,rwd,six,207,5900,17,25,34028\n",
      "mercedes-benz,gas,std,four,sedan,rwd,eight,155,4750,16,18,34184\n",
      "mercedes-benz,gas,std,two,convertible,rwd,eight,155,4750,16,18,35056\n",
      "jaguar,gas,std,four,sedan,rwd,six,176,4750,15,19,35550\n",
      "jaguar,gas,std,two,sedan,rwd,twelve,262,5000,13,17,36000\n",
      "bmw,gas,std,four,sedan,rwd,six,182,5400,15,20,36880\n",
      "porsche,gas,std,two,convertible,rwd,six,207,5900,17,25,37028\n",
      "mercedes-benz,gas,std,four,sedan,rwd,eight,184,4500,14,16,40960\n",
      "bmw,gas,std,two,sedan,rwd,six,182,5400,16,22,41315\n",
      "mercedes-benz,gas,std,two,hardtop,rwd,eight,184,4500,14,16,45400\n"
     ]
    }
   ],
   "source": [
    "for line in autoDataRDD.collect():\n",
    "    print(line)"
   ]
  },
  {
   "cell_type": "code",
   "execution_count": 13,
   "metadata": {},
   "outputs": [
    {
     "data": {
      "text/plain": [
       "['MAKE\\tFUELTYPE\\tASPIRE\\tDOORS\\tBODY\\tDRIVE\\tCYLINDERS\\tHP\\tRPM\\tMPG-CITY\\tMPG-HWY\\tPRICE',\n",
       " 'subaru\\tgas\\tstd\\ttwo\\thatchback\\tfwd\\tfour\\t69\\t4900\\t31\\t36\\t5118',\n",
       " 'chevrolet\\tgas\\tstd\\ttwo\\thatchback\\tfwd\\tthree\\t48\\t5100\\t47\\t53\\t5151',\n",
       " 'mazda\\tgas\\tstd\\ttwo\\thatchback\\tfwd\\tfour\\t68\\t5000\\t30\\t31\\t5195',\n",
       " 'toyota\\tgas\\tstd\\ttwo\\thatchback\\tfwd\\tfour\\t62\\t4800\\t35\\t39\\t5348']"
      ]
     },
     "execution_count": 13,
     "metadata": {},
     "output_type": "execute_result"
    }
   ],
   "source": [
    "# Map() e criação de um novo RDD - Transformação - Lazy Evaluation\n",
    "tsvData = autoDataRDD.map(lambda x : x.replace(\",\",\"\\t\"))\n",
    "tsvData.take(5)"
   ]
  },
  {
   "cell_type": "code",
   "execution_count": 14,
   "metadata": {},
   "outputs": [
    {
     "data": {
      "text/plain": [
       "'MAKE,FUELTYPE,ASPIRE,DOORS,BODY,DRIVE,CYLINDERS,HP,RPM,MPG-CITY,MPG-HWY,PRICE'"
      ]
     },
     "execution_count": 14,
     "metadata": {},
     "output_type": "execute_result"
    }
   ],
   "source": [
    "autoDataRDD.first()"
   ]
  },
  {
   "cell_type": "code",
   "execution_count": 15,
   "metadata": {},
   "outputs": [],
   "source": [
    "# Filter() e criação de um novo RDD - Transformação - Lazy Evaluation\n",
    "toyotaData = autoDataRDD.filter(lambda x: \"toyota\" in x)"
   ]
  },
  {
   "cell_type": "code",
   "execution_count": 16,
   "metadata": {},
   "outputs": [
    {
     "data": {
      "text/plain": [
       "32"
      ]
     },
     "execution_count": 16,
     "metadata": {},
     "output_type": "execute_result"
    }
   ],
   "source": [
    "# Ação\n",
    "toyotaData.count()"
   ]
  },
  {
   "cell_type": "code",
   "execution_count": 17,
   "metadata": {},
   "outputs": [
    {
     "data": {
      "text/plain": [
       "['toyota,gas,std,two,hatchback,fwd,four,62,4800,35,39,5348',\n",
       " 'toyota,gas,std,two,hatchback,fwd,four,62,4800,31,38,6338',\n",
       " 'toyota,gas,std,four,hatchback,fwd,four,62,4800,31,38,6488',\n",
       " 'toyota,gas,std,four,wagon,fwd,four,62,4800,31,37,6918',\n",
       " 'toyota,gas,std,four,sedan,fwd,four,70,4800,30,37,6938',\n",
       " 'toyota,gas,std,four,hatchback,fwd,four,70,4800,30,37,7198',\n",
       " 'toyota,gas,std,four,sedan,fwd,four,70,4800,38,47,7738',\n",
       " 'toyota,diesel,std,four,hatchback,fwd,four,56,4500,38,47,7788',\n",
       " 'toyota,gas,std,four,wagon,4wd,four,62,4800,27,32,7898',\n",
       " 'toyota,diesel,std,four,sedan,fwd,four,56,4500,34,36,7898',\n",
       " 'toyota,gas,std,two,sedan,rwd,four,70,4800,29,34,8058',\n",
       " 'toyota,gas,std,two,hatchback,rwd,four,70,4800,29,34,8238',\n",
       " 'toyota,gas,std,four,hatchback,fwd,four,70,4800,28,34,8358',\n",
       " 'toyota,gas,std,two,hardtop,rwd,four,116,4800,24,30,8449',\n",
       " 'toyota,gas,std,four,wagon,4wd,four,62,4800,27,32,8778',\n",
       " 'toyota,gas,std,four,sedan,fwd,four,92,4200,29,34,8948',\n",
       " 'toyota,gas,std,four,sedan,fwd,four,70,4800,28,34,9258',\n",
       " 'toyota,gas,std,two,sedan,rwd,four,112,6600,26,29,9298',\n",
       " 'toyota,gas,std,two,hatchback,rwd,four,112,6600,26,29,9538',\n",
       " 'toyota,gas,std,two,hardtop,rwd,four,116,4800,24,30,9639']"
      ]
     },
     "execution_count": 17,
     "metadata": {},
     "output_type": "execute_result"
    }
   ],
   "source": [
    "# Ação\n",
    "toyotaData.take(20)"
   ]
  },
  {
   "cell_type": "code",
   "execution_count": 18,
   "metadata": {},
   "outputs": [],
   "source": [
    "# Pode salvar o conjunto de dados, o RDD. \n",
    "# Nesse caso, o Spark solicita os dados ao processo Master e então gera um arquivo de saída.\n",
    "savedRDD = open(\"carros_v2.csv\",\"w\")\n",
    "savedRDD.write(\"\\n\".join(autoDataRDD.collect()))\n",
    "savedRDD.close()"
   ]
  },
  {
   "cell_type": "markdown",
   "metadata": {},
   "source": [
    "## Operações Set"
   ]
  },
  {
   "cell_type": "code",
   "execution_count": 19,
   "metadata": {},
   "outputs": [],
   "source": [
    "# Set operations\n",
    "palavras1 = sc.parallelize([\"Big Data\",\"Data Science\",\"Analytics\",\"Visualization\"])\n",
    "palavras2 = sc.parallelize([\"Big Data\",\"R\",\"Python\",\"Scala\"])"
   ]
  },
  {
   "cell_type": "code",
   "execution_count": 20,
   "metadata": {},
   "outputs": [
    {
     "name": "stdout",
     "output_type": "stream",
     "text": [
      "Data Science\n",
      "R\n",
      "Visualization\n",
      "Scala\n",
      "Big Data\n",
      "Python\n",
      "Analytics\n"
     ]
    }
   ],
   "source": [
    "# União\n",
    "for unions in palavras1.union(palavras2).distinct().collect():\n",
    "    print(unions)"
   ]
  },
  {
   "cell_type": "code",
   "execution_count": 21,
   "metadata": {},
   "outputs": [
    {
     "name": "stdout",
     "output_type": "stream",
     "text": [
      "Big Data\n"
     ]
    }
   ],
   "source": [
    "# Interseção\n",
    "for intersects in palavras1.intersection(palavras2).collect():\n",
    "    print(intersects)"
   ]
  },
  {
   "cell_type": "code",
   "execution_count": 22,
   "metadata": {},
   "outputs": [
    {
     "data": {
      "text/plain": [
       "[1, 2, 3, 4, 5, 6, 7, 8, 9, 10, 11, 12, 13, 14, 15, 16, 17, 18, 19, 20]"
      ]
     },
     "execution_count": 22,
     "metadata": {},
     "output_type": "execute_result"
    }
   ],
   "source": [
    "rdd01 = sc.parallelize(range(1,10))\n",
    "rdd02 = sc.parallelize(range(10,21))\n",
    "rdd01.union(rdd02).collect()"
   ]
  },
  {
   "cell_type": "code",
   "execution_count": 23,
   "metadata": {},
   "outputs": [
    {
     "data": {
      "text/plain": [
       "[8, 9, 5, 6, 7]"
      ]
     },
     "execution_count": 23,
     "metadata": {},
     "output_type": "execute_result"
    }
   ],
   "source": [
    "rdd01 = sc.parallelize(range(1,10))\n",
    "rdd02 = sc.parallelize(range(5,15))\n",
    "rdd01.intersection(rdd02).collect()"
   ]
  },
  {
   "cell_type": "markdown",
   "metadata": {},
   "source": [
    "## Left/Right Outer Join"
   ]
  },
  {
   "cell_type": "code",
   "execution_count": 24,
   "metadata": {},
   "outputs": [
    {
     "data": {
      "text/plain": [
       "[('laranja', (1, 1))]"
      ]
     },
     "execution_count": 24,
     "metadata": {},
     "output_type": "execute_result"
    }
   ],
   "source": [
    "names1 = sc.parallelize((\"banana\", \"uva\", \"laranja\")).map(lambda a: (a, 1))\n",
    "names2 = sc.parallelize((\"laranja\", \"abacaxi\", \"manga\")).map(lambda a: (a, 1))\n",
    "names1.join(names2).collect()"
   ]
  },
  {
   "cell_type": "code",
   "execution_count": 25,
   "metadata": {},
   "outputs": [
    {
     "data": {
      "text/plain": [
       "[('uva', (1, None)), ('banana', (1, None)), ('laranja', (1, 1))]"
      ]
     },
     "execution_count": 25,
     "metadata": {},
     "output_type": "execute_result"
    }
   ],
   "source": [
    "names1.leftOuterJoin(names2).collect()"
   ]
  },
  {
   "cell_type": "code",
   "execution_count": 26,
   "metadata": {},
   "outputs": [
    {
     "data": {
      "text/plain": [
       "[('manga', (None, 1)), ('laranja', (1, 1)), ('abacaxi', (None, 1))]"
      ]
     },
     "execution_count": 26,
     "metadata": {},
     "output_type": "execute_result"
    }
   ],
   "source": [
    "names1.rightOuterJoin(names2).collect()"
   ]
  },
  {
   "cell_type": "markdown",
   "metadata": {},
   "source": [
    "## Distinct"
   ]
  },
  {
   "cell_type": "code",
   "execution_count": 27,
   "metadata": {},
   "outputs": [
    {
     "name": "stdout",
     "output_type": "stream",
     "text": [
      "124\n",
      "652\n",
      "901\n",
      "397\n",
      "102\n"
     ]
    }
   ],
   "source": [
    "# Distinct\n",
    "lista1 = [124, 901, 652, 102, 397, 124, 901, 652]\n",
    "lstRDD = sc.parallelize(lista1)\n",
    "for numbData in lstRDD.distinct().collect():\n",
    "    print(numbData)"
   ]
  },
  {
   "cell_type": "markdown",
   "metadata": {
    "collapsed": true
   },
   "source": [
    "## Transformação e Limpeza"
   ]
  },
  {
   "cell_type": "code",
   "execution_count": 28,
   "metadata": {},
   "outputs": [],
   "source": [
    "# Transformação e Limpeza\n",
    "def LimpaRDD(autoStr) :\n",
    "    if isinstance(autoStr, int) :\n",
    "        return autoStr\n",
    "    attList = autoStr.split(\",\")\n",
    "    \n",
    "    # Converte o número de portas para um num\n",
    "    if attList[3] == \"two\" :\n",
    "         attList[3] = \"2\"\n",
    "    else:\n",
    "         attList[3] = \"4\"\n",
    "    \n",
    "    # Convert o modelo do carro para uppercase\n",
    "    attList[5] = attList[4].upper()\n",
    "    return \",\".join(attList)"
   ]
  },
  {
   "cell_type": "code",
   "execution_count": 29,
   "metadata": {},
   "outputs": [
    {
     "data": {
      "text/plain": [
       "['MAKE,FUELTYPE,ASPIRE,4,BODY,BODY,CYLINDERS,HP,RPM,MPG-CITY,MPG-HWY,PRICE',\n",
       " 'subaru,gas,std,2,hatchback,HATCHBACK,four,69,4900,31,36,5118',\n",
       " 'chevrolet,gas,std,2,hatchback,HATCHBACK,three,48,5100,47,53,5151',\n",
       " 'mazda,gas,std,2,hatchback,HATCHBACK,four,68,5000,30,31,5195',\n",
       " 'toyota,gas,std,2,hatchback,HATCHBACK,four,62,4800,35,39,5348',\n",
       " 'mitsubishi,gas,std,2,hatchback,HATCHBACK,four,68,5500,37,41,5389',\n",
       " 'honda,gas,std,2,hatchback,HATCHBACK,four,60,5500,38,42,5399',\n",
       " 'nissan,gas,std,2,sedan,SEDAN,four,69,5200,31,37,5499',\n",
       " 'dodge,gas,std,2,hatchback,HATCHBACK,four,68,5500,37,41,5572',\n",
       " 'plymouth,gas,std,2,hatchback,HATCHBACK,four,68,5500,37,41,5572',\n",
       " 'mazda,gas,std,2,hatchback,HATCHBACK,four,68,5000,31,38,6095',\n",
       " 'mitsubishi,gas,std,2,hatchback,HATCHBACK,four,68,5500,31,38,6189',\n",
       " 'dodge,gas,std,4,hatchback,HATCHBACK,four,68,5500,31,38,6229',\n",
       " 'plymouth,gas,std,4,hatchback,HATCHBACK,four,68,5500,31,38,6229',\n",
       " 'chevrolet,gas,std,2,hatchback,HATCHBACK,four,70,5400,38,43,6295',\n",
       " 'toyota,gas,std,2,hatchback,HATCHBACK,four,62,4800,31,38,6338',\n",
       " 'dodge,gas,std,2,hatchback,HATCHBACK,four,68,5500,31,38,6377',\n",
       " 'honda,gas,std,2,hatchback,HATCHBACK,four,58,4800,49,54,6479',\n",
       " 'toyota,gas,std,4,hatchback,HATCHBACK,four,62,4800,31,38,6488',\n",
       " 'honda,gas,std,2,hatchback,HATCHBACK,four,76,6000,30,34,6529',\n",
       " 'chevrolet,gas,std,4,sedan,SEDAN,four,70,5400,38,43,6575',\n",
       " 'nissan,gas,std,2,sedan,SEDAN,four,69,5200,31,37,6649',\n",
       " 'mitsubishi,gas,std,2,hatchback,HATCHBACK,four,68,5500,31,38,6669',\n",
       " 'dodge,gas,std,4,sedan,SEDAN,four,68,5500,31,38,6692',\n",
       " 'plymouth,gas,std,4,sedan,SEDAN,four,68,5500,31,38,6692',\n",
       " 'mazda,gas,std,4,sedan,SEDAN,four,68,5000,31,38,6695',\n",
       " 'isuzu,gas,std,4,sedan,SEDAN,four,78,4800,24,29,6785',\n",
       " 'mazda,gas,std,2,hatchback,HATCHBACK,four,68,5000,31,38,6795',\n",
       " 'nissan,gas,std,4,sedan,SEDAN,four,69,5200,31,37,6849',\n",
       " 'honda,gas,std,2,hatchback,HATCHBACK,four,76,6000,31,38,6855',\n",
       " 'toyota,gas,std,4,wagon,WAGON,four,62,4800,31,37,6918',\n",
       " 'toyota,gas,std,4,sedan,SEDAN,four,70,4800,30,37,6938',\n",
       " 'mitsubishi,gas,std,4,sedan,SEDAN,four,88,5000,25,32,6989',\n",
       " 'subaru,gas,std,2,hatchback,HATCHBACK,four,73,4400,26,31,7053',\n",
       " 'nissan,diesel,std,2,sedan,SEDAN,four,55,4800,45,50,7099',\n",
       " 'subaru,gas,std,4,sedan,SEDAN,four,82,4800,32,37,7126',\n",
       " 'honda,gas,std,2,hatchback,HATCHBACK,four,76,6000,30,34,7129',\n",
       " 'toyota,gas,std,4,hatchback,HATCHBACK,four,70,4800,30,37,7198',\n",
       " 'honda,gas,std,4,sedan,SEDAN,four,76,6000,30,34,7295',\n",
       " 'honda,gas,std,4,wagon,WAGON,four,76,6000,30,34,7295',\n",
       " 'nissan,gas,std,2,sedan,SEDAN,four,69,5200,31,37,7299',\n",
       " 'nissan,gas,std,4,wagon,WAGON,four,69,5200,31,37,7349',\n",
       " 'mazda,gas,std,4,sedan,SEDAN,four,68,5000,31,38,7395',\n",
       " 'subaru,gas,std,4,wagon,WAGON,four,82,4800,28,32,7463',\n",
       " 'nissan,gas,std,4,sedan,SEDAN,four,69,5200,31,37,7499',\n",
       " 'subaru,gas,std,2,hatchback,HATCHBACK,four,73,4400,26,31,7603',\n",
       " 'dodge,gas,std,4,sedan,SEDAN,four,68,5500,31,38,7609',\n",
       " 'plymouth,gas,std,4,sedan,SEDAN,four,68,5500,31,38,7609',\n",
       " 'mitsubishi,gas,turbo,2,hatchback,HATCHBACK,four,102,5500,24,30,7689',\n",
       " 'toyota,gas,std,4,sedan,SEDAN,four,70,4800,38,47,7738',\n",
       " 'subaru,gas,std,4,sedan,SEDAN,four,82,4400,28,33,7775',\n",
       " 'volkswagen,diesel,std,2,sedan,SEDAN,four,52,4800,37,46,7775',\n",
       " 'toyota,diesel,std,4,hatchback,HATCHBACK,four,56,4500,38,47,7788',\n",
       " 'nissan,gas,std,2,hatchback,HATCHBACK,four,69,5200,31,37,7799',\n",
       " 'honda,gas,std,2,hatchback,HATCHBACK,four,86,5800,27,33,7895',\n",
       " 'toyota,gas,std,4,wagon,WAGON,four,62,4800,27,32,7898',\n",
       " 'toyota,diesel,std,4,sedan,SEDAN,four,56,4500,34,36,7898',\n",
       " 'dodge,gas,turbo,2,hatchback,HATCHBACK,four,102,5500,24,30,7957',\n",
       " 'plymouth,gas,turbo,2,hatchback,HATCHBACK,four,102,5500,24,30,7957',\n",
       " 'volkswagen,gas,std,2,sedan,SEDAN,four,85,5250,27,34,7975',\n",
       " 'volkswagen,diesel,std,4,sedan,SEDAN,four,52,4800,37,46,7995',\n",
       " 'nissan,gas,std,4,wagon,WAGON,four,69,5200,31,37,7999',\n",
       " 'subaru,gas,std,4,wagon,WAGON,four,82,4800,23,29,8013',\n",
       " 'toyota,gas,std,2,sedan,SEDAN,four,70,4800,29,34,8058',\n",
       " 'mitsubishi,gas,std,4,sedan,SEDAN,four,88,5000,25,32,8189',\n",
       " 'volkswagen,gas,std,4,sedan,SEDAN,four,85,5250,27,34,8195',\n",
       " 'toyota,gas,std,2,hatchback,HATCHBACK,four,70,4800,29,34,8238',\n",
       " 'nissan,gas,std,2,hardtop,HARDTOP,four,69,5200,31,37,8249',\n",
       " 'toyota,gas,std,4,hatchback,HATCHBACK,four,70,4800,28,34,8358',\n",
       " 'toyota,gas,std,2,hardtop,HARDTOP,four,116,4800,24,30,8449',\n",
       " 'mazda,gas,std,4,sedan,SEDAN,four,84,4800,26,32,8495',\n",
       " 'volkswagen,gas,std,4,sedan,SEDAN,four,85,5250,27,34,8495',\n",
       " 'mitsubishi,gas,std,2,hatchback,HATCHBACK,four,88,5000,25,32,8499',\n",
       " 'toyota,gas,std,4,wagon,WAGON,four,62,4800,27,32,8778',\n",
       " 'honda,gas,std,4,sedan,SEDAN,four,86,5800,27,33,8845',\n",
       " 'mazda,gas,std,2,hatchback,HATCHBACK,four,84,4800,26,32,8845',\n",
       " 'dodge,gas,std,4,wagon,WAGON,four,88,5000,24,30,8921',\n",
       " 'plymouth,gas,std,4,wagon,WAGON,four,88,5000,24,30,8921',\n",
       " 'toyota,gas,std,4,sedan,SEDAN,four,92,4200,29,34,8948',\n",
       " 'nissan,gas,std,4,hatchback,HATCHBACK,four,97,5200,27,34,8949',\n",
       " 'honda,gas,std,2,hatchback,HATCHBACK,four,86,5800,27,33,9095',\n",
       " 'subaru,gas,std,4,sedan,SEDAN,four,82,4800,24,25,9233',\n",
       " 'toyota,gas,std,4,sedan,SEDAN,four,70,4800,28,34,9258',\n",
       " 'mitsubishi,gas,turbo,4,sedan,SEDAN,four,116,5500,23,30,9279',\n",
       " 'mitsubishi,gas,std,4,sedan,SEDAN,four,116,5500,23,30,9279',\n",
       " 'toyota,gas,std,2,sedan,SEDAN,four,112,6600,26,29,9298',\n",
       " 'volkswagen,diesel,turbo,4,sedan,SEDAN,four,68,4500,37,42,9495',\n",
       " 'toyota,gas,std,2,hatchback,HATCHBACK,four,112,6600,26,29,9538',\n",
       " 'nissan,gas,std,4,sedan,SEDAN,four,97,5200,27,34,9549',\n",
       " 'toyota,gas,std,2,hardtop,HARDTOP,four,116,4800,24,30,9639',\n",
       " 'mitsubishi,gas,turbo,2,hatchback,HATCHBACK,four,116,5500,23,30,9959',\n",
       " 'subaru,gas,std,4,sedan,SEDAN,four,94,5200,26,32,9960',\n",
       " 'volkswagen,gas,std,2,hatchback,HATCHBACK,four,90,5500,24,29,9980',\n",
       " 'toyota,gas,std,4,hatchback,HATCHBACK,four,92,4200,27,32,9988',\n",
       " 'toyota,gas,std,2,hatchback,HATCHBACK,four,116,4800,24,30,9989',\n",
       " 'volkswagen,gas,std,4,sedan,SEDAN,four,100,5500,26,32,9995',\n",
       " 'subaru,gas,std,4,wagon,WAGON,four,94,5200,25,31,10198',\n",
       " 'mazda,gas,std,4,sedan,SEDAN,four,84,4800,26,32,10245',\n",
       " 'honda,gas,std,4,sedan,SEDAN,four,86,5800,27,33,10295',\n",
       " 'honda,gas,std,2,sedan,SEDAN,four,100,5500,25,31,10345',\n",
       " 'mazda,gas,std,2,hatchback,HATCHBACK,four,84,4800,26,32,10595',\n",
       " 'toyota,diesel,turbo,4,sedan,SEDAN,four,73,4500,30,33,10698',\n",
       " 'toyota,gas,std,4,sedan,SEDAN,four,92,4200,27,32,10898',\n",
       " 'mazda,gas,std,2,hatchback,HATCHBACK,two,101,6000,17,23,10945',\n",
       " 'isuzu,gas,std,2,hatchback,HATCHBACK,four,90,5000,24,29,11048',\n",
       " 'toyota,gas,std,2,hardtop,HARDTOP,four,116,4800,24,30,11199',\n",
       " 'mazda,gas,std,4,hatchback,HATCHBACK,four,84,4800,26,32,11245',\n",
       " 'toyota,gas,std,4,hatchback,HATCHBACK,four,92,4200,27,32,11248',\n",
       " 'subaru,gas,turbo,4,sedan,SEDAN,four,111,4800,24,29,11259',\n",
       " 'toyota,gas,std,2,hatchback,HATCHBACK,four,116,4800,24,30,11549',\n",
       " 'volkswagen,gas,std,2,convertible,CONVERTIBLE,four,90,5500,24,29,11595',\n",
       " 'subaru,gas,turbo,4,wagon,WAGON,four,111,4800,23,23,11694',\n",
       " 'mazda,gas,std,2,hatchback,HATCHBACK,two,101,6000,17,23,11845',\n",
       " 'saab,gas,std,2,hatchback,HATCHBACK,four,110,5250,21,28,11850',\n",
       " 'peugot,gas,std,4,sedan,SEDAN,four,97,5000,19,24,11900',\n",
       " 'saab,gas,std,4,sedan,SEDAN,four,110,5250,21,28,12170',\n",
       " 'volkswagen,gas,std,4,wagon,WAGON,four,88,5500,25,31,12290',\n",
       " 'peugot,gas,std,4,wagon,WAGON,four,97,5000,19,24,12440',\n",
       " 'mitsubishi,gas,turbo,2,hatchback,HATCHBACK,four,145,5000,19,24,12629',\n",
       " 'plymouth,gas,turbo,2,hatchback,HATCHBACK,four,145,5000,19,24,12764',\n",
       " 'volvo,gas,std,4,sedan,SEDAN,four,114,5400,23,28,12940',\n",
       " 'honda,gas,std,4,sedan,SEDAN,four,101,5800,24,28,12945',\n",
       " 'dodge,gas,turbo,2,hatchback,HATCHBACK,four,145,5000,19,24,12964',\n",
       " 'peugot,diesel,turbo,4,sedan,SEDAN,four,95,4150,28,33,13200',\n",
       " 'volkswagen,gas,std,4,sedan,SEDAN,five,110,5500,19,24,13295',\n",
       " 'volvo,gas,std,4,wagon,WAGON,four,114,5400,23,28,13415',\n",
       " 'alfa-romero,gas,std,2,convertible,CONVERTIBLE,four,111,5000,21,27,13495',\n",
       " 'nissan,gas,std,4,sedan,SEDAN,six,152,5200,17,22,13499',\n",
       " 'nissan,gas,std,4,sedan,SEDAN,six,152,5200,19,25,13499',\n",
       " 'mazda,gas,std,2,hatchback,HATCHBACK,two,101,6000,17,23,13645',\n",
       " 'volkswagen,diesel,turbo,4,sedan,SEDAN,four,68,4500,33,38,13845',\n",
       " 'peugot,diesel,turbo,4,wagon,WAGON,four,95,4150,25,25,13860',\n",
       " 'audi,gas,std,4,sedan,SEDAN,four,102,5500,24,30,13950',\n",
       " 'nissan,gas,std,4,wagon,WAGON,six,152,5200,17,22,14399',\n",
       " 'mitsubishi,gas,turbo,2,hatchback,HATCHBACK,four,145,5000,19,24,14489',\n",
       " 'mitsubishi,gas,turbo,2,hatchback,HATCHBACK,four,145,5000,19,24,14869',\n",
       " 'saab,gas,std,2,hatchback,HATCHBACK,four,110,5250,21,28,15040',\n",
       " 'audi,gas,std,2,sedan,SEDAN,five,110,5500,19,25,15250',\n",
       " 'saab,gas,std,4,sedan,SEDAN,four,110,5250,21,28,15510',\n",
       " 'peugot,gas,std,4,sedan,SEDAN,four,95,5000,19,24,15580',\n",
       " 'mazda,gas,std,2,hatchback,HATCHBACK,two,135,6000,16,23,15645',\n",
       " 'toyota,gas,std,4,sedan,SEDAN,six,156,5200,20,24,15690',\n",
       " 'toyota,gas,std,4,wagon,WAGON,six,156,5200,19,24,15750',\n",
       " 'volvo,gas,std,4,sedan,SEDAN,four,114,5400,24,28,15985',\n",
       " 'toyota,gas,std,2,hatchback,HATCHBACK,six,161,5200,19,24,15998',\n",
       " 'bmw,gas,std,2,sedan,SEDAN,four,101,5800,23,29,16430',\n",
       " 'alfa-romero,gas,std,2,convertible,CONVERTIBLE,four,111,5000,21,27,16500',\n",
       " 'alfa-romero,gas,std,2,hatchback,HATCHBACK,six,154,5000,19,26,16500',\n",
       " 'mercury,gas,turbo,2,hatchback,HATCHBACK,four,175,5000,19,24,16503',\n",
       " 'volvo,gas,std,4,wagon,WAGON,four,114,5400,24,28,16515',\n",
       " 'toyota,gas,std,2,hatchback,HATCHBACK,six,161,5200,20,24,16558',\n",
       " 'peugot,gas,std,4,sedan,SEDAN,four,97,5000,19,24,16630',\n",
       " 'peugot,gas,std,4,wagon,WAGON,four,95,5000,19,24,16695',\n",
       " 'volvo,gas,std,4,sedan,SEDAN,four,114,5400,23,28,16845',\n",
       " 'peugot,diesel,turbo,4,sedan,SEDAN,four,95,4150,28,33,16900',\n",
       " 'bmw,gas,std,4,sedan,SEDAN,four,101,5800,23,29,16925',\n",
       " 'peugot,diesel,turbo,4,wagon,WAGON,four,95,4150,25,25,17075',\n",
       " 'nissan,gas,std,2,hatchback,HATCHBACK,six,160,5200,19,25,17199',\n",
       " 'audi,gas,std,4,sedan,SEDAN,five,115,5500,18,22,17450',\n",
       " 'toyota,gas,std,2,convertible,CONVERTIBLE,four,116,4800,24,30,17669',\n",
       " 'audi,gas,std,4,sedan,SEDAN,five,110,5500,19,25,17710',\n",
       " 'peugot,diesel,turbo,4,sedan,SEDAN,four,95,4150,28,33,17950',\n",
       " 'peugot,gas,turbo,4,sedan,SEDAN,four,142,5600,18,24,18150',\n",
       " 'saab,gas,turbo,2,hatchback,HATCHBACK,four,160,5500,19,26,18150',\n",
       " 'mazda,gas,std,4,sedan,SEDAN,four,120,5000,19,27,18280',\n",
       " 'mazda,diesel,std,4,sedan,SEDAN,four,72,4200,31,39,18344',\n",
       " 'nissan,gas,std,2,hatchback,HATCHBACK,six,160,5200,19,25,18399',\n",
       " 'volvo,gas,turbo,4,sedan,SEDAN,four,162,5100,17,22,18420',\n",
       " 'saab,gas,turbo,4,sedan,SEDAN,four,160,5500,19,26,18620',\n",
       " 'audi,gas,std,4,wagon,WAGON,five,110,5500,19,25,18920',\n",
       " 'volvo,gas,turbo,4,wagon,WAGON,four,162,5100,17,22,18950',\n",
       " 'volvo,gas,turbo,4,sedan,SEDAN,four,160,5300,19,25,19045',\n",
       " 'nissan,gas,turbo,2,hatchback,HATCHBACK,six,200,5200,17,23,19699',\n",
       " 'bmw,gas,std,2,sedan,SEDAN,six,121,4250,21,28,20970',\n",
       " 'bmw,gas,std,4,sedan,SEDAN,six,121,4250,21,28,21105',\n",
       " 'volvo,gas,std,4,sedan,SEDAN,six,134,5500,18,23,21485',\n",
       " 'porsche,gas,std,2,hatchback,HATCHBACK,four,143,5500,19,27,22018',\n",
       " 'volvo,diesel,turbo,4,sedan,SEDAN,six,106,4800,26,27,22470',\n",
       " 'volvo,gas,turbo,4,sedan,SEDAN,four,114,5400,19,25,22625',\n",
       " 'audi,gas,turbo,4,sedan,SEDAN,five,140,5500,17,20,23875',\n",
       " 'bmw,gas,std,4,sedan,SEDAN,six,121,4250,20,25,24565',\n",
       " 'mercedes-benz,diesel,turbo,4,sedan,SEDAN,five,123,4350,22,25,25552',\n",
       " 'mercedes-benz,diesel,turbo,2,hardtop,HARDTOP,five,123,4350,22,25,28176',\n",
       " 'mercedes-benz,diesel,turbo,4,wagon,WAGON,five,123,4350,22,25,28248',\n",
       " 'bmw,gas,std,4,sedan,SEDAN,six,182,5400,16,22,30760',\n",
       " 'mercedes-benz,diesel,turbo,4,sedan,SEDAN,five,123,4350,22,25,31600',\n",
       " 'jaguar,gas,std,4,sedan,SEDAN,six,176,4750,15,19,32250',\n",
       " 'porsche,gas,std,2,hardtop,HARDTOP,six,207,5900,17,25,32528',\n",
       " 'porsche,gas,std,2,hardtop,HARDTOP,six,207,5900,17,25,34028',\n",
       " 'mercedes-benz,gas,std,4,sedan,SEDAN,eight,155,4750,16,18,34184',\n",
       " 'mercedes-benz,gas,std,2,convertible,CONVERTIBLE,eight,155,4750,16,18,35056',\n",
       " 'jaguar,gas,std,4,sedan,SEDAN,six,176,4750,15,19,35550',\n",
       " 'jaguar,gas,std,2,sedan,SEDAN,twelve,262,5000,13,17,36000',\n",
       " 'bmw,gas,std,4,sedan,SEDAN,six,182,5400,15,20,36880',\n",
       " 'porsche,gas,std,2,convertible,CONVERTIBLE,six,207,5900,17,25,37028',\n",
       " 'mercedes-benz,gas,std,4,sedan,SEDAN,eight,184,4500,14,16,40960',\n",
       " 'bmw,gas,std,2,sedan,SEDAN,six,182,5400,16,22,41315',\n",
       " 'mercedes-benz,gas,std,2,hardtop,HARDTOP,eight,184,4500,14,16,45400']"
      ]
     },
     "execution_count": 29,
     "metadata": {},
     "output_type": "execute_result"
    }
   ],
   "source": [
    "RDD_limpo = autoDataRDD.map(LimpaRDD)\n",
    "RDD_limpo.collect()"
   ]
  },
  {
   "cell_type": "markdown",
   "metadata": {},
   "source": [
    "## Ações"
   ]
  },
  {
   "cell_type": "code",
   "execution_count": 31,
   "metadata": {},
   "outputs": [
    {
     "data": {
      "text/plain": [
       "3853"
      ]
     },
     "execution_count": 31,
     "metadata": {},
     "output_type": "execute_result"
    }
   ],
   "source": [
    "# reduce() - soma de valores\n",
    "lista2 = [124, 901, 652, 102, 397, 124, 901, 652]\n",
    "lstRDD = sc.parallelize(lista2)\n",
    "lstRDD.collect()\n",
    "lstRDD.reduce(lambda x,y: x + y)"
   ]
  },
  {
   "cell_type": "code",
   "execution_count": 32,
   "metadata": {},
   "outputs": [
    {
     "data": {
      "text/plain": [
       "'bmw,gas,std,two,sedan,rwd,six,182,5400,16,22,41315'"
      ]
     },
     "execution_count": 32,
     "metadata": {},
     "output_type": "execute_result"
    }
   ],
   "source": [
    "# Encontrando a linha com menor número de caracteres\n",
    "autoDataRDD.reduce(lambda x,y: x if len(x) < len(y) else y)"
   ]
  },
  {
   "cell_type": "code",
   "execution_count": 33,
   "metadata": {},
   "outputs": [],
   "source": [
    "# Criando uma função para redução\n",
    "def getMPG( autoStr) :\n",
    "    if isinstance(autoStr, int) :\n",
    "        return autoStr\n",
    "    attList = autoStr.split(\",\")\n",
    "    if attList[9].isdigit() :\n",
    "        return int(attList[9])\n",
    "    else:\n",
    "        return 0"
   ]
  },
  {
   "cell_type": "code",
   "execution_count": 34,
   "metadata": {},
   "outputs": [
    {
     "data": {
      "text/plain": [
       "25.15228426395939"
      ]
     },
     "execution_count": 34,
     "metadata": {},
     "output_type": "execute_result"
    }
   ],
   "source": [
    "# Encontrando a média de MPG para todos os carros\n",
    "autoDataRDD.reduce(lambda x,y : getMPG(x) + getMPG(y)) / (autoDataRDD.count() -1)"
   ]
  },
  {
   "cell_type": "code",
   "execution_count": 38,
   "metadata": {},
   "outputs": [
    {
     "data": {
      "text/plain": [
       "['Vasco', 'Flamengo', 'Flamengo']"
      ]
     },
     "execution_count": 38,
     "metadata": {},
     "output_type": "execute_result"
    }
   ],
   "source": [
    "teams = sc.parallelize((\"Flamengo\", \"Vasco\", \"Botafogo\", \"Fluminense\", \"Palmeiras\", \"Bahia\"))\n",
    "teams.takeSample(True, 3)"
   ]
  },
  {
   "cell_type": "code",
   "execution_count": 39,
   "metadata": {},
   "outputs": [
    {
     "data": {
      "text/plain": [
       "dict_items([('Flamengo', 1), ('Vasco', 2), ('Botafogo', 1), ('Fluminense', 1), ('Palmeiras', 1), ('Bahia', 2)])"
      ]
     },
     "execution_count": 39,
     "metadata": {},
     "output_type": "execute_result"
    }
   ],
   "source": [
    "teams = sc.parallelize((\"Flamengo\", \"Vasco\", \"Botafogo\", \"Fluminense\", \"Palmeiras\", \"Bahia\", \"Bahia\", \"Vasco\"))\n",
    "teams.map(lambda k: (k,1)).countByKey().items()"
   ]
  },
  {
   "cell_type": "code",
   "execution_count": 40,
   "metadata": {},
   "outputs": [],
   "source": [
    "autoDataRDD.saveAsTextFile(\"autoDataRDD.txt\")"
   ]
  },
  {
   "cell_type": "markdown",
   "metadata": {},
   "source": [
    "# Fim"
   ]
  },
  {
   "cell_type": "markdown",
   "metadata": {},
   "source": [
    "### Obrigado - Data Science Academy - <a href=http://facebook.com/dsacademy>facebook.com/dsacademybr</a>"
   ]
  }
 ],
 "metadata": {
  "anaconda-cloud": {},
  "kernelspec": {
   "display_name": "Python 3 (ipykernel)",
   "language": "python",
   "name": "python3"
  },
  "language_info": {
   "codemirror_mode": {
    "name": "ipython",
    "version": 3
   },
   "file_extension": ".py",
   "mimetype": "text/x-python",
   "name": "python",
   "nbconvert_exporter": "python",
   "pygments_lexer": "ipython3",
   "version": "3.9.7"
  }
 },
 "nbformat": 4,
 "nbformat_minor": 1
}
