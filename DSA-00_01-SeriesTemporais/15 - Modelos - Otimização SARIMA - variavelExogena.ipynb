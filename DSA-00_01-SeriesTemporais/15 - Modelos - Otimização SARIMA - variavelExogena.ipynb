{
  "cells": [
    {
      "cell_type": "markdown",
      "metadata": {
        "id": "bLmuhM18ZeWz"
      },
      "source": [
        "<strong><b><font size=\"5\">Prevendo a Média Mensal de Vendas - Otimização do Modelo SARIMA com Variável Exógena</font></b></strong>"
      ]
    },
    {
      "cell_type": "markdown",
      "metadata": {
        "id": "-X3WFwMyw_IG"
      },
      "source": [
        "Uma maneira de melhorar o desempenho do modelo é adicionar uma variável exógena. Embora não seja garantia de melhoria, isso pode deixar o modelo mais preciso no forecast, pois mais um fator será considerado na previsão ao longo do tempo.\n",
        "\n",
        "Uma variável exógena é uma variável que não está sendo sendo prevista na série. Por exemplo: se estamos prevendo o volume de vendas, uma variável que indica se o dia é feriado ou não, seria uma variável exógena. Aliás, é exatamente isso que vamos fazer.\n",
        "\n",
        "Python possui um pacote de feriados (chamado holidays) que pode ser importado e usado para determinar se uma data foi ou não um feriado. O pacote tem os feriados do Brasil também. Mais detalhes logo abaixo.\n",
        "\n",
        "O modelo SARIMAX que usamos até agora aceita variáveis exógenas como um argumento adicional. É o que faremos nesta aula. Acompanhe.\n",
        "\n",
        "**Leia atentamente cada célula pois temos mudanças na Engenharia de Atributos e além disso nem tudo vai sair como o esperado. Mas posso garantir que o aprendizado será valioso.**\n",
        "\n",
        "Boa aula."
      ]
    },
    {
      "cell_type": "markdown",
      "metadata": {
        "id": "NHMMGY96ZeW4"
      },
      "source": [
        "### Carregando os Pacotes Usados Neste Jupyter Notebook"
      ]
    },
    {
      "cell_type": "code",
      "execution_count": 3,
      "metadata": {},
      "outputs": [],
      "source": [
        "#!pip install holidays"
      ]
    },
    {
      "cell_type": "code",
      "execution_count": 4,
      "metadata": {
        "id": "1nWPYW--ZeXA"
      },
      "outputs": [],
      "source": [
        "# As novas versões do Pandas e Matplotlib trazem diversas mensagens de aviso ao desenvolvedor. Vamos desativar isso.\n",
        "import sys\n",
        "import warnings\n",
        "import matplotlib.cbook\n",
        "if not sys.warnoptions:\n",
        "    warnings.simplefilter(\"ignore\")\n",
        "warnings.simplefilter(action='ignore', category=FutureWarning)\n",
        "warnings.filterwarnings(\"ignore\", category=FutureWarning)\n",
        "warnings.filterwarnings(\"ignore\", category=matplotlib.cbook.mplDeprecation)\n",
        "\n",
        "# Imports para manipulação de dados\n",
        "import numpy as np\n",
        "import pandas as pd\n",
        "import itertools\n",
        "from pandas import Series\n",
        "import holidays\n",
        "\n",
        "# Imports para visualização de dados\n",
        "import matplotlib.pyplot as plt\n",
        "import matplotlib as m\n",
        "import seaborn as sns\n",
        "import plotly as py\n",
        "import plotly.express as px\n",
        "import plotly.graph_objs as go \n",
        "from plotly.offline import download_plotlyjs, init_notebook_mode, plot, iplot\n",
        "\n",
        "# Imports para modelagem preditiva\n",
        "import statsmodels\n",
        "import statsmodels.api as sm\n",
        "import statsmodels.tsa.api as smt\n",
        "import statsmodels.stats as sms\n",
        "import scipy\n",
        "import scipy.stats as scs\n",
        "from statsmodels.graphics import tsaplots\n",
        "from statsmodels.tsa.seasonal import seasonal_decompose\n",
        "from statsmodels.tsa.stattools import adfuller\n",
        "from statsmodels.stats.stattools import jarque_bera\n",
        "\n",
        "# Imports para métricas e performance do modelo\n",
        "import math\n",
        "from math import sqrt \n",
        "import sklearn\n",
        "from sklearn.metrics import mean_squared_error \n",
        "\n",
        "# Imports para formatação dos gráficos\n",
        "m.rcParams['axes.labelsize'] = 14\n",
        "m.rcParams['xtick.labelsize'] = 12\n",
        "m.rcParams['ytick.labelsize'] = 12\n",
        "m.rcParams['text.color'] = 'k'\n",
        "from matplotlib.pylab import rcParams \n",
        "rcParams['figure.figsize'] = 12,7\n",
        "matplotlib.style.use('ggplot')\n",
        "%matplotlib inline"
      ]
    },
    {
      "cell_type": "markdown",
      "metadata": {
        "id": "tNcca_cfw_IX"
      },
      "source": [
        "## Definição do Problema de Negócio\n",
        "\n",
        "A HappyMoonVC é uma Venture Capital (VC).\n",
        "\n",
        "Além do investimento no GoInRail (descrito nas aulas anteriores), a HappyMoonVC está analisando um outro negócio. Uma rede de varejo que poderá fornecer produtos para os clientes do GoInRail (drone elétrico para transporte de passageiros). \n",
        "\n",
        "Um monitor touch-screen dentro do GoInRail permitiria que o cliente fizesse a compra de produtos enquanto faz a viagem, com a opção de pegar o produto na estação que for descer ou então receber direto na residência (se acha que isso é futurista demais, saiba que já existe no metrô do Japão).\n",
        "\n",
        "Para decidir se o investimento vale a pena, a HappyMoonVC precisa prever o volume de vendas.  \n",
        "\n",
        "Esse é nosso trabalho."
      ]
    },
    {
      "cell_type": "markdown",
      "metadata": {
        "id": "k_S8pRbIw_IX"
      },
      "source": [
        "## Conjunto de Dados"
      ]
    },
    {
      "cell_type": "markdown",
      "metadata": {
        "id": "PB54F5qKw_IX"
      },
      "source": [
        "Usaremos conjuntos de dados que está disponível publicamente no site do Tableau e que representa as vendas históricas da empresa na qual a HappyMoonVC pretende investir. Aqui o link do dataset (que está sendo fornecido para você):\n",
        "\n",
        "https://community.tableau.com/docs/DOC-1236\n",
        "\n",
        "De todos os dados disponíveis, nosso interesse é na categoria de produtos de tecnologia."
      ]
    },
    {
      "cell_type": "code",
      "execution_count": 5,
      "metadata": {
        "id": "0ZiBthM6ZeXI"
      },
      "outputs": [],
      "source": [
        "# Carrega os dados\n",
        "dados = pd.read_csv('data/vendasHistoricas.csv')"
      ]
    },
    {
      "cell_type": "code",
      "execution_count": 6,
      "metadata": {
        "colab": {
          "base_uri": "https://localhost:8080/",
          "height": 34
        },
        "id": "7RYYstKbw_Ia",
        "outputId": "32141994-dab2-4942-bb55-ba34a849fc60"
      },
      "outputs": [
        {
          "data": {
            "text/plain": [
              "(9994, 21)"
            ]
          },
          "execution_count": 6,
          "metadata": {},
          "output_type": "execute_result"
        }
      ],
      "source": [
        "# Shape\n",
        "dados.shape"
      ]
    },
    {
      "cell_type": "code",
      "execution_count": 7,
      "metadata": {
        "colab": {
          "base_uri": "https://localhost:8080/",
          "height": 102
        },
        "id": "mmQGTPHxw_Ic",
        "outputId": "b08755ae-b73e-417a-faed-33ea3a46c12b"
      },
      "outputs": [
        {
          "data": {
            "text/plain": [
              "Index(['Row ID', 'Order ID', 'Order Date', 'Ship Date', 'Ship Mode',\n",
              "       'Customer ID', 'Customer Name', 'Segment', 'Country', 'City', 'State',\n",
              "       'Postal Code', 'Region', 'Product ID', 'Category', 'Sub-Category',\n",
              "       'Product Name', 'Sales', 'Quantity', 'Discount', 'Profit'],\n",
              "      dtype='object')"
            ]
          },
          "execution_count": 7,
          "metadata": {},
          "output_type": "execute_result"
        }
      ],
      "source": [
        "# Colunas\n",
        "dados.columns"
      ]
    },
    {
      "cell_type": "markdown",
      "metadata": {
        "id": "_gcj1EoJw_Ie"
      },
      "source": [
        "### Análise Exploratória"
      ]
    },
    {
      "cell_type": "code",
      "execution_count": 8,
      "metadata": {
        "colab": {
          "base_uri": "https://localhost:8080/",
          "height": 244
        },
        "id": "o0w0-L7ew_Ie",
        "outputId": "fe1251a6-ea51-4c9b-a5b3-ef3335f07bf4"
      },
      "outputs": [
        {
          "data": {
            "text/html": [
              "<div>\n",
              "<style scoped>\n",
              "    .dataframe tbody tr th:only-of-type {\n",
              "        vertical-align: middle;\n",
              "    }\n",
              "\n",
              "    .dataframe tbody tr th {\n",
              "        vertical-align: top;\n",
              "    }\n",
              "\n",
              "    .dataframe thead th {\n",
              "        text-align: right;\n",
              "    }\n",
              "</style>\n",
              "<table border=\"1\" class=\"dataframe\">\n",
              "  <thead>\n",
              "    <tr style=\"text-align: right;\">\n",
              "      <th></th>\n",
              "      <th>Row ID</th>\n",
              "      <th>Order ID</th>\n",
              "      <th>Order Date</th>\n",
              "      <th>Ship Date</th>\n",
              "      <th>Ship Mode</th>\n",
              "      <th>Customer ID</th>\n",
              "      <th>Customer Name</th>\n",
              "      <th>Segment</th>\n",
              "      <th>Country</th>\n",
              "      <th>City</th>\n",
              "      <th>...</th>\n",
              "      <th>Postal Code</th>\n",
              "      <th>Region</th>\n",
              "      <th>Product ID</th>\n",
              "      <th>Category</th>\n",
              "      <th>Sub-Category</th>\n",
              "      <th>Product Name</th>\n",
              "      <th>Sales</th>\n",
              "      <th>Quantity</th>\n",
              "      <th>Discount</th>\n",
              "      <th>Profit</th>\n",
              "    </tr>\n",
              "  </thead>\n",
              "  <tbody>\n",
              "    <tr>\n",
              "      <th>0</th>\n",
              "      <td>1</td>\n",
              "      <td>CA-2016-152156</td>\n",
              "      <td>2016-11-08</td>\n",
              "      <td>2016-11-11</td>\n",
              "      <td>Second Class</td>\n",
              "      <td>CG-12520</td>\n",
              "      <td>Claire Gute</td>\n",
              "      <td>Consumer</td>\n",
              "      <td>United States</td>\n",
              "      <td>Henderson</td>\n",
              "      <td>...</td>\n",
              "      <td>42420</td>\n",
              "      <td>South</td>\n",
              "      <td>FUR-BO-10001798</td>\n",
              "      <td>Furniture</td>\n",
              "      <td>Bookcases</td>\n",
              "      <td>Bush Somerset Collection Bookcase</td>\n",
              "      <td>261.96</td>\n",
              "      <td>2</td>\n",
              "      <td>0.0</td>\n",
              "      <td>41.9136</td>\n",
              "    </tr>\n",
              "    <tr>\n",
              "      <th>1</th>\n",
              "      <td>2</td>\n",
              "      <td>CA-2016-152156</td>\n",
              "      <td>2016-11-08</td>\n",
              "      <td>2016-11-11</td>\n",
              "      <td>Second Class</td>\n",
              "      <td>CG-12520</td>\n",
              "      <td>Claire Gute</td>\n",
              "      <td>Consumer</td>\n",
              "      <td>United States</td>\n",
              "      <td>Henderson</td>\n",
              "      <td>...</td>\n",
              "      <td>42420</td>\n",
              "      <td>South</td>\n",
              "      <td>FUR-CH-10000454</td>\n",
              "      <td>Furniture</td>\n",
              "      <td>Chairs</td>\n",
              "      <td>Hon Deluxe Fabric Upholstered Stacking Chairs,...</td>\n",
              "      <td>731.94</td>\n",
              "      <td>3</td>\n",
              "      <td>0.0</td>\n",
              "      <td>219.5820</td>\n",
              "    </tr>\n",
              "    <tr>\n",
              "      <th>2</th>\n",
              "      <td>3</td>\n",
              "      <td>CA-2016-138688</td>\n",
              "      <td>2016-06-12</td>\n",
              "      <td>2016-06-16</td>\n",
              "      <td>Second Class</td>\n",
              "      <td>DV-13045</td>\n",
              "      <td>Darrin Van Huff</td>\n",
              "      <td>Corporate</td>\n",
              "      <td>United States</td>\n",
              "      <td>Los Angeles</td>\n",
              "      <td>...</td>\n",
              "      <td>90036</td>\n",
              "      <td>West</td>\n",
              "      <td>OFF-LA-10000240</td>\n",
              "      <td>Office Supplies</td>\n",
              "      <td>Labels</td>\n",
              "      <td>Self-Adhesive Address Labels for Typewriters b...</td>\n",
              "      <td>14.62</td>\n",
              "      <td>2</td>\n",
              "      <td>0.0</td>\n",
              "      <td>6.8714</td>\n",
              "    </tr>\n",
              "  </tbody>\n",
              "</table>\n",
              "<p>3 rows × 21 columns</p>\n",
              "</div>"
            ],
            "text/plain": [
              "   Row ID        Order ID  Order Date   Ship Date     Ship Mode Customer ID  \\\n",
              "0       1  CA-2016-152156  2016-11-08  2016-11-11  Second Class    CG-12520   \n",
              "1       2  CA-2016-152156  2016-11-08  2016-11-11  Second Class    CG-12520   \n",
              "2       3  CA-2016-138688  2016-06-12  2016-06-16  Second Class    DV-13045   \n",
              "\n",
              "     Customer Name    Segment        Country         City  ... Postal Code  \\\n",
              "0      Claire Gute   Consumer  United States    Henderson  ...       42420   \n",
              "1      Claire Gute   Consumer  United States    Henderson  ...       42420   \n",
              "2  Darrin Van Huff  Corporate  United States  Los Angeles  ...       90036   \n",
              "\n",
              "   Region       Product ID         Category Sub-Category  \\\n",
              "0   South  FUR-BO-10001798        Furniture    Bookcases   \n",
              "1   South  FUR-CH-10000454        Furniture       Chairs   \n",
              "2    West  OFF-LA-10000240  Office Supplies       Labels   \n",
              "\n",
              "                                        Product Name   Sales  Quantity  \\\n",
              "0                  Bush Somerset Collection Bookcase  261.96         2   \n",
              "1  Hon Deluxe Fabric Upholstered Stacking Chairs,...  731.94         3   \n",
              "2  Self-Adhesive Address Labels for Typewriters b...   14.62         2   \n",
              "\n",
              "   Discount    Profit  \n",
              "0       0.0   41.9136  \n",
              "1       0.0  219.5820  \n",
              "2       0.0    6.8714  \n",
              "\n",
              "[3 rows x 21 columns]"
            ]
          },
          "execution_count": 8,
          "metadata": {},
          "output_type": "execute_result"
        }
      ],
      "source": [
        "# Visualizando os dados\n",
        "dados.head(3)"
      ]
    },
    {
      "cell_type": "code",
      "execution_count": 9,
      "metadata": {
        "colab": {
          "base_uri": "https://localhost:8080/",
          "height": 297
        },
        "id": "7CM40UVCw_Ig",
        "outputId": "e6f58ed2-7dca-41ce-e2da-23e5ab87b168"
      },
      "outputs": [
        {
          "data": {
            "text/html": [
              "<div>\n",
              "<style scoped>\n",
              "    .dataframe tbody tr th:only-of-type {\n",
              "        vertical-align: middle;\n",
              "    }\n",
              "\n",
              "    .dataframe tbody tr th {\n",
              "        vertical-align: top;\n",
              "    }\n",
              "\n",
              "    .dataframe thead th {\n",
              "        text-align: right;\n",
              "    }\n",
              "</style>\n",
              "<table border=\"1\" class=\"dataframe\">\n",
              "  <thead>\n",
              "    <tr style=\"text-align: right;\">\n",
              "      <th></th>\n",
              "      <th>Row ID</th>\n",
              "      <th>Postal Code</th>\n",
              "      <th>Sales</th>\n",
              "      <th>Quantity</th>\n",
              "      <th>Discount</th>\n",
              "      <th>Profit</th>\n",
              "    </tr>\n",
              "  </thead>\n",
              "  <tbody>\n",
              "    <tr>\n",
              "      <th>count</th>\n",
              "      <td>9994.000000</td>\n",
              "      <td>9994.000000</td>\n",
              "      <td>9994.000000</td>\n",
              "      <td>9994.000000</td>\n",
              "      <td>9994.000000</td>\n",
              "      <td>9994.000000</td>\n",
              "    </tr>\n",
              "    <tr>\n",
              "      <th>mean</th>\n",
              "      <td>4997.500000</td>\n",
              "      <td>55190.379428</td>\n",
              "      <td>229.858001</td>\n",
              "      <td>3.789574</td>\n",
              "      <td>0.156203</td>\n",
              "      <td>28.656896</td>\n",
              "    </tr>\n",
              "    <tr>\n",
              "      <th>std</th>\n",
              "      <td>2885.163629</td>\n",
              "      <td>32063.693350</td>\n",
              "      <td>623.245101</td>\n",
              "      <td>2.225110</td>\n",
              "      <td>0.206452</td>\n",
              "      <td>234.260108</td>\n",
              "    </tr>\n",
              "    <tr>\n",
              "      <th>min</th>\n",
              "      <td>1.000000</td>\n",
              "      <td>1040.000000</td>\n",
              "      <td>0.444000</td>\n",
              "      <td>1.000000</td>\n",
              "      <td>0.000000</td>\n",
              "      <td>-6599.978000</td>\n",
              "    </tr>\n",
              "    <tr>\n",
              "      <th>25%</th>\n",
              "      <td>2499.250000</td>\n",
              "      <td>23223.000000</td>\n",
              "      <td>17.280000</td>\n",
              "      <td>2.000000</td>\n",
              "      <td>0.000000</td>\n",
              "      <td>1.728750</td>\n",
              "    </tr>\n",
              "    <tr>\n",
              "      <th>50%</th>\n",
              "      <td>4997.500000</td>\n",
              "      <td>56430.500000</td>\n",
              "      <td>54.490000</td>\n",
              "      <td>3.000000</td>\n",
              "      <td>0.200000</td>\n",
              "      <td>8.666500</td>\n",
              "    </tr>\n",
              "    <tr>\n",
              "      <th>75%</th>\n",
              "      <td>7495.750000</td>\n",
              "      <td>90008.000000</td>\n",
              "      <td>209.940000</td>\n",
              "      <td>5.000000</td>\n",
              "      <td>0.200000</td>\n",
              "      <td>29.364000</td>\n",
              "    </tr>\n",
              "    <tr>\n",
              "      <th>max</th>\n",
              "      <td>9994.000000</td>\n",
              "      <td>99301.000000</td>\n",
              "      <td>22638.480000</td>\n",
              "      <td>14.000000</td>\n",
              "      <td>0.800000</td>\n",
              "      <td>8399.976000</td>\n",
              "    </tr>\n",
              "  </tbody>\n",
              "</table>\n",
              "</div>"
            ],
            "text/plain": [
              "            Row ID   Postal Code         Sales     Quantity     Discount  \\\n",
              "count  9994.000000   9994.000000   9994.000000  9994.000000  9994.000000   \n",
              "mean   4997.500000  55190.379428    229.858001     3.789574     0.156203   \n",
              "std    2885.163629  32063.693350    623.245101     2.225110     0.206452   \n",
              "min       1.000000   1040.000000      0.444000     1.000000     0.000000   \n",
              "25%    2499.250000  23223.000000     17.280000     2.000000     0.000000   \n",
              "50%    4997.500000  56430.500000     54.490000     3.000000     0.200000   \n",
              "75%    7495.750000  90008.000000    209.940000     5.000000     0.200000   \n",
              "max    9994.000000  99301.000000  22638.480000    14.000000     0.800000   \n",
              "\n",
              "            Profit  \n",
              "count  9994.000000  \n",
              "mean     28.656896  \n",
              "std     234.260108  \n",
              "min   -6599.978000  \n",
              "25%       1.728750  \n",
              "50%       8.666500  \n",
              "75%      29.364000  \n",
              "max    8399.976000  "
            ]
          },
          "execution_count": 9,
          "metadata": {},
          "output_type": "execute_result"
        }
      ],
      "source": [
        "# Resumo estatístico\n",
        "dados.describe()"
      ]
    },
    {
      "cell_type": "code",
      "execution_count": 10,
      "metadata": {
        "colab": {
          "base_uri": "https://localhost:8080/",
          "height": 493
        },
        "id": "JW2s8wluw_Ih",
        "outputId": "e1d48c0d-fe95-4134-ffeb-89f3164ef0e2"
      },
      "outputs": [
        {
          "name": "stdout",
          "output_type": "stream",
          "text": [
            "<class 'pandas.core.frame.DataFrame'>\n",
            "RangeIndex: 9994 entries, 0 to 9993\n",
            "Data columns (total 21 columns):\n",
            " #   Column         Non-Null Count  Dtype  \n",
            "---  ------         --------------  -----  \n",
            " 0   Row ID         9994 non-null   int64  \n",
            " 1   Order ID       9994 non-null   object \n",
            " 2   Order Date     9994 non-null   object \n",
            " 3   Ship Date      9994 non-null   object \n",
            " 4   Ship Mode      9994 non-null   object \n",
            " 5   Customer ID    9994 non-null   object \n",
            " 6   Customer Name  9994 non-null   object \n",
            " 7   Segment        9994 non-null   object \n",
            " 8   Country        9994 non-null   object \n",
            " 9   City           9994 non-null   object \n",
            " 10  State          9994 non-null   object \n",
            " 11  Postal Code    9994 non-null   int64  \n",
            " 12  Region         9994 non-null   object \n",
            " 13  Product ID     9994 non-null   object \n",
            " 14  Category       9994 non-null   object \n",
            " 15  Sub-Category   9994 non-null   object \n",
            " 16  Product Name   9994 non-null   object \n",
            " 17  Sales          9994 non-null   float64\n",
            " 18  Quantity       9994 non-null   int64  \n",
            " 19  Discount       9994 non-null   float64\n",
            " 20  Profit         9994 non-null   float64\n",
            "dtypes: float64(3), int64(3), object(15)\n",
            "memory usage: 1.6+ MB\n"
          ]
        }
      ],
      "source": [
        "# Checando valores missing - não temos valores missing no dataset\n",
        "dados.info()"
      ]
    },
    {
      "cell_type": "code",
      "execution_count": 11,
      "metadata": {
        "id": "zg-xHsD6w_Ij"
      },
      "outputs": [],
      "source": [
        "# Ajustando o nome das colunas para que todas fiquem com letras minúsculas\n",
        "dados.columns = map(str.lower, dados.columns)"
      ]
    },
    {
      "cell_type": "code",
      "execution_count": 12,
      "metadata": {
        "id": "-HHPI4Fbw_Il"
      },
      "outputs": [],
      "source": [
        "# Vamos substituir os espaços e traços nos nomes das colunas por '_'\n",
        "dados.columns = dados.columns.str.replace(\" \", \"_\")\n",
        "dados.columns = dados.columns.str.replace(\"-\", \"_\")"
      ]
    },
    {
      "cell_type": "code",
      "execution_count": 13,
      "metadata": {
        "colab": {
          "base_uri": "https://localhost:8080/",
          "height": 102
        },
        "id": "NRh5oXziw_In",
        "outputId": "ed0b0610-43c9-431a-ce49-2a7bc5b9a1f5"
      },
      "outputs": [
        {
          "data": {
            "text/plain": [
              "Index(['row_id', 'order_id', 'order_date', 'ship_date', 'ship_mode',\n",
              "       'customer_id', 'customer_name', 'segment', 'country', 'city', 'state',\n",
              "       'postal_code', 'region', 'product_id', 'category', 'sub_category',\n",
              "       'product_name', 'sales', 'quantity', 'discount', 'profit'],\n",
              "      dtype='object')"
            ]
          },
          "execution_count": 13,
          "metadata": {},
          "output_type": "execute_result"
        }
      ],
      "source": [
        "# Conferindo\n",
        "dados.columns"
      ]
    },
    {
      "cell_type": "code",
      "execution_count": 14,
      "metadata": {
        "colab": {
          "base_uri": "https://localhost:8080/",
          "height": 173
        },
        "id": "J6MaIBpIw_Ip",
        "outputId": "8d1c1429-8c9d-41a4-e5a6-ca70b49bf70c"
      },
      "outputs": [
        {
          "name": "stdout",
          "output_type": "stream",
          "text": [
            "ship_mode {'Same Day', 'Second Class', 'Standard Class', 'First Class'}\n",
            "segment {'Corporate', 'Consumer', 'Home Office'}\n",
            "country {'United States'}\n",
            "region {'South', 'Central', 'East', 'West'}\n",
            "category {'Furniture', 'Technology', 'Office Supplies'}\n",
            "sub_category {'Fasteners', 'Labels', 'Bookcases', 'Accessories', 'Chairs', 'Paper', 'Machines', 'Tables', 'Storage', 'Binders', 'Supplies', 'Copiers', 'Appliances', 'Phones', 'Art', 'Furnishings', 'Envelopes'}\n",
            "quantity {1, 2, 3, 4, 5, 6, 7, 8, 9, 10, 11, 12, 13, 14}\n",
            "discount {0.0, 0.8, 0.2, 0.3, 0.45, 0.5, 0.7, 0.6, 0.32, 0.1, 0.4, 0.15}\n"
          ]
        }
      ],
      "source": [
        "# Vamos checar os valores únicos por coluna (para ajudar a definir se a variável é categórica ou não)\n",
        "for c in dados.columns:\n",
        "    if len(set(dados[c])) < 20:\n",
        "        print(c,set(dados[c]))"
      ]
    },
    {
      "cell_type": "markdown",
      "metadata": {
        "id": "z-QCEHv9w_Iq"
      },
      "source": [
        "## E os Feriados?\n",
        "\n",
        "Todas as vendas ocorrem nos EUA. Será que o fato de ser feriado de alguma forma contribui para a previsão de vendas? \n",
        "\n",
        "Não temos em nosso dataset nenhuma variável com esta informação e teremos que buscá-la externamente ao dataset. Em linhas gerais, isso é o que chamados de variável exógena.\n",
        "\n",
        "De fato, teremos duas séries: uma com a data e a venda (que trabalhamos até aqui) e uma nova série com a data e a indicacão se aquela data foi feriado ou não. Vai dar um trabalhinho, mas é para isso que estamos aqui. Para resolver problemas. Vou mostrar tudo em detalhes para você.\n",
        "\n",
        "E o interessante é que nem tudo vai sair como esperado! \n",
        "\n",
        "Vamos checar a primeira e última data de vendas."
      ]
    },
    {
      "cell_type": "code",
      "execution_count": 15,
      "metadata": {
        "colab": {
          "base_uri": "https://localhost:8080/",
          "height": 34
        },
        "id": "w6nrGXa8w_Ir",
        "outputId": "4b14ed77-df71-4ff9-84ee-8d3251c9b2ba"
      },
      "outputs": [
        {
          "data": {
            "text/plain": [
              "'2014-01-03'"
            ]
          },
          "execution_count": 15,
          "metadata": {},
          "output_type": "execute_result"
        }
      ],
      "source": [
        "# Primeira data de venda no dataset\n",
        "dados['order_date'].min()"
      ]
    },
    {
      "cell_type": "code",
      "execution_count": 16,
      "metadata": {
        "colab": {
          "base_uri": "https://localhost:8080/",
          "height": 34
        },
        "id": "p6gshBDrw_Is",
        "outputId": "8fa1fc24-deda-4e6b-8a7f-675ef9a8001d"
      },
      "outputs": [
        {
          "data": {
            "text/plain": [
              "'2017-12-30'"
            ]
          },
          "execution_count": 16,
          "metadata": {},
          "output_type": "execute_result"
        }
      ],
      "source": [
        "# Última data de venda no dataset\n",
        "dados['order_date'].max()"
      ]
    },
    {
      "cell_type": "markdown",
      "metadata": {
        "id": "IFz9MGgfw_Iu"
      },
      "source": [
        "Temos vendas do começo de 2014 ao fim de 2017. Vamos buscar os feriados nesse período.\n",
        "\n",
        "O pacote holidays (que também permite coletar feriados do Brasil) torna nossa vida um pouco mais fácil. Observe:"
      ]
    },
    {
      "cell_type": "code",
      "execution_count": 17,
      "metadata": {
        "colab": {
          "base_uri": "https://localhost:8080/",
          "height": 765
        },
        "id": "vnQJ2E3Tw_Iu",
        "outputId": "12b67c77-2fb6-48dd-d677-68e86ddfa6db"
      },
      "outputs": [
        {
          "name": "stdout",
          "output_type": "stream",
          "text": [
            "2016-01-01 New Year's Day\n",
            "2016-01-18 Martin Luther King Jr. Day\n",
            "2016-02-15 Washington's Birthday\n",
            "2016-05-30 Memorial Day\n",
            "2016-07-04 Independence Day\n",
            "2016-09-05 Labor Day\n",
            "2016-10-10 Columbus Day\n",
            "2016-11-11 Veterans Day\n",
            "2016-11-24 Thanksgiving\n",
            "2016-12-25 Christmas Day\n",
            "2016-12-26 Christmas Day (Observed)\n",
            "2017-01-01 New Year's Day\n",
            "2017-01-02 New Year's Day (Observed)\n",
            "2017-01-16 Martin Luther King Jr. Day\n",
            "2017-02-20 Washington's Birthday\n",
            "2017-05-29 Memorial Day\n",
            "2017-07-04 Independence Day\n",
            "2017-09-04 Labor Day\n",
            "2017-10-09 Columbus Day\n",
            "2017-11-11 Veterans Day\n",
            "2017-11-10 Veterans Day (Observed)\n",
            "2017-11-23 Thanksgiving\n",
            "2017-12-25 Christmas Day\n",
            "2014-01-01 New Year's Day\n",
            "2014-01-20 Martin Luther King Jr. Day\n",
            "2014-02-17 Washington's Birthday\n",
            "2014-05-26 Memorial Day\n",
            "2014-07-04 Independence Day\n",
            "2014-09-01 Labor Day\n",
            "2014-10-13 Columbus Day\n",
            "2014-11-11 Veterans Day\n",
            "2014-11-27 Thanksgiving\n",
            "2014-12-25 Christmas Day\n",
            "2015-01-01 New Year's Day\n",
            "2015-01-19 Martin Luther King Jr. Day\n",
            "2015-02-16 Washington's Birthday\n",
            "2015-05-25 Memorial Day\n",
            "2015-07-04 Independence Day\n",
            "2015-07-03 Independence Day (Observed)\n",
            "2015-09-07 Labor Day\n",
            "2015-10-12 Columbus Day\n",
            "2015-11-11 Veterans Day\n",
            "2015-11-26 Thanksgiving\n",
            "2015-12-25 Christmas Day\n"
          ]
        }
      ],
      "source": [
        "# Vamos buscar todos os feriados nos EUA entre 2014 e 2017\n",
        "for i, feriado in holidays.US(years = [2014, 2015, 2016, 2017]).items(): \n",
        "    print(i, feriado)"
      ]
    },
    {
      "cell_type": "markdown",
      "metadata": {
        "id": "UTFaY7AXw_Iw"
      },
      "source": [
        "Hummm...muitos feriados. Foram 44 para ser exato. Vamos criar uma série para armazenar as datas dos feriados entre 2014 e 2017.\n",
        "\n",
        "Para conhecer mais sobre o pacote holidays, acesse: https://pypi.org/project/holidays/"
      ]
    },
    {
      "cell_type": "code",
      "execution_count": 18,
      "metadata": {
        "colab": {
          "base_uri": "https://localhost:8080/",
          "height": 85
        },
        "id": "-CQoAje_w_Iw",
        "outputId": "b24c85d6-041d-4232-fdff-5bcea76afb79"
      },
      "outputs": [],
      "source": [
        "# Cria um dataframe vazio\n",
        "feriados = pd.Series()"
      ]
    },
    {
      "cell_type": "code",
      "execution_count": 19,
      "metadata": {
        "id": "GM67lQdLw_Iy"
      },
      "outputs": [],
      "source": [
        "# Vamos buscar todos os feriados nos EUA entre 2014 e 2017\n",
        "for i, feriado in holidays.US(years = [2014, 2015, 2016, 2017]).items(): \n",
        "    feriados[i] = feriado"
      ]
    },
    {
      "cell_type": "code",
      "execution_count": 20,
      "metadata": {
        "colab": {
          "base_uri": "https://localhost:8080/",
          "height": 170
        },
        "id": "_R6HOAYdw_I0",
        "outputId": "d1fd4c3a-7125-41dd-924f-6e352e03d814"
      },
      "outputs": [
        {
          "data": {
            "text/plain": [
              "2016-01-01                New Year's Day\n",
              "2016-01-18    Martin Luther King Jr. Day\n",
              "2016-02-15         Washington's Birthday\n",
              "2016-05-30                  Memorial Day\n",
              "2016-07-04              Independence Day\n",
              "2016-09-05                     Labor Day\n",
              "2016-10-10                  Columbus Day\n",
              "2016-11-11                  Veterans Day\n",
              "dtype: object"
            ]
          },
          "execution_count": 20,
          "metadata": {},
          "output_type": "execute_result"
        }
      ],
      "source": [
        "# Visualiza os dados\n",
        "feriados.head(8)"
      ]
    },
    {
      "cell_type": "code",
      "execution_count": 21,
      "metadata": {
        "colab": {
          "base_uri": "https://localhost:8080/",
          "height": 34
        },
        "id": "UrCiHTDuw_I1",
        "outputId": "ef9705bb-bca2-4794-c21a-9b65464c48c7"
      },
      "outputs": [
        {
          "data": {
            "text/plain": [
              "pandas.core.series.Series"
            ]
          },
          "execution_count": 21,
          "metadata": {},
          "output_type": "execute_result"
        }
      ],
      "source": [
        "# Tipo\n",
        "type(feriados)"
      ]
    },
    {
      "cell_type": "code",
      "execution_count": 22,
      "metadata": {
        "id": "nyTAe5Hvw_I3"
      },
      "outputs": [],
      "source": [
        "# Vamos converter a série em dataframe e fazer alguns ajustes\n",
        "feriados_df = pd.DataFrame(feriados)"
      ]
    },
    {
      "cell_type": "code",
      "execution_count": 23,
      "metadata": {
        "colab": {
          "base_uri": "https://localhost:8080/",
          "height": 34
        },
        "id": "8Rrk7oZCw_I4",
        "outputId": "a7cc33c2-2572-4159-a360-1cb639348ac5"
      },
      "outputs": [
        {
          "data": {
            "text/plain": [
              "pandas.core.frame.DataFrame"
            ]
          },
          "execution_count": 23,
          "metadata": {},
          "output_type": "execute_result"
        }
      ],
      "source": [
        "# Tipo\n",
        "type(feriados_df)"
      ]
    },
    {
      "cell_type": "code",
      "execution_count": 24,
      "metadata": {
        "colab": {
          "base_uri": "https://localhost:8080/",
          "height": 34
        },
        "id": "4f6fRI3pw_I6",
        "outputId": "3704e24e-fa23-40cf-f709-0f50ec82e976"
      },
      "outputs": [
        {
          "data": {
            "text/plain": [
              "(44, 1)"
            ]
          },
          "execution_count": 24,
          "metadata": {},
          "output_type": "execute_result"
        }
      ],
      "source": [
        "# Shape\n",
        "feriados_df.shape"
      ]
    },
    {
      "cell_type": "code",
      "execution_count": 25,
      "metadata": {
        "id": "9s_ovlTcw_I8"
      },
      "outputs": [],
      "source": [
        "# Reset do index para ajustar os nomes das colunas\n",
        "feriados_df.reset_index(level = 0, inplace = True)"
      ]
    },
    {
      "cell_type": "code",
      "execution_count": 26,
      "metadata": {
        "id": "L40_iTjOw_I9"
      },
      "outputs": [],
      "source": [
        "# Ajusta o nome das colunas\n",
        "feriados_df.columns = ['data_feriado', 'feriado']"
      ]
    },
    {
      "cell_type": "code",
      "execution_count": 27,
      "metadata": {
        "colab": {
          "base_uri": "https://localhost:8080/",
          "height": 204
        },
        "id": "fqWckL6Mw_I_",
        "outputId": "47fd1654-c63b-4dc8-86e9-e123503581e6"
      },
      "outputs": [
        {
          "data": {
            "text/html": [
              "<div>\n",
              "<style scoped>\n",
              "    .dataframe tbody tr th:only-of-type {\n",
              "        vertical-align: middle;\n",
              "    }\n",
              "\n",
              "    .dataframe tbody tr th {\n",
              "        vertical-align: top;\n",
              "    }\n",
              "\n",
              "    .dataframe thead th {\n",
              "        text-align: right;\n",
              "    }\n",
              "</style>\n",
              "<table border=\"1\" class=\"dataframe\">\n",
              "  <thead>\n",
              "    <tr style=\"text-align: right;\">\n",
              "      <th></th>\n",
              "      <th>data_feriado</th>\n",
              "      <th>feriado</th>\n",
              "    </tr>\n",
              "  </thead>\n",
              "  <tbody>\n",
              "    <tr>\n",
              "      <th>0</th>\n",
              "      <td>2016-01-01</td>\n",
              "      <td>New Year's Day</td>\n",
              "    </tr>\n",
              "    <tr>\n",
              "      <th>1</th>\n",
              "      <td>2016-01-18</td>\n",
              "      <td>Martin Luther King Jr. Day</td>\n",
              "    </tr>\n",
              "    <tr>\n",
              "      <th>2</th>\n",
              "      <td>2016-02-15</td>\n",
              "      <td>Washington's Birthday</td>\n",
              "    </tr>\n",
              "    <tr>\n",
              "      <th>3</th>\n",
              "      <td>2016-05-30</td>\n",
              "      <td>Memorial Day</td>\n",
              "    </tr>\n",
              "    <tr>\n",
              "      <th>4</th>\n",
              "      <td>2016-07-04</td>\n",
              "      <td>Independence Day</td>\n",
              "    </tr>\n",
              "  </tbody>\n",
              "</table>\n",
              "</div>"
            ],
            "text/plain": [
              "  data_feriado                     feriado\n",
              "0   2016-01-01              New Year's Day\n",
              "1   2016-01-18  Martin Luther King Jr. Day\n",
              "2   2016-02-15       Washington's Birthday\n",
              "3   2016-05-30                Memorial Day\n",
              "4   2016-07-04            Independence Day"
            ]
          },
          "execution_count": 27,
          "metadata": {},
          "output_type": "execute_result"
        }
      ],
      "source": [
        "# Visualiza\n",
        "feriados_df.head()"
      ]
    },
    {
      "cell_type": "code",
      "execution_count": 28,
      "metadata": {
        "colab": {
          "base_uri": "https://localhost:8080/",
          "height": 68
        },
        "id": "SXA8nPpkw_JA",
        "outputId": "c96f0bd5-e13d-40c8-b979-a7c2e61a022e"
      },
      "outputs": [
        {
          "data": {
            "text/plain": [
              "data_feriado    object\n",
              "feriado         object\n",
              "dtype: object"
            ]
          },
          "execution_count": 28,
          "metadata": {},
          "output_type": "execute_result"
        }
      ],
      "source": [
        "# Tipos de dados\n",
        "feriados_df.dtypes"
      ]
    },
    {
      "cell_type": "code",
      "execution_count": 29,
      "metadata": {
        "id": "WC5YN5Eow_JC"
      },
      "outputs": [],
      "source": [
        "# Vamos deixar a coluna de data como tipo datetime, pois precisaremos disso daqui a pouco\n",
        "feriados_df['data_feriado'] = pd.to_datetime(feriados_df['data_feriado'])"
      ]
    },
    {
      "cell_type": "code",
      "execution_count": 30,
      "metadata": {
        "colab": {
          "base_uri": "https://localhost:8080/",
          "height": 68
        },
        "id": "tXR8DtsMw_JE",
        "outputId": "fa2e1fb8-e017-4343-e62f-af4169723e82"
      },
      "outputs": [
        {
          "data": {
            "text/plain": [
              "data_feriado    datetime64[ns]\n",
              "feriado                 object\n",
              "dtype: object"
            ]
          },
          "execution_count": 30,
          "metadata": {},
          "output_type": "execute_result"
        }
      ],
      "source": [
        "# Tipos de dados\n",
        "feriados_df.dtypes"
      ]
    },
    {
      "cell_type": "markdown",
      "metadata": {
        "id": "7fo9DFuHw_JG"
      },
      "source": [
        "Perfeito. Já temos a série com os feriados.\n",
        "\n",
        "Devemos adicionar ao nosso dataset agora? A resposta é não, pois não estamos usando o dataset inteiro, mas sim a média de vendas de produtos de tecnologia. Seria desperdício de recurso e de tempo adcionar agora.\n",
        "\n",
        "Vamos preparar nossa série de média de vendas (como fizemos nas aulas anteriores) e aí sim adicionaremos a coluna com o feriado. Fique atento."
      ]
    },
    {
      "cell_type": "code",
      "execution_count": 31,
      "metadata": {
        "id": "yALZkiyjw_JG"
      },
      "outputs": [],
      "source": [
        "# Vamos checar as categorias de itens\n",
        "#a = dados['category'].value_counts()\n",
        "#fig = px.bar(a, x = a.index, y = a.values, height = 400)\n",
        "#fig.update_layout(title = {'text': \"Categorias de Itens\", \n",
        "#                           'y':0.9,'x':0.5,'xanchor': \n",
        "#                           'center','yanchor': 'top'},\n",
        "#                  xaxis_title = \"Categoria\",\n",
        "#                  yaxis_title = \"Total de Itens\")\n",
        "#fig.show(renderer = 'svg')"
      ]
    },
    {
      "cell_type": "markdown",
      "metadata": {
        "id": "RLeODfyIw_JI"
      },
      "source": [
        "Vamos separar os dados por categoria (Móveis, Tecnologia, Material de escritório)."
      ]
    },
    {
      "cell_type": "code",
      "execution_count": 32,
      "metadata": {
        "colab": {
          "base_uri": "https://localhost:8080/",
          "height": 230
        },
        "id": "THUPnYPHw_JI",
        "outputId": "6c70f7fa-fc07-42fa-d8b0-3963e588e13a"
      },
      "outputs": [
        {
          "data": {
            "text/html": [
              "<div>\n",
              "<style scoped>\n",
              "    .dataframe tbody tr th:only-of-type {\n",
              "        vertical-align: middle;\n",
              "    }\n",
              "\n",
              "    .dataframe tbody tr th {\n",
              "        vertical-align: top;\n",
              "    }\n",
              "\n",
              "    .dataframe thead th {\n",
              "        text-align: right;\n",
              "    }\n",
              "</style>\n",
              "<table border=\"1\" class=\"dataframe\">\n",
              "  <thead>\n",
              "    <tr style=\"text-align: right;\">\n",
              "      <th></th>\n",
              "      <th>row_id</th>\n",
              "      <th>order_id</th>\n",
              "      <th>order_date</th>\n",
              "      <th>ship_date</th>\n",
              "      <th>ship_mode</th>\n",
              "      <th>customer_id</th>\n",
              "      <th>customer_name</th>\n",
              "      <th>segment</th>\n",
              "      <th>country</th>\n",
              "      <th>city</th>\n",
              "      <th>...</th>\n",
              "      <th>postal_code</th>\n",
              "      <th>region</th>\n",
              "      <th>product_id</th>\n",
              "      <th>category</th>\n",
              "      <th>sub_category</th>\n",
              "      <th>product_name</th>\n",
              "      <th>sales</th>\n",
              "      <th>quantity</th>\n",
              "      <th>discount</th>\n",
              "      <th>profit</th>\n",
              "    </tr>\n",
              "  </thead>\n",
              "  <tbody>\n",
              "    <tr>\n",
              "      <th>7</th>\n",
              "      <td>8</td>\n",
              "      <td>CA-2014-115812</td>\n",
              "      <td>2014-06-09</td>\n",
              "      <td>2014-06-14</td>\n",
              "      <td>Standard Class</td>\n",
              "      <td>BH-11710</td>\n",
              "      <td>Brosina Hoffman</td>\n",
              "      <td>Consumer</td>\n",
              "      <td>United States</td>\n",
              "      <td>Los Angeles</td>\n",
              "      <td>...</td>\n",
              "      <td>90032</td>\n",
              "      <td>West</td>\n",
              "      <td>TEC-PH-10002275</td>\n",
              "      <td>Technology</td>\n",
              "      <td>Phones</td>\n",
              "      <td>Mitel 5320 IP Phone VoIP phone</td>\n",
              "      <td>907.152</td>\n",
              "      <td>6</td>\n",
              "      <td>0.2</td>\n",
              "      <td>90.7152</td>\n",
              "    </tr>\n",
              "    <tr>\n",
              "      <th>11</th>\n",
              "      <td>12</td>\n",
              "      <td>CA-2014-115812</td>\n",
              "      <td>2014-06-09</td>\n",
              "      <td>2014-06-14</td>\n",
              "      <td>Standard Class</td>\n",
              "      <td>BH-11710</td>\n",
              "      <td>Brosina Hoffman</td>\n",
              "      <td>Consumer</td>\n",
              "      <td>United States</td>\n",
              "      <td>Los Angeles</td>\n",
              "      <td>...</td>\n",
              "      <td>90032</td>\n",
              "      <td>West</td>\n",
              "      <td>TEC-PH-10002033</td>\n",
              "      <td>Technology</td>\n",
              "      <td>Phones</td>\n",
              "      <td>Konftel 250 Conference phone - Charcoal black</td>\n",
              "      <td>911.424</td>\n",
              "      <td>4</td>\n",
              "      <td>0.2</td>\n",
              "      <td>68.3568</td>\n",
              "    </tr>\n",
              "    <tr>\n",
              "      <th>19</th>\n",
              "      <td>20</td>\n",
              "      <td>CA-2014-143336</td>\n",
              "      <td>2014-08-27</td>\n",
              "      <td>2014-09-01</td>\n",
              "      <td>Second Class</td>\n",
              "      <td>ZD-21925</td>\n",
              "      <td>Zuschuss Donatelli</td>\n",
              "      <td>Consumer</td>\n",
              "      <td>United States</td>\n",
              "      <td>San Francisco</td>\n",
              "      <td>...</td>\n",
              "      <td>94109</td>\n",
              "      <td>West</td>\n",
              "      <td>TEC-PH-10001949</td>\n",
              "      <td>Technology</td>\n",
              "      <td>Phones</td>\n",
              "      <td>Cisco SPA 501G IP Phone</td>\n",
              "      <td>213.480</td>\n",
              "      <td>3</td>\n",
              "      <td>0.2</td>\n",
              "      <td>16.0110</td>\n",
              "    </tr>\n",
              "  </tbody>\n",
              "</table>\n",
              "<p>3 rows × 21 columns</p>\n",
              "</div>"
            ],
            "text/plain": [
              "    row_id        order_id  order_date   ship_date       ship_mode  \\\n",
              "7        8  CA-2014-115812  2014-06-09  2014-06-14  Standard Class   \n",
              "11      12  CA-2014-115812  2014-06-09  2014-06-14  Standard Class   \n",
              "19      20  CA-2014-143336  2014-08-27  2014-09-01    Second Class   \n",
              "\n",
              "   customer_id       customer_name   segment        country           city  \\\n",
              "7     BH-11710     Brosina Hoffman  Consumer  United States    Los Angeles   \n",
              "11    BH-11710     Brosina Hoffman  Consumer  United States    Los Angeles   \n",
              "19    ZD-21925  Zuschuss Donatelli  Consumer  United States  San Francisco   \n",
              "\n",
              "    ... postal_code  region       product_id    category sub_category  \\\n",
              "7   ...       90032    West  TEC-PH-10002275  Technology       Phones   \n",
              "11  ...       90032    West  TEC-PH-10002033  Technology       Phones   \n",
              "19  ...       94109    West  TEC-PH-10001949  Technology       Phones   \n",
              "\n",
              "                                     product_name    sales  quantity  \\\n",
              "7                  Mitel 5320 IP Phone VoIP phone  907.152         6   \n",
              "11  Konftel 250 Conference phone - Charcoal black  911.424         4   \n",
              "19                        Cisco SPA 501G IP Phone  213.480         3   \n",
              "\n",
              "    discount   profit  \n",
              "7        0.2  90.7152  \n",
              "11       0.2  68.3568  \n",
              "19       0.2  16.0110  \n",
              "\n",
              "[3 rows x 21 columns]"
            ]
          },
          "execution_count": 32,
          "metadata": {},
          "output_type": "execute_result"
        }
      ],
      "source": [
        "# Separando os dados por categoria\n",
        "df_tecnologia = dados.loc[dados['category'] == 'Technology']\n",
        "df_tecnologia.head(3)"
      ]
    },
    {
      "cell_type": "markdown",
      "metadata": {
        "id": "yW6DcXf-w_JK"
      },
      "source": [
        "Agora vamos preparar as séries temporais."
      ]
    },
    {
      "cell_type": "code",
      "execution_count": 33,
      "metadata": {
        "id": "Xezw9sSQw_JL"
      },
      "outputs": [],
      "source": [
        "# Agregando as vendas pela data do pedido\n",
        "ts_tecnologia = df_tecnologia.groupby('order_date')['sales'].sum().reset_index()"
      ]
    },
    {
      "cell_type": "code",
      "execution_count": 34,
      "metadata": {
        "colab": {
          "base_uri": "https://localhost:8080/",
          "height": 419
        },
        "id": "mruX06Z4w_JN",
        "outputId": "c33d7eda-ab34-46c0-92b9-bbe64b9cd156"
      },
      "outputs": [
        {
          "data": {
            "text/html": [
              "<div>\n",
              "<style scoped>\n",
              "    .dataframe tbody tr th:only-of-type {\n",
              "        vertical-align: middle;\n",
              "    }\n",
              "\n",
              "    .dataframe tbody tr th {\n",
              "        vertical-align: top;\n",
              "    }\n",
              "\n",
              "    .dataframe thead th {\n",
              "        text-align: right;\n",
              "    }\n",
              "</style>\n",
              "<table border=\"1\" class=\"dataframe\">\n",
              "  <thead>\n",
              "    <tr style=\"text-align: right;\">\n",
              "      <th></th>\n",
              "      <th>order_date</th>\n",
              "      <th>sales</th>\n",
              "    </tr>\n",
              "  </thead>\n",
              "  <tbody>\n",
              "    <tr>\n",
              "      <th>0</th>\n",
              "      <td>2014-01-06</td>\n",
              "      <td>1147.940</td>\n",
              "    </tr>\n",
              "    <tr>\n",
              "      <th>1</th>\n",
              "      <td>2014-01-09</td>\n",
              "      <td>31.200</td>\n",
              "    </tr>\n",
              "    <tr>\n",
              "      <th>2</th>\n",
              "      <td>2014-01-13</td>\n",
              "      <td>646.740</td>\n",
              "    </tr>\n",
              "    <tr>\n",
              "      <th>3</th>\n",
              "      <td>2014-01-15</td>\n",
              "      <td>149.950</td>\n",
              "    </tr>\n",
              "    <tr>\n",
              "      <th>4</th>\n",
              "      <td>2014-01-16</td>\n",
              "      <td>124.200</td>\n",
              "    </tr>\n",
              "    <tr>\n",
              "      <th>...</th>\n",
              "      <td>...</td>\n",
              "      <td>...</td>\n",
              "    </tr>\n",
              "    <tr>\n",
              "      <th>819</th>\n",
              "      <td>2017-12-25</td>\n",
              "      <td>401.208</td>\n",
              "    </tr>\n",
              "    <tr>\n",
              "      <th>820</th>\n",
              "      <td>2017-12-27</td>\n",
              "      <td>164.388</td>\n",
              "    </tr>\n",
              "    <tr>\n",
              "      <th>821</th>\n",
              "      <td>2017-12-28</td>\n",
              "      <td>14.850</td>\n",
              "    </tr>\n",
              "    <tr>\n",
              "      <th>822</th>\n",
              "      <td>2017-12-29</td>\n",
              "      <td>302.376</td>\n",
              "    </tr>\n",
              "    <tr>\n",
              "      <th>823</th>\n",
              "      <td>2017-12-30</td>\n",
              "      <td>90.930</td>\n",
              "    </tr>\n",
              "  </tbody>\n",
              "</table>\n",
              "<p>824 rows × 2 columns</p>\n",
              "</div>"
            ],
            "text/plain": [
              "     order_date     sales\n",
              "0    2014-01-06  1147.940\n",
              "1    2014-01-09    31.200\n",
              "2    2014-01-13   646.740\n",
              "3    2014-01-15   149.950\n",
              "4    2014-01-16   124.200\n",
              "..          ...       ...\n",
              "819  2017-12-25   401.208\n",
              "820  2017-12-27   164.388\n",
              "821  2017-12-28    14.850\n",
              "822  2017-12-29   302.376\n",
              "823  2017-12-30    90.930\n",
              "\n",
              "[824 rows x 2 columns]"
            ]
          },
          "execution_count": 34,
          "metadata": {},
          "output_type": "execute_result"
        }
      ],
      "source": [
        "# Como está ficando cada dataset?\n",
        "ts_tecnologia"
      ]
    },
    {
      "cell_type": "markdown",
      "metadata": {
        "id": "qW1BnSDTw_JO"
      },
      "source": [
        "Vamos mover a data para o índice e assim criar a série temporal."
      ]
    },
    {
      "cell_type": "code",
      "execution_count": 35,
      "metadata": {
        "id": "YYLsLF0vw_JP"
      },
      "outputs": [],
      "source": [
        "# Colocando a data como índice\n",
        "ts_tecnologia = ts_tecnologia.set_index('order_date')"
      ]
    },
    {
      "cell_type": "code",
      "execution_count": 36,
      "metadata": {
        "colab": {
          "base_uri": "https://localhost:8080/",
          "height": 450
        },
        "id": "yeqc7ywbw_JQ",
        "outputId": "a860bbfe-153b-467c-aa51-547e06785e8f"
      },
      "outputs": [
        {
          "data": {
            "text/html": [
              "<div>\n",
              "<style scoped>\n",
              "    .dataframe tbody tr th:only-of-type {\n",
              "        vertical-align: middle;\n",
              "    }\n",
              "\n",
              "    .dataframe tbody tr th {\n",
              "        vertical-align: top;\n",
              "    }\n",
              "\n",
              "    .dataframe thead th {\n",
              "        text-align: right;\n",
              "    }\n",
              "</style>\n",
              "<table border=\"1\" class=\"dataframe\">\n",
              "  <thead>\n",
              "    <tr style=\"text-align: right;\">\n",
              "      <th></th>\n",
              "      <th>sales</th>\n",
              "    </tr>\n",
              "    <tr>\n",
              "      <th>order_date</th>\n",
              "      <th></th>\n",
              "    </tr>\n",
              "  </thead>\n",
              "  <tbody>\n",
              "    <tr>\n",
              "      <th>2014-01-06</th>\n",
              "      <td>1147.940</td>\n",
              "    </tr>\n",
              "    <tr>\n",
              "      <th>2014-01-09</th>\n",
              "      <td>31.200</td>\n",
              "    </tr>\n",
              "    <tr>\n",
              "      <th>2014-01-13</th>\n",
              "      <td>646.740</td>\n",
              "    </tr>\n",
              "    <tr>\n",
              "      <th>2014-01-15</th>\n",
              "      <td>149.950</td>\n",
              "    </tr>\n",
              "    <tr>\n",
              "      <th>2014-01-16</th>\n",
              "      <td>124.200</td>\n",
              "    </tr>\n",
              "    <tr>\n",
              "      <th>...</th>\n",
              "      <td>...</td>\n",
              "    </tr>\n",
              "    <tr>\n",
              "      <th>2017-12-25</th>\n",
              "      <td>401.208</td>\n",
              "    </tr>\n",
              "    <tr>\n",
              "      <th>2017-12-27</th>\n",
              "      <td>164.388</td>\n",
              "    </tr>\n",
              "    <tr>\n",
              "      <th>2017-12-28</th>\n",
              "      <td>14.850</td>\n",
              "    </tr>\n",
              "    <tr>\n",
              "      <th>2017-12-29</th>\n",
              "      <td>302.376</td>\n",
              "    </tr>\n",
              "    <tr>\n",
              "      <th>2017-12-30</th>\n",
              "      <td>90.930</td>\n",
              "    </tr>\n",
              "  </tbody>\n",
              "</table>\n",
              "<p>824 rows × 1 columns</p>\n",
              "</div>"
            ],
            "text/plain": [
              "               sales\n",
              "order_date          \n",
              "2014-01-06  1147.940\n",
              "2014-01-09    31.200\n",
              "2014-01-13   646.740\n",
              "2014-01-15   149.950\n",
              "2014-01-16   124.200\n",
              "...              ...\n",
              "2017-12-25   401.208\n",
              "2017-12-27   164.388\n",
              "2017-12-28    14.850\n",
              "2017-12-29   302.376\n",
              "2017-12-30    90.930\n",
              "\n",
              "[824 rows x 1 columns]"
            ]
          },
          "execution_count": 36,
          "metadata": {},
          "output_type": "execute_result"
        }
      ],
      "source": [
        "# Visualizando a série\n",
        "ts_tecnologia"
      ]
    },
    {
      "cell_type": "markdown",
      "metadata": {
        "id": "i9FE5zJWw_JS"
      },
      "source": [
        "Agora podemos conferir a performance de vendas ao longo do tempo."
      ]
    },
    {
      "cell_type": "code",
      "execution_count": 37,
      "metadata": {
        "colab": {
          "base_uri": "https://localhost:8080/",
          "height": 411
        },
        "id": "lgYNEgVMw_JT",
        "outputId": "8e99d998-8c27-454a-877a-ee202cb702e3"
      },
      "outputs": [
        {
          "data": {
            "image/png": "[encoded data removed]",
            "text/plain": [
              "<Figure size 1296x432 with 1 Axes>"
            ]
          },
          "metadata": {
            "needs_background": "light"
          },
          "output_type": "display_data"
        }
      ],
      "source": [
        "# Venda de Produtos de Tecnologia\n",
        "vendas_tecnologia = ts_tecnologia[['sales']]\n",
        "ax = vendas_tecnologia.plot(color = 'b', figsize = (18,6))\n",
        "plt.xlabel(\"Data\")\n",
        "plt.ylabel('Vendas')\n",
        "plt.title(\"Venda de Produtos de Tecnologia\")\n",
        "plt.show()"
      ]
    },
    {
      "cell_type": "markdown",
      "metadata": {
        "id": "k2tmfOsDw_JU"
      },
      "source": [
        "Vamos ajustar o indice do tipo Index para o tipo DateTimeIndex (o que caracteriza uma série temporal), pois faremos uma agregação pela média para analisar a venda média ao longo do tempo. "
      ]
    },
    {
      "cell_type": "code",
      "execution_count": 38,
      "metadata": {
        "colab": {
          "base_uri": "https://localhost:8080/",
          "height": 34
        },
        "id": "XTq1an_Nw_JV",
        "outputId": "b04c87fa-acd9-435a-9ee5-a04db28bd41c"
      },
      "outputs": [
        {
          "data": {
            "text/plain": [
              "pandas.core.indexes.base.Index"
            ]
          },
          "execution_count": 38,
          "metadata": {},
          "output_type": "execute_result"
        }
      ],
      "source": [
        "# Conferindo o tipo do índice\n",
        "type(vendas_tecnologia.index)"
      ]
    },
    {
      "cell_type": "code",
      "execution_count": 39,
      "metadata": {
        "id": "eB7UpQQYw_JW"
      },
      "outputs": [],
      "source": [
        "# Alterando o tipo do índice\n",
        "vendas_tecnologia.index = pd.to_datetime(vendas_tecnologia.index)"
      ]
    },
    {
      "cell_type": "code",
      "execution_count": 40,
      "metadata": {
        "colab": {
          "base_uri": "https://localhost:8080/",
          "height": 34
        },
        "id": "_o3smXosw_JY",
        "outputId": "59357a53-9a30-4ddc-a68a-4b82fbdd99e7"
      },
      "outputs": [
        {
          "data": {
            "text/plain": [
              "pandas.core.indexes.datetimes.DatetimeIndex"
            ]
          },
          "execution_count": 40,
          "metadata": {},
          "output_type": "execute_result"
        }
      ],
      "source": [
        "# Conferindo o tipo do índice\n",
        "type(vendas_tecnologia.index)"
      ]
    },
    {
      "cell_type": "code",
      "execution_count": 41,
      "metadata": {
        "id": "p15L9L79w_JZ"
      },
      "outputs": [],
      "source": [
        "# Reamostrando os dados para frequência mensal\n",
        "# Usando o valor médio das vendas diárias - definimos o mês como índice\n",
        "media_vendas_tecnologia = vendas_tecnologia['sales'].resample('MS').mean()"
      ]
    },
    {
      "cell_type": "code",
      "execution_count": 42,
      "metadata": {
        "colab": {
          "base_uri": "https://localhost:8080/",
          "height": 34
        },
        "id": "CxCH-jRGw_Ja",
        "outputId": "f4a58b14-c422-42af-a85a-8d5f264f157c"
      },
      "outputs": [
        {
          "data": {
            "text/plain": [
              "pandas.core.series.Series"
            ]
          },
          "execution_count": 42,
          "metadata": {},
          "output_type": "execute_result"
        }
      ],
      "source": [
        "# Verificando o tipo resultante\n",
        "type(media_vendas_tecnologia)"
      ]
    },
    {
      "cell_type": "code",
      "execution_count": 43,
      "metadata": {
        "colab": {
          "base_uri": "https://localhost:8080/",
          "height": 34
        },
        "id": "gyrJTYHdw_Jc",
        "outputId": "f9a7f622-28d9-42f6-f360-1a5833662c7f"
      },
      "outputs": [
        {
          "data": {
            "text/plain": [
              "48"
            ]
          },
          "execution_count": 43,
          "metadata": {},
          "output_type": "execute_result"
        }
      ],
      "source": [
        "len(media_vendas_tecnologia)"
      ]
    },
    {
      "cell_type": "code",
      "execution_count": 44,
      "metadata": {
        "colab": {
          "base_uri": "https://localhost:8080/",
          "height": 867
        },
        "id": "bWQO7AkBw_Je",
        "outputId": "eec903f7-7d82-4773-8653-7d0473a80bbe"
      },
      "outputs": [
        {
          "data": {
            "text/plain": [
              "order_date\n",
              "2014-01-01     449.041429\n",
              "2014-02-01     229.787143\n",
              "2014-03-01    2031.948375\n",
              "2014-04-01     613.028933\n",
              "2014-05-01     564.698588\n",
              "2014-06-01     766.905909\n",
              "2014-07-01     533.608933\n",
              "2014-08-01     708.435385\n",
              "2014-09-01    2035.838133\n",
              "2014-10-01     596.900900\n",
              "2014-11-01    1208.056320\n",
              "2014-12-01    1160.732889\n",
              "2015-01-01     925.070800\n",
              "2015-02-01     431.121250\n",
              "2015-03-01     574.662333\n",
              "2015-04-01     697.559500\n",
              "2015-05-01     831.642857\n",
              "2015-06-01     429.024400\n",
              "2015-07-01     691.397733\n",
              "2015-08-01    1108.902286\n",
              "2015-09-01     950.856400\n",
              "2015-10-01     594.716111\n",
              "2015-11-01    1037.982652\n",
              "2015-12-01    1619.637636\n",
              "2016-01-01     374.671067\n",
              "2016-02-01    1225.891400\n",
              "2016-03-01    1135.150105\n",
              "2016-04-01     875.911882\n",
              "2016-05-01    1601.816167\n",
              "2016-06-01    1023.259500\n",
              "2016-07-01     829.312500\n",
              "2016-08-01     483.620100\n",
              "2016-09-01    1144.170300\n",
              "2016-10-01    1970.835875\n",
              "2016-11-01    1085.642360\n",
              "2016-12-01     970.554870\n",
              "2017-01-01    1195.218071\n",
              "2017-02-01     430.501714\n",
              "2017-03-01    1392.859250\n",
              "2017-04-01     825.559133\n",
              "2017-05-01     678.329400\n",
              "2017-06-01     853.055000\n",
              "2017-07-01    1054.996636\n",
              "2017-08-01     978.842333\n",
              "2017-09-01    1077.704120\n",
              "2017-10-01    1493.439227\n",
              "2017-11-01    1996.750920\n",
              "2017-12-01     955.865652\n",
              "Freq: MS, Name: sales, dtype: float64"
            ]
          },
          "execution_count": 44,
          "metadata": {},
          "output_type": "execute_result"
        }
      ],
      "source": [
        "# Checando os dados\n",
        "media_vendas_tecnologia"
      ]
    },
    {
      "cell_type": "code",
      "execution_count": 45,
      "metadata": {
        "colab": {
          "base_uri": "https://localhost:8080/",
          "height": 427
        },
        "id": "gqyecKrdw_Jg",
        "outputId": "cba4d64e-6f7d-4340-b831-b0f53f695099"
      },
      "outputs": [
        {
          "data": {
            "image/png": "[encoded data removed]",
            "text/plain": [
              "<Figure size 1296x432 with 1 Axes>"
            ]
          },
          "metadata": {
            "needs_background": "light"
          },
          "output_type": "display_data"
        }
      ],
      "source": [
        "# Venda Média de Produtos de Tecnologia\n",
        "media_vendas_tecnologia.plot(figsize = (18, 6), color = 'blue')\n",
        "plt.xlabel(\"Data de Compra\")\n",
        "plt.ylabel('Vendas')\n",
        "plt.title(\"Venda Média de Produtos de Tecnologia\")\n",
        "plt.show()"
      ]
    },
    {
      "cell_type": "markdown",
      "metadata": {
        "id": "61_DZw1sw_Jh"
      },
      "source": [
        "Agora, vamos decompor uma das séries para avaliar seus componentes."
      ]
    },
    {
      "cell_type": "code",
      "execution_count": 46,
      "metadata": {
        "colab": {
          "base_uri": "https://localhost:8080/",
          "height": 873
        },
        "id": "dig89cptw_Jh",
        "outputId": "094600bc-d606-4fac-96c1-71ebfae91d0a"
      },
      "outputs": [
        {
          "data": {
            "image/png": "[encoded data removed]",
            "text/plain": [
              "<Figure size 1296x864 with 4 Axes>"
            ]
          },
          "metadata": {
            "needs_background": "light"
          },
          "output_type": "display_data"
        }
      ],
      "source": [
        "# Decomposição da série temporal de venda média de produtos de tecnologia\n",
        "decomposition = seasonal_decompose(media_vendas_tecnologia, period = 12)\n",
        "rcParams['figure.figsize'] = 18, 12\n",
        "\n",
        "# Componentes\n",
        "trend = decomposition.trend\n",
        "seasonal = decomposition.seasonal\n",
        "residual = decomposition.resid\n",
        "\n",
        "# Plot\n",
        "plt.subplot(411)\n",
        "plt.plot(media_vendas_tecnologia, label = 'Série Original')\n",
        "plt.legend(loc = 'best')\n",
        "plt.subplot(412)\n",
        "plt.plot(trend, label = 'Tendência')\n",
        "plt.legend(loc = 'best')\n",
        "plt.subplot(413)\n",
        "plt.plot(seasonal, label = 'Sazonalidade')\n",
        "plt.legend(loc = 'best')\n",
        "plt.subplot(414)\n",
        "plt.plot(residual, label = 'Resíduos')\n",
        "plt.legend(loc = 'best')\n",
        "plt.tight_layout()"
      ]
    },
    {
      "cell_type": "markdown",
      "metadata": {
        "id": "JkJt3lzMw_Jk"
      },
      "source": [
        "Vamos testar a estacionaridade."
      ]
    },
    {
      "cell_type": "code",
      "execution_count": 47,
      "metadata": {
        "id": "padu5iByw_Jk"
      },
      "outputs": [],
      "source": [
        "# Função para testar a estacionaridade\n",
        "def testa_estacionaridade(serie):\n",
        "    \n",
        "    # Calcula estatísticas móveis\n",
        "    rolmean = serie.rolling(window = 12).mean()\n",
        "    rolstd = serie.rolling(window = 12).std()\n",
        "\n",
        "    # Plot das estatísticas móveis\n",
        "    orig = plt.plot(serie, color = 'blue', label = 'Original')\n",
        "    mean = plt.plot(rolmean, color = 'red', label = 'Média Móvel')\n",
        "    std = plt.plot(rolstd, color = 'black', label = 'Desvio Padrão')\n",
        "    plt.legend(loc = 'best')\n",
        "    plt.title('Estatísticas Móveis - Média e Desvio Padrão')\n",
        "    plt.show()\n",
        "    \n",
        "    # Teste Dickey-Fuller:\n",
        "    # Print\n",
        "    print('\\nResultado do Teste Dickey-Fuller:\\n')\n",
        "\n",
        "    # Teste\n",
        "    dfteste = adfuller(serie, autolag = 'AIC')\n",
        "\n",
        "    # Formatando a saída\n",
        "    dfsaida = pd.Series(dfteste[0:4], index = ['Estatística do Teste',\n",
        "                                               'Valor-p',\n",
        "                                               'Número de Lags Consideradas',\n",
        "                                               'Número de Observações Usadas'])\n",
        "\n",
        "    # Loop por cada item da saída do teste\n",
        "    for key, value in dfteste[4].items():\n",
        "        dfsaida['Valor Crítico (%s)'%key] = value\n",
        "\n",
        "    # Print\n",
        "    print (dfsaida)\n",
        "    \n",
        "    # Testa o valor-p\n",
        "    print ('\\nConclusão:')\n",
        "    if dfsaida[1] > 0.05:\n",
        "        print('\\nO valor-p é maior que 0.05 e, portanto, não temos evidências para rejeitar a hipótese nula.')\n",
        "        print('Essa série provavelmente não é estacionária.')\n",
        "    else:\n",
        "        print('\\nO valor-p é menor que 0.05 e, portanto, temos evidências para rejeitar a hipótese nula.')\n",
        "        print('Essa série provavelmente é estacionária.')"
      ]
    },
    {
      "cell_type": "code",
      "execution_count": 48,
      "metadata": {
        "colab": {
          "base_uri": "https://localhost:8080/",
          "height": 992
        },
        "id": "ZNJqjYotw_Jm",
        "outputId": "3fd010a9-7729-4dcf-bbaf-1dc1ddbf1b01"
      },
      "outputs": [
        {
          "data": {
            "image/png": "[encoded data removed]",
            "text/plain": [
              "<Figure size 1296x864 with 1 Axes>"
            ]
          },
          "metadata": {
            "needs_background": "light"
          },
          "output_type": "display_data"
        },
        {
          "name": "stdout",
          "output_type": "stream",
          "text": [
            "\n",
            "Resultado do Teste Dickey-Fuller:\n",
            "\n",
            "Estatística do Teste           -7.187969e+00\n",
            "Valor-p                         2.547334e-10\n",
            "Número de Lags Consideradas     0.000000e+00\n",
            "Número de Observações Usadas    4.700000e+01\n",
            "Valor Crítico (1%)             -3.577848e+00\n",
            "Valor Crítico (5%)             -2.925338e+00\n",
            "Valor Crítico (10%)            -2.600774e+00\n",
            "dtype: float64\n",
            "\n",
            "Conclusão:\n",
            "\n",
            "O valor-p é menor que 0.05 e, portanto, temos evidências para rejeitar a hipótese nula.\n",
            "Essa série provavelmente é estacionária.\n"
          ]
        }
      ],
      "source": [
        "# Verifica se a série é estacionária\n",
        "testa_estacionaridade(media_vendas_tecnologia)"
      ]
    },
    {
      "cell_type": "markdown",
      "metadata": {
        "id": "zm9Q-cChw_Jo"
      },
      "source": [
        "### Adicionando Feriado (Variável Exógena) a Nossa Série"
      ]
    },
    {
      "cell_type": "markdown",
      "metadata": {
        "id": "bDyGtwycw_Jo"
      },
      "source": [
        "Leia e compreenda a função abaixo. Não quero que você fique apenas executando código. Quero que você aprenda de verdade, mas você precisa fazer a sua parte.\n",
        "\n",
        "A função abaixo compara as datas de dois dataframes, nossa série de vendas e nossa série de feriados. Quando a data for igual, preenchemos um vetor com 1 e quando for diferente preenchemos com 0. Simples, não? Criaremos uma variável categórica que será usada como variável exógena.\n",
        "\n",
        "Mas teremos que converter nossa série em dataframe, fazer a operação e depois retornar para série.\n",
        "\n",
        "Vamos fazer acontecer!"
      ]
    },
    {
      "cell_type": "code",
      "execution_count": 49,
      "metadata": {
        "id": "8wkhXtAnw_Jo"
      },
      "outputs": [],
      "source": [
        "# Função\n",
        "def adiciona_feriado(x):\n",
        "    \n",
        "    # Aplica a regra\n",
        "    batch_df = feriados_df.apply(lambda y: 1 if (x['order_date'] == y['data_feriado']) else None, axis=1)\n",
        "    \n",
        "    # Limpa valores nulos\n",
        "    batch_df = batch_df.dropna(axis = 0, how = 'all')  \n",
        "    \n",
        "    # Se estiver vazio, preenche com 0\n",
        "    if batch_df.empty:\n",
        "        batch_df = 0\n",
        "    else: \n",
        "        batch_df = batch_df.to_string(index = False)\n",
        "        \n",
        "    return batch_df"
      ]
    },
    {
      "cell_type": "code",
      "execution_count": 50,
      "metadata": {
        "colab": {
          "base_uri": "https://localhost:8080/",
          "height": 34
        },
        "id": "DnCs7tDEw_Jp",
        "outputId": "2be2a1e0-fc0f-417e-d21d-3ffcf372ed25"
      },
      "outputs": [
        {
          "data": {
            "text/plain": [
              "pandas.core.series.Series"
            ]
          },
          "execution_count": 50,
          "metadata": {},
          "output_type": "execute_result"
        }
      ],
      "source": [
        "# Confirma o tipo do objeto\n",
        "type(media_vendas_tecnologia)"
      ]
    },
    {
      "cell_type": "code",
      "execution_count": 51,
      "metadata": {
        "id": "0BbrHOBGw_Jr"
      },
      "outputs": [],
      "source": [
        "# Cria um dataframe a partir da série\n",
        "media_vendas_tecnologia_df = pd.DataFrame(media_vendas_tecnologia)"
      ]
    },
    {
      "cell_type": "code",
      "execution_count": 52,
      "metadata": {
        "colab": {
          "base_uri": "https://localhost:8080/",
          "height": 34
        },
        "id": "4Fo4d5-_w_Jt",
        "outputId": "ae4af4f4-2c09-4005-e94a-214c1b2a82e9"
      },
      "outputs": [
        {
          "data": {
            "text/plain": [
              "pandas.core.frame.DataFrame"
            ]
          },
          "execution_count": 52,
          "metadata": {},
          "output_type": "execute_result"
        }
      ],
      "source": [
        "# Confirma o tipo do objeto\n",
        "type(media_vendas_tecnologia_df)"
      ]
    },
    {
      "cell_type": "code",
      "execution_count": 53,
      "metadata": {
        "id": "JnT-w_GTw_Jv"
      },
      "outputs": [],
      "source": [
        "# Reset do índice para ajustar as colunas (podia ter feito tudo isso em um comando, ms didaticamente deixamos assim)\n",
        "media_vendas_tecnologia_df.reset_index(level = 0, inplace = True)"
      ]
    },
    {
      "cell_type": "code",
      "execution_count": 54,
      "metadata": {
        "id": "seD5Aor2w_Jw"
      },
      "outputs": [],
      "source": [
        "# Ajusta o nome das colunas\n",
        "media_vendas_tecnologia_df.columns = ['order_date', 'sales']"
      ]
    },
    {
      "cell_type": "code",
      "execution_count": 55,
      "metadata": {
        "colab": {
          "base_uri": "https://localhost:8080/",
          "height": 142
        },
        "id": "rmMouYVgw_Jx",
        "outputId": "295269e1-0a76-4d2c-a7e5-1c8f69e5eabe"
      },
      "outputs": [
        {
          "data": {
            "text/html": [
              "<div>\n",
              "<style scoped>\n",
              "    .dataframe tbody tr th:only-of-type {\n",
              "        vertical-align: middle;\n",
              "    }\n",
              "\n",
              "    .dataframe tbody tr th {\n",
              "        vertical-align: top;\n",
              "    }\n",
              "\n",
              "    .dataframe thead th {\n",
              "        text-align: right;\n",
              "    }\n",
              "</style>\n",
              "<table border=\"1\" class=\"dataframe\">\n",
              "  <thead>\n",
              "    <tr style=\"text-align: right;\">\n",
              "      <th></th>\n",
              "      <th>order_date</th>\n",
              "      <th>sales</th>\n",
              "    </tr>\n",
              "  </thead>\n",
              "  <tbody>\n",
              "    <tr>\n",
              "      <th>0</th>\n",
              "      <td>2014-01-01</td>\n",
              "      <td>449.041429</td>\n",
              "    </tr>\n",
              "    <tr>\n",
              "      <th>1</th>\n",
              "      <td>2014-02-01</td>\n",
              "      <td>229.787143</td>\n",
              "    </tr>\n",
              "    <tr>\n",
              "      <th>2</th>\n",
              "      <td>2014-03-01</td>\n",
              "      <td>2031.948375</td>\n",
              "    </tr>\n",
              "  </tbody>\n",
              "</table>\n",
              "</div>"
            ],
            "text/plain": [
              "  order_date        sales\n",
              "0 2014-01-01   449.041429\n",
              "1 2014-02-01   229.787143\n",
              "2 2014-03-01  2031.948375"
            ]
          },
          "execution_count": 55,
          "metadata": {},
          "output_type": "execute_result"
        }
      ],
      "source": [
        "# Conferindo\n",
        "media_vendas_tecnologia_df.head(3)"
      ]
    },
    {
      "cell_type": "code",
      "execution_count": 56,
      "metadata": {
        "colab": {
          "base_uri": "https://localhost:8080/",
          "height": 68
        },
        "id": "FXVjjt7pw_Jy",
        "outputId": "d2680ec1-9bb1-4e76-c11a-ec760971077e"
      },
      "outputs": [
        {
          "data": {
            "text/plain": [
              "order_date    datetime64[ns]\n",
              "sales                float64\n",
              "dtype: object"
            ]
          },
          "execution_count": 56,
          "metadata": {},
          "output_type": "execute_result"
        }
      ],
      "source": [
        "# Tipos de dados\n",
        "media_vendas_tecnologia_df.dtypes"
      ]
    },
    {
      "cell_type": "code",
      "execution_count": 57,
      "metadata": {
        "id": "wpQBtndBw_Jz"
      },
      "outputs": [],
      "source": [
        "# Aplicamos a função e criamos a coluna feriado\n",
        "media_vendas_tecnologia_df['feriado'] = media_vendas_tecnologia_df.apply(adiciona_feriado, axis = 1)"
      ]
    },
    {
      "cell_type": "code",
      "execution_count": 58,
      "metadata": {
        "colab": {
          "base_uri": "https://localhost:8080/",
          "height": 142
        },
        "id": "zE6NaUVEw_J0",
        "outputId": "4ffc0474-15f7-43a9-da63-382e9d126ce5"
      },
      "outputs": [
        {
          "data": {
            "text/html": [
              "<div>\n",
              "<style scoped>\n",
              "    .dataframe tbody tr th:only-of-type {\n",
              "        vertical-align: middle;\n",
              "    }\n",
              "\n",
              "    .dataframe tbody tr th {\n",
              "        vertical-align: top;\n",
              "    }\n",
              "\n",
              "    .dataframe thead th {\n",
              "        text-align: right;\n",
              "    }\n",
              "</style>\n",
              "<table border=\"1\" class=\"dataframe\">\n",
              "  <thead>\n",
              "    <tr style=\"text-align: right;\">\n",
              "      <th></th>\n",
              "      <th>order_date</th>\n",
              "      <th>sales</th>\n",
              "      <th>feriado</th>\n",
              "    </tr>\n",
              "  </thead>\n",
              "  <tbody>\n",
              "    <tr>\n",
              "      <th>0</th>\n",
              "      <td>2014-01-01</td>\n",
              "      <td>449.041429</td>\n",
              "      <td>1.0</td>\n",
              "    </tr>\n",
              "    <tr>\n",
              "      <th>1</th>\n",
              "      <td>2014-02-01</td>\n",
              "      <td>229.787143</td>\n",
              "      <td>0</td>\n",
              "    </tr>\n",
              "    <tr>\n",
              "      <th>2</th>\n",
              "      <td>2014-03-01</td>\n",
              "      <td>2031.948375</td>\n",
              "      <td>0</td>\n",
              "    </tr>\n",
              "  </tbody>\n",
              "</table>\n",
              "</div>"
            ],
            "text/plain": [
              "  order_date        sales feriado\n",
              "0 2014-01-01   449.041429     1.0\n",
              "1 2014-02-01   229.787143       0\n",
              "2 2014-03-01  2031.948375       0"
            ]
          },
          "execution_count": 58,
          "metadata": {},
          "output_type": "execute_result"
        }
      ],
      "source": [
        "# Conferindo\n",
        "media_vendas_tecnologia_df.head(3)"
      ]
    },
    {
      "cell_type": "markdown",
      "metadata": {
        "id": "YxyyR3u-w_J1"
      },
      "source": [
        "Está ficando bonito. Mas não gostei do valor float em 1.0. Isso vai atraplhar meus planos. Temos solução para isso também."
      ]
    },
    {
      "cell_type": "code",
      "execution_count": 59,
      "metadata": {
        "id": "h-LiU3hDw_J1"
      },
      "outputs": [],
      "source": [
        "# Convertendo a coluna feriado para inteiro\n",
        "media_vendas_tecnologia_df['feriado'] = pd.to_numeric(media_vendas_tecnologia_df['feriado'], downcast = 'integer')"
      ]
    },
    {
      "cell_type": "code",
      "execution_count": 60,
      "metadata": {
        "colab": {
          "base_uri": "https://localhost:8080/",
          "height": 142
        },
        "id": "QaP-XR3Iw_J2",
        "outputId": "8bf7c07b-f36d-45fb-cd47-57955d83948c"
      },
      "outputs": [
        {
          "data": {
            "text/html": [
              "<div>\n",
              "<style scoped>\n",
              "    .dataframe tbody tr th:only-of-type {\n",
              "        vertical-align: middle;\n",
              "    }\n",
              "\n",
              "    .dataframe tbody tr th {\n",
              "        vertical-align: top;\n",
              "    }\n",
              "\n",
              "    .dataframe thead th {\n",
              "        text-align: right;\n",
              "    }\n",
              "</style>\n",
              "<table border=\"1\" class=\"dataframe\">\n",
              "  <thead>\n",
              "    <tr style=\"text-align: right;\">\n",
              "      <th></th>\n",
              "      <th>order_date</th>\n",
              "      <th>sales</th>\n",
              "      <th>feriado</th>\n",
              "    </tr>\n",
              "  </thead>\n",
              "  <tbody>\n",
              "    <tr>\n",
              "      <th>0</th>\n",
              "      <td>2014-01-01</td>\n",
              "      <td>449.041429</td>\n",
              "      <td>1</td>\n",
              "    </tr>\n",
              "    <tr>\n",
              "      <th>1</th>\n",
              "      <td>2014-02-01</td>\n",
              "      <td>229.787143</td>\n",
              "      <td>0</td>\n",
              "    </tr>\n",
              "    <tr>\n",
              "      <th>2</th>\n",
              "      <td>2014-03-01</td>\n",
              "      <td>2031.948375</td>\n",
              "      <td>0</td>\n",
              "    </tr>\n",
              "  </tbody>\n",
              "</table>\n",
              "</div>"
            ],
            "text/plain": [
              "  order_date        sales  feriado\n",
              "0 2014-01-01   449.041429        1\n",
              "1 2014-02-01   229.787143        0\n",
              "2 2014-03-01  2031.948375        0"
            ]
          },
          "execution_count": 60,
          "metadata": {},
          "output_type": "execute_result"
        }
      ],
      "source": [
        "# Agora sim\n",
        "media_vendas_tecnologia_df.head(3)"
      ]
    },
    {
      "cell_type": "code",
      "execution_count": 61,
      "metadata": {
        "id": "ktspRg55w_J3"
      },
      "outputs": [],
      "source": [
        "# Vamos definir a order_date como índice\n",
        "media_vendas_tecnologia_df.set_index(\"order_date\", inplace = True)"
      ]
    },
    {
      "cell_type": "code",
      "execution_count": 62,
      "metadata": {
        "colab": {
          "base_uri": "https://localhost:8080/",
          "height": 173
        },
        "id": "k_THuWllw_J4",
        "outputId": "a5d9ad1a-31df-4ee5-8550-465a111c7632"
      },
      "outputs": [
        {
          "data": {
            "text/html": [
              "<div>\n",
              "<style scoped>\n",
              "    .dataframe tbody tr th:only-of-type {\n",
              "        vertical-align: middle;\n",
              "    }\n",
              "\n",
              "    .dataframe tbody tr th {\n",
              "        vertical-align: top;\n",
              "    }\n",
              "\n",
              "    .dataframe thead th {\n",
              "        text-align: right;\n",
              "    }\n",
              "</style>\n",
              "<table border=\"1\" class=\"dataframe\">\n",
              "  <thead>\n",
              "    <tr style=\"text-align: right;\">\n",
              "      <th></th>\n",
              "      <th>sales</th>\n",
              "      <th>feriado</th>\n",
              "    </tr>\n",
              "    <tr>\n",
              "      <th>order_date</th>\n",
              "      <th></th>\n",
              "      <th></th>\n",
              "    </tr>\n",
              "  </thead>\n",
              "  <tbody>\n",
              "    <tr>\n",
              "      <th>2014-01-01</th>\n",
              "      <td>449.041429</td>\n",
              "      <td>1</td>\n",
              "    </tr>\n",
              "    <tr>\n",
              "      <th>2014-02-01</th>\n",
              "      <td>229.787143</td>\n",
              "      <td>0</td>\n",
              "    </tr>\n",
              "    <tr>\n",
              "      <th>2014-03-01</th>\n",
              "      <td>2031.948375</td>\n",
              "      <td>0</td>\n",
              "    </tr>\n",
              "  </tbody>\n",
              "</table>\n",
              "</div>"
            ],
            "text/plain": [
              "                  sales  feriado\n",
              "order_date                      \n",
              "2014-01-01   449.041429        1\n",
              "2014-02-01   229.787143        0\n",
              "2014-03-01  2031.948375        0"
            ]
          },
          "execution_count": 62,
          "metadata": {},
          "output_type": "execute_result"
        }
      ],
      "source": [
        "# Mais um confere\n",
        "media_vendas_tecnologia_df.head(3)"
      ]
    },
    {
      "cell_type": "code",
      "execution_count": 63,
      "metadata": {
        "id": "u07ODnWOw_J6"
      },
      "outputs": [],
      "source": [
        "# Vou deletar a série original\n",
        "del media_vendas_tecnologia"
      ]
    },
    {
      "cell_type": "code",
      "execution_count": 64,
      "metadata": {
        "id": "I7XfVQVsw_J7"
      },
      "outputs": [],
      "source": [
        "# E recriá-la\n",
        "media_vendas_tecnologia = media_vendas_tecnologia_df"
      ]
    },
    {
      "cell_type": "code",
      "execution_count": 65,
      "metadata": {
        "colab": {
          "base_uri": "https://localhost:8080/",
          "height": 1000
        },
        "id": "fYu21qhpw_J8",
        "outputId": "66df738b-e2c3-4ba1-e54d-f1a950f822c7"
      },
      "outputs": [
        {
          "data": {
            "text/html": [
              "<div>\n",
              "<style scoped>\n",
              "    .dataframe tbody tr th:only-of-type {\n",
              "        vertical-align: middle;\n",
              "    }\n",
              "\n",
              "    .dataframe tbody tr th {\n",
              "        vertical-align: top;\n",
              "    }\n",
              "\n",
              "    .dataframe thead th {\n",
              "        text-align: right;\n",
              "    }\n",
              "</style>\n",
              "<table border=\"1\" class=\"dataframe\">\n",
              "  <thead>\n",
              "    <tr style=\"text-align: right;\">\n",
              "      <th></th>\n",
              "      <th>sales</th>\n",
              "      <th>feriado</th>\n",
              "    </tr>\n",
              "    <tr>\n",
              "      <th>order_date</th>\n",
              "      <th></th>\n",
              "      <th></th>\n",
              "    </tr>\n",
              "  </thead>\n",
              "  <tbody>\n",
              "    <tr>\n",
              "      <th>2014-01-01</th>\n",
              "      <td>449.041429</td>\n",
              "      <td>1</td>\n",
              "    </tr>\n",
              "    <tr>\n",
              "      <th>2014-02-01</th>\n",
              "      <td>229.787143</td>\n",
              "      <td>0</td>\n",
              "    </tr>\n",
              "    <tr>\n",
              "      <th>2014-03-01</th>\n",
              "      <td>2031.948375</td>\n",
              "      <td>0</td>\n",
              "    </tr>\n",
              "    <tr>\n",
              "      <th>2014-04-01</th>\n",
              "      <td>613.028933</td>\n",
              "      <td>0</td>\n",
              "    </tr>\n",
              "    <tr>\n",
              "      <th>2014-05-01</th>\n",
              "      <td>564.698588</td>\n",
              "      <td>0</td>\n",
              "    </tr>\n",
              "    <tr>\n",
              "      <th>2014-06-01</th>\n",
              "      <td>766.905909</td>\n",
              "      <td>0</td>\n",
              "    </tr>\n",
              "    <tr>\n",
              "      <th>2014-07-01</th>\n",
              "      <td>533.608933</td>\n",
              "      <td>0</td>\n",
              "    </tr>\n",
              "    <tr>\n",
              "      <th>2014-08-01</th>\n",
              "      <td>708.435385</td>\n",
              "      <td>0</td>\n",
              "    </tr>\n",
              "    <tr>\n",
              "      <th>2014-09-01</th>\n",
              "      <td>2035.838133</td>\n",
              "      <td>1</td>\n",
              "    </tr>\n",
              "    <tr>\n",
              "      <th>2014-10-01</th>\n",
              "      <td>596.900900</td>\n",
              "      <td>0</td>\n",
              "    </tr>\n",
              "    <tr>\n",
              "      <th>2014-11-01</th>\n",
              "      <td>1208.056320</td>\n",
              "      <td>0</td>\n",
              "    </tr>\n",
              "    <tr>\n",
              "      <th>2014-12-01</th>\n",
              "      <td>1160.732889</td>\n",
              "      <td>0</td>\n",
              "    </tr>\n",
              "    <tr>\n",
              "      <th>2015-01-01</th>\n",
              "      <td>925.070800</td>\n",
              "      <td>1</td>\n",
              "    </tr>\n",
              "    <tr>\n",
              "      <th>2015-02-01</th>\n",
              "      <td>431.121250</td>\n",
              "      <td>0</td>\n",
              "    </tr>\n",
              "    <tr>\n",
              "      <th>2015-03-01</th>\n",
              "      <td>574.662333</td>\n",
              "      <td>0</td>\n",
              "    </tr>\n",
              "    <tr>\n",
              "      <th>2015-04-01</th>\n",
              "      <td>697.559500</td>\n",
              "      <td>0</td>\n",
              "    </tr>\n",
              "    <tr>\n",
              "      <th>2015-05-01</th>\n",
              "      <td>831.642857</td>\n",
              "      <td>0</td>\n",
              "    </tr>\n",
              "    <tr>\n",
              "      <th>2015-06-01</th>\n",
              "      <td>429.024400</td>\n",
              "      <td>0</td>\n",
              "    </tr>\n",
              "    <tr>\n",
              "      <th>2015-07-01</th>\n",
              "      <td>691.397733</td>\n",
              "      <td>0</td>\n",
              "    </tr>\n",
              "    <tr>\n",
              "      <th>2015-08-01</th>\n",
              "      <td>1108.902286</td>\n",
              "      <td>0</td>\n",
              "    </tr>\n",
              "    <tr>\n",
              "      <th>2015-09-01</th>\n",
              "      <td>950.856400</td>\n",
              "      <td>0</td>\n",
              "    </tr>\n",
              "    <tr>\n",
              "      <th>2015-10-01</th>\n",
              "      <td>594.716111</td>\n",
              "      <td>0</td>\n",
              "    </tr>\n",
              "    <tr>\n",
              "      <th>2015-11-01</th>\n",
              "      <td>1037.982652</td>\n",
              "      <td>0</td>\n",
              "    </tr>\n",
              "    <tr>\n",
              "      <th>2015-12-01</th>\n",
              "      <td>1619.637636</td>\n",
              "      <td>0</td>\n",
              "    </tr>\n",
              "    <tr>\n",
              "      <th>2016-01-01</th>\n",
              "      <td>374.671067</td>\n",
              "      <td>1</td>\n",
              "    </tr>\n",
              "    <tr>\n",
              "      <th>2016-02-01</th>\n",
              "      <td>1225.891400</td>\n",
              "      <td>0</td>\n",
              "    </tr>\n",
              "    <tr>\n",
              "      <th>2016-03-01</th>\n",
              "      <td>1135.150105</td>\n",
              "      <td>0</td>\n",
              "    </tr>\n",
              "    <tr>\n",
              "      <th>2016-04-01</th>\n",
              "      <td>875.911882</td>\n",
              "      <td>0</td>\n",
              "    </tr>\n",
              "    <tr>\n",
              "      <th>2016-05-01</th>\n",
              "      <td>1601.816167</td>\n",
              "      <td>0</td>\n",
              "    </tr>\n",
              "    <tr>\n",
              "      <th>2016-06-01</th>\n",
              "      <td>1023.259500</td>\n",
              "      <td>0</td>\n",
              "    </tr>\n",
              "    <tr>\n",
              "      <th>2016-07-01</th>\n",
              "      <td>829.312500</td>\n",
              "      <td>0</td>\n",
              "    </tr>\n",
              "    <tr>\n",
              "      <th>2016-08-01</th>\n",
              "      <td>483.620100</td>\n",
              "      <td>0</td>\n",
              "    </tr>\n",
              "    <tr>\n",
              "      <th>2016-09-01</th>\n",
              "      <td>1144.170300</td>\n",
              "      <td>0</td>\n",
              "    </tr>\n",
              "    <tr>\n",
              "      <th>2016-10-01</th>\n",
              "      <td>1970.835875</td>\n",
              "      <td>0</td>\n",
              "    </tr>\n",
              "    <tr>\n",
              "      <th>2016-11-01</th>\n",
              "      <td>1085.642360</td>\n",
              "      <td>0</td>\n",
              "    </tr>\n",
              "    <tr>\n",
              "      <th>2016-12-01</th>\n",
              "      <td>970.554870</td>\n",
              "      <td>0</td>\n",
              "    </tr>\n",
              "    <tr>\n",
              "      <th>2017-01-01</th>\n",
              "      <td>1195.218071</td>\n",
              "      <td>1</td>\n",
              "    </tr>\n",
              "    <tr>\n",
              "      <th>2017-02-01</th>\n",
              "      <td>430.501714</td>\n",
              "      <td>0</td>\n",
              "    </tr>\n",
              "    <tr>\n",
              "      <th>2017-03-01</th>\n",
              "      <td>1392.859250</td>\n",
              "      <td>0</td>\n",
              "    </tr>\n",
              "    <tr>\n",
              "      <th>2017-04-01</th>\n",
              "      <td>825.559133</td>\n",
              "      <td>0</td>\n",
              "    </tr>\n",
              "    <tr>\n",
              "      <th>2017-05-01</th>\n",
              "      <td>678.329400</td>\n",
              "      <td>0</td>\n",
              "    </tr>\n",
              "    <tr>\n",
              "      <th>2017-06-01</th>\n",
              "      <td>853.055000</td>\n",
              "      <td>0</td>\n",
              "    </tr>\n",
              "    <tr>\n",
              "      <th>2017-07-01</th>\n",
              "      <td>1054.996636</td>\n",
              "      <td>0</td>\n",
              "    </tr>\n",
              "    <tr>\n",
              "      <th>2017-08-01</th>\n",
              "      <td>978.842333</td>\n",
              "      <td>0</td>\n",
              "    </tr>\n",
              "    <tr>\n",
              "      <th>2017-09-01</th>\n",
              "      <td>1077.704120</td>\n",
              "      <td>0</td>\n",
              "    </tr>\n",
              "    <tr>\n",
              "      <th>2017-10-01</th>\n",
              "      <td>1493.439227</td>\n",
              "      <td>0</td>\n",
              "    </tr>\n",
              "    <tr>\n",
              "      <th>2017-11-01</th>\n",
              "      <td>1996.750920</td>\n",
              "      <td>0</td>\n",
              "    </tr>\n",
              "    <tr>\n",
              "      <th>2017-12-01</th>\n",
              "      <td>955.865652</td>\n",
              "      <td>0</td>\n",
              "    </tr>\n",
              "  </tbody>\n",
              "</table>\n",
              "</div>"
            ],
            "text/plain": [
              "                  sales  feriado\n",
              "order_date                      \n",
              "2014-01-01   449.041429        1\n",
              "2014-02-01   229.787143        0\n",
              "2014-03-01  2031.948375        0\n",
              "2014-04-01   613.028933        0\n",
              "2014-05-01   564.698588        0\n",
              "2014-06-01   766.905909        0\n",
              "2014-07-01   533.608933        0\n",
              "2014-08-01   708.435385        0\n",
              "2014-09-01  2035.838133        1\n",
              "2014-10-01   596.900900        0\n",
              "2014-11-01  1208.056320        0\n",
              "2014-12-01  1160.732889        0\n",
              "2015-01-01   925.070800        1\n",
              "2015-02-01   431.121250        0\n",
              "2015-03-01   574.662333        0\n",
              "2015-04-01   697.559500        0\n",
              "2015-05-01   831.642857        0\n",
              "2015-06-01   429.024400        0\n",
              "2015-07-01   691.397733        0\n",
              "2015-08-01  1108.902286        0\n",
              "2015-09-01   950.856400        0\n",
              "2015-10-01   594.716111        0\n",
              "2015-11-01  1037.982652        0\n",
              "2015-12-01  1619.637636        0\n",
              "2016-01-01   374.671067        1\n",
              "2016-02-01  1225.891400        0\n",
              "2016-03-01  1135.150105        0\n",
              "2016-04-01   875.911882        0\n",
              "2016-05-01  1601.816167        0\n",
              "2016-06-01  1023.259500        0\n",
              "2016-07-01   829.312500        0\n",
              "2016-08-01   483.620100        0\n",
              "2016-09-01  1144.170300        0\n",
              "2016-10-01  1970.835875        0\n",
              "2016-11-01  1085.642360        0\n",
              "2016-12-01   970.554870        0\n",
              "2017-01-01  1195.218071        1\n",
              "2017-02-01   430.501714        0\n",
              "2017-03-01  1392.859250        0\n",
              "2017-04-01   825.559133        0\n",
              "2017-05-01   678.329400        0\n",
              "2017-06-01   853.055000        0\n",
              "2017-07-01  1054.996636        0\n",
              "2017-08-01   978.842333        0\n",
              "2017-09-01  1077.704120        0\n",
              "2017-10-01  1493.439227        0\n",
              "2017-11-01  1996.750920        0\n",
              "2017-12-01   955.865652        0"
            ]
          },
          "execution_count": 65,
          "metadata": {},
          "output_type": "execute_result"
        }
      ],
      "source": [
        "# Voilá\n",
        "media_vendas_tecnologia"
      ]
    },
    {
      "cell_type": "markdown",
      "metadata": {
        "id": "KCmD5bLew_J9"
      },
      "source": [
        "Opa.\n",
        "\n",
        "Tem algo estranho.\n",
        "\n",
        "Perceba que a variável exógena aqui não vai funcionar como esperado, pois como nossa série é mensal, a data de venda é sempre o primeiro dia de cada mês e na prática, somente o dia 01 de Janeiro é feriado em cada ano. Para séries de médias mensais uma variáve exógena indicado feriado não parece adequada. Concorda? Claro que podemos trabalhar com a série original de vendas, mas aí estaríamos prevendo a série diária e não mensal.\n",
        "\n",
        "Mas vamos seguir em frente pois quero mostrar algo interessante a você."
      ]
    },
    {
      "cell_type": "markdown",
      "metadata": {
        "id": "857guJAYw_J-"
      },
      "source": [
        "### Dividindo os Dados em Treino e Teste"
      ]
    },
    {
      "cell_type": "code",
      "execution_count": 67,
      "metadata": {
        "id": "KFUHQlx4w_J-"
      },
      "outputs": [],
      "source": [
        "# Divisão em treino e teste\n",
        "X = media_vendas_tecnologia\n",
        "train_size = int(len(X) * 0.75)\n",
        "trainset, testset = X[0:train_size], X[train_size:]"
      ]
    },
    {
      "cell_type": "code",
      "execution_count": 68,
      "metadata": {
        "colab": {
          "base_uri": "https://localhost:8080/",
          "height": 34
        },
        "id": "1U09x_3Jw_KA",
        "outputId": "be7a79c5-ec00-4569-ef3c-0efc5e0e2b49"
      },
      "outputs": [
        {
          "data": {
            "text/plain": [
              "36"
            ]
          },
          "execution_count": 68,
          "metadata": {},
          "output_type": "execute_result"
        }
      ],
      "source": [
        "len(trainset)"
      ]
    },
    {
      "cell_type": "code",
      "execution_count": 69,
      "metadata": {
        "colab": {
          "base_uri": "https://localhost:8080/",
          "height": 34
        },
        "id": "sNyQqA5Rw_KB",
        "outputId": "c7c7428f-3486-41f6-eef1-899b9dade672"
      },
      "outputs": [
        {
          "data": {
            "text/plain": [
              "12"
            ]
          },
          "execution_count": 69,
          "metadata": {},
          "output_type": "execute_result"
        }
      ],
      "source": [
        "len(testset)"
      ]
    },
    {
      "cell_type": "markdown",
      "metadata": {
        "id": "DrgArdoLw_KC"
      },
      "source": [
        "Precisamos de um passo adicional aqui, pois a variável exógena não pode ser incluída como variável de dados (simplesmente porque ela não é). O que queremos prever é o total em vendas e não os feriados, certo?"
      ]
    },
    {
      "cell_type": "code",
      "execution_count": 70,
      "metadata": {
        "id": "czymZRQGw_KC"
      },
      "outputs": [],
      "source": [
        "# Colocamos somente as vendas na série de dados\n",
        "dados_treino = pd.Series(trainset['sales'])"
      ]
    },
    {
      "cell_type": "code",
      "execution_count": 71,
      "metadata": {
        "colab": {
          "base_uri": "https://localhost:8080/",
          "height": 34
        },
        "id": "l8TqKN02w_KD",
        "outputId": "556f9e49-6cd6-499e-cf73-f4a637dc2898"
      },
      "outputs": [
        {
          "data": {
            "text/plain": [
              "pandas.core.series.Series"
            ]
          },
          "execution_count": 71,
          "metadata": {},
          "output_type": "execute_result"
        }
      ],
      "source": [
        "# Observe o tipo deste objeto\n",
        "type(dados_treino)"
      ]
    },
    {
      "cell_type": "code",
      "execution_count": 72,
      "metadata": {
        "id": "IhcsaV5Pw_KF"
      },
      "outputs": [],
      "source": [
        "# E somente o feriado (mais uma constante requerida pelo statsmodels) na série de feriado\n",
        "exog_var_treino = sm.add_constant(trainset['feriado'])"
      ]
    },
    {
      "cell_type": "code",
      "execution_count": 73,
      "metadata": {
        "colab": {
          "base_uri": "https://localhost:8080/",
          "height": 34
        },
        "id": "H6ujmHpNw_KG",
        "outputId": "f65b409b-5a02-43ad-ac0e-257284592f3d"
      },
      "outputs": [
        {
          "data": {
            "text/plain": [
              "pandas.core.frame.DataFrame"
            ]
          },
          "execution_count": 73,
          "metadata": {},
          "output_type": "execute_result"
        }
      ],
      "source": [
        "# Observe o tipo deste objeto\n",
        "type(exog_var_treino)"
      ]
    },
    {
      "cell_type": "code",
      "execution_count": 74,
      "metadata": {
        "colab": {
          "base_uri": "https://localhost:8080/",
          "height": 68
        },
        "id": "xtBiB61Mw_KH",
        "outputId": "d3142817-03e1-44ed-f806-d0e20e2ad257"
      },
      "outputs": [
        {
          "data": {
            "text/plain": [
              "const      float64\n",
              "feriado       int8\n",
              "dtype: object"
            ]
          },
          "execution_count": 74,
          "metadata": {},
          "output_type": "execute_result"
        }
      ],
      "source": [
        "# Observe os tipos de dados deste objeto\n",
        "exog_var_treino.dtypes"
      ]
    },
    {
      "cell_type": "code",
      "execution_count": 75,
      "metadata": {
        "colab": {
          "base_uri": "https://localhost:8080/",
          "height": 173
        },
        "id": "o3LDjqCRw_KJ",
        "outputId": "6d8d68a8-6412-4b5b-cd37-18b1132ff4be"
      },
      "outputs": [
        {
          "data": {
            "text/html": [
              "<div>\n",
              "<style scoped>\n",
              "    .dataframe tbody tr th:only-of-type {\n",
              "        vertical-align: middle;\n",
              "    }\n",
              "\n",
              "    .dataframe tbody tr th {\n",
              "        vertical-align: top;\n",
              "    }\n",
              "\n",
              "    .dataframe thead th {\n",
              "        text-align: right;\n",
              "    }\n",
              "</style>\n",
              "<table border=\"1\" class=\"dataframe\">\n",
              "  <thead>\n",
              "    <tr style=\"text-align: right;\">\n",
              "      <th></th>\n",
              "      <th>const</th>\n",
              "      <th>feriado</th>\n",
              "    </tr>\n",
              "    <tr>\n",
              "      <th>order_date</th>\n",
              "      <th></th>\n",
              "      <th></th>\n",
              "    </tr>\n",
              "  </thead>\n",
              "  <tbody>\n",
              "    <tr>\n",
              "      <th>2014-01-01</th>\n",
              "      <td>1.0</td>\n",
              "      <td>1</td>\n",
              "    </tr>\n",
              "    <tr>\n",
              "      <th>2014-02-01</th>\n",
              "      <td>1.0</td>\n",
              "      <td>0</td>\n",
              "    </tr>\n",
              "    <tr>\n",
              "      <th>2014-03-01</th>\n",
              "      <td>1.0</td>\n",
              "      <td>0</td>\n",
              "    </tr>\n",
              "  </tbody>\n",
              "</table>\n",
              "</div>"
            ],
            "text/plain": [
              "            const  feriado\n",
              "order_date                \n",
              "2014-01-01    1.0        1\n",
              "2014-02-01    1.0        0\n",
              "2014-03-01    1.0        0"
            ]
          },
          "execution_count": 75,
          "metadata": {},
          "output_type": "execute_result"
        }
      ],
      "source": [
        "# Conferindo os registros\n",
        "exog_var_treino.head(3)"
      ]
    },
    {
      "cell_type": "markdown",
      "metadata": {
        "id": "6qsS6r5mw_KK"
      },
      "source": [
        "Embora sejam duas séries acima, para o processamento com o Statsmodels, a série de dados deve ficar como tipo série e a série da variável exógena deve ficar como dataframe, ou teremos erro no processamento. Vamos fazer o mesmo com os dados de teste."
      ]
    },
    {
      "cell_type": "code",
      "execution_count": 76,
      "metadata": {
        "id": "m0Z2KtZvw_KK"
      },
      "outputs": [],
      "source": [
        "# Colocamos somente as vendas na série de dados\n",
        "dados_teste = pd.Series(testset['sales'])"
      ]
    },
    {
      "cell_type": "code",
      "execution_count": 77,
      "metadata": {
        "id": "10oXQTuIw_KN"
      },
      "outputs": [],
      "source": [
        "# E somente o feriado (mais uma constante requerida pelo statsmodels) na série de feriado\n",
        "exog_var_teste = sm.add_constant(testset['feriado'])"
      ]
    },
    {
      "cell_type": "markdown",
      "metadata": {
        "id": "pMiajGvmw_KO"
      },
      "source": [
        "Ufa! Engenharia de Atributos não é lindo? \n",
        "\n",
        "Fique atento ao código abaixo e verifique onde incluímos as variáveis exógenas."
      ]
    },
    {
      "cell_type": "markdown",
      "metadata": {
        "id": "Apy6eyaMw_KP"
      },
      "source": [
        "### Função Para o Cálculo da Acurácia"
      ]
    },
    {
      "cell_type": "code",
      "execution_count": 78,
      "metadata": {
        "id": "K1UDec84w_KP"
      },
      "outputs": [],
      "source": [
        "# Função\n",
        "def performance(y_true, y_pred): \n",
        "    mse = ((y_pred - y_true) ** 2).mean()\n",
        "    mape = np.mean(np.abs((y_true - y_pred) / y_true)) * 100\n",
        "    return( print('MSE das previsões é {}'.format(round(mse, 2))+\n",
        "                  '\\nRMSE das previsões é {}'.format(round(np.sqrt(mse), 2))+\n",
        "                  '\\nMAPE das previsões é {}'.format(round(mape, 2))))"
      ]
    },
    {
      "cell_type": "markdown",
      "metadata": {
        "id": "asMAnKFyw_KQ"
      },
      "source": [
        "## Otimizando o Modelo SARIMA com Variável Exógena"
      ]
    },
    {
      "cell_type": "markdown",
      "metadata": {
        "id": "kGeeRyAfw_KQ"
      },
      "source": [
        "Vamos manter a otimização com Grid Search que fizemos na aula 18 e acrescentar a variável exógena."
      ]
    },
    {
      "cell_type": "code",
      "execution_count": 79,
      "metadata": {
        "id": "PAxQUzQXw_KR"
      },
      "outputs": [],
      "source": [
        "# Vamos definir p, d e q para que tenham valores entre 0 e 2 e testaremos as combinações.\n",
        "p = d = q = range(0, 2)"
      ]
    },
    {
      "cell_type": "markdown",
      "metadata": {
        "id": "NxBmzjgCw_KS"
      },
      "source": [
        "Agora geramos diferentes combinações de p, d e q."
      ]
    },
    {
      "cell_type": "code",
      "execution_count": 80,
      "metadata": {
        "colab": {
          "base_uri": "https://localhost:8080/",
          "height": 153
        },
        "id": "eVWepkYCw_KS",
        "outputId": "69563c7a-039f-4356-f25a-f9586a18d122"
      },
      "outputs": [
        {
          "data": {
            "text/plain": [
              "[(0, 0, 0),\n",
              " (0, 0, 1),\n",
              " (0, 1, 0),\n",
              " (0, 1, 1),\n",
              " (1, 0, 0),\n",
              " (1, 0, 1),\n",
              " (1, 1, 0),\n",
              " (1, 1, 1)]"
            ]
          },
          "execution_count": 80,
          "metadata": {},
          "output_type": "execute_result"
        }
      ],
      "source": [
        "# Lista de combinações de p, d, q\n",
        "pdq = list(itertools.product(p, d, q))\n",
        "pdq"
      ]
    },
    {
      "cell_type": "code",
      "execution_count": 81,
      "metadata": {
        "colab": {
          "base_uri": "https://localhost:8080/",
          "height": 153
        },
        "id": "1-kEwSdxw_KT",
        "outputId": "a4121b86-5298-4a38-e787-9abbeddf1501"
      },
      "outputs": [
        {
          "data": {
            "text/plain": [
              "[(0, 0, 0, 12),\n",
              " (0, 0, 1, 12),\n",
              " (0, 1, 0, 12),\n",
              " (0, 1, 1, 12),\n",
              " (1, 0, 0, 12),\n",
              " (1, 0, 1, 12),\n",
              " (1, 1, 0, 12),\n",
              " (1, 1, 1, 12)]"
            ]
          },
          "execution_count": 81,
          "metadata": {},
          "output_type": "execute_result"
        }
      ],
      "source": [
        "# Lista de combinações dos hiperparâmetros sazonais P, D e Q\n",
        "# Estamos usando List Comprehension\n",
        "seasonal_pdq = [(x[0], x[1], x[2], 12) for x in list(itertools.product(p, d, q))]\n",
        "seasonal_pdq"
      ]
    },
    {
      "cell_type": "code",
      "execution_count": 82,
      "metadata": {
        "colab": {
          "base_uri": "https://localhost:8080/",
          "height": 136
        },
        "id": "oEZ8KHGpw_KU",
        "outputId": "a7b47253-4d1e-4a3c-d61e-e1abcc36bae9"
      },
      "outputs": [
        {
          "name": "stdout",
          "output_type": "stream",
          "text": [
            "\n",
            "Exemplos de Combinações dos Hiperparâmetros Para o Modelo SARIMA:\n",
            "\n",
            "SARIMAX: (0, 0, 1) x (0, 0, 1, 12)\n",
            "SARIMAX: (0, 0, 1) x (0, 1, 0, 12)\n",
            "SARIMAX: (0, 1, 0) x (0, 1, 1, 12)\n",
            "SARIMAX: (0, 1, 0) x (1, 0, 0, 12)\n"
          ]
        }
      ],
      "source": [
        "print('\\nExemplos de Combinações dos Hiperparâmetros Para o Modelo SARIMA:\\n')\n",
        "print('SARIMAX: {} x {}'.format(pdq[1], seasonal_pdq[1]))\n",
        "print('SARIMAX: {} x {}'.format(pdq[1], seasonal_pdq[2]))\n",
        "print('SARIMAX: {} x {}'.format(pdq[2], seasonal_pdq[3]))\n",
        "print('SARIMAX: {} x {}'.format(pdq[2], seasonal_pdq[4]))"
      ]
    },
    {
      "cell_type": "code",
      "execution_count": 83,
      "metadata": {
        "colab": {
          "base_uri": "https://localhost:8080/",
          "height": 1000
        },
        "id": "zS8l3-rbw_KV",
        "outputId": "f5d8e6d1-1ea1-4814-f4ee-3a8ff112257a"
      },
      "outputs": [
        {
          "name": "stdout",
          "output_type": "stream",
          "text": [
            "SARIMA(0, 0, 0)x(0, 0, 0, 12)12 - AIC:533.4308185641255\n",
            "SARIMA(0, 0, 0)x(0, 0, 1, 12)12 - AIC:345.06099429610606\n",
            "SARIMA(0, 0, 0)x(0, 1, 0, 12)12 - AIC:364.07686171988735\n",
            "SARIMA(0, 0, 0)x(0, 1, 1, 12)12 - AIC:180.79080453574042\n",
            "SARIMA(0, 0, 0)x(1, 0, 0, 12)12 - AIC:361.0883247166453\n",
            "SARIMA(0, 0, 0)x(1, 0, 1, 12)12 - AIC:346.9038665770615\n",
            "SARIMA(0, 0, 0)x(1, 1, 0, 12)12 - AIC:195.54049883217488\n",
            "SARIMA(0, 0, 0)x(1, 1, 1, 12)12 - AIC:182.08757729334323\n",
            "SARIMA(0, 0, 1)x(0, 0, 0, 12)12 - AIC:518.5675112594995\n",
            "SARIMA(0, 0, 1)x(0, 0, 1, 12)12 - AIC:329.2763375925547\n",
            "SARIMA(0, 0, 1)x(0, 1, 0, 12)12 - AIC:351.36523949804547\n",
            "SARIMA(0, 0, 1)x(0, 1, 1, 12)12 - AIC:163.18307983880555\n",
            "SARIMA(0, 0, 1)x(1, 0, 0, 12)12 - AIC:362.4756155758344\n",
            "SARIMA(0, 0, 1)x(1, 0, 1, 12)12 - AIC:332.4027699756966\n",
            "SARIMA(0, 0, 1)x(1, 1, 0, 12)12 - AIC:197.52806248094888\n",
            "SARIMA(0, 0, 1)x(1, 1, 1, 12)12 - AIC:163.48234075403167\n",
            "SARIMA(0, 1, 0)x(0, 0, 0, 12)12 - AIC:546.9767521602782\n",
            "SARIMA(0, 1, 0)x(0, 0, 1, 12)12 - AIC:337.98206600741787\n",
            "SARIMA(0, 1, 0)x(0, 1, 0, 12)12 - AIC:363.74001610374705\n",
            "SARIMA(0, 1, 0)x(0, 1, 1, 12)12 - AIC:168.5620426368075\n",
            "SARIMA(0, 1, 0)x(1, 0, 0, 12)12 - AIC:359.4132617639479\n",
            "SARIMA(0, 1, 0)x(1, 0, 1, 12)12 - AIC:339.93372861861\n",
            "SARIMA(0, 1, 0)x(1, 1, 0, 12)12 - AIC:186.52900012917277\n",
            "SARIMA(0, 1, 0)x(1, 1, 1, 12)12 - AIC:170.55763963050347\n",
            "SARIMA(0, 1, 1)x(0, 0, 0, 12)12 - AIC:501.06390725938786\n",
            "SARIMA(0, 1, 1)x(0, 0, 1, 12)12 - AIC:318.8554250150957\n",
            "SARIMA(0, 1, 1)x(0, 1, 0, 12)12 - AIC:330.33020472783306\n",
            "SARIMA(0, 1, 1)x(0, 1, 1, 12)12 - AIC:149.65906428021316\n",
            "SARIMA(0, 1, 1)x(1, 0, 0, 12)12 - AIC:353.1783308248046\n",
            "SARIMA(0, 1, 1)x(1, 0, 1, 12)12 - AIC:324.5905786487463\n",
            "SARIMA(0, 1, 1)x(1, 1, 0, 12)12 - AIC:181.6046540954792\n",
            "SARIMA(0, 1, 1)x(1, 1, 1, 12)12 - AIC:150.66492933448077\n",
            "SARIMA(1, 0, 0)x(0, 0, 0, 12)12 - AIC:535.1150859173547\n",
            "SARIMA(1, 0, 0)x(0, 0, 1, 12)12 - AIC:347.72370346133005\n",
            "SARIMA(1, 0, 0)x(0, 1, 0, 12)12 - AIC:366.0656010365497\n",
            "SARIMA(1, 0, 0)x(0, 1, 1, 12)12 - AIC:182.5945786028301\n",
            "SARIMA(1, 0, 0)x(1, 0, 0, 12)12 - AIC:348.6542009137235\n",
            "SARIMA(1, 0, 0)x(1, 0, 1, 12)12 - AIC:348.627753666818\n",
            "SARIMA(1, 0, 0)x(1, 1, 0, 12)12 - AIC:182.4691676978494\n",
            "SARIMA(1, 0, 0)x(1, 1, 1, 12)12 - AIC:184.0974415029082\n",
            "SARIMA(1, 0, 1)x(0, 0, 0, 12)12 - AIC:514.6120861581483\n",
            "SARIMA(1, 0, 1)x(0, 0, 1, 12)12 - AIC:330.0679993800455\n",
            "SARIMA(1, 0, 1)x(0, 1, 0, 12)12 - AIC:352.381891636485\n",
            "SARIMA(1, 0, 1)x(0, 1, 1, 12)12 - AIC:165.15392404267047\n",
            "SARIMA(1, 0, 1)x(1, 0, 0, 12)12 - AIC:344.03477638817185\n",
            "SARIMA(1, 0, 1)x(1, 0, 1, 12)12 - AIC:330.94380740282213\n",
            "SARIMA(1, 0, 1)x(1, 1, 0, 12)12 - AIC:184.05053619955999\n",
            "SARIMA(1, 0, 1)x(1, 1, 1, 12)12 - AIC:165.41248022899393\n",
            "SARIMA(1, 1, 0)x(0, 0, 0, 12)12 - AIC:539.9173420539666\n",
            "SARIMA(1, 1, 0)x(0, 0, 1, 12)12 - AIC:338.6958874117717\n",
            "SARIMA(1, 1, 0)x(0, 1, 0, 12)12 - AIC:363.4417845745285\n",
            "SARIMA(1, 1, 0)x(0, 1, 1, 12)12 - AIC:170.04149981066988\n",
            "SARIMA(1, 1, 0)x(1, 0, 0, 12)12 - AIC:339.3264142700777\n",
            "SARIMA(1, 1, 0)x(1, 0, 1, 12)12 - AIC:340.67978071547776\n",
            "SARIMA(1, 1, 0)x(1, 1, 0, 12)12 - AIC:170.33457024995636\n",
            "SARIMA(1, 1, 0)x(1, 1, 1, 12)12 - AIC:172.03821487026207\n",
            "SARIMA(1, 1, 1)x(0, 0, 0, 12)12 - AIC:502.4232707457422\n",
            "SARIMA(1, 1, 1)x(0, 0, 1, 12)12 - AIC:320.8557904096915\n",
            "SARIMA(1, 1, 1)x(0, 1, 0, 12)12 - AIC:332.3301914301315\n",
            "SARIMA(1, 1, 1)x(0, 1, 1, 12)12 - AIC:151.65366483137313\n",
            "SARIMA(1, 1, 1)x(1, 0, 0, 12)12 - AIC:334.664723448206\n",
            "SARIMA(1, 1, 1)x(1, 0, 1, 12)12 - AIC:322.72716928275827\n",
            "SARIMA(1, 1, 1)x(1, 1, 0, 12)12 - AIC:167.51614209316028\n",
            "SARIMA(1, 1, 1)x(1, 1, 1, 12)12 - AIC:152.55732464899629\n",
            "\n",
            "Modelo com Menor Valor de AIC: SARIMA(0, 1, 1)x(0, 1, 1, 12)12 - AIC:149.65906428021316\n"
          ]
        }
      ],
      "source": [
        "# Grid Search\n",
        "warnings.filterwarnings(\"ignore\")\n",
        "\n",
        "# Menor valor possível para a estatística AIC (nosso objetivo na otimização do modelo)\n",
        "lowest_aic = sys.maxsize\n",
        "lowest = ''\n",
        "\n",
        "# Loop\n",
        "for param in pdq:\n",
        "    for param_seasonal in seasonal_pdq:\n",
        "        try:\n",
        "            \n",
        "            # Cria o modelo com a combinação dos hiperparâmetros\n",
        "            mod = sm.tsa.statespace.SARIMAX(dados_treino,\n",
        "                                            exog_var_treino,\n",
        "                                            order = param,\n",
        "                                            seasonal_order = param_seasonal,\n",
        "                                            enforce_stationarity = False,\n",
        "                                            enforce_invertibility = False)\n",
        "            \n",
        "            # Treina o modelo\n",
        "            results = mod.fit()\n",
        "            \n",
        "            # Print\n",
        "            print('SARIMA{}x{}12 - AIC:{}'.format(param, param_seasonal, results.aic))\n",
        "            \n",
        "            # Coleta o menor valor de AIC\n",
        "            if lowest_aic >  results.aic:\n",
        "                lowest = 'SARIMA{}x{}12 - AIC:{}'.format(param, param_seasonal, results.aic)\n",
        "                lowest_aic = results.aic\n",
        "        except:\n",
        "            continue\n",
        "\n",
        "print (\"\\nModelo com Menor Valor de AIC: \" + lowest)"
      ]
    },
    {
      "cell_type": "code",
      "execution_count": 84,
      "metadata": {
        "id": "ZjppMqxzw_KW"
      },
      "outputs": [],
      "source": [
        "# Treina o modelo com a melhor combinação de hiperparâmetros\n",
        "modelo_sarima_v2 = sm.tsa.statespace.SARIMAX(dados_treino,\n",
        "                                             exog_var_treino,\n",
        "                                             order = (0, 1, 1),\n",
        "                                             seasonal_order = (0, 1, 1, 12),\n",
        "                                             enforce_stationarity = False,\n",
        "                                             enforce_invertibility=False)"
      ]
    },
    {
      "cell_type": "code",
      "execution_count": 85,
      "metadata": {
        "id": "m73j-ep-w_KX"
      },
      "outputs": [],
      "source": [
        "# Treinamento (Fit) do modelo\n",
        "modelo_sarima_v2_fit = modelo_sarima_v2.fit()"
      ]
    },
    {
      "cell_type": "code",
      "execution_count": 86,
      "metadata": {
        "colab": {
          "base_uri": "https://localhost:8080/",
          "height": 476
        },
        "id": "r4UVqEUPw_KX",
        "outputId": "7e8273a4-ae35-4ce3-b486-79fe1fe62db5"
      },
      "outputs": [
        {
          "name": "stdout",
          "output_type": "stream",
          "text": [
            "                                     SARIMAX Results                                      \n",
            "==========================================================================================\n",
            "Dep. Variable:                              sales   No. Observations:                   36\n",
            "Model:             SARIMAX(0, 1, 1)x(0, 1, 1, 12)   Log Likelihood                 -69.830\n",
            "Date:                            Tue, 14 Jun 2022   AIC                            149.659\n",
            "Time:                                    11:37:47   BIC                            150.645\n",
            "Sample:                                01-01-2014   HQIC                           147.531\n",
            "                                     - 12-01-2016                                         \n",
            "Covariance Type:                              opg                                         \n",
            "==============================================================================\n",
            "                 coef    std err          z      P>|z|      [0.025      0.975]\n",
            "------------------------------------------------------------------------------\n",
            "const         -2.6155   1.98e+04     -0.000      1.000   -3.87e+04    3.87e+04\n",
            "feriado     1287.5176   6051.891      0.213      0.832   -1.06e+04    1.31e+04\n",
            "ma.L1         -1.0017     20.851     -0.048      0.962     -41.869      39.866\n",
            "ma.S.L12      -1.0530     20.359     -0.052      0.959     -40.956      38.850\n",
            "sigma2      2.073e+05      8.746   2.37e+04      0.000    2.07e+05    2.07e+05\n",
            "===================================================================================\n",
            "Ljung-Box (L1) (Q):                   0.00   Jarque-Bera (JB):                 0.56\n",
            "Prob(Q):                              1.00   Prob(JB):                         0.76\n",
            "Heteroskedasticity (H):               2.69   Skew:                             0.52\n",
            "Prob(H) (two-sided):                  0.44   Kurtosis:                         2.37\n",
            "===================================================================================\n",
            "\n",
            "Warnings:\n",
            "[1] Covariance matrix calculated using the outer product of gradients (complex-step).\n",
            "[2] Covariance matrix is singular or near-singular, with condition number 1.67e+22. Standard errors may be unstable.\n"
          ]
        }
      ],
      "source": [
        "# Sumário do modelo\n",
        "print(modelo_sarima_v2_fit.summary())"
      ]
    },
    {
      "cell_type": "markdown",
      "metadata": {
        "id": "OLhPysdDw_KY"
      },
      "source": [
        "Perceba que tivemos um leve aumento de 3 pontos na estatística AIC. Não otimizamos o modelo, mas considerando que temos mais um elemento a mais para a previsão, a variável exógena, isso não parece ruim. Mas continue comigo."
      ]
    },
    {
      "cell_type": "code",
      "execution_count": 87,
      "metadata": {
        "colab": {
          "base_uri": "https://localhost:8080/",
          "height": 520
        },
        "id": "kvbmv-NSw_KZ",
        "outputId": "ebafb815-ef59-478f-84a9-c03e08179ae0"
      },
      "outputs": [],
      "source": [
        "# Diagnóstico do modelo\n",
        "#modelo_sarima_v2_fit.plot_diagnostics(lags = 8, figsize = (16,8))\n",
        "#plt.show()"
      ]
    },
    {
      "cell_type": "markdown",
      "metadata": {
        "id": "47xKhUhJw_Kb"
      },
      "source": [
        "**Diagnóstico do Modelo:**\n",
        "\n",
        "Assim como na Aula 18, o modelo segue com bons indicadores."
      ]
    },
    {
      "cell_type": "code",
      "execution_count": 88,
      "metadata": {
        "id": "aBlE1ZDyw_Kb"
      },
      "outputs": [],
      "source": [
        "# Vamos fazer previsões um passo a frente\n",
        "sarima_predict_2 = modelo_sarima_v2_fit.get_prediction(start = pd.to_datetime('2017-01-01'), \n",
        "                                                       end = pd.to_datetime('2017-12-01'),\n",
        "                                                       exog = exog_var_teste,\n",
        "                                                       dynamic = True)"
      ]
    },
    {
      "cell_type": "code",
      "execution_count": 89,
      "metadata": {
        "colab": {
          "base_uri": "https://localhost:8080/",
          "height": 421
        },
        "id": "XRBzfg_Mw_Kc",
        "outputId": "39eae75f-4da9-4ed8-84ba-b89d1a5dce7d"
      },
      "outputs": [
        {
          "data": {
            "text/html": [
              "<div>\n",
              "<style scoped>\n",
              "    .dataframe tbody tr th:only-of-type {\n",
              "        vertical-align: middle;\n",
              "    }\n",
              "\n",
              "    .dataframe tbody tr th {\n",
              "        vertical-align: top;\n",
              "    }\n",
              "\n",
              "    .dataframe thead th {\n",
              "        text-align: right;\n",
              "    }\n",
              "</style>\n",
              "<table border=\"1\" class=\"dataframe\">\n",
              "  <thead>\n",
              "    <tr style=\"text-align: right;\">\n",
              "      <th></th>\n",
              "      <th>lower sales</th>\n",
              "      <th>upper sales</th>\n",
              "    </tr>\n",
              "  </thead>\n",
              "  <tbody>\n",
              "    <tr>\n",
              "      <th>2017-01-01</th>\n",
              "      <td>-209.449146</td>\n",
              "      <td>2066.538292</td>\n",
              "    </tr>\n",
              "    <tr>\n",
              "      <th>2017-02-01</th>\n",
              "      <td>-236.084551</td>\n",
              "      <td>2004.449147</td>\n",
              "    </tr>\n",
              "    <tr>\n",
              "      <th>2017-03-01</th>\n",
              "      <td>368.252703</td>\n",
              "      <td>2604.676167</td>\n",
              "    </tr>\n",
              "    <tr>\n",
              "      <th>2017-04-01</th>\n",
              "      <td>-84.480790</td>\n",
              "      <td>2151.819311</td>\n",
              "    </tr>\n",
              "    <tr>\n",
              "      <th>2017-05-01</th>\n",
              "      <td>144.685209</td>\n",
              "      <td>2380.984568</td>\n",
              "    </tr>\n",
              "    <tr>\n",
              "      <th>2017-06-01</th>\n",
              "      <td>-92.227998</td>\n",
              "      <td>2144.074218</td>\n",
              "    </tr>\n",
              "    <tr>\n",
              "      <th>2017-07-01</th>\n",
              "      <td>-148.866454</td>\n",
              "      <td>2087.438725</td>\n",
              "    </tr>\n",
              "    <tr>\n",
              "      <th>2017-08-01</th>\n",
              "      <td>-69.100403</td>\n",
              "      <td>2167.207743</td>\n",
              "    </tr>\n",
              "    <tr>\n",
              "      <th>2017-09-01</th>\n",
              "      <td>106.759997</td>\n",
              "      <td>2343.071187</td>\n",
              "    </tr>\n",
              "    <tr>\n",
              "      <th>2017-10-01</th>\n",
              "      <td>215.489266</td>\n",
              "      <td>2451.806085</td>\n",
              "    </tr>\n",
              "    <tr>\n",
              "      <th>2017-11-01</th>\n",
              "      <td>272.507592</td>\n",
              "      <td>2508.917171</td>\n",
              "    </tr>\n",
              "    <tr>\n",
              "      <th>2017-12-01</th>\n",
              "      <td>356.338283</td>\n",
              "      <td>2594.526120</td>\n",
              "    </tr>\n",
              "  </tbody>\n",
              "</table>\n",
              "</div>"
            ],
            "text/plain": [
              "            lower sales  upper sales\n",
              "2017-01-01  -209.449146  2066.538292\n",
              "2017-02-01  -236.084551  2004.449147\n",
              "2017-03-01   368.252703  2604.676167\n",
              "2017-04-01   -84.480790  2151.819311\n",
              "2017-05-01   144.685209  2380.984568\n",
              "2017-06-01   -92.227998  2144.074218\n",
              "2017-07-01  -148.866454  2087.438725\n",
              "2017-08-01   -69.100403  2167.207743\n",
              "2017-09-01   106.759997  2343.071187\n",
              "2017-10-01   215.489266  2451.806085\n",
              "2017-11-01   272.507592  2508.917171\n",
              "2017-12-01   356.338283  2594.526120"
            ]
          },
          "execution_count": 89,
          "metadata": {},
          "output_type": "execute_result"
        }
      ],
      "source": [
        "# Intervalo de confiança\n",
        "sarima_predict_conf_2 = sarima_predict_2.conf_int()\n",
        "sarima_predict_conf_2"
      ]
    },
    {
      "cell_type": "code",
      "execution_count": 90,
      "metadata": {
        "colab": {
          "base_uri": "https://localhost:8080/",
          "height": 535
        },
        "id": "IryNhnIiw_Kd",
        "outputId": "7daa2645-4038-4318-bf9e-243bd6c5620e"
      },
      "outputs": [
        {
          "data": {
            "image/png": "[encoded data removed]",
            "text/plain": [
              "<Figure size 1440x576 with 1 Axes>"
            ]
          },
          "metadata": {
            "needs_background": "light"
          },
          "output_type": "display_data"
        }
      ],
      "source": [
        "rcParams['figure.figsize'] = 20,8\n",
        "\n",
        "# Plot dos valores observados\n",
        "ax = media_vendas_tecnologia.plot(label = 'Valores Observados', color = '#2574BF')\n",
        "\n",
        "# Plot dos valores previstos\n",
        "sarima_predict_2.predicted_mean.plot(ax = ax, \n",
        "                                     label = 'Previsões SARIMA (0, 1, 1)x(0, 1, 1, 12) com Variável Exógena', \n",
        "                                     alpha = 0.7, \n",
        "                                     color = 'red') \n",
        "\n",
        "# Plot do intervalo de confiança\n",
        "ax.fill_between(sarima_predict_conf_2.index,\n",
        "                # lower sales\n",
        "                sarima_predict_conf_2.iloc[:, 0],\n",
        "                # upper sales\n",
        "                sarima_predict_conf_2.iloc[:, 1], color = 'k', alpha = 0.1)\n",
        "\n",
        "# Títulos e Legendas\n",
        "plt.title('Previsão de Vendas com Modelo ARIMA Sazonal')\n",
        "plt.xlabel('Data')\n",
        "plt.ylabel('Vendas de Produtos de Tecnologia')\n",
        "plt.legend()\n",
        "plt.show()"
      ]
    },
    {
      "cell_type": "markdown",
      "metadata": {
        "id": "4GX4R2xVw_Ke"
      },
      "source": [
        "O modelo parece ter perdido um pouco do padrão da série."
      ]
    },
    {
      "cell_type": "code",
      "execution_count": 91,
      "metadata": {
        "colab": {
          "base_uri": "https://localhost:8080/",
          "height": 68
        },
        "id": "7Wq73WwCw_Ke",
        "outputId": "03e1fccf-77d4-4c95-8a89-f86fc788dc7e"
      },
      "outputs": [
        {
          "name": "stdout",
          "output_type": "stream",
          "text": [
            "MSE das previsões é 116437.94\n",
            "RMSE das previsões é 341.23\n",
            "MAPE das previsões é 32.54\n"
          ]
        }
      ],
      "source": [
        "# Calculando a performance\n",
        "sarima_results = performance(dados_teste, sarima_predict_2.predicted_mean)\n",
        "sarima_results"
      ]
    },
    {
      "cell_type": "markdown",
      "metadata": {
        "id": "DPFg91O-w_Kf"
      },
      "source": [
        "O erro do modelo reduziu em relação à versão da Aula 18. E agora? \n",
        "\n",
        "Vejamos como o modelo se sai em um horizonte de previsão maior."
      ]
    },
    {
      "cell_type": "markdown",
      "metadata": {
        "id": "dC2PKpftw_Kf"
      },
      "source": [
        "Você percebeu que usamos a variável exógena no treino do modelo e na previsão do modelo. Percebeu, certo? Não? Então retorne às células anteriores e perceba!\n",
        "\n",
        "Precisamos agora preparar a variável exógena para o forecast. Todas as variáveis usadas no treinamento do modelo tem que ser usadas em teste e agora no forecast. Assim como em qualquer modelo de Machine Learning."
      ]
    },
    {
      "cell_type": "code",
      "execution_count": 92,
      "metadata": {
        "id": "i1gXh8Zzw_Kf"
      },
      "outputs": [],
      "source": [
        "# Vamos buscar todos os feriados nos EUA entre 2014 e 2017\n",
        "\n",
        "# Cria a série\n",
        "feriados_forecast = pd.Series()\n",
        "\n",
        "# Busca os feriados\n",
        "for i, feriado in holidays.US(years = [2017, 2018, 2019, 2020, 2021]).items(): \n",
        "    feriados_forecast[i] = feriado"
      ]
    },
    {
      "cell_type": "code",
      "execution_count": 93,
      "metadata": {
        "colab": {
          "base_uri": "https://localhost:8080/",
          "height": 34
        },
        "id": "e79Ycs6iw_Kg",
        "outputId": "264eb7e9-6ef7-4dbc-d742-6db3236daf42"
      },
      "outputs": [
        {
          "data": {
            "text/plain": [
              "59"
            ]
          },
          "execution_count": 93,
          "metadata": {},
          "output_type": "execute_result"
        }
      ],
      "source": [
        "len(feriados_forecast)"
      ]
    },
    {
      "cell_type": "code",
      "execution_count": 94,
      "metadata": {
        "colab": {
          "base_uri": "https://localhost:8080/",
          "height": 119
        },
        "id": "HR3kiW1Zw_Kh",
        "outputId": "c4b7083d-3036-45fa-b497-5accee6b4a93"
      },
      "outputs": [
        {
          "data": {
            "text/plain": [
              "2021-10-11                Columbus Day\n",
              "2021-11-11                Veterans Day\n",
              "2021-11-25                Thanksgiving\n",
              "2021-12-25               Christmas Day\n",
              "2021-12-24    Christmas Day (Observed)\n",
              "dtype: object"
            ]
          },
          "execution_count": 94,
          "metadata": {},
          "output_type": "execute_result"
        }
      ],
      "source": [
        "# Confere\n",
        "feriados_forecast.tail()"
      ]
    },
    {
      "cell_type": "code",
      "execution_count": 95,
      "metadata": {
        "id": "PNMZtKd0w_Ki"
      },
      "outputs": [],
      "source": [
        "# Vamos converter a série em dataframe e fazer alguns ajustes\n",
        "feriados_forecast_df = pd.DataFrame(feriados_forecast)\n",
        "\n",
        "# Reset do index para ajustar os nomes das colunas\n",
        "feriados_forecast_df.reset_index(level = 0, inplace = True)\n",
        "\n",
        "# Ajusta o nome das colunas\n",
        "feriados_forecast_df.columns = ['data_feriado', 'feriado']\n",
        "\n",
        "# Vamos converter a coluna de data para o tipo de correto\n",
        "feriados_forecast_df['data_feriado'] = pd.to_datetime(feriados_forecast_df['data_feriado'])\n",
        "\n",
        "# Vamos definir a data como índice\n",
        "feriados_forecast_df.set_index(\"data_feriado\", inplace = True)\n",
        "\n",
        "# Não sabemos o dia que vai ter venda (é o que queremos prever), então vamos colocar zero em \n",
        "feriados_forecast_df['feriado'] = 0\n",
        "\n",
        "# Convertendo a coluna feriado para inteiro\n",
        "feriados_forecast_df['feriado'] = pd.to_numeric(feriados_forecast_df['feriado'], downcast = 'integer')\n",
        "\n",
        "# E somente o feriado (mais uma constante requerida pelo statsmodels) na série de feriado\n",
        "exog_var_forecast = sm.add_constant(feriados_forecast_df['feriado'])\n",
        "exog_var_forecast['feriado'] = 1"
      ]
    },
    {
      "cell_type": "code",
      "execution_count": 96,
      "metadata": {
        "colab": {
          "base_uri": "https://localhost:8080/",
          "height": 173
        },
        "id": "9ChYihYHw_Kj",
        "outputId": "6d2e4a38-d957-4746-c477-dabc4301dfd4"
      },
      "outputs": [
        {
          "data": {
            "text/html": [
              "<div>\n",
              "<style scoped>\n",
              "    .dataframe tbody tr th:only-of-type {\n",
              "        vertical-align: middle;\n",
              "    }\n",
              "\n",
              "    .dataframe tbody tr th {\n",
              "        vertical-align: top;\n",
              "    }\n",
              "\n",
              "    .dataframe thead th {\n",
              "        text-align: right;\n",
              "    }\n",
              "</style>\n",
              "<table border=\"1\" class=\"dataframe\">\n",
              "  <thead>\n",
              "    <tr style=\"text-align: right;\">\n",
              "      <th></th>\n",
              "      <th>const</th>\n",
              "      <th>feriado</th>\n",
              "    </tr>\n",
              "    <tr>\n",
              "      <th>data_feriado</th>\n",
              "      <th></th>\n",
              "      <th></th>\n",
              "    </tr>\n",
              "  </thead>\n",
              "  <tbody>\n",
              "    <tr>\n",
              "      <th>2017-01-01</th>\n",
              "      <td>1.0</td>\n",
              "      <td>1</td>\n",
              "    </tr>\n",
              "    <tr>\n",
              "      <th>2017-01-02</th>\n",
              "      <td>1.0</td>\n",
              "      <td>1</td>\n",
              "    </tr>\n",
              "    <tr>\n",
              "      <th>2017-01-16</th>\n",
              "      <td>1.0</td>\n",
              "      <td>1</td>\n",
              "    </tr>\n",
              "  </tbody>\n",
              "</table>\n",
              "</div>"
            ],
            "text/plain": [
              "              const  feriado\n",
              "data_feriado                \n",
              "2017-01-01      1.0        1\n",
              "2017-01-02      1.0        1\n",
              "2017-01-16      1.0        1"
            ]
          },
          "execution_count": 96,
          "metadata": {},
          "output_type": "execute_result"
        }
      ],
      "source": [
        "exog_var_forecast.head(3)"
      ]
    },
    {
      "cell_type": "code",
      "execution_count": 99,
      "metadata": {
        "id": "QEZxhIj_w_Kk"
      },
      "outputs": [],
      "source": [
        "# Forecast (previsão) de 60 passos no tempo (na prática vamos reduzir para 57 pois só temos 57 feriados)\n",
        "horizonte_60_predict_2 = modelo_sarima_v2_fit.get_forecast(steps = 59, exog = exog_var_forecast, dynamic = True)"
      ]
    },
    {
      "cell_type": "code",
      "execution_count": 100,
      "metadata": {
        "colab": {
          "base_uri": "https://localhost:8080/",
          "height": 1000
        },
        "id": "b3sx2ZG5w_Kl",
        "outputId": "80b552c4-adfa-4831-bf7b-52288bfcbde5"
      },
      "outputs": [
        {
          "data": {
            "text/html": [
              "<div>\n",
              "<style scoped>\n",
              "    .dataframe tbody tr th:only-of-type {\n",
              "        vertical-align: middle;\n",
              "    }\n",
              "\n",
              "    .dataframe tbody tr th {\n",
              "        vertical-align: top;\n",
              "    }\n",
              "\n",
              "    .dataframe thead th {\n",
              "        text-align: right;\n",
              "    }\n",
              "</style>\n",
              "<table border=\"1\" class=\"dataframe\">\n",
              "  <thead>\n",
              "    <tr style=\"text-align: right;\">\n",
              "      <th></th>\n",
              "      <th>lower sales</th>\n",
              "      <th>upper sales</th>\n",
              "    </tr>\n",
              "  </thead>\n",
              "  <tbody>\n",
              "    <tr>\n",
              "      <th>2017-01-01</th>\n",
              "      <td>-209.449146</td>\n",
              "      <td>2066.538292</td>\n",
              "    </tr>\n",
              "    <tr>\n",
              "      <th>2017-02-01</th>\n",
              "      <td>1051.433014</td>\n",
              "      <td>3291.966712</td>\n",
              "    </tr>\n",
              "    <tr>\n",
              "      <th>2017-03-01</th>\n",
              "      <td>1655.770268</td>\n",
              "      <td>3892.193732</td>\n",
              "    </tr>\n",
              "    <tr>\n",
              "      <th>2017-04-01</th>\n",
              "      <td>1203.036775</td>\n",
              "      <td>3439.336876</td>\n",
              "    </tr>\n",
              "    <tr>\n",
              "      <th>2017-05-01</th>\n",
              "      <td>1432.202774</td>\n",
              "      <td>3668.502133</td>\n",
              "    </tr>\n",
              "    <tr>\n",
              "      <th>2017-06-01</th>\n",
              "      <td>1195.289568</td>\n",
              "      <td>3431.591783</td>\n",
              "    </tr>\n",
              "    <tr>\n",
              "      <th>2017-07-01</th>\n",
              "      <td>1138.651111</td>\n",
              "      <td>3374.956290</td>\n",
              "    </tr>\n",
              "    <tr>\n",
              "      <th>2017-08-01</th>\n",
              "      <td>1218.417162</td>\n",
              "      <td>3454.725308</td>\n",
              "    </tr>\n",
              "    <tr>\n",
              "      <th>2017-09-01</th>\n",
              "      <td>1394.277562</td>\n",
              "      <td>3630.588752</td>\n",
              "    </tr>\n",
              "    <tr>\n",
              "      <th>2017-10-01</th>\n",
              "      <td>1503.006831</td>\n",
              "      <td>3739.323650</td>\n",
              "    </tr>\n",
              "    <tr>\n",
              "      <th>2017-11-01</th>\n",
              "      <td>1560.025158</td>\n",
              "      <td>3796.434736</td>\n",
              "    </tr>\n",
              "    <tr>\n",
              "      <th>2017-12-01</th>\n",
              "      <td>1643.855848</td>\n",
              "      <td>3882.043685</td>\n",
              "    </tr>\n",
              "    <tr>\n",
              "      <th>2018-01-01</th>\n",
              "      <td>-136.462759</td>\n",
              "      <td>2273.034186</td>\n",
              "    </tr>\n",
              "    <tr>\n",
              "      <th>2018-02-01</th>\n",
              "      <td>1110.674793</td>\n",
              "      <td>3512.207215</td>\n",
              "    </tr>\n",
              "    <tr>\n",
              "      <th>2018-03-01</th>\n",
              "      <td>1715.881652</td>\n",
              "      <td>4111.564630</td>\n",
              "    </tr>\n",
              "    <tr>\n",
              "      <th>2018-04-01</th>\n",
              "      <td>1263.172922</td>\n",
              "      <td>3658.683010</td>\n",
              "    </tr>\n",
              "    <tr>\n",
              "      <th>2018-05-01</th>\n",
              "      <td>1492.339062</td>\n",
              "      <td>3887.848127</td>\n",
              "    </tr>\n",
              "    <tr>\n",
              "      <th>2018-06-01</th>\n",
              "      <td>1255.425274</td>\n",
              "      <td>3650.938358</td>\n",
              "    </tr>\n",
              "    <tr>\n",
              "      <th>2018-07-01</th>\n",
              "      <td>1198.786216</td>\n",
              "      <td>3594.303466</td>\n",
              "    </tr>\n",
              "    <tr>\n",
              "      <th>2018-08-01</th>\n",
              "      <td>1278.551663</td>\n",
              "      <td>3674.073088</td>\n",
              "    </tr>\n",
              "    <tr>\n",
              "      <th>2018-09-01</th>\n",
              "      <td>1454.411445</td>\n",
              "      <td>3849.937150</td>\n",
              "    </tr>\n",
              "    <tr>\n",
              "      <th>2018-10-01</th>\n",
              "      <td>1563.139577</td>\n",
              "      <td>3958.673186</td>\n",
              "    </tr>\n",
              "    <tr>\n",
              "      <th>2018-11-01</th>\n",
              "      <td>1620.139036</td>\n",
              "      <td>4015.803139</td>\n",
              "    </tr>\n",
              "    <tr>\n",
              "      <th>2018-12-01</th>\n",
              "      <td>1703.303790</td>\n",
              "      <td>4102.078024</td>\n",
              "    </tr>\n",
              "    <tr>\n",
              "      <th>2019-01-01</th>\n",
              "      <td>-88.404839</td>\n",
              "      <td>2504.458547</td>\n",
              "    </tr>\n",
              "    <tr>\n",
              "      <th>2019-02-01</th>\n",
              "      <td>1146.725068</td>\n",
              "      <td>3755.639220</td>\n",
              "    </tr>\n",
              "    <tr>\n",
              "      <th>2019-03-01</th>\n",
              "      <td>1752.626824</td>\n",
              "      <td>4354.301739</td>\n",
              "    </tr>\n",
              "    <tr>\n",
              "      <th>2019-04-01</th>\n",
              "      <td>1299.937824</td>\n",
              "      <td>3901.400390</td>\n",
              "    </tr>\n",
              "    <tr>\n",
              "      <th>2019-05-01</th>\n",
              "      <td>1529.104071</td>\n",
              "      <td>4130.565400</td>\n",
              "    </tr>\n",
              "    <tr>\n",
              "      <th>2019-06-01</th>\n",
              "      <td>1292.189814</td>\n",
              "      <td>3893.656099</td>\n",
              "    </tr>\n",
              "    <tr>\n",
              "      <th>2019-07-01</th>\n",
              "      <td>1235.550271</td>\n",
              "      <td>3837.021693</td>\n",
              "    </tr>\n",
              "    <tr>\n",
              "      <th>2019-08-01</th>\n",
              "      <td>1315.315232</td>\n",
              "      <td>3916.791800</td>\n",
              "    </tr>\n",
              "    <tr>\n",
              "      <th>2019-09-01</th>\n",
              "      <td>1491.174516</td>\n",
              "      <td>4092.656361</td>\n",
              "    </tr>\n",
              "    <tr>\n",
              "      <th>2019-10-01</th>\n",
              "      <td>1599.901736</td>\n",
              "      <td>4201.393308</td>\n",
              "    </tr>\n",
              "    <tr>\n",
              "      <th>2019-11-01</th>\n",
              "      <td>1656.886143</td>\n",
              "      <td>4258.538313</td>\n",
              "    </tr>\n",
              "    <tr>\n",
              "      <th>2019-12-01</th>\n",
              "      <td>1739.506518</td>\n",
              "      <td>4345.357578</td>\n",
              "    </tr>\n",
              "    <tr>\n",
              "      <th>2020-01-01</th>\n",
              "      <td>-60.414742</td>\n",
              "      <td>2755.950732</td>\n",
              "    </tr>\n",
              "    <tr>\n",
              "      <th>2020-02-01</th>\n",
              "      <td>1164.632894</td>\n",
              "      <td>4017.213676</td>\n",
              "    </tr>\n",
              "    <tr>\n",
              "      <th>2020-03-01</th>\n",
              "      <td>1771.073499</td>\n",
              "      <td>4615.337346</td>\n",
              "    </tr>\n",
              "    <tr>\n",
              "      <th>2020-04-01</th>\n",
              "      <td>1318.399746</td>\n",
              "      <td>4162.420750</td>\n",
              "    </tr>\n",
              "    <tr>\n",
              "      <th>2020-05-01</th>\n",
              "      <td>1547.566069</td>\n",
              "      <td>4391.585683</td>\n",
              "    </tr>\n",
              "    <tr>\n",
              "      <th>2020-06-01</th>\n",
              "      <td>1310.651446</td>\n",
              "      <td>4154.676749</td>\n",
              "    </tr>\n",
              "    <tr>\n",
              "      <th>2020-07-01</th>\n",
              "      <td>1254.011522</td>\n",
              "      <td>4098.042723</td>\n",
              "    </tr>\n",
              "    <tr>\n",
              "      <th>2020-08-01</th>\n",
              "      <td>1333.776102</td>\n",
              "      <td>4177.813212</td>\n",
              "    </tr>\n",
              "    <tr>\n",
              "      <th>2020-09-01</th>\n",
              "      <td>1509.634996</td>\n",
              "      <td>4353.678163</td>\n",
              "    </tr>\n",
              "    <tr>\n",
              "      <th>2020-10-01</th>\n",
              "      <td>1618.361506</td>\n",
              "      <td>4462.415819</td>\n",
              "    </tr>\n",
              "    <tr>\n",
              "      <th>2020-11-01</th>\n",
              "      <td>1675.334264</td>\n",
              "      <td>4519.572474</td>\n",
              "    </tr>\n",
              "    <tr>\n",
              "      <th>2020-12-01</th>\n",
              "      <td>1757.523129</td>\n",
              "      <td>4606.823249</td>\n",
              "    </tr>\n",
              "    <tr>\n",
              "      <th>2021-01-01</th>\n",
              "      <td>-48.117609</td>\n",
              "      <td>3023.135880</td>\n",
              "    </tr>\n",
              "    <tr>\n",
              "      <th>2021-02-01</th>\n",
              "      <td>1168.637634</td>\n",
              "      <td>4292.691218</td>\n",
              "    </tr>\n",
              "    <tr>\n",
              "      <th>2021-03-01</th>\n",
              "      <td>1775.491029</td>\n",
              "      <td>4890.402097</td>\n",
              "    </tr>\n",
              "    <tr>\n",
              "      <th>2021-04-01</th>\n",
              "      <td>1322.828912</td>\n",
              "      <td>4437.473865</td>\n",
              "    </tr>\n",
              "    <tr>\n",
              "      <th>2021-05-01</th>\n",
              "      <td>1551.995289</td>\n",
              "      <td>4666.638744</td>\n",
              "    </tr>\n",
              "    <tr>\n",
              "      <th>2021-06-01</th>\n",
              "      <td>1315.080380</td>\n",
              "      <td>4429.730096</td>\n",
              "    </tr>\n",
              "    <tr>\n",
              "      <th>2021-07-01</th>\n",
              "      <td>1258.440161</td>\n",
              "      <td>4373.096366</td>\n",
              "    </tr>\n",
              "    <tr>\n",
              "      <th>2021-08-01</th>\n",
              "      <td>1338.204446</td>\n",
              "      <td>4452.867150</td>\n",
              "    </tr>\n",
              "    <tr>\n",
              "      <th>2021-09-01</th>\n",
              "      <td>1514.063036</td>\n",
              "      <td>4628.732404</td>\n",
              "    </tr>\n",
              "    <tr>\n",
              "      <th>2021-10-01</th>\n",
              "      <td>1622.789000</td>\n",
              "      <td>4737.470607</td>\n",
              "    </tr>\n",
              "    <tr>\n",
              "      <th>2021-11-01</th>\n",
              "      <td>1679.752851</td>\n",
              "      <td>4794.636168</td>\n",
              "    </tr>\n",
              "  </tbody>\n",
              "</table>\n",
              "</div>"
            ],
            "text/plain": [
              "            lower sales  upper sales\n",
              "2017-01-01  -209.449146  2066.538292\n",
              "2017-02-01  1051.433014  3291.966712\n",
              "2017-03-01  1655.770268  3892.193732\n",
              "2017-04-01  1203.036775  3439.336876\n",
              "2017-05-01  1432.202774  3668.502133\n",
              "2017-06-01  1195.289568  3431.591783\n",
              "2017-07-01  1138.651111  3374.956290\n",
              "2017-08-01  1218.417162  3454.725308\n",
              "2017-09-01  1394.277562  3630.588752\n",
              "2017-10-01  1503.006831  3739.323650\n",
              "2017-11-01  1560.025158  3796.434736\n",
              "2017-12-01  1643.855848  3882.043685\n",
              "2018-01-01  -136.462759  2273.034186\n",
              "2018-02-01  1110.674793  3512.207215\n",
              "2018-03-01  1715.881652  4111.564630\n",
              "2018-04-01  1263.172922  3658.683010\n",
              "2018-05-01  1492.339062  3887.848127\n",
              "2018-06-01  1255.425274  3650.938358\n",
              "2018-07-01  1198.786216  3594.303466\n",
              "2018-08-01  1278.551663  3674.073088\n",
              "2018-09-01  1454.411445  3849.937150\n",
              "2018-10-01  1563.139577  3958.673186\n",
              "2018-11-01  1620.139036  4015.803139\n",
              "2018-12-01  1703.303790  4102.078024\n",
              "2019-01-01   -88.404839  2504.458547\n",
              "2019-02-01  1146.725068  3755.639220\n",
              "2019-03-01  1752.626824  4354.301739\n",
              "2019-04-01  1299.937824  3901.400390\n",
              "2019-05-01  1529.104071  4130.565400\n",
              "2019-06-01  1292.189814  3893.656099\n",
              "2019-07-01  1235.550271  3837.021693\n",
              "2019-08-01  1315.315232  3916.791800\n",
              "2019-09-01  1491.174516  4092.656361\n",
              "2019-10-01  1599.901736  4201.393308\n",
              "2019-11-01  1656.886143  4258.538313\n",
              "2019-12-01  1739.506518  4345.357578\n",
              "2020-01-01   -60.414742  2755.950732\n",
              "2020-02-01  1164.632894  4017.213676\n",
              "2020-03-01  1771.073499  4615.337346\n",
              "2020-04-01  1318.399746  4162.420750\n",
              "2020-05-01  1547.566069  4391.585683\n",
              "2020-06-01  1310.651446  4154.676749\n",
              "2020-07-01  1254.011522  4098.042723\n",
              "2020-08-01  1333.776102  4177.813212\n",
              "2020-09-01  1509.634996  4353.678163\n",
              "2020-10-01  1618.361506  4462.415819\n",
              "2020-11-01  1675.334264  4519.572474\n",
              "2020-12-01  1757.523129  4606.823249\n",
              "2021-01-01   -48.117609  3023.135880\n",
              "2021-02-01  1168.637634  4292.691218\n",
              "2021-03-01  1775.491029  4890.402097\n",
              "2021-04-01  1322.828912  4437.473865\n",
              "2021-05-01  1551.995289  4666.638744\n",
              "2021-06-01  1315.080380  4429.730096\n",
              "2021-07-01  1258.440161  4373.096366\n",
              "2021-08-01  1338.204446  4452.867150\n",
              "2021-09-01  1514.063036  4628.732404\n",
              "2021-10-01  1622.789000  4737.470607\n",
              "2021-11-01  1679.752851  4794.636168"
            ]
          },
          "execution_count": 100,
          "metadata": {},
          "output_type": "execute_result"
        }
      ],
      "source": [
        "# Intervalo de confiança\n",
        "horizonte_60_predict_2_conf_2 = horizonte_60_predict_2.conf_int()\n",
        "horizonte_60_predict_2_conf_2"
      ]
    },
    {
      "cell_type": "code",
      "execution_count": 101,
      "metadata": {
        "colab": {
          "base_uri": "https://localhost:8080/",
          "height": 503
        },
        "id": "g9JcEdU3w_Km",
        "outputId": "f2dcdcd0-bc31-4ecd-b826-2f34bb7e27f5"
      },
      "outputs": [
        {
          "data": {
            "image/png": "[encoded data removed]",
            "text/plain": [
              "<Figure size 1440x576 with 1 Axes>"
            ]
          },
          "metadata": {
            "needs_background": "light"
          },
          "output_type": "display_data"
        }
      ],
      "source": [
        "rcParams['figure.figsize'] = 20,8\n",
        "\n",
        "# Plot dos valores observados\n",
        "ax = media_vendas_tecnologia.plot(label = 'Valores Observados')\n",
        "\n",
        "# Plot dos valores previstos\n",
        "horizonte_60_predict_2.predicted_mean.plot(ax = ax, label = 'SARIMA Forecast')\n",
        "\n",
        "# Plot do intervalo de confiança\n",
        "ax.fill_between(horizonte_60_predict_2_conf_2.index,\n",
        "                horizonte_60_predict_2_conf_2.iloc[:, 0],\n",
        "                horizonte_60_predict_2_conf_2.iloc[:, 1], color = 'k', alpha = .25)\n",
        "\n",
        "# Plot\n",
        "ax.set_xlabel('Data')\n",
        "ax.set_ylabel('Vendas de Produtos de Tecnologia')\n",
        "plt.legend()\n",
        "plt.show()"
      ]
    },
    {
      "cell_type": "markdown",
      "metadata": {
        "id": "5K7KMauNw_Kn"
      },
      "source": [
        "E aí está o problema! \n",
        "\n",
        "Nosso modelo tem um desempenho ruim ao longo do tempo. Isso se explica porque a previsão de vendas é uma média mensal e o feriado não pode ser considerado pelo modelo. Esses picos para baixo são os feriados do dia 01 de janeiro de cada ano, quando a venda é menor. Mas com essa variável exógena o modelo acaba se perdendo na previsão do padrão da série, que é que interessa.\n",
        "\n",
        "Veja como também aprendemos quando as coisas não saem como esperado. Por isso a experimentação é tão importante em Ciência de Dados."
      ]
    },
    {
      "cell_type": "code",
      "execution_count": 102,
      "metadata": {
        "colab": {
          "base_uri": "https://localhost:8080/",
          "height": 34
        },
        "id": "f8byMQuww_Ko",
        "outputId": "b899bb33-6293-400d-d473-2a7bbf443f22"
      },
      "outputs": [
        {
          "name": "stdout",
          "output_type": "stream",
          "text": [
            "Valor-p = [0.49095877]\n"
          ]
        }
      ],
      "source": [
        "# Teste de Ljung-Box\n",
        "resultado_teste = sms.diagnostic.acorr_ljungbox(modelo_sarima_v2_fit.resid, lags = [30], boxpierce = False)\n",
        "print('Valor-p =', resultado_teste[1])"
      ]
    },
    {
      "cell_type": "markdown",
      "metadata": {
        "id": "bZhPsOP6w_Kp"
      },
      "source": [
        "Observe que o valor-p é maior que 0,05, o que indica que os resíduos são independentes no nível de 95%. \n",
        "\n",
        "No geral, o modelo até tenta fazer as previsões, pois o modelo SARIMA é poderoso, mas a variável exógena aqui está atrapalhando mais do que ajudando."
      ]
    },
    {
      "cell_type": "markdown",
      "metadata": {
        "id": "wyYC2crpw_Kp"
      },
      "source": [
        "Como estamos até agora:\n",
        "    \n",
        "- Aula 15 --> Modelo ARMA (1,1) - AIC = 550.3 e RMSE = 420.2\n",
        "- Aula 16 --> Modelo ARIMA (6,0,2) - AIC = 559.4 e RMSE = 401.5\n",
        "- Aula 17 --> Modelo SARIMA(0, 0, 0)x(0, 1, 1, 12)  - AIC = 176.74 e RMSE = 425.89\n",
        "- Aula 18 --> Modelo SARIMA(1, 1, 0)x(1, 1, 0, 12)  - AIC = 146.77 e RMSE = 353.57\n",
        "- Aula 19 --> Modelo SARIMA(1, 1, 0)x(1, 1, 0, 12) com exog  - AIC = 149.66 e RMSE = 341.23\n",
        "\n",
        "Aqui chegamos a um dilema comum em séries temporais. Se você estivesse analisando apenas as métricas, escolheria entre os modelos das aulas 18 ou 19? Menor AIC ou menor RMSE? Conforme já conversamos, o RMSE indica a performance do modelo com os dados do dataset e o AIC indica a performance do modelo no forecast, que é o que interessa.\n",
        "\n",
        "Dos 4 modelos acima, o modelo da Aula 18 é o que deveria ser escolhido como modelo final considerando a família ARIMA.\n",
        "\n",
        "Agora vamos trocar de modelo. Até a Aula 20."
      ]
    }
  ],
  "metadata": {
    "colab": {
      "collapsed_sections": [],
      "name": "Aula19.ipynb",
      "provenance": []
    },
    "kernelspec": {
      "display_name": "Python 3.9.7 ('base')",
      "language": "python",
      "name": "python3"
    },
    "language_info": {
      "codemirror_mode": {
        "name": "ipython",
        "version": 3
      },
      "file_extension": ".py",
      "mimetype": "text/x-python",
      "name": "python",
      "nbconvert_exporter": "python",
      "pygments_lexer": "ipython3",
      "version": "3.9.7"
    },
    "toc": {
      "base_numbering": 1,
      "nav_menu": {
        "height": "436px",
        "width": "256px"
      },
      "number_sections": true,
      "sideBar": false,
      "skip_h1_title": false,
      "title_cell": "Table of Contents",
      "title_sidebar": "Contents",
      "toc_cell": true,
      "toc_position": {},
      "toc_section_display": true,
      "toc_window_display": false
    },
    "vscode": {
      "interpreter": {
        "hash": "ad2bdc8ecc057115af97d19610ffacc2b4e99fae6737bb82f5d7fb13d2f2c186"
      }
    }
  },
  "nbformat": 4,
  "nbformat_minor": 0
}
