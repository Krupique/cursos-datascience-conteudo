{
  "cells": [
    {
      "cell_type": "markdown",
      "metadata": {
        "id": "bLmuhM18ZeWz"
      },
      "source": [
        "<strong><b><font size=\"5\">Séries Multiplicativas, Aditivas e Decomposição de Séries Temporais</font></b></strong>"
      ]
    },
    {
      "cell_type": "markdown",
      "metadata": {
        "id": "Tgn15tbqZeW0"
      },
      "source": [
        "Todas as aulas deste curso podem ser encontradas na timeline da Comunidade em nosso portal: www.datascienceacademy.com.br"
      ]
    },
    {
      "cell_type": "markdown",
      "metadata": {
        "id": "IKTGREJaZeW2"
      },
      "source": [
        "Vamos começar as aulas práticas sobre análise e modelagem de séries temporais. Nossa primeira tarefa será decompor uma série temporal e identificar seus componentes, conforme definimos nas primeiras aulas o curso.\n",
        "\n",
        "Primeiro, uma rápida revisão:"
      ]
    },
    {
      "cell_type": "markdown",
      "metadata": {
        "id": "tDQJesrDZeW3"
      },
      "source": [
        "## Séries Temporais\n",
        "\n",
        "- Uma série temporal é um conjunto sequencial de pontos de dados, medido tipicamente em tempos sucessivos.\n",
        "\n",
        "- É matematicamente definido como um conjunto de vetores x(t), t = 0,1,2, ... onde t representa o tempo decorrido.\n",
        "\n",
        "- A variável x(t) é tratada como uma variável aleatória.\n",
        "\n",
        "- As medições realizadas durante um evento em uma série temporal são organizadas em uma ordem cronológica adequada.\n",
        "\n",
        "- Uma série temporal contendo registros de uma única variável é denominada como univariada e mais de uma variável como multivariada."
      ]
    },
    {
      "cell_type": "markdown",
      "metadata": {
        "id": "NHMMGY96ZeW4"
      },
      "source": [
        "### Análise Exploratória"
      ]
    },
    {
      "cell_type": "markdown",
      "metadata": {
        "id": "lBrjho2eZeW5"
      },
      "source": [
        "Uma análise exploratória dos dados permite compreender como os dados estão organizados."
      ]
    },
    {
      "cell_type": "code",
      "execution_count": null,
      "metadata": {
        "id": "fpaiIJ_DZeW6"
      },
      "outputs": [],
      "source": [
        "# Para atualizar um pacote, execute o comando abaixo no terminal ou prompt de comando:\n",
        "# pip install -U nome_pacote\n",
        "\n",
        "# Para instalar a versão exata de um pacote, execute o comando abaixo no terminal ou prompt de comando:\n",
        "# pip install nome_pacote==versão_desejada\n",
        "\n",
        "# Depois de instalar ou atualizar o pacote, reinicie o jupyter notebook, se necessário."
      ]
    },
    {
      "cell_type": "code",
      "execution_count": null,
      "metadata": {
        "id": "GkJ8xjvCZeW9"
      },
      "outputs": [],
      "source": [
        "# Instala o pacote watermark. \n",
        "# Esse pacote é usado para gravar as versões de outros pacotes usados neste jupyter notebook.\n",
        "!pip install -q -U watermark"
      ]
    },
    {
      "cell_type": "code",
      "execution_count": null,
      "metadata": {
        "id": "1nWPYW--ZeXA"
      },
      "outputs": [],
      "source": [
        "# As novas versões do Pandas e Matplotlib trazem diversas mensagens de aviso ao desenvolvedor. Vamos desativar isso.\n",
        "import sys\n",
        "import warnings\n",
        "import matplotlib.cbook\n",
        "if not sys.warnoptions:\n",
        "    warnings.simplefilter(\"ignore\")\n",
        "warnings.simplefilter(action='ignore', category=FutureWarning)\n",
        "warnings.filterwarnings(\"ignore\", category=FutureWarning)\n",
        "warnings.filterwarnings(\"ignore\", category=matplotlib.cbook.mplDeprecation)\n",
        "\n",
        "# Imports para manipulação de dados\n",
        "import pandas as pd\n",
        "import numpy as np\n",
        "\n",
        "# Imports para visualização de dados\n",
        "import matplotlib.pyplot as plt\n",
        "import matplotlib as m\n",
        "import seaborn as sns\n",
        "\n",
        "# Imports análise e modelagem de séries temporais\n",
        "import statsmodels.api as sm\n",
        "from statsmodels.tsa.seasonal import seasonal_decompose\n",
        "\n",
        "# Formatando as saídas dos gráficos\n",
        "plt.style.use('fivethirtyeight')\n",
        "pd.set_option('display.expand_frame_repr', False)\n",
        "pd.set_option('display.max_columns', 500)\n",
        "pd.set_option('display.width', 1000)\n",
        "m.rcParams['axes.labelsize'] = 14\n",
        "m.rcParams['xtick.labelsize'] = 12\n",
        "m.rcParams['ytick.labelsize'] = 12\n",
        "m.rcParams['text.color'] = 'k'"
      ]
    },
    {
      "cell_type": "code",
      "execution_count": null,
      "metadata": {
        "colab": {
          "base_uri": "https://localhost:8080/",
          "height": 119
        },
        "id": "8fxYgPOhZeXC",
        "outputId": "2769772b-b08f-42a7-c3c6-bdfc6af2d8fd"
      },
      "outputs": [],
      "source": [
        "# Versões dos pacotes usados neste jupyter notebook\n",
        "%reload_ext watermark\n",
        "%watermark -a \"Data Science Academy\" --iversions"
      ]
    },
    {
      "cell_type": "markdown",
      "metadata": {
        "id": "Xr8XFjYvZeXG"
      },
      "source": [
        "Vamos carregar um dataset com uma série temporal.\n",
        "\n",
        "O dataset é público e pode ser encontrado aqui:\n",
        "\n",
        "https://www.kaggle.com/rakannimer/air-passengers\n",
        "\n",
        "O conjunto de dados AirPassenger fornece totais mensais de passageiros de uma companhia aérea dos EUA, de 1949 a 1960. Esse conjunto de dados já é de uma classe de série temporal, portanto, nenhuma manipulação adicional de classe ou data é necessária."
      ]
    },
    {
      "cell_type": "code",
      "execution_count": null,
      "metadata": {
        "id": "0ZiBthM6ZeXI"
      },
      "outputs": [],
      "source": [
        "# Carrega os dados\n",
        "dados = pd.read_csv('https://raw.githubusercontent.com/dsacademybr/Datasets/master/dataset1.csv', header = None)"
      ]
    },
    {
      "cell_type": "code",
      "execution_count": null,
      "metadata": {
        "colab": {
          "base_uri": "https://localhost:8080/",
          "height": 204
        },
        "id": "ITzC7QVRZeXK",
        "outputId": "39cd93a9-f9b7-4be1-96b9-0eca23444828"
      },
      "outputs": [],
      "source": [
        "# Visualizando os Dados\n",
        "dados.head()"
      ]
    },
    {
      "cell_type": "markdown",
      "metadata": {
        "id": "CEbuPKxiZeXN"
      },
      "source": [
        "Perceba que são duas colunas. Esses dados representam uma série univariada, pois temos uma variável aleatória x (número de passageiros) e a data, que representa o índice da série.\n",
        "\n",
        "Vamos ajustar o nome de cada coluna."
      ]
    },
    {
      "cell_type": "code",
      "execution_count": null,
      "metadata": {
        "id": "OfJ_2VUjZeXN"
      },
      "outputs": [],
      "source": [
        "# Ajustando o nome de cada coluna\n",
        "dados.columns = ['mes','passageiros']"
      ]
    },
    {
      "cell_type": "code",
      "execution_count": null,
      "metadata": {
        "colab": {
          "base_uri": "https://localhost:8080/",
          "height": 204
        },
        "id": "jLW_kC9dZeXQ",
        "outputId": "b2b945ea-047f-4a5a-b477-7f54d827dbc9",
        "scrolled": true
      },
      "outputs": [],
      "source": [
        "# Visualizando os Dados\n",
        "dados.head()"
      ]
    },
    {
      "cell_type": "code",
      "execution_count": null,
      "metadata": {
        "colab": {
          "base_uri": "https://localhost:8080/",
          "height": 297
        },
        "id": "YCj525_bZeXS",
        "outputId": "249dbbed-b040-4412-fc36-d292c66281d2"
      },
      "outputs": [],
      "source": [
        "# Resumo estatístico da variável passageiros. A média é de 280 passageiros.\n",
        "dados.describe()"
      ]
    },
    {
      "cell_type": "code",
      "execution_count": null,
      "metadata": {
        "colab": {
          "base_uri": "https://localhost:8080/",
          "height": 68
        },
        "id": "iGhQ42axZeXU",
        "outputId": "59a39d65-f2ef-4fb3-f09f-09da21c70a81"
      },
      "outputs": [],
      "source": [
        "# Qual será o mês com maior número de passageiros? Dezembro de 1960 teve 622 passageiros.\n",
        "dados.max()"
      ]
    },
    {
      "cell_type": "code",
      "execution_count": null,
      "metadata": {
        "colab": {
          "base_uri": "https://localhost:8080/",
          "height": 51
        },
        "id": "Aulxk0IPZeXW",
        "outputId": "49d57b82-e4bc-4bf1-e2e5-6d79d030a479"
      },
      "outputs": [],
      "source": [
        "# Vamos coletar o período completo da série temporal\n",
        "print('Início do Período de Tempo: {}\\nFinal do Período de Tempo: {}'.format(dados.mes.min(), dados.mes.max()))"
      ]
    },
    {
      "cell_type": "code",
      "execution_count": null,
      "metadata": {
        "colab": {
          "base_uri": "https://localhost:8080/",
          "height": 34
        },
        "id": "KY28LtqFZeXY",
        "outputId": "8d580705-d29a-4ce2-c927-45b8e1032f2a"
      },
      "outputs": [],
      "source": [
        "# Shape dos Dados\n",
        "dados.shape"
      ]
    },
    {
      "cell_type": "code",
      "execution_count": null,
      "metadata": {
        "colab": {
          "base_uri": "https://localhost:8080/",
          "height": 68
        },
        "id": "fOy0a77vZeXa",
        "outputId": "e3bdf5cf-03c3-43ab-8736-7084cfe9fce9"
      },
      "outputs": [],
      "source": [
        "# Tipos dos Dados\n",
        "dados.dtypes"
      ]
    },
    {
      "cell_type": "markdown",
      "metadata": {
        "id": "0_h7mcRKZeXc"
      },
      "source": [
        "Observe que a coluna de data está como tipo object, que é a representação de string. Teremos que ajustar isso."
      ]
    },
    {
      "cell_type": "code",
      "execution_count": null,
      "metadata": {
        "colab": {
          "base_uri": "https://localhost:8080/",
          "height": 34
        },
        "id": "xyOaO2aSZeXd",
        "outputId": "18bcd50b-2e99-4464-ac3a-4f49f663ee0c"
      },
      "outputs": [],
      "source": [
        "# Tipo do objeto\n",
        "type(dados)"
      ]
    },
    {
      "cell_type": "markdown",
      "metadata": {
        "id": "w61ZD6hIZeXg"
      },
      "source": [
        "### Processamento e Visualização dos Dados"
      ]
    },
    {
      "cell_type": "markdown",
      "metadata": {
        "id": "5qo44mZ4ZeXg"
      },
      "source": [
        "Vamos converter a data do tipo object (string) para o tipo apropriado, datetime, pois assim podemos usar métodos e atributos específicos de datas."
      ]
    },
    {
      "cell_type": "code",
      "execution_count": null,
      "metadata": {
        "id": "ac7BVW6eZeXh"
      },
      "outputs": [],
      "source": [
        "# Convertendo a coluna data de object para datetime  \n",
        "dados['mes'] = pd.to_datetime(dados['mes'], format = '%Y-%m')"
      ]
    },
    {
      "cell_type": "code",
      "execution_count": null,
      "metadata": {
        "colab": {
          "base_uri": "https://localhost:8080/",
          "height": 68
        },
        "id": "yUqlKLSpZeXj",
        "outputId": "eca9fee2-e3e8-4a33-be09-027f909fbaee"
      },
      "outputs": [],
      "source": [
        "# Tipos dos Dados\n",
        "dados.dtypes"
      ]
    },
    {
      "cell_type": "code",
      "execution_count": null,
      "metadata": {
        "colab": {
          "base_uri": "https://localhost:8080/",
          "height": 204
        },
        "id": "pTLPSvLyZeXl",
        "outputId": "d5035afa-07b2-4da1-e564-6f1800906a01"
      },
      "outputs": [],
      "source": [
        "# Visualizando os Dados\n",
        "dados.head()"
      ]
    },
    {
      "cell_type": "code",
      "execution_count": null,
      "metadata": {
        "id": "LspJIgNdZeXm"
      },
      "outputs": [],
      "source": [
        "# Vamos transformar a coluna de data no índice do conjunto de dados. Isso vai facilitar nosso trabalho mais a frente.\n",
        "dados_serie = dados.set_index('mes')"
      ]
    },
    {
      "cell_type": "code",
      "execution_count": null,
      "metadata": {
        "colab": {
          "base_uri": "https://localhost:8080/",
          "height": 235
        },
        "id": "JqkORJWLZeXo",
        "outputId": "96799041-fa36-4fcf-e4ef-031d8706707f"
      },
      "outputs": [],
      "source": [
        "# Visualizando os Dados\n",
        "dados_serie.head()"
      ]
    },
    {
      "cell_type": "markdown",
      "metadata": {
        "id": "hP2RJR8BZeXq"
      },
      "source": [
        "Agora sim podemos chamar esse conjunto de dados de série temporal. Vamos visualizar o índice:"
      ]
    },
    {
      "cell_type": "code",
      "execution_count": null,
      "metadata": {
        "colab": {
          "base_uri": "https://localhost:8080/",
          "height": 88
        },
        "id": "XTHddqOOZeXr",
        "outputId": "bddeb61e-8589-42d8-a862-3a5fd5cd163a"
      },
      "outputs": [],
      "source": [
        "# Visualizando o índice\n",
        "dados_serie.index"
      ]
    },
    {
      "cell_type": "code",
      "execution_count": null,
      "metadata": {
        "colab": {
          "base_uri": "https://localhost:8080/",
          "height": 51
        },
        "id": "0mTDOYbAZeXs",
        "outputId": "371874a5-a877-4ffb-8e90-227bf7b7bd28",
        "scrolled": true
      },
      "outputs": [],
      "source": [
        "# Será que algum valor nulo está presente nos dados?\n",
        "dados_serie.isnull().sum()"
      ]
    },
    {
      "cell_type": "code",
      "execution_count": null,
      "metadata": {
        "colab": {
          "base_uri": "https://localhost:8080/",
          "height": 415
        },
        "id": "gZEUPLuaZeXu",
        "outputId": "9cc5e41a-07ab-49e5-bed8-e48effd9445b",
        "scrolled": false
      },
      "outputs": [],
      "source": [
        "# Plot da série temporal\n",
        "dados_serie.plot(figsize = (15, 6))\n",
        "plt.show()"
      ]
    },
    {
      "cell_type": "markdown",
      "metadata": {
        "id": "siiUO1My3nOt"
      },
      "source": [
        "O gráfico acima mostra 2 componentes da série: Sazonalidade e Tendência. \n",
        "\n",
        "- Sazonalidade - o fenômeno se repete em períodos fixos.\n",
        "- Tendência - ao longo do tempo, a série segue uma tendência de crescimento."
      ]
    },
    {
      "cell_type": "markdown",
      "metadata": {
        "id": "W65pV4Bz3nOu"
      },
      "source": [
        "Outro aspecto a considerar é o comportamento cíclico. Isso acontece quando o padrão de subida e descida da série não ocorre em intervalos fixos baseados em calendário. Deve-se tomar cuidado para não confundir efeito \"cíclico\" com efeito \"sazonal\".\n",
        "\n",
        "Então, como diferenciar um padrão \"cíclico\" versus \"sazonal\"?\n",
        "\n",
        "Se os padrões não tiverem frequências fixas baseadas em calendário, será cíclico. Porque, diferentemente da sazonalidade, os efeitos cíclicos são tipicamente influenciados pelos negócios e outros fatores socioeconômicos.\n"
      ]
    },
    {
      "cell_type": "markdown",
      "metadata": {
        "id": "9NO0hzwhZeXx"
      },
      "source": [
        "Analisar o gráfico da densidade de observações pode fornecer mais informações sobre a estrutura dos dados. Vamos criar o gráfico: "
      ]
    },
    {
      "cell_type": "code",
      "execution_count": null,
      "metadata": {
        "colab": {
          "base_uri": "https://localhost:8080/",
          "height": 281
        },
        "id": "VCLoBl_oZeXx",
        "outputId": "82aede8f-2cf6-4008-a310-d4e095666c42"
      },
      "outputs": [],
      "source": [
        "# Gráfico de Densidade\n",
        "\n",
        "# Plot\n",
        "plt.figure(1)\n",
        "\n",
        "# Subplot 1\n",
        "plt.subplot(211)\n",
        "dados_serie.passageiros.hist()\n",
        "\n",
        "# Subplot 2\n",
        "plt.subplot(212)\n",
        "dados_serie.passageiros.plot(kind = 'kde')\n",
        "plt.show()"
      ]
    },
    {
      "cell_type": "markdown",
      "metadata": {
        "id": "K7lDEpgdZeXz"
      },
      "source": [
        "Análise:\n",
        "    \n",
        "- A distribuição não é perfeitamente gaussiana (distribuição normal).\n",
        "- A distribuição está inclinada para a esquerda.\n",
        "- As transformações podem ser úteis antes da modelagem."
      ]
    },
    {
      "cell_type": "markdown",
      "metadata": {
        "id": "N_jsqBaJZeX0"
      },
      "source": [
        "Vamos agora criar Box Plots para cada ano da série."
      ]
    },
    {
      "cell_type": "code",
      "execution_count": null,
      "metadata": {
        "colab": {
          "base_uri": "https://localhost:8080/",
          "height": 432
        },
        "id": "5Zs5lbbmZeX0",
        "outputId": "8dcfe604-2f39-449a-f1f4-aab1526cd3ac"
      },
      "outputs": [],
      "source": [
        "# Define a área de plotagem para os subplots (os boxplots)\n",
        "fig, ax = plt.subplots(figsize=(15,6))\n",
        "\n",
        "# Cria um box plot para cada ano usando o Seaborn\n",
        "# Observe que estamos extraindo o ano (year) do índice da série\n",
        "sns.boxplot(dados_serie.passageiros.index.year, dados_serie.passageiros, ax = ax)"
      ]
    },
    {
      "cell_type": "markdown",
      "metadata": {
        "id": "SlkZtIuXZeX2"
      },
      "source": [
        "Análise:\n",
        "\n",
        "- Valores medianos ao longo dos anos confirmam uma tendência ascendente.\n",
        "- Aumento constante da dispersão do meio (mediana) dos dados ao longo do tempo. As caixas vão se tornando cada vez maiores.\n",
        "- Um modelo considerando a sazonalidade pode funcionar bem para prever esta série."
      ]
    },
    {
      "cell_type": "code",
      "execution_count": null,
      "metadata": {
        "colab": {
          "base_uri": "https://localhost:8080/",
          "height": 235
        },
        "id": "NC2iGMbj3nO2",
        "outputId": "658a33f4-4668-4744-b936-6b3d2d8310f4"
      },
      "outputs": [],
      "source": [
        "dados_serie.head()"
      ]
    },
    {
      "cell_type": "markdown",
      "metadata": {
        "id": "lqCpPCLI3nO4"
      },
      "source": [
        "Como é uma série temporal mensal e segue um determinado padrão repetitivo todos os anos, você pode plotar cada ano como uma linha separada no mesmo gráfico. Isso permite comparar os padrões do ano lado a lado.\n",
        "\n",
        "Vamos fazer isso? Então execute a célula abaixo.\n",
        "\n",
        "Observe que estou usando agora o dataset \"dados\" e não \"dados_serie\". Por que? Porque precisamos da data como uma coluna e não como índice, para criar o gráfico abaixo."
      ]
    },
    {
      "cell_type": "code",
      "execution_count": null,
      "metadata": {
        "id": "DoKKZBsn3nO5"
      },
      "outputs": [],
      "source": [
        "# Prepara os dados\n",
        "x = dados['mes'].values\n",
        "y1 = dados['passageiros'].values"
      ]
    },
    {
      "cell_type": "code",
      "execution_count": null,
      "metadata": {
        "colab": {
          "base_uri": "https://localhost:8080/",
          "height": 606
        },
        "id": "4sIpNzUo3nO6",
        "outputId": "adb0330b-d7ea-4895-a975-5d081e4b317e"
      },
      "outputs": [],
      "source": [
        "# Plot\n",
        "\n",
        "# Área de plotagem\n",
        "fig, ax = plt.subplots(1, 1, figsize = (16,5), dpi = 120)\n",
        "\n",
        "# Preenchimento do gráfico\n",
        "plt.fill_between(x, y1 = y1, y2 = -y1, alpha = 0.5, linewidth = 2, color = 'blue')\n",
        "\n",
        "# Limites do eixo y\n",
        "plt.ylim(-800, 800)\n",
        "\n",
        "# Título\n",
        "plt.title('Passageiros de Companhias Áreas (Visão Two-Sided)', fontsize = 16)\n",
        "\n",
        "# Limite das linhas\n",
        "plt.hlines(y = 0, xmin = np.min(dados.mes), xmax = np.max(dados.mes), linewidth = .5)\n",
        "\n",
        "# Mostra o gráfico\n",
        "plt.show()"
      ]
    },
    {
      "cell_type": "markdown",
      "metadata": {
        "id": "Q7NbTuqT3nO8"
      },
      "source": [
        "### Séries Temporais Aditivas e Multiplicativas\n",
        "\n",
        "Dependendo da natureza da tendência e da sazonalidade, uma série temporal pode ser modelada como aditiva ou multiplicativa, em que cada observação na série pode ser expressa como uma soma ou um produto dos componentes:\n",
        "\n",
        "- Séries temporais aditivas: Valor = Nível Base + Tendência + Sazonalidade + Erro\n",
        "\n",
        "\n",
        "- Séries temporais multiplicativas: Valor = Nível Base x Tendência x Sazonalidade x Erro"
      ]
    },
    {
      "cell_type": "markdown",
      "metadata": {
        "id": "XlFhswLyZeX3"
      },
      "source": [
        "### Descomposição da Série Temporal\n",
        "\n",
        "- Podemos usar os modelos estatísticos para realizar uma decomposição dessa série cronológica.\n",
        "- A decomposição de séries temporais é uma tarefa estatística que desconstrói uma série temporal em vários componentes, cada um representando uma das categorias de padrões.\n",
        "- Com os modelos de estatísticas, poderemos ver a tendência, os componentes sazonais e residuais de nossos dados.\n",
        "\n",
        "Você pode fazer uma decomposição clássica de uma série temporal, considerando a série como uma combinação aditiva ou multiplicativa do nível base, tendência, índice sazonal e residual.\n",
        "\n",
        "A função seasonal_decompose do pacote Statsmodels em Python implementa isso convenientemente. Aqui o site do Statsmodels com bastante documentação: https://www.statsmodels.org/\n",
        "\n",
        "O Statsmodels é estudado nas Formações FCD e FIAMED aqui na DSA. Confira aqui:\n",
        "\n",
        "https://www.datascienceacademy.com.br/pages/todos-os-cursos-dsa"
      ]
    },
    {
      "cell_type": "markdown",
      "metadata": {
        "id": "CFhsWaMM3nO9"
      },
      "source": [
        "Vamos então decompor nossa série temporal."
      ]
    },
    {
      "cell_type": "code",
      "execution_count": null,
      "metadata": {
        "colab": {
          "base_uri": "https://localhost:8080/",
          "height": 1000
        },
        "id": "wJMCTUIP3nO-",
        "outputId": "054213ab-ca4e-4a61-ea42-77a63580e256"
      },
      "outputs": [],
      "source": [
        "# Multiplicative Decomposition \n",
        "decomposicao_multiplicativa = sm.tsa.seasonal_decompose(dados_serie, model = 'multiplicative', \n",
        "                                                        extrapolate_trend = 'freq')\n",
        "\n",
        "# Additive Decomposition\n",
        "decomposicao_aditiva = sm.tsa.seasonal_decompose(dados_serie, model = 'aditive', \n",
        "                                                 extrapolate_trend = 'freq')\n",
        "\n",
        "# Plot\n",
        "plt.rcParams.update({'figure.figsize': (16,10)})\n",
        "decomposicao_multiplicativa.plot().suptitle('Decomposição Multiplicativa', fontsize = 22)\n",
        "decomposicao_aditiva.plot().suptitle('Decomposição Aditiva', fontsize = 22)\n",
        "plt.show()"
      ]
    },
    {
      "cell_type": "markdown",
      "metadata": {
        "id": "cNdb_98WZeX8"
      },
      "source": [
        "No gráfico acima podemos ver os componentes da série temporal:\n",
        "\n",
        "1- A primeira linha do gráfico mostra os dados observados, em nosso exemplo o número de passageiros.\n",
        "\n",
        "2- A segunda linha mostra a tendência do gráfico, que claramente é uma tendência de crescimento, ou seja, o númeto de passageiros tende a crescer ao longo do tempo.\n",
        "\n",
        "3- A terceira linha mostra a sazonalidade. Claramente temos períodos regulares de aumento e queda, momentos em que temos mais passageiros e momentos com menos passageiros nas viagens aéreas. Isso talvez possa ser explicado pelo aumento das viagens no período de férias, o que se repete ano após ano.\n",
        "\n",
        "4- A quarta linha é o componete irregular ou resíduo."
      ]
    },
    {
      "cell_type": "markdown",
      "metadata": {
        "id": "YlJXDYL13nPA"
      },
      "source": [
        "Definir extrapolate_trend = 'freq' cuida de todos os valores ausentes na tendência e nos resíduos no início da série (se existirem, claro).\n",
        "\n",
        "Se você observar atentamente os resíduos da decomposição aditiva, ela permanece com algum padrão. A decomposição multiplicativa, no entanto, parece bastante aleatória, o que é bom. Então, idealmente, a decomposição multiplicativa deve ser preferida para essa série específica.\n",
        "\n",
        "A saída numérica da tendência, os componentes sazonais e residuais são armazenados na própria saída decomposicao_multiplicativa. Vamos extraí-los e colocá-los em uma tabela de dados."
      ]
    },
    {
      "cell_type": "code",
      "execution_count": null,
      "metadata": {
        "colab": {
          "base_uri": "https://localhost:8080/",
          "height": 34
        },
        "id": "bOmVEOX23nPB",
        "outputId": "907b05b2-6a13-4978-d4a6-541c5ffea2f7"
      },
      "outputs": [],
      "source": [
        "# Tipo do objeto\n",
        "type(decomposicao_multiplicativa)"
      ]
    },
    {
      "cell_type": "code",
      "execution_count": null,
      "metadata": {
        "colab": {
          "base_uri": "https://localhost:8080/",
          "height": 235
        },
        "id": "G6W4-ECJ3nPD",
        "outputId": "559ffcbd-23af-4728-a84c-a80e56f162a8"
      },
      "outputs": [],
      "source": [
        "# Extrair os componentes\n",
        "# Valores reais = Produto de (sazonal * tendência * resíduo)\n",
        "\n",
        "# Concatena o resultado da decomposição da série\n",
        "dados_serie_reconstruida = pd.concat([decomposicao_multiplicativa.seasonal, \n",
        "                                      decomposicao_multiplicativa.trend, \n",
        "                                      decomposicao_multiplicativa.resid, \n",
        "                                      decomposicao_multiplicativa.observed], axis = 1)\n",
        "\n",
        "# Define o nome das colunas\n",
        "dados_serie_reconstruida.columns = ['Sazonalidade', 'Tendência', 'Resíduos', 'Valores_Observados']\n",
        "\n",
        "# Mostra o resultado\n",
        "dados_serie_reconstruida.head ()"
      ]
    },
    {
      "cell_type": "markdown",
      "metadata": {
        "id": "9hNin4xV3nPE"
      },
      "source": [
        "Se você checar, o produto das colunas Sazonalidade, Tendência e Resíduos deve ser exatamente igual a Valores_Observados.\n",
        "\n",
        "Por exemplo:\n",
        "\n",
        "- Série na data 1949-01-01 = 112.0\n",
        "- Série na data 1949-01-01 = Sazonalidade x Tendência x Resíduos = 0.911256 x 118.588481 x 1.036418 = 112.0"
      ]
    },
    {
      "cell_type": "code",
      "execution_count": null,
      "metadata": {
        "colab": {
          "base_uri": "https://localhost:8080/",
          "height": 34
        },
        "id": "Bngp5Dev3nPF",
        "outputId": "8b5aa313-e7bc-4d08-c427-a90e0b49b1a4"
      },
      "outputs": [],
      "source": [
        "# Cálculo em Python\n",
        "valor_observado = 0.911256 * 118.588481 * 1.036418\n",
        "print(valor_observado)"
      ]
    },
    {
      "cell_type": "markdown",
      "metadata": {
        "id": "RKs9PR5b3nPG"
      },
      "source": [
        "Ou seja, isso comprova como uma série temporal é na verdade o conjunto de componentes que podem ser extraídos, transformados, analisados e usados para fazer previsões."
      ]
    }
  ],
  "metadata": {
    "colab": {
      "collapsed_sections": [],
      "name": "Aula04.ipynb",
      "provenance": []
    },
    "kernelspec": {
      "display_name": "Python 3.9.7 ('base')",
      "language": "python",
      "name": "python3"
    },
    "language_info": {
      "codemirror_mode": {
        "name": "ipython",
        "version": 3
      },
      "file_extension": ".py",
      "mimetype": "text/x-python",
      "name": "python",
      "nbconvert_exporter": "python",
      "pygments_lexer": "ipython3",
      "version": "3.9.7"
    },
    "toc": {
      "base_numbering": 1,
      "nav_menu": {
        "height": "436px",
        "width": "256px"
      },
      "number_sections": true,
      "sideBar": false,
      "skip_h1_title": false,
      "title_cell": "Table of Contents",
      "title_sidebar": "Contents",
      "toc_cell": true,
      "toc_position": {},
      "toc_section_display": true,
      "toc_window_display": false
    },
    "vscode": {
      "interpreter": {
        "hash": "ad2bdc8ecc057115af97d19610ffacc2b4e99fae6737bb82f5d7fb13d2f2c186"
      }
    }
  },
  "nbformat": 4,
  "nbformat_minor": 0
}
