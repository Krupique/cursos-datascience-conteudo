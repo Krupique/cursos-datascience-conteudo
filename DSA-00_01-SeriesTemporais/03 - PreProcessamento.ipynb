{
  "cells": [
    {
      "cell_type": "markdown",
      "metadata": {
        "id": "bLmuhM18ZeWz"
      },
      "source": [
        "<strong><b><font size=\"5\">Transformações em Séries Temporais - Log, Raiz Quadrada e Box-Cox</font></b></strong>"
      ]
    },
    {
      "cell_type": "markdown",
      "metadata": {
        "id": "Tgn15tbqZeW0"
      },
      "source": [
        "Todas as aulas deste curso podem ser encontradas na timeline da Comunidade em nosso portal: www.datascienceacademy.com.br"
      ]
    },
    {
      "cell_type": "markdown",
      "metadata": {
        "id": "0qtN6aY7826o"
      },
      "source": [
        "Uma suposição comum em muitas técnicas de séries temporais é que os dados sejam estacionários.\n",
        "Um processo estacionário tem a propriedade de que a média, variância e estrutura de autocorrelação não mudam no decorrer do tempo. \n",
        "\n",
        "Estacionariedade pode ser definida em termos matemáticos precisos, mas para os nossos propósitos queremos dizer uma série parecida com um plano liso, sem tendência, variância constante no decorrer do tempo, um estrutura de autocorrelação constante no decorrer do tempo e nenhuma flutuação periódica (sazonalidadae)."
      ]
    },
    {
      "cell_type": "markdown",
      "metadata": {
        "id": "IKTGREJaZeW2"
      },
      "source": [
        "Há duas razões principais por trás da não estacionariedade de uma série temporal:\n",
        "\n",
        "1. **Tendência** - Média variável ao longo do tempo. Em nosso exemplo, vimos que, em média, o número de passageiros estava crescendo ao longo do tempo.\n",
        "\n",
        "2. **Sazonalidade** - Variações em prazos específicos. Por exemplo, as pessoas podem tender a comprar carros em um determinado mês por causa de uma renda extra ou evento (como férias)."
      ]
    },
    {
      "cell_type": "markdown",
      "metadata": {
        "id": "v9H6EkIY826q"
      },
      "source": [
        "### Tipos de Estacionariedade\n",
        "\n",
        "Vamos entender os diferentes tipos de estacionaridades.\n",
        "\n",
        "**Estacionaridade Estrita**: Uma série estacionária estrita satisfaz a definição matemática de um processo estacionário. Para uma série estacionária estrita, a média, variância e covariância não são funções do tempo. O objetivo é converter uma série não estacionária em uma série estacionária estrita para fazer previsões.\n",
        "\n",
        "**Estacionaridade de Tendência**: Uma série que não possui raiz unitária, mas exibe uma tendência, é chamada de série estacionária de tendência. Uma vez removida a tendência, a série resultante será estritamente estacionária. O teste KPSS (Kwiatkowski-Phillips-Schmidt-Shin) classifica uma série como estacionária na ausência de raiz da unidade. Isso significa que a série pode ser estacionária estrita ou estacionária de tendência.\n",
        "\n",
        "**Estacionaridade Diferencial**: Uma série temporal que pode ser tornada estritamente estacionária pela diferenciação é do tipo estacionária diferencial. O teste ADF (Augmented Dickey Fuller) também é conhecido como teste de estacionariedade diferencial.\n",
        "\n",
        "É sempre melhor aplicar os dois testes, para ter certeza de que a série é realmente estacionária."
      ]
    },
    {
      "cell_type": "markdown",
      "metadata": {
        "id": "HfTrdTDW826r"
      },
      "source": [
        "### E se a série não for estacionária?\n",
        "\n",
        "Se a série temporal não for estacionária, podemos frequentemente transformá-la em estacionária com uma das técnicas seguintes (ou combinações delas).\n",
        "\n",
        "1- Transformações de potência. Aplicamos uma transformação matemática aos dados visando remover padrões e transformar a série em estacionária. As transformações de potência mais comuns são a de log, raiz quadrada e Box-Cox.\n",
        "\n",
        "2- Podemos diferenciar os dados. Isto é, dada a série Yt, criamos a nova série: Y(i) = Y(i) - Y(i-1)\n",
        "\n",
        "Os dados diferenciados conterão um ponto a menos que os dados originais. Embora você possa diferenciar os dados mais que uma vez, uma diferenciação é geralmente suficiente.\n",
        "\n",
        "3- Se os dados tiverem uma tendência, podemos ajustar algum tipo de curva aos dados e depois então modelar os resíduos daquele ajuste. Desde que o propósito do ajuste é simplesmente remover tendências de longo prazo, um ajuste simples, tal como uma linha reta, é tipicamente usado.\n",
        "\n",
        "4- Para dados negativos, você pode adicionar uma constante adequada para tornar todos os dados positivos antes de aplicar a transformação. Esta constante pode então ser subtraída do modelo para obter valores previstos (i.e., ajustados) e previsões para pontos futuros.\n",
        "\n",
        "As técnicas acima são dirigidas para gerarem séries com localizações e escala constantes. "
      ]
    },
    {
      "cell_type": "markdown",
      "metadata": {
        "id": "6LVsvid5826r"
      },
      "source": [
        "Agora que estamos familiarizados com o conceito de estacionariedade e seus diferentes tipos, podemos finalmente estudar como transformar nossa série em estacionária. Estudaremos esse tópico durante algumas aulas.\n",
        "\n",
        "Lembre-se de que, para usar os modelos de previsão de séries temporais, é necessário converter primeiro as séries não estacionárias em séries estacionárias."
      ]
    },
    {
      "cell_type": "markdown",
      "metadata": {
        "id": "NHMMGY96ZeW4"
      },
      "source": [
        "### Carregando e Preparando os Dados"
      ]
    },
    {
      "cell_type": "markdown",
      "metadata": {
        "id": "lBrjho2eZeW5"
      },
      "source": [
        "Vamos carregar os dados e prepará-los para mais uma rodada de análise."
      ]
    },
    {
      "cell_type": "code",
      "execution_count": 10,
      "metadata": {
        "id": "fpaiIJ_DZeW6"
      },
      "outputs": [],
      "source": [
        "# Para atualizar um pacote, execute o comando abaixo no terminal ou prompt de comando:\n",
        "# pip install -U nome_pacote\n",
        "\n",
        "# Para instalar a versão exata de um pacote, execute o comando abaixo no terminal ou prompt de comando:\n",
        "# pip install nome_pacote==versão_desejada\n",
        "\n",
        "# Depois de instalar ou atualizar o pacote, reinicie o jupyter notebook, se necessário."
      ]
    },
    {
      "cell_type": "code",
      "execution_count": 11,
      "metadata": {
        "id": "GkJ8xjvCZeW9"
      },
      "outputs": [],
      "source": [
        "# Instala o pacote watermark. \n",
        "# Esse pacote é usado para gravar as versões de outros pacotes usados neste jupyter notebook.\n",
        "#!pip install -q -U watermark"
      ]
    },
    {
      "cell_type": "code",
      "execution_count": 12,
      "metadata": {
        "id": "1nWPYW--ZeXA"
      },
      "outputs": [],
      "source": [
        "# As novas versões do Pandas e Matplotlib trazem diversas mensagens de aviso ao desenvolvedor. Vamos desativar isso.\n",
        "import sys\n",
        "import warnings\n",
        "import matplotlib.cbook\n",
        "if not sys.warnoptions:\n",
        "    warnings.simplefilter(\"ignore\")\n",
        "warnings.simplefilter(action='ignore', category=FutureWarning)\n",
        "warnings.filterwarnings(\"ignore\", category=FutureWarning)\n",
        "warnings.filterwarnings(\"ignore\", category=matplotlib.cbook.mplDeprecation)\n",
        "\n",
        "# Imports para manipulação de dados\n",
        "import numpy as np\n",
        "import pandas as pd\n",
        "\n",
        "# Imports para visualização de dados\n",
        "import matplotlib.pyplot as plt\n",
        "import matplotlib as m\n",
        "import seaborn as sns\n",
        "\n",
        "# Imports para análise de dados\n",
        "import scipy\n",
        "from scipy.stats import boxcox"
      ]
    },
    {
      "cell_type": "markdown",
      "metadata": {
        "id": "Xr8XFjYvZeXG"
      },
      "source": [
        "Vamos carregar um dataset com uma série temporal.\n",
        "\n",
        "O dataset é público e pode ser encontrado aqui:\n",
        "\n",
        "https://www.kaggle.com/rakannimer/air-passengers\n",
        "\n",
        "O conjunto de dados AirPassenger fornece totais mensais de passageiros de uma companhia aérea dos EUA, de 1949 a 1960. Esse conjunto de dados já é de uma classe de série temporal, portanto, nenhuma manipulação adicional de classe ou data é necessária."
      ]
    },
    {
      "cell_type": "code",
      "execution_count": 13,
      "metadata": {
        "id": "0ZiBthM6ZeXI"
      },
      "outputs": [],
      "source": [
        "# Carrega os dados\n",
        "# Observe que estamos carregando os dados e já definindo a data como índice com o parâmetro index_col = 0\n",
        "dados = pd.read_csv('https://raw.githubusercontent.com/dsacademybr/Datasets/master/dataset1.csv', \n",
        "                    header = None, \n",
        "                    index_col = 0,\n",
        "                    names = ['Passageiros'])"
      ]
    },
    {
      "cell_type": "code",
      "execution_count": 14,
      "metadata": {
        "colab": {
          "base_uri": "https://localhost:8080/",
          "height": 204
        },
        "id": "x-t_FbrI8267",
        "outputId": "ce70b32f-3fba-4fcd-9aa7-e836107a5d50"
      },
      "outputs": [
        {
          "data": {
            "text/html": [
              "<div>\n",
              "<style scoped>\n",
              "    .dataframe tbody tr th:only-of-type {\n",
              "        vertical-align: middle;\n",
              "    }\n",
              "\n",
              "    .dataframe tbody tr th {\n",
              "        vertical-align: top;\n",
              "    }\n",
              "\n",
              "    .dataframe thead th {\n",
              "        text-align: right;\n",
              "    }\n",
              "</style>\n",
              "<table border=\"1\" class=\"dataframe\">\n",
              "  <thead>\n",
              "    <tr style=\"text-align: right;\">\n",
              "      <th></th>\n",
              "      <th>Passageiros</th>\n",
              "    </tr>\n",
              "  </thead>\n",
              "  <tbody>\n",
              "    <tr>\n",
              "      <th>1949-01</th>\n",
              "      <td>112</td>\n",
              "    </tr>\n",
              "    <tr>\n",
              "      <th>1949-02</th>\n",
              "      <td>118</td>\n",
              "    </tr>\n",
              "    <tr>\n",
              "      <th>1949-03</th>\n",
              "      <td>132</td>\n",
              "    </tr>\n",
              "    <tr>\n",
              "      <th>1949-04</th>\n",
              "      <td>129</td>\n",
              "    </tr>\n",
              "    <tr>\n",
              "      <th>1949-05</th>\n",
              "      <td>121</td>\n",
              "    </tr>\n",
              "  </tbody>\n",
              "</table>\n",
              "</div>"
            ],
            "text/plain": [
              "         Passageiros\n",
              "1949-01          112\n",
              "1949-02          118\n",
              "1949-03          132\n",
              "1949-04          129\n",
              "1949-05          121"
            ]
          },
          "execution_count": 14,
          "metadata": {},
          "output_type": "execute_result"
        }
      ],
      "source": [
        "# Série\n",
        "dados.head()"
      ]
    },
    {
      "cell_type": "markdown",
      "metadata": {
        "id": "OAiMLn3C826-"
      },
      "source": [
        "### Principais Técnicas Para Aplicar Estacionaridade:\n",
        "\n",
        "**Transformação**\n",
        "\n",
        "- Transformação de log\n",
        "- Transformação exponencial\n",
        "- Transformação Box Cox\n",
        "- Transformação da raiz quadrada\n",
        "\n",
        "**Remoção de Tendência**\n",
        "\n",
        "- Smoothing (alisamento ou suavização) é usada para remover a tendência da série, calculando médias contínuas ao longo das janelas de tempo.\n",
        "\n",
        "Mas as técnicas acima não funcionam em todos os casos, principalmente nos de alta sazonalidade. Para esses casos, outras técnicas podem ser usadas:\n",
        "\n",
        "**Diferenciação**\n",
        "\n",
        "- Nesta técnica, calculamos a diferença da observação em um determinado instante com a do instante anterior.\n",
        "\n",
        "**Decomposição**\n",
        "\n",
        "- Nesta abordagem (que vimos em uma das aulas anteriores e voltaremos a estudar), a tendência e a sazonalidade são modeladas separadamente e a parte restante da série é retornada.\n",
        "\n",
        "Vamos estudandos as técnicas de forma intercambiável, pois elas são melhores usadas quando aplicadas em conjunto."
      ]
    },
    {
      "cell_type": "markdown",
      "metadata": {
        "id": "HiyjXaB4826_"
      },
      "source": [
        "### Plot da Série Temporal"
      ]
    },
    {
      "cell_type": "code",
      "execution_count": 15,
      "metadata": {
        "colab": {
          "base_uri": "https://localhost:8080/",
          "height": 164
        },
        "id": "7D5k2Gop827A",
        "outputId": "c4a3ecda-c020-452d-e065-1e8d12448560"
      },
      "outputs": [
        {
          "data": {
            "text/plain": [
              "[<matplotlib.lines.Line2D at 0x2433f2f73a0>]"
            ]
          },
          "execution_count": 15,
          "metadata": {},
          "output_type": "execute_result"
        },
        {
          "data": {
            "image/png": "[encoded data removed]",
            "text/plain": [
              "<Figure size 432x288 with 1 Axes>"
            ]
          },
          "metadata": {
            "needs_background": "light"
          },
          "output_type": "display_data"
        }
      ],
      "source": [
        "# Área de plotagem\n",
        "plt.figure(1)\n",
        "\n",
        "# Gráfico de Linha\n",
        "plt.subplot(211)\n",
        "plt.plot(dados['Passageiros'], color = \"red\")"
      ]
    },
    {
      "cell_type": "code",
      "execution_count": 16,
      "metadata": {
        "colab": {
          "base_uri": "https://localhost:8080/",
          "height": 215
        },
        "id": "rUDzUwND827C",
        "outputId": "c8f3b987-107a-4456-8b6c-5af158426a0c"
      },
      "outputs": [
        {
          "data": {
            "text/plain": [
              "(array([24., 27., 19., 18., 22., 13., 10.,  6.,  3.,  2.]),\n",
              " array([104. , 155.8, 207.6, 259.4, 311.2, 363. , 414.8, 466.6, 518.4,\n",
              "        570.2, 622. ]),\n",
              " <BarContainer object of 10 artists>)"
            ]
          },
          "execution_count": 16,
          "metadata": {},
          "output_type": "execute_result"
        },
        {
          "data": {
            "image/png": "[encoded data removed]",
            "text/plain": [
              "<Figure size 432x288 with 1 Axes>"
            ]
          },
          "metadata": {
            "needs_background": "light"
          },
          "output_type": "display_data"
        }
      ],
      "source": [
        "# Histograma\n",
        "plt.subplot(211)\n",
        "plt.hist(dados['Passageiros'], color = \"red\")"
      ]
    },
    {
      "cell_type": "code",
      "execution_count": 17,
      "metadata": {
        "colab": {
          "base_uri": "https://localhost:8080/",
          "height": 34
        },
        "id": "5pV0WS82827E",
        "outputId": "e2c5b89e-ec2a-4385-ea8a-b4fd068564ef"
      },
      "outputs": [
        {
          "data": {
            "text/plain": [
              "280.2986111111111"
            ]
          },
          "execution_count": 17,
          "metadata": {},
          "output_type": "execute_result"
        }
      ],
      "source": [
        "# Média da série\n",
        "dados['Passageiros'].mean()"
      ]
    },
    {
      "cell_type": "code",
      "execution_count": 18,
      "metadata": {
        "colab": {
          "base_uri": "https://localhost:8080/",
          "height": 34
        },
        "id": "jUeGMxCd827H",
        "outputId": "547ddb30-87ae-4fff-d5a8-33f23a7d38da"
      },
      "outputs": [
        {
          "data": {
            "text/plain": [
              "119.96631694294321"
            ]
          },
          "execution_count": 18,
          "metadata": {},
          "output_type": "execute_result"
        }
      ],
      "source": [
        "# Desvio Padrão da série\n",
        "dados['Passageiros'].std()"
      ]
    },
    {
      "cell_type": "markdown",
      "metadata": {
        "id": "--BTxg7Q827K"
      },
      "source": [
        "O conjunto de dados é não estacionário, o que significa que a média e a variância das observações mudam ao longo do tempo. Isso dificulta a modelagem por métodos estatísticos clássicos, como ARIMA, e métodos mais sofisticados de aprendizado de máquina, como redes neurais.\n",
        "\n",
        "Isso é causado pelo que parece ser uma tendência crescente e um componente de sazonalidade.\n",
        "\n",
        "Além disso, a quantidade de alteração ou a variância está aumentando com o tempo. Isso fica claro quando você olha para o tamanho do componente sazonal e percebe que de há um ciclo para o próximo, a amplitude (de baixo para cima do ciclo) está aumentando."
      ]
    },
    {
      "cell_type": "markdown",
      "metadata": {
        "id": "ZQkV8RUH827K"
      },
      "source": [
        "### Transformações"
      ]
    },
    {
      "cell_type": "markdown",
      "metadata": {
        "id": "NeDlpUac827L"
      },
      "source": [
        "As transformações são usadas para estabilizar a variação não constante de uma série. Métodos de transformação comuns incluem transformação de log, raiz quadrada e transformação Box-Cox. Vamos começar pela transformação de log em nosso conjunto de dados de passageiros aéreos."
      ]
    },
    {
      "cell_type": "markdown",
      "metadata": {
        "id": "lLmD0-W8827M"
      },
      "source": [
        "#### Transformação de Log\n",
        "\n",
        "Séries temporais com uma distribuição exponencial podem ser linearizadas usando o logaritmo dos valores. Isso é chamado de transformação de log. Você com certeza lembra do que é logaritmo pois estudou isso no ensino fundamental. :-)\n",
        "\n",
        "As transformações de log são populares em dados de séries temporais, pois são eficazes na remoção da variação exponencial.\n",
        "\n",
        "É importante observar que esta operação assume que os valores são positivos e diferentes de zero. É comum transformar observações adicionando uma constante fixa para garantir que todos os valores de entrada atendam a esse requisito. Por exemplo: serie_transformada_y = log(constante + x)"
      ]
    },
    {
      "cell_type": "code",
      "execution_count": 19,
      "metadata": {
        "colab": {
          "base_uri": "https://localhost:8080/",
          "height": 204
        },
        "id": "4ZugfRIk827N",
        "outputId": "184ee8ce-aa7c-4ea2-cd8e-4c56ec6cddfa"
      },
      "outputs": [
        {
          "data": {
            "text/html": [
              "<div>\n",
              "<style scoped>\n",
              "    .dataframe tbody tr th:only-of-type {\n",
              "        vertical-align: middle;\n",
              "    }\n",
              "\n",
              "    .dataframe tbody tr th {\n",
              "        vertical-align: top;\n",
              "    }\n",
              "\n",
              "    .dataframe thead th {\n",
              "        text-align: right;\n",
              "    }\n",
              "</style>\n",
              "<table border=\"1\" class=\"dataframe\">\n",
              "  <thead>\n",
              "    <tr style=\"text-align: right;\">\n",
              "      <th></th>\n",
              "      <th>Passageiros</th>\n",
              "      <th>Passageiros_log</th>\n",
              "    </tr>\n",
              "  </thead>\n",
              "  <tbody>\n",
              "    <tr>\n",
              "      <th>1949-01</th>\n",
              "      <td>112</td>\n",
              "      <td>4.718499</td>\n",
              "    </tr>\n",
              "    <tr>\n",
              "      <th>1949-02</th>\n",
              "      <td>118</td>\n",
              "      <td>4.770685</td>\n",
              "    </tr>\n",
              "    <tr>\n",
              "      <th>1949-03</th>\n",
              "      <td>132</td>\n",
              "      <td>4.882802</td>\n",
              "    </tr>\n",
              "    <tr>\n",
              "      <th>1949-04</th>\n",
              "      <td>129</td>\n",
              "      <td>4.859812</td>\n",
              "    </tr>\n",
              "    <tr>\n",
              "      <th>1949-05</th>\n",
              "      <td>121</td>\n",
              "      <td>4.795791</td>\n",
              "    </tr>\n",
              "  </tbody>\n",
              "</table>\n",
              "</div>"
            ],
            "text/plain": [
              "         Passageiros  Passageiros_log\n",
              "1949-01          112         4.718499\n",
              "1949-02          118         4.770685\n",
              "1949-03          132         4.882802\n",
              "1949-04          129         4.859812\n",
              "1949-05          121         4.795791"
            ]
          },
          "execution_count": 19,
          "metadata": {},
          "output_type": "execute_result"
        }
      ],
      "source": [
        "# Vamos aplicar uma transformação de log usando np.log() e gravamos o resultado em uma nova coluna do nosso dataset\n",
        "dados['Passageiros_log'] = np.log(dados['Passageiros'])\n",
        "dados.head()"
      ]
    },
    {
      "cell_type": "code",
      "execution_count": 29,
      "metadata": {},
      "outputs": [
        {
          "data": {
            "text/plain": [
              "(144, 3)"
            ]
          },
          "execution_count": 29,
          "metadata": {},
          "output_type": "execute_result"
        }
      ],
      "source": [
        "dados.shape"
      ]
    },
    {
      "cell_type": "code",
      "execution_count": 20,
      "metadata": {
        "colab": {
          "base_uri": "https://localhost:8080/",
          "height": 284
        },
        "id": "_JGnmuDt827O",
        "outputId": "795ef762-90b0-457b-954a-fd3ab029dd69"
      },
      "outputs": [
        {
          "data": {
            "text/plain": [
              "[<matplotlib.lines.Line2D at 0x2433f529190>]"
            ]
          },
          "execution_count": 20,
          "metadata": {},
          "output_type": "execute_result"
        },
        {
          "data": {
            "image/png": "[encoded data removed]",
            "text/plain": [
              "<Figure size 432x288 with 1 Axes>"
            ]
          },
          "metadata": {
            "needs_background": "light"
          },
          "output_type": "display_data"
        }
      ],
      "source": [
        "# Plot da série transformada\n",
        "plt.plot(dados['Passageiros_log'], color = \"green\")"
      ]
    },
    {
      "cell_type": "code",
      "execution_count": 21,
      "metadata": {
        "colab": {
          "base_uri": "https://localhost:8080/",
          "height": 232
        },
        "id": "RgA_U3T5827Q",
        "outputId": "4736704f-db33-46dd-fd97-e3b5c2ad3fc0"
      },
      "outputs": [
        {
          "data": {
            "text/plain": [
              "(array([ 8., 14., 11., 20., 16., 15., 27., 17., 11.,  5.]),\n",
              " array([4.6443909 , 4.82324582, 5.00210074, 5.18095566, 5.35981058,\n",
              "        5.5386655 , 5.71752042, 5.89637533, 6.07523025, 6.25408517,\n",
              "        6.43294009]),\n",
              " <BarContainer object of 10 artists>)"
            ]
          },
          "execution_count": 21,
          "metadata": {},
          "output_type": "execute_result"
        },
        {
          "data": {
            "image/png": "[encoded data removed]",
            "text/plain": [
              "<Figure size 432x288 with 1 Axes>"
            ]
          },
          "metadata": {
            "needs_background": "light"
          },
          "output_type": "display_data"
        }
      ],
      "source": [
        "# Histograma da série transformada\n",
        "plt.subplot(211)\n",
        "plt.hist(dados['Passageiros_log'], color = \"green\")"
      ]
    },
    {
      "cell_type": "markdown",
      "metadata": {
        "id": "vcbUlPlm827S"
      },
      "source": [
        "A execução do exemplo resulta em uma tendência que parece mais linear. O gráfico de linha mostra um crescimento e variação aparentemente lineares.\n",
        "\n",
        "O histograma também mostra uma distribuição de observações do tipo gaussiana mais uniforme."
      ]
    },
    {
      "cell_type": "code",
      "execution_count": 22,
      "metadata": {
        "colab": {
          "base_uri": "https://localhost:8080/",
          "height": 34
        },
        "id": "DkovphPB827T",
        "outputId": "474a5ec6-426f-4845-9f1d-521397dc4bf2"
      },
      "outputs": [
        {
          "data": {
            "text/plain": [
              "5.542175958531869"
            ]
          },
          "execution_count": 22,
          "metadata": {},
          "output_type": "execute_result"
        }
      ],
      "source": [
        "# Média da série\n",
        "dados['Passageiros_log'].mean()"
      ]
    },
    {
      "cell_type": "code",
      "execution_count": 23,
      "metadata": {
        "colab": {
          "base_uri": "https://localhost:8080/",
          "height": 34
        },
        "id": "dq2BHaOx827V",
        "outputId": "60488adb-a8b8-4210-f253-b8441e884aee"
      },
      "outputs": [
        {
          "data": {
            "text/plain": [
              "0.441456424219546"
            ]
          },
          "execution_count": 23,
          "metadata": {},
          "output_type": "execute_result"
        }
      ],
      "source": [
        "# Desvio Padrão da série\n",
        "dados['Passageiros_log'].std()"
      ]
    },
    {
      "cell_type": "markdown",
      "metadata": {
        "id": "yqAlbIvX827X"
      },
      "source": [
        "Observe que mudamos a escala dos dados. Agora, aplicamos a Diferenciação para ver o resultado da transformação."
      ]
    },
    {
      "cell_type": "code",
      "execution_count": 24,
      "metadata": {
        "colab": {
          "base_uri": "https://localhost:8080/",
          "height": 204
        },
        "id": "GATR6fc5827Y",
        "outputId": "991386e5-286e-47fa-91c5-2f35562c38e3"
      },
      "outputs": [
        {
          "data": {
            "text/html": [
              "<div>\n",
              "<style scoped>\n",
              "    .dataframe tbody tr th:only-of-type {\n",
              "        vertical-align: middle;\n",
              "    }\n",
              "\n",
              "    .dataframe tbody tr th {\n",
              "        vertical-align: top;\n",
              "    }\n",
              "\n",
              "    .dataframe thead th {\n",
              "        text-align: right;\n",
              "    }\n",
              "</style>\n",
              "<table border=\"1\" class=\"dataframe\">\n",
              "  <thead>\n",
              "    <tr style=\"text-align: right;\">\n",
              "      <th></th>\n",
              "      <th>Passageiros</th>\n",
              "      <th>Passageiros_log</th>\n",
              "      <th>Passageiros_log_diff</th>\n",
              "    </tr>\n",
              "  </thead>\n",
              "  <tbody>\n",
              "    <tr>\n",
              "      <th>1949-01</th>\n",
              "      <td>112</td>\n",
              "      <td>4.718499</td>\n",
              "      <td>NaN</td>\n",
              "    </tr>\n",
              "    <tr>\n",
              "      <th>1949-02</th>\n",
              "      <td>118</td>\n",
              "      <td>4.770685</td>\n",
              "      <td>0.052186</td>\n",
              "    </tr>\n",
              "    <tr>\n",
              "      <th>1949-03</th>\n",
              "      <td>132</td>\n",
              "      <td>4.882802</td>\n",
              "      <td>0.112117</td>\n",
              "    </tr>\n",
              "    <tr>\n",
              "      <th>1949-04</th>\n",
              "      <td>129</td>\n",
              "      <td>4.859812</td>\n",
              "      <td>-0.022990</td>\n",
              "    </tr>\n",
              "    <tr>\n",
              "      <th>1949-05</th>\n",
              "      <td>121</td>\n",
              "      <td>4.795791</td>\n",
              "      <td>-0.064022</td>\n",
              "    </tr>\n",
              "  </tbody>\n",
              "</table>\n",
              "</div>"
            ],
            "text/plain": [
              "         Passageiros  Passageiros_log  Passageiros_log_diff\n",
              "1949-01          112         4.718499                   NaN\n",
              "1949-02          118         4.770685              0.052186\n",
              "1949-03          132         4.882802              0.112117\n",
              "1949-04          129         4.859812             -0.022990\n",
              "1949-05          121         4.795791             -0.064022"
            ]
          },
          "execution_count": 24,
          "metadata": {},
          "output_type": "execute_result"
        }
      ],
      "source": [
        "# Aplicando Diferenciação - Y(i) = Y(i) - Y(i-1)\n",
        "# Gravamos a série diferenciada no próprio dataset\n",
        "dados['Passageiros_log_diff'] = dados['Passageiros_log'] - dados['Passageiros_log'].shift(1)\n",
        "dados.head()"
      ]
    },
    {
      "cell_type": "code",
      "execution_count": 25,
      "metadata": {
        "colab": {
          "base_uri": "https://localhost:8080/",
          "height": 300
        },
        "id": "VyTniSak827a",
        "outputId": "a46ce1a8-8ce3-4814-e4df-40a069f66fae"
      },
      "outputs": [
        {
          "data": {
            "text/plain": [
              "(array([ 2., 13., 18., 13., 15., 26., 13., 24., 15.,  4.]),\n",
              " array([-0.22314355, -0.17851484, -0.13388613, -0.08925742, -0.04462871,\n",
              "         0.        ,  0.04462871,  0.08925742,  0.13388613,  0.17851484,\n",
              "         0.22314355]),\n",
              " <BarContainer object of 10 artists>)"
            ]
          },
          "execution_count": 25,
          "metadata": {},
          "output_type": "execute_result"
        },
        {
          "data": {
            "image/png": "[encoded data removed]",
            "text/plain": [
              "<Figure size 432x288 with 1 Axes>"
            ]
          },
          "metadata": {
            "needs_background": "light"
          },
          "output_type": "display_data"
        }
      ],
      "source": [
        "# Histograma da série diferenciada\n",
        "plt.subplot(211)\n",
        "plt.hist(dados['Passageiros_log_diff'], color = \"blue\")"
      ]
    },
    {
      "cell_type": "code",
      "execution_count": 26,
      "metadata": {
        "colab": {
          "base_uri": "https://localhost:8080/",
          "height": 34
        },
        "id": "mryfrsFt827c",
        "outputId": "364bdd3c-fc6f-4c76-ad8c-54882012d888"
      },
      "outputs": [
        {
          "data": {
            "text/plain": [
              "0.009440046971671445"
            ]
          },
          "execution_count": 26,
          "metadata": {},
          "output_type": "execute_result"
        }
      ],
      "source": [
        "# Média da série\n",
        "dados['Passageiros_log_diff'].mean()"
      ]
    },
    {
      "cell_type": "code",
      "execution_count": 27,
      "metadata": {
        "colab": {
          "base_uri": "https://localhost:8080/",
          "height": 34
        },
        "id": "YeQ31Lcm827e",
        "outputId": "08f57e7a-c38f-4566-d732-8d3f7091e0b1"
      },
      "outputs": [
        {
          "data": {
            "text/plain": [
              "0.10655614752984616"
            ]
          },
          "execution_count": 27,
          "metadata": {},
          "output_type": "execute_result"
        }
      ],
      "source": [
        "# Desvio Padrão da série\n",
        "dados['Passageiros_log_diff'].std()"
      ]
    },
    {
      "cell_type": "code",
      "execution_count": 28,
      "metadata": {
        "colab": {
          "base_uri": "https://localhost:8080/",
          "height": 282
        },
        "id": "yv4q1gPS827g",
        "outputId": "68dfa1b0-1af4-435a-fe35-018760386688"
      },
      "outputs": [
        {
          "data": {
            "text/plain": [
              "<AxesSubplot:>"
            ]
          },
          "execution_count": 28,
          "metadata": {},
          "output_type": "execute_result"
        },
        {
          "data": {
            "image/png": "[encoded data removed]",
            "text/plain": [
              "<Figure size 432x288 with 1 Axes>"
            ]
          },
          "metadata": {
            "needs_background": "light"
          },
          "output_type": "display_data"
        }
      ],
      "source": [
        "# Perceba que gerou um valor NA\n",
        "# Isso é normal, pois ao aplicar a Diferenciação perdemos um ponto de dado\n",
        "# Precisamos tomar cuidado ao criar o plot, removendo o valor NA\n",
        "dados['Passageiros_log_diff'].dropna().plot(color = \"blue\")"
      ]
    },
    {
      "cell_type": "markdown",
      "metadata": {
        "id": "f8WwvXHB827i"
      },
      "source": [
        "Como você pode ver, esse gráfico é uma melhoria significativa em relação aos gráficos anteriores. \n",
        "\n",
        "Ao aplicar transformações, você consegue representar na série apenas o que realmente importa para suas análises: os dados, neste caso, o número de passageiros ao longo do tempo."
      ]
    },
    {
      "cell_type": "markdown",
      "metadata": {
        "id": "zQY108wZ827j"
      },
      "source": [
        "#### Transformação de Raiz Quadrada\n",
        "\n",
        "Uma série temporal que tem uma tendência quadrática de crescimento pode ser linearizada calculando sua raiz quadrada.\n",
        "\n",
        "É possível que o conjunto de dados de passageiros de companhias aéreas mostre um crescimento quadrático. Se esse for o caso, poderíamos esperar que uma transformação de raiz quadrada para reduzir a tendência de crescimento seja linear e alterar a distribuição de observações para talvez ser quase gaussiana.\n",
        "\n",
        "O exemplo abaixo executa uma raiz quadrada do conjunto de dados e plota os resultados."
      ]
    },
    {
      "cell_type": "code",
      "execution_count": 30,
      "metadata": {
        "colab": {
          "base_uri": "https://localhost:8080/",
          "height": 164
        },
        "id": "Tq6mjgeQ827j",
        "outputId": "2bbd8da0-076e-4cef-8c56-7a4ab71547dc"
      },
      "outputs": [
        {
          "data": {
            "text/plain": [
              "[<matplotlib.lines.Line2D at 0x243414814c0>]"
            ]
          },
          "execution_count": 30,
          "metadata": {},
          "output_type": "execute_result"
        },
        {
          "data": {
            "image/png": "[encoded data removed]",
            "text/plain": [
              "<Figure size 432x288 with 1 Axes>"
            ]
          },
          "metadata": {
            "needs_background": "light"
          },
          "output_type": "display_data"
        }
      ],
      "source": [
        "# Transformação de Raiz Quadrada com np.sqrt()\n",
        "dados_sqrt = np.sqrt(dados['Passageiros'])\n",
        "\n",
        "# Gráfico de Linha\n",
        "plt.subplot(211)\n",
        "plt.plot(dados_sqrt, color = \"magenta\")"
      ]
    },
    {
      "cell_type": "code",
      "execution_count": 31,
      "metadata": {
        "colab": {
          "base_uri": "https://localhost:8080/",
          "height": 265
        },
        "id": "DNqKJXsZ827m",
        "outputId": "1b8dc305-b3bd-435c-feed-32fbba957ca3"
      },
      "outputs": [
        {
          "data": {
            "image/png": "[encoded data removed]",
            "text/plain": [
              "<Figure size 432x288 with 1 Axes>"
            ]
          },
          "metadata": {
            "needs_background": "light"
          },
          "output_type": "display_data"
        }
      ],
      "source": [
        "# Histograma\n",
        "plt.hist(dados_sqrt, color = \"magenta\")\n",
        "plt.show()"
      ]
    },
    {
      "cell_type": "markdown",
      "metadata": {
        "id": "BihAwrtX827o"
      },
      "source": [
        "Podemos ver que a tendência foi reduzida, mas não foi removida.\n",
        "\n",
        "O gráfico de linha ainda mostra uma variação crescente de ciclo para ciclo. E o histograma ainda mostra uma cauda longa à direita da distribuição, sugerindo uma distribuição exponencial ou de cauda longa."
      ]
    },
    {
      "cell_type": "markdown",
      "metadata": {
        "id": "SlnnTCbn827p"
      },
      "source": [
        "#### Transformação Box-Cox\n",
        "\n",
        "A transformação de raiz quadrada e a transformação de log pertencem a uma classe de transformações denominadas transformações de potência.\n",
        "\n",
        "A transformação Box-Cox é um método de transformação de dados configurável que suporta a raiz quadrada e a transformação de log, bem como um conjunto de transformações relacionadas.\n",
        "\n",
        "Mais do que isso, pode ser configurado para avaliar um conjunto de transformações automaticamente e selecionar o melhor ajuste. Pode ser pensado como uma ferramenta elétrica para resolver mudanças baseadas em energia em suas séries temporais. A série resultante pode ser mais linear e a distribuição resultante mais gaussiana ou uniforme, dependendo do processo que a gerou.\n",
        "\n",
        "A biblioteca scipy.stats fornece uma implementação da transformação Box-Cox. A função boxcox() usa um argumento, chamado lambda, que controla o tipo de transformação a ser executada.\n",
        "\n",
        "Abaixo estão alguns valores comuns para lambda\n",
        "\n",
        "- lambda = -1. é uma transformação recíproca.\n",
        "- lambda = -0,5 é uma transformação de raiz quadrada recíproca.\n",
        "- lambda = 0,0 é uma transformação de log.\n",
        "- lambda = 0,5 é uma transformação de raiz quadrada.\n",
        "- lambda = 1.0 não é transformação.\n",
        "\n",
        "Vamos ao exemplo:"
      ]
    },
    {
      "cell_type": "code",
      "execution_count": 32,
      "metadata": {
        "colab": {
          "base_uri": "https://localhost:8080/",
          "height": 204
        },
        "id": "vAdyz820827q",
        "outputId": "c3867792-66ce-4347-93e7-503038cd69be"
      },
      "outputs": [
        {
          "data": {
            "text/html": [
              "<div>\n",
              "<style scoped>\n",
              "    .dataframe tbody tr th:only-of-type {\n",
              "        vertical-align: middle;\n",
              "    }\n",
              "\n",
              "    .dataframe tbody tr th {\n",
              "        vertical-align: top;\n",
              "    }\n",
              "\n",
              "    .dataframe thead th {\n",
              "        text-align: right;\n",
              "    }\n",
              "</style>\n",
              "<table border=\"1\" class=\"dataframe\">\n",
              "  <thead>\n",
              "    <tr style=\"text-align: right;\">\n",
              "      <th></th>\n",
              "      <th>Passageiros</th>\n",
              "      <th>Passageiros_log</th>\n",
              "      <th>Passageiros_log_diff</th>\n",
              "      <th>Passageiros_box</th>\n",
              "    </tr>\n",
              "  </thead>\n",
              "  <tbody>\n",
              "    <tr>\n",
              "      <th>1949-01</th>\n",
              "      <td>112</td>\n",
              "      <td>4.718499</td>\n",
              "      <td>NaN</td>\n",
              "      <td>4.718499</td>\n",
              "    </tr>\n",
              "    <tr>\n",
              "      <th>1949-02</th>\n",
              "      <td>118</td>\n",
              "      <td>4.770685</td>\n",
              "      <td>0.052186</td>\n",
              "      <td>4.770685</td>\n",
              "    </tr>\n",
              "    <tr>\n",
              "      <th>1949-03</th>\n",
              "      <td>132</td>\n",
              "      <td>4.882802</td>\n",
              "      <td>0.112117</td>\n",
              "      <td>4.882802</td>\n",
              "    </tr>\n",
              "    <tr>\n",
              "      <th>1949-04</th>\n",
              "      <td>129</td>\n",
              "      <td>4.859812</td>\n",
              "      <td>-0.022990</td>\n",
              "      <td>4.859812</td>\n",
              "    </tr>\n",
              "    <tr>\n",
              "      <th>1949-05</th>\n",
              "      <td>121</td>\n",
              "      <td>4.795791</td>\n",
              "      <td>-0.064022</td>\n",
              "      <td>4.795791</td>\n",
              "    </tr>\n",
              "  </tbody>\n",
              "</table>\n",
              "</div>"
            ],
            "text/plain": [
              "         Passageiros  Passageiros_log  Passageiros_log_diff  Passageiros_box\n",
              "1949-01          112         4.718499                   NaN         4.718499\n",
              "1949-02          118         4.770685              0.052186         4.770685\n",
              "1949-03          132         4.882802              0.112117         4.882802\n",
              "1949-04          129         4.859812             -0.022990         4.859812\n",
              "1949-05          121         4.795791             -0.064022         4.795791"
            ]
          },
          "execution_count": 32,
          "metadata": {},
          "output_type": "execute_result"
        }
      ],
      "source": [
        "# Aplicando Transformação Box-Cox\n",
        "dados['Passageiros_box'] = boxcox(dados['Passageiros'], lmbda = 0.0)\n",
        "dados.head()"
      ]
    },
    {
      "cell_type": "code",
      "execution_count": 33,
      "metadata": {
        "colab": {
          "base_uri": "https://localhost:8080/",
          "height": 284
        },
        "id": "Uhkcs165827s",
        "outputId": "6b1548c9-d8cc-4803-c290-ed4a3377a5b3"
      },
      "outputs": [
        {
          "data": {
            "text/plain": [
              "[<matplotlib.lines.Line2D at 0x243415a69d0>]"
            ]
          },
          "execution_count": 33,
          "metadata": {},
          "output_type": "execute_result"
        },
        {
          "data": {
            "image/png": "[encoded data removed]",
            "text/plain": [
              "<Figure size 432x288 with 1 Axes>"
            ]
          },
          "metadata": {
            "needs_background": "light"
          },
          "output_type": "display_data"
        }
      ],
      "source": [
        "# Plot da série transformada\n",
        "plt.plot(dados['Passageiros_box'], color = \"cyan\")"
      ]
    },
    {
      "cell_type": "code",
      "execution_count": 34,
      "metadata": {
        "colab": {
          "base_uri": "https://localhost:8080/",
          "height": 265
        },
        "id": "WMRqdx0m827v",
        "outputId": "46567bd2-84fe-46f5-8749-badfa40b22b7"
      },
      "outputs": [
        {
          "data": {
            "image/png": "[encoded data removed]",
            "text/plain": [
              "<Figure size 432x288 with 1 Axes>"
            ]
          },
          "metadata": {
            "needs_background": "light"
          },
          "output_type": "display_data"
        }
      ],
      "source": [
        "# Histograma\n",
        "plt.hist(dados['Passageiros_box'], color = \"cyan\")\n",
        "plt.show()"
      ]
    },
    {
      "cell_type": "markdown",
      "metadata": {
        "id": "3AwtYlW6827x"
      },
      "source": [
        "Podemos definir o parâmetro lambda como None (o padrão) e deixar a função encontrar um valor ajustado estatisticamente.\n",
        "\n",
        "O exemplo a seguir demonstra esse uso, retornando o conjunto de dados transformado e o valor lambda escolhido."
      ]
    },
    {
      "cell_type": "code",
      "execution_count": 35,
      "metadata": {
        "colab": {
          "base_uri": "https://localhost:8080/",
          "height": 221
        },
        "id": "y9UBsBdI827x",
        "outputId": "7a65ceb6-6067-4614-d943-395001f1f0bc"
      },
      "outputs": [
        {
          "name": "stdout",
          "output_type": "stream",
          "text": [
            "Valor Ideal de Lambda: 0.148023\n"
          ]
        },
        {
          "data": {
            "text/html": [
              "<div>\n",
              "<style scoped>\n",
              "    .dataframe tbody tr th:only-of-type {\n",
              "        vertical-align: middle;\n",
              "    }\n",
              "\n",
              "    .dataframe tbody tr th {\n",
              "        vertical-align: top;\n",
              "    }\n",
              "\n",
              "    .dataframe thead th {\n",
              "        text-align: right;\n",
              "    }\n",
              "</style>\n",
              "<table border=\"1\" class=\"dataframe\">\n",
              "  <thead>\n",
              "    <tr style=\"text-align: right;\">\n",
              "      <th></th>\n",
              "      <th>Passageiros</th>\n",
              "      <th>Passageiros_log</th>\n",
              "      <th>Passageiros_log_diff</th>\n",
              "      <th>Passageiros_box</th>\n",
              "      <th>Passageiros_box2</th>\n",
              "    </tr>\n",
              "  </thead>\n",
              "  <tbody>\n",
              "    <tr>\n",
              "      <th>1949-01</th>\n",
              "      <td>112</td>\n",
              "      <td>4.718499</td>\n",
              "      <td>NaN</td>\n",
              "      <td>4.718499</td>\n",
              "      <td>6.827490</td>\n",
              "    </tr>\n",
              "    <tr>\n",
              "      <th>1949-02</th>\n",
              "      <td>118</td>\n",
              "      <td>4.770685</td>\n",
              "      <td>0.052186</td>\n",
              "      <td>4.770685</td>\n",
              "      <td>6.932822</td>\n",
              "    </tr>\n",
              "    <tr>\n",
              "      <th>1949-03</th>\n",
              "      <td>132</td>\n",
              "      <td>4.882802</td>\n",
              "      <td>0.112117</td>\n",
              "      <td>4.882802</td>\n",
              "      <td>7.161892</td>\n",
              "    </tr>\n",
              "    <tr>\n",
              "      <th>1949-04</th>\n",
              "      <td>129</td>\n",
              "      <td>4.859812</td>\n",
              "      <td>-0.022990</td>\n",
              "      <td>4.859812</td>\n",
              "      <td>7.114611</td>\n",
              "    </tr>\n",
              "    <tr>\n",
              "      <th>1949-05</th>\n",
              "      <td>121</td>\n",
              "      <td>4.795791</td>\n",
              "      <td>-0.064022</td>\n",
              "      <td>4.795791</td>\n",
              "      <td>6.983787</td>\n",
              "    </tr>\n",
              "  </tbody>\n",
              "</table>\n",
              "</div>"
            ],
            "text/plain": [
              "         Passageiros  Passageiros_log  Passageiros_log_diff  Passageiros_box  \\\n",
              "1949-01          112         4.718499                   NaN         4.718499   \n",
              "1949-02          118         4.770685              0.052186         4.770685   \n",
              "1949-03          132         4.882802              0.112117         4.882802   \n",
              "1949-04          129         4.859812             -0.022990         4.859812   \n",
              "1949-05          121         4.795791             -0.064022         4.795791   \n",
              "\n",
              "         Passageiros_box2  \n",
              "1949-01          6.827490  \n",
              "1949-02          6.932822  \n",
              "1949-03          7.161892  \n",
              "1949-04          7.114611  \n",
              "1949-05          6.983787  "
            ]
          },
          "execution_count": 35,
          "metadata": {},
          "output_type": "execute_result"
        }
      ],
      "source": [
        "# Aplicando Transformação Box-Cox\n",
        "dados['Passageiros_box2'], lam_value = boxcox(dados['Passageiros'])\n",
        "print('Valor Ideal de Lambda: %f' % lam_value)\n",
        "dados.head()"
      ]
    },
    {
      "cell_type": "code",
      "execution_count": 36,
      "metadata": {
        "colab": {
          "base_uri": "https://localhost:8080/",
          "height": 282
        },
        "id": "SULnJoj48270",
        "outputId": "19c83eba-9ca9-4ad9-da2b-13c56a82731a"
      },
      "outputs": [
        {
          "data": {
            "text/plain": [
              "[<matplotlib.lines.Line2D at 0x2434184cc70>]"
            ]
          },
          "execution_count": 36,
          "metadata": {},
          "output_type": "execute_result"
        },
        {
          "data": {
            "image/png": "[encoded data removed]",
            "text/plain": [
              "<Figure size 432x288 with 1 Axes>"
            ]
          },
          "metadata": {
            "needs_background": "light"
          },
          "output_type": "display_data"
        }
      ],
      "source": [
        "# Plot da série transformada\n",
        "plt.plot(dados['Passageiros_box2'], color = \"black\")"
      ]
    },
    {
      "cell_type": "code",
      "execution_count": 37,
      "metadata": {
        "colab": {
          "base_uri": "https://localhost:8080/",
          "height": 265
        },
        "id": "TwzY1PgN8271",
        "outputId": "4d7bfd96-47c6-482b-e740-229325b9c10a"
      },
      "outputs": [
        {
          "data": {
            "image/png": "[encoded data removed]",
            "text/plain": [
              "<Figure size 432x288 with 1 Axes>"
            ]
          },
          "metadata": {
            "needs_background": "light"
          },
          "output_type": "display_data"
        }
      ],
      "source": [
        "# Histograma\n",
        "plt.hist(dados['Passageiros_box2'], color = \"black\")\n",
        "plt.show()"
      ]
    },
    {
      "cell_type": "markdown",
      "metadata": {
        "id": "h3u2UMXQ8274"
      },
      "source": [
        "A execução do exemplo gerou o valor lambda de 0,148.\n",
        "\n",
        "Podemos ver que isso está muito próximo de um valor lambda de 0,0, resultando em uma transformação de log mais forte (e menor que) que 0.5 para a transformação de raiz quadrada."
      ]
    }
  ],
  "metadata": {
    "colab": {
      "collapsed_sections": [],
      "name": "Aula06.ipynb",
      "provenance": []
    },
    "kernelspec": {
      "display_name": "Python 3.9.7 ('base')",
      "language": "python",
      "name": "python3"
    },
    "language_info": {
      "codemirror_mode": {
        "name": "ipython",
        "version": 3
      },
      "file_extension": ".py",
      "mimetype": "text/x-python",
      "name": "python",
      "nbconvert_exporter": "python",
      "pygments_lexer": "ipython3",
      "version": "3.9.7"
    },
    "toc": {
      "base_numbering": 1,
      "nav_menu": {
        "height": "436px",
        "width": "256px"
      },
      "number_sections": true,
      "sideBar": false,
      "skip_h1_title": false,
      "title_cell": "Table of Contents",
      "title_sidebar": "Contents",
      "toc_cell": true,
      "toc_position": {},
      "toc_section_display": true,
      "toc_window_display": false
    },
    "vscode": {
      "interpreter": {
        "hash": "ad2bdc8ecc057115af97d19610ffacc2b4e99fae6737bb82f5d7fb13d2f2c186"
      }
    }
  },
  "nbformat": 4,
  "nbformat_minor": 0
}
