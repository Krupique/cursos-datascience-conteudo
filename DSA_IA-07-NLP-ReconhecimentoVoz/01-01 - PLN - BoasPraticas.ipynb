{
 "cells": [
  {
   "cell_type": "markdown",
   "metadata": {},
   "source": [
    "# Processamento de Linguagem Natural"
   ]
  },
  {
   "cell_type": "markdown",
   "metadata": {},
   "source": [
    "O processamento de linguagem natural é um campo da ciência da computação, inteligência artificial e computação linguística, cujo foco está nos computadores e na linguagem natural humana. É uma subárea da inteligência artificial e da linguística que estuda os problemas da geração e compreensão automática de línguas humanas naturais.\n",
    "\n",
    "**Por que aprender linguagem natural?**<br/>\n",
    "Com o big data e a imensa quantidade de dados sendo gerados a todo momento de maneira não estruturada, utilizar linguagem natural é uma excelente ferramenta de compreender diferentes dados e extrair insights.\n",
    "\n",
    "**Aplicações de PLN:**<br/>\n",
    "* Corretores ortográficos (Microsoft Word, google docs);\n",
    "* Engines de reconhecimento de voz (Siri, Google voice);\n",
    "* Classificadores de Spam;\n",
    "* Mecanismos de Busca (Google, Bing);\n",
    "* Sistemas de inteligência artificial como assistentes pessoais.\n",
    "\n",
    "**Ferramentas open-source para PLN:**\n",
    "* GATE;\n",
    "* Mallet;\n",
    "* UIMA;\n",
    "* OpenNLP;\n",
    "* Genism;\n",
    "* NLTK;\n",
    "\n",
    "<img src=\"assets/nlp00.png\"/><br/>\n",
    "<img src=\"assets/nlp01.png\"/>\n",
    "\n",
    "\n",
    "Para a implementação de analisadores sintáticos é necessária a construção de um parser para que seja procedida a verificação da posição da palavra na frase.\n"
   ]
  },
  {
   "cell_type": "markdown",
   "metadata": {},
   "source": [
    "## Boas Práticas"
   ]
  },
  {
   "cell_type": "markdown",
   "metadata": {},
   "source": [
    "## Use Listas, Sets e Dicionários"
   ]
  },
  {
   "cell_type": "markdown",
   "metadata": {},
   "source": [
    "Listas, conjuntos (sets) e dicionários são muito otimizados para processamento de texto e formam o núcleo da linguagem Python. Use-os!"
   ]
  },
  {
   "cell_type": "code",
   "execution_count": 1,
   "metadata": {},
   "outputs": [],
   "source": [
    "colors = ['verde', 'amarelo', 'azul', 'verde']"
   ]
  },
  {
   "cell_type": "code",
   "execution_count": 2,
   "metadata": {},
   "outputs": [
    {
     "data": {
      "text/plain": [
       "{'amarelo', 'azul', 'verde'}"
      ]
     },
     "execution_count": 2,
     "metadata": {},
     "output_type": "execute_result"
    }
   ],
   "source": [
    "set(colors)"
   ]
  },
  {
   "cell_type": "code",
   "execution_count": 3,
   "metadata": {},
   "outputs": [],
   "source": [
    "lista1 = ['matemática', 'química', 1998, 2015]"
   ]
  },
  {
   "cell_type": "code",
   "execution_count": 4,
   "metadata": {},
   "outputs": [
    {
     "data": {
      "text/plain": [
       "['matemática', 'química', 1998, 2015]"
      ]
     },
     "execution_count": 4,
     "metadata": {},
     "output_type": "execute_result"
    }
   ],
   "source": [
    "lista1"
   ]
  },
  {
   "cell_type": "code",
   "execution_count": 5,
   "metadata": {},
   "outputs": [],
   "source": [
    "dict1 = {'Nome': 'Zara', 'Idade': 28, 'Classe': 'Terceira'}"
   ]
  },
  {
   "cell_type": "code",
   "execution_count": 6,
   "metadata": {},
   "outputs": [
    {
     "data": {
      "text/plain": [
       "{'Nome': 'Zara', 'Idade': 28, 'Classe': 'Terceira'}"
      ]
     },
     "execution_count": 6,
     "metadata": {},
     "output_type": "execute_result"
    }
   ],
   "source": [
    "dict1"
   ]
  },
  {
   "cell_type": "markdown",
   "metadata": {},
   "source": [
    "## Unicode"
   ]
  },
  {
   "cell_type": "markdown",
   "metadata": {},
   "source": [
    "Fundamentalmente, os computadores lidam com números. Gravam letras e outros caracteres na memória designando um número para cada um deles. Antes de o Unicode ser inventado, havia centenas de sistemas diferentes de codificação . Nenhum destes sistemas de codificação, no entanto, poderia conter caracteres suficientes: por exemplo, a União Européia por si só requer vários sistemas de codificação diferentes para cobrir todas a línguas. Mesmo para uma única língua como o inglês não havia sistema de codificação adequado para todas as letras, pontuação e símbolos técnicos em uso corrente.\n",
    "\n",
    "Estes sistemas de codificação são também conflitantes entre si. Em outras palavras, dois codificadores podem usar o mesmo número para dois caracteres diferentes ou usar números diferentes para o mesmo caracter. Qualquer computador em particular (especialmente os servidores) precisam suportar muitos codificadores diferentes; ainda assim toda as vezes que se passam dados entre codificadores ou plataformas diferentes, estes dados sempre correm o risco de serem corrompidos."
   ]
  },
  {
   "cell_type": "markdown",
   "metadata": {},
   "source": [
    "O Unicode fornece um único número para cada caracter, não importa a plataforma, não importa o programa, não importa a língua. O Padrão Unicode tem sido adotado por líderes do setor de informática tais como a Apple, HP, IBM, Microsoft, Oracle, SAP, Sun, Sybase, Unisys e muitos outros. O Unicode é necessário para padrões modernos tais como o XML, Java, ECMAScript (JavaScript), LDAP, CORBA 3.0, WML, etc. e é a maneira oficial de implementar o ISO/IEC 10646. É suportado por muitos sistemas operacionais, todos os browsers modernos e muitos outros produtos. O surgimento do Padrão Unicode Standard e a disponibilidade de instrumentos para suportá-lo está entre as tendências recentes mais significativas das tecnológicas mundiais de software."
   ]
  },
  {
   "cell_type": "code",
   "execution_count": 7,
   "metadata": {},
   "outputs": [
    {
     "name": "stdout",
     "output_type": "stream",
     "text": [
      "4\n"
     ]
    }
   ],
   "source": [
    "a = 'maça'\n",
    "print (len(a))"
   ]
  },
  {
   "cell_type": "code",
   "execution_count": 8,
   "metadata": {},
   "outputs": [
    {
     "name": "stdout",
     "output_type": "stream",
     "text": [
      "maça\n"
     ]
    }
   ],
   "source": [
    "print(a)"
   ]
  },
  {
   "cell_type": "code",
   "execution_count": 9,
   "metadata": {},
   "outputs": [
    {
     "name": "stdout",
     "output_type": "stream",
     "text": [
      "4\n"
     ]
    }
   ],
   "source": [
    "b = u'maça'\n",
    "print (len(b))"
   ]
  },
  {
   "cell_type": "code",
   "execution_count": 10,
   "metadata": {},
   "outputs": [
    {
     "name": "stdout",
     "output_type": "stream",
     "text": [
      "maça\n"
     ]
    }
   ],
   "source": [
    "print(b)"
   ]
  },
  {
   "cell_type": "code",
   "execution_count": 11,
   "metadata": {},
   "outputs": [
    {
     "data": {
      "text/plain": [
       "True"
      ]
     },
     "execution_count": 11,
     "metadata": {},
     "output_type": "execute_result"
    }
   ],
   "source": [
    "a == b"
   ]
  },
  {
   "cell_type": "markdown",
   "metadata": {},
   "source": [
    "Descobrir a codificação de texto é tarefa do desenvolvedor, não da linguagem Python! É o seu trabalho!"
   ]
  },
  {
   "cell_type": "code",
   "execution_count": 12,
   "metadata": {},
   "outputs": [],
   "source": [
    "a = u'coração'.encode('latin1')"
   ]
  },
  {
   "cell_type": "code",
   "execution_count": 13,
   "metadata": {},
   "outputs": [
    {
     "name": "stdout",
     "output_type": "stream",
     "text": [
      "b'cora\\xe7\\xe3o'\n"
     ]
    }
   ],
   "source": [
    "print(a)"
   ]
  },
  {
   "cell_type": "code",
   "execution_count": 14,
   "metadata": {},
   "outputs": [],
   "source": [
    "#!pip install chardet"
   ]
  },
  {
   "cell_type": "code",
   "execution_count": 18,
   "metadata": {},
   "outputs": [
    {
     "data": {
      "text/plain": [
       "{'encoding': 'ISO-8859-1', 'confidence': 0.73, 'language': ''}"
      ]
     },
     "execution_count": 18,
     "metadata": {},
     "output_type": "execute_result"
    }
   ],
   "source": [
    "# Algumas bibliotecas podem ajudar, mas lembre-se: encontrar a codificação correta é uma ciência heurística!\n",
    "import chardet\n",
    "chardet.detect(a)"
   ]
  },
  {
   "cell_type": "code",
   "execution_count": 19,
   "metadata": {},
   "outputs": [
    {
     "name": "stdout",
     "output_type": "stream",
     "text": [
      "coração\n"
     ]
    }
   ],
   "source": [
    "print (a.decode(chardet.detect(a)['encoding']))"
   ]
  },
  {
   "cell_type": "markdown",
   "metadata": {},
   "source": [
    "## List Comprehension"
   ]
  },
  {
   "cell_type": "markdown",
   "metadata": {},
   "source": [
    "List Comprehensions são muito otimizadas. Use-as para filtrar dados!"
   ]
  },
  {
   "cell_type": "code",
   "execution_count": 20,
   "metadata": {},
   "outputs": [],
   "source": [
    "palavras = ['morango', 'kiwi', 'abacaxi', 'pera', 'banana', 'laranja', 'abacaxi', 'abacate']"
   ]
  },
  {
   "cell_type": "code",
   "execution_count": 21,
   "metadata": {},
   "outputs": [
    {
     "name": "stdout",
     "output_type": "stream",
     "text": [
      "Frutas: abacate, abacaxi, banana, kiwi, laranja, morango, pera\n"
     ]
    }
   ],
   "source": [
    "# Join, sort e set em uma mesma operação\n",
    "print ('Frutas: ' + ', '.join(sorted(set(palavras))))"
   ]
  },
  {
   "cell_type": "code",
   "execution_count": 22,
   "metadata": {},
   "outputs": [
    {
     "data": {
      "text/plain": [
       "True"
      ]
     },
     "execution_count": 22,
     "metadata": {},
     "output_type": "execute_result"
    }
   ],
   "source": [
    "# Utilize o operador in, ao invés de um loop (with == ...)\n",
    "'abacaxi' in palavras"
   ]
  },
  {
   "cell_type": "code",
   "execution_count": 23,
   "metadata": {},
   "outputs": [
    {
     "name": "stdout",
     "output_type": "stream",
     "text": [
      "{'morango': 1, 'kiwi': 1, 'abacaxi': 2, 'pera': 1, 'banana': 1, 'laranja': 1, 'abacate': 1}\n"
     ]
    }
   ],
   "source": [
    "# Listas de frequência\n",
    "freqlist = dict()\n",
    "for word in palavras:\n",
    "    freqlist[word] = freqlist.get(word, 0) + 1\n",
    "print (freqlist)"
   ]
  },
  {
   "cell_type": "code",
   "execution_count": 24,
   "metadata": {},
   "outputs": [
    {
     "data": {
      "text/plain": [
       "'abacaxi, morango, kiwi, pera, banana, laranja, abacate'"
      ]
     },
     "execution_count": 24,
     "metadata": {},
     "output_type": "execute_result"
    }
   ],
   "source": [
    "# Ordenação por frequência\n",
    "from operator import itemgetter\n",
    "', '.join([word for word, freq in sorted(freqlist.items(), key = itemgetter(1), reverse = True)])"
   ]
  },
  {
   "cell_type": "code",
   "execution_count": 25,
   "metadata": {},
   "outputs": [
    {
     "data": {
      "text/plain": [
       "'texto em quotes'"
      ]
     },
     "execution_count": 25,
     "metadata": {},
     "output_type": "execute_result"
    }
   ],
   "source": [
    "# Slicing é fundamental no processamento de texto\n",
    "text = 'E ele disse: \"texto em quotes\" e continou...'\n",
    "text[text.find('\"')+1:text.rfind('\"')]"
   ]
  },
  {
   "cell_type": "markdown",
   "metadata": {},
   "source": [
    "## Outras Estruturas de Dados"
   ]
  },
  {
   "cell_type": "code",
   "execution_count": 26,
   "metadata": {},
   "outputs": [
    {
     "data": {
      "text/plain": [
       "Counter({'morango': 1,\n",
       "         'kiwi': 1,\n",
       "         'abacaxi': 2,\n",
       "         'pera': 1,\n",
       "         'banana': 1,\n",
       "         'laranja': 1,\n",
       "         'abacate': 1})"
      ]
     },
     "execution_count": 26,
     "metadata": {},
     "output_type": "execute_result"
    }
   ],
   "source": [
    "# Counter\n",
    "from collections import Counter\n",
    "Counter(palavras)"
   ]
  },
  {
   "cell_type": "code",
   "execution_count": 27,
   "metadata": {
    "collapsed": true,
    "jupyter": {
     "outputs_hidden": true
    },
    "tags": []
   },
   "outputs": [
    {
     "name": "stdout",
     "output_type": "stream",
     "text": [
      "Collecting blist\n",
      "  Using cached blist-1.3.6.tar.gz (122 kB)\n",
      "Building wheels for collected packages: blist\n",
      "  Building wheel for blist (setup.py): started\n",
      "  Building wheel for blist (setup.py): finished with status 'error'\n",
      "  Running setup.py clean for blist\n",
      "Failed to build blist\n",
      "Installing collected packages: blist\n",
      "    Running setup.py install for blist: started\n",
      "    Running setup.py install for blist: finished with status 'error'\n"
     ]
    },
    {
     "name": "stderr",
     "output_type": "stream",
     "text": [
      "  ERROR: Command errored out with exit status 1:\n",
      "   command: 'c:\\python\\python38\\python.exe' -u -c 'import sys, setuptools, tokenize; sys.argv[0] = '\"'\"'C:\\\\Users\\\\krupc\\\\AppData\\\\Local\\\\Temp\\\\pip-install-ev57tvhk\\\\blist\\\\setup.py'\"'\"'; __file__='\"'\"'C:\\\\Users\\\\krupc\\\\AppData\\\\Local\\\\Temp\\\\pip-install-ev57tvhk\\\\blist\\\\setup.py'\"'\"';f=getattr(tokenize, '\"'\"'open'\"'\"', open)(__file__);code=f.read().replace('\"'\"'\\r\\n'\"'\"', '\"'\"'\\n'\"'\"');f.close();exec(compile(code, __file__, '\"'\"'exec'\"'\"'))' bdist_wheel -d 'C:\\Users\\krupc\\AppData\\Local\\Temp\\pip-wheel-0frdxgnf'\n",
      "       cwd: C:\\Users\\krupc\\AppData\\Local\\Temp\\pip-install-ev57tvhk\\blist\\\n",
      "  Complete output (104 lines):\n",
      "  running bdist_wheel\n",
      "  running build\n",
      "  running build_py\n",
      "  creating build\n",
      "  creating build\\lib.win-amd64-3.8\n",
      "  creating build\\lib.win-amd64-3.8\\blist\n",
      "  copying blist\\_btuple.py -> build\\lib.win-amd64-3.8\\blist\n",
      "  copying blist\\_sorteddict.py -> build\\lib.win-amd64-3.8\\blist\n",
      "  copying blist\\_sortedlist.py -> build\\lib.win-amd64-3.8\\blist\n",
      "  copying blist\\__init__.py -> build\\lib.win-amd64-3.8\\blist\n",
      "  running build_ext\n",
      "  building 'blist._blist' extension\n",
      "  creating build\\temp.win-amd64-3.8\n",
      "  creating build\\temp.win-amd64-3.8\\Release\n",
      "  creating build\\temp.win-amd64-3.8\\Release\\blist\n",
      "  C:\\Program Files (x86)\\Microsoft Visual Studio\\2019\\Community\\VC\\Tools\\MSVC\\14.24.28314\\bin\\HostX86\\x64\\cl.exe /c /nologo /Ox /W3 /GL /DNDEBUG /MD -DBLIST_FLOAT_RADIX_SORT=1 -Ic:\\python\\python38\\include -Ic:\\python\\python38\\include \"-IC:\\Program Files (x86)\\Microsoft Visual Studio\\2019\\Community\\VC\\Tools\\MSVC\\14.24.28314\\ATLMFC\\include\" \"-IC:\\Program Files (x86)\\Microsoft Visual Studio\\2019\\Community\\VC\\Tools\\MSVC\\14.24.28314\\include\" \"-IC:\\Program Files (x86)\\Windows Kits\\NETFXSDK\\4.8\\include\\um\" \"-IC:\\Program Files (x86)\\Windows Kits\\10\\include\\10.0.18362.0\\ucrt\" \"-IC:\\Program Files (x86)\\Windows Kits\\10\\include\\10.0.18362.0\\shared\" \"-IC:\\Program Files (x86)\\Windows Kits\\10\\include\\10.0.18362.0\\um\" \"-IC:\\Program Files (x86)\\Windows Kits\\10\\include\\10.0.18362.0\\winrt\" \"-IC:\\Program Files (x86)\\Windows Kits\\10\\include\\10.0.18362.0\\cppwinrt\" /Tcblist/_blist.c /Fobuild\\temp.win-amd64-3.8\\Release\\blist/_blist.obj\n",
      "  _blist.c\n",
      "  blist/_blist.c(1525): warning C4244: '=': conversÆo de 'Py_ssize_t' para 'int', poss¡vel perda de dados\n",
      "  blist/_blist.c(1537): warning C4244: '=': conversÆo de 'Py_ssize_t' para 'int', poss¡vel perda de dados\n",
      "  blist/_blist.c(1717): warning C4244: 'fun‡Æo': conversÆo de 'Py_ssize_t' para 'unsigned int', poss¡vel perda de dados\n",
      "  blist/_blist.c(1812): warning C4244: 'fun‡Æo': conversÆo de 'Py_ssize_t' para 'unsigned int', poss¡vel perda de dados\n",
      "  blist/_blist.c(2003): warning C4244: 'fun‡Æo': conversÆo de 'Py_ssize_t' para 'unsigned int', poss¡vel perda de dados\n",
      "  blist/_blist.c(2536): warning C4244: 'fun‡Æo': conversÆo de 'Py_ssize_t' para 'int', poss¡vel perda de dados\n",
      "  blist/_blist.c(2543): warning C4244: 'fun‡Æo': conversÆo de 'Py_ssize_t' para 'int', poss¡vel perda de dados\n",
      "  blist/_blist.c(2567): warning C4244: 'fun‡Æo': conversÆo de 'Py_ssize_t' para 'int', poss¡vel perda de dados\n",
      "  blist/_blist.c(2567): warning C4244: 'fun‡Æo': conversÆo de 'Py_ssize_t' para 'int', poss¡vel perda de dados\n",
      "  blist/_blist.c(2569): warning C4244: '=': conversÆo de 'Py_ssize_t' para 'int', poss¡vel perda de dados\n",
      "  blist/_blist.c(2625): warning C4244: 'fun‡Æo': conversÆo de 'Py_ssize_t' para 'int', poss¡vel perda de dados\n",
      "  blist/_blist.c(2625): warning C4244: 'fun‡Æo': conversÆo de 'Py_ssize_t' para 'int', poss¡vel perda de dados\n",
      "  blist/_blist.c(2859): warning C4244: '=': conversÆo de 'Py_ssize_t' para 'int', poss¡vel perda de dados\n",
      "  blist/_blist.c(3046): warning C4244: 'fun‡Æo': conversÆo de 'Py_ssize_t' para 'long', poss¡vel perda de dados\n",
      "  blist/_blist.c(3043): warning C4244: 'inicializando': conversÆo de 'Py_ssize_t' para 'int', poss¡vel perda de dados\n",
      "  blist/_blist.c(3115): warning C4244: '=': conversÆo de 'Py_ssize_t' para 'int', poss¡vel perda de dados\n",
      "  blist/_blist.c(3197): warning C4244: '=': conversÆo de 'Py_ssize_t' para 'int', poss¡vel perda de dados\n",
      "  blist/_blist.c(3257): warning C4244: 'fun‡Æo': conversÆo de 'Py_ssize_t' para 'long', poss¡vel perda de dados\n",
      "  blist/_blist.c(3541): warning C4244: '=': conversÆo de 'Py_ssize_t' para 'unsigned int', poss¡vel perda de dados\n",
      "  blist/_blist.c(3554): warning C4244: '=': conversÆo de 'Py_ssize_t' para 'unsigned int', poss¡vel perda de dados\n",
      "  blist/_blist.c(3643): warning C4244: '=': conversÆo de 'Py_ssize_t' para 'int', poss¡vel perda de dados\n",
      "  blist/_blist.c(3676): warning C4244: '=': conversÆo de '__int64' para 'int', poss¡vel perda de dados\n",
      "  blist/_blist.c(4305): warning C4244: 'fun‡Æo': conversÆo de 'Py_ssize_t' para 'int', poss¡vel perda de dados\n",
      "  blist/_blist.c(4305): warning C4244: 'fun‡Æo': conversÆo de 'Py_ssize_t' para 'int', poss¡vel perda de dados\n",
      "  blist/_blist.c(4308): warning C4244: 'fun‡Æo': conversÆo de 'Py_ssize_t' para 'int', poss¡vel perda de dados\n",
      "  blist/_blist.c(4308): warning C4244: 'fun‡Æo': conversÆo de 'Py_ssize_t' para 'int', poss¡vel perda de dados\n",
      "  blist/_blist.c(4310): warning C4244: '=': conversÆo de 'Py_ssize_t' para 'int', poss¡vel perda de dados\n",
      "  blist/_blist.c(4329): warning C4244: 'fun‡Æo': conversÆo de 'Py_ssize_t' para 'int', poss¡vel perda de dados\n",
      "  blist/_blist.c(4330): warning C4244: '=': conversÆo de 'Py_ssize_t' para 'int', poss¡vel perda de dados\n",
      "  blist/_blist.c(4437): warning C4244: '=': conversÆo de 'Py_ssize_t' para 'int', poss¡vel perda de dados\n",
      "  blist/_blist.c(5008): warning C4244: 'inicializando': conversÆo de '__int64' para 'int', poss¡vel perda de dados\n",
      "  blist/_blist.c(5145): warning C4244: 'fun‡Æo': conversÆo de 'Py_ssize_t' para 'int', poss¡vel perda de dados\n",
      "  blist/_blist.c(5145): warning C4244: 'fun‡Æo': conversÆo de 'Py_ssize_t' para 'int', poss¡vel perda de dados\n",
      "  blist/_blist.c(5148): warning C4244: 'fun‡Æo': conversÆo de 'Py_ssize_t' para 'int', poss¡vel perda de dados\n",
      "  blist/_blist.c(5148): warning C4244: 'fun‡Æo': conversÆo de 'Py_ssize_t' para 'int', poss¡vel perda de dados\n",
      "  blist/_blist.c(5159): warning C4244: 'fun‡Æo': conversÆo de 'Py_ssize_t' para 'int', poss¡vel perda de dados\n",
      "  blist/_blist.c(5159): warning C4244: 'fun‡Æo': conversÆo de 'Py_ssize_t' para 'int', poss¡vel perda de dados\n",
      "  blist/_blist.c(5180): warning C4244: 'return': conversÆo de 'Py_ssize_t' para 'int', poss¡vel perda de dados\n",
      "  blist/_blist.c(5239): warning C4244: 'fun‡Æo': conversÆo de 'Py_ssize_t' para 'int', poss¡vel perda de dados\n",
      "  blist/_blist.c(5243): warning C4244: 'fun‡Æo': conversÆo de 'Py_ssize_t' para 'int', poss¡vel perda de dados\n",
      "  blist/_blist.c(5243): warning C4244: 'fun‡Æo': conversÆo de 'Py_ssize_t' para 'int', poss¡vel perda de dados\n",
      "  blist/_blist.c(5244): warning C4244: '-=': conversÆo de 'Py_ssize_t' para 'int', poss¡vel perda de dados\n",
      "  blist/_blist.c(5246): warning C4244: 'fun‡Æo': conversÆo de 'Py_ssize_t' para 'int', poss¡vel perda de dados\n",
      "  blist/_blist.c(5253): warning C4244: 'fun‡Æo': conversÆo de 'Py_ssize_t' para 'int', poss¡vel perda de dados\n",
      "  blist/_blist.c(5253): warning C4244: 'fun‡Æo': conversÆo de 'Py_ssize_t' para 'int', poss¡vel perda de dados\n",
      "  blist/_blist.c(5254): warning C4244: '-=': conversÆo de 'Py_ssize_t' para 'int', poss¡vel perda de dados\n",
      "  blist/_blist.c(5256): warning C4244: 'fun‡Æo': conversÆo de 'Py_ssize_t' para 'int', poss¡vel perda de dados\n",
      "  blist/_blist.c(5262): warning C4244: 'fun‡Æo': conversÆo de 'Py_ssize_t' para 'int', poss¡vel perda de dados\n",
      "  blist/_blist.c(5282): warning C4244: 'return': conversÆo de 'Py_ssize_t' para 'int', poss¡vel perda de dados\n",
      "  blist/_blist.c(5551): warning C4244: 'fun‡Æo': conversÆo de 'Py_ssize_t' para 'int', poss¡vel perda de dados\n",
      "  blist/_blist.c(5551): warning C4244: 'fun‡Æo': conversÆo de 'Py_ssize_t' para 'int', poss¡vel perda de dados\n",
      "  blist/_blist.c(5582): warning C4244: 'fun‡Æo': conversÆo de 'Py_ssize_t' para 'int', poss¡vel perda de dados\n",
      "  blist/_blist.c(5582): warning C4244: 'fun‡Æo': conversÆo de 'Py_ssize_t' para 'int', poss¡vel perda de dados\n",
      "  blist/_blist.c(5590): warning C4244: 'fun‡Æo': conversÆo de 'Py_ssize_t' para 'int', poss¡vel perda de dados\n",
      "  blist/_blist.c(5601): warning C4244: 'fun‡Æo': conversÆo de 'Py_ssize_t' para 'int', poss¡vel perda de dados\n",
      "  blist/_blist.c(5601): warning C4244: 'fun‡Æo': conversÆo de 'Py_ssize_t' para 'int', poss¡vel perda de dados\n",
      "  blist/_blist.c(5602): warning C4244: 'fun‡Æo': conversÆo de 'Py_ssize_t' para 'int', poss¡vel perda de dados\n",
      "  blist/_blist.c(5892): warning C4244: 'fun‡Æo': conversÆo de 'Py_ssize_t' para 'int', poss¡vel perda de dados\n",
      "  blist/_blist.c(5892): warning C4244: 'fun‡Æo': conversÆo de 'Py_ssize_t' para 'int', poss¡vel perda de dados\n",
      "  blist/_blist.c(5894): warning C4244: 'fun‡Æo': conversÆo de 'Py_ssize_t' para 'int', poss¡vel perda de dados\n",
      "  blist/_blist.c(5894): warning C4244: 'fun‡Æo': conversÆo de 'Py_ssize_t' para 'int', poss¡vel perda de dados\n",
      "  blist/_blist.c(5895): warning C4244: '+=': conversÆo de 'Py_ssize_t' para 'int', poss¡vel perda de dados\n",
      "  blist/_blist.c(5896): warning C4244: 'fun‡Æo': conversÆo de 'Py_ssize_t' para 'int', poss¡vel perda de dados\n",
      "  blist/_blist.c(5896): warning C4244: 'fun‡Æo': conversÆo de 'Py_ssize_t' para 'int', poss¡vel perda de dados\n",
      "  blist/_blist.c(5958): warning C4244: 'fun‡Æo': conversÆo de 'Py_ssize_t' para 'int', poss¡vel perda de dados\n",
      "  blist/_blist.c(5994): error C2121: '#': caractere inv lido: possivelmente o resultado de uma expansÆo de macro\n",
      "  blist/_blist.c(5994): error C2065: 'endif': identificador nÆo declarado\n",
      "  blist/_blist.c(5994): warning C4047: 'fun‡Æo': 'Py_ssize_t *' difere em n¡veis de indire‡Æo de 'Py_ssize_t'\n",
      "  blist/_blist.c(5994): warning C4024: 'PySlice_Unpack': tipos diferentes para parƒmetro formal e real 2\n",
      "  blist/_blist.c(5994): warning C4024: 'PySlice_AdjustIndices': tipos diferentes para parƒmetro formal e real 2\n",
      "  blist/_blist.c(6216): warning C4244: 'fun‡Æo': conversÆo de 'Py_ssize_t' para 'int', poss¡vel perda de dados\n",
      "  blist/_blist.c(6216): warning C4244: 'fun‡Æo': conversÆo de 'Py_ssize_t' para 'int', poss¡vel perda de dados\n",
      "  blist/_blist.c(6217): warning C4244: '=': conversÆo de 'Py_ssize_t' para 'int', poss¡vel perda de dados\n",
      "  blist/_blist.c(6323): warning C4244: 'fun‡Æo': conversÆo de 'Py_ssize_t' para 'int', poss¡vel perda de dados\n",
      "  blist/_blist.c(6324): warning C4244: 'fun‡Æo': conversÆo de 'Py_ssize_t' para 'int', poss¡vel perda de dados\n",
      "  blist/_blist.c(6324): warning C4244: 'fun‡Æo': conversÆo de 'Py_ssize_t' para 'int', poss¡vel perda de dados\n",
      "  blist/_blist.c(6325): warning C4244: '=': conversÆo de 'Py_ssize_t' para 'int', poss¡vel perda de dados\n",
      "  blist/_blist.c(6614): warning C4244: '=': conversÆo de 'Py_ssize_t' para 'int', poss¡vel perda de dados\n",
      "  blist/_blist.c(6883): warning C4244: 'fun‡Æo': conversÆo de 'Py_ssize_t' para 'int', poss¡vel perda de dados\n",
      "  blist/_blist.c(6963): error C2121: '#': caractere inv lido: possivelmente o resultado de uma expansÆo de macro\n",
      "  blist/_blist.c(6963): error C2065: 'endif': identificador nÆo declarado\n",
      "  blist/_blist.c(6963): warning C4047: 'fun‡Æo': 'Py_ssize_t *' difere em n¡veis de indire‡Æo de 'Py_ssize_t'\n",
      "  blist/_blist.c(6963): warning C4024: 'PySlice_Unpack': tipos diferentes para parƒmetro formal e real 2\n",
      "  blist/_blist.c(6963): warning C4024: 'PySlice_AdjustIndices': tipos diferentes para parƒmetro formal e real 2\n",
      "  blist/_blist.c(7073): warning C4244: '=': conversÆo de 'Py_ssize_t' para 'int', poss¡vel perda de dados\n",
      "  blist/_blist.c(7742): fatal error C1070: par #if/#endif sem correspondˆncia no arquivo 'C:\\Users\\krupc\\AppData\\Local\\Temp\\pip-install-ev57tvhk\\blist\\blist\\_blist.c'\n",
      "  error: command 'C:\\\\Program Files (x86)\\\\Microsoft Visual Studio\\\\2019\\\\Community\\\\VC\\\\Tools\\\\MSVC\\\\14.24.28314\\\\bin\\\\HostX86\\\\x64\\\\cl.exe' failed with exit status 2\n",
      "  ----------------------------------------\n",
      "  ERROR: Failed building wheel for blist\n",
      "    ERROR: Command errored out with exit status 1:\n",
      "     command: 'c:\\python\\python38\\python.exe' -u -c 'import sys, setuptools, tokenize; sys.argv[0] = '\"'\"'C:\\\\Users\\\\krupc\\\\AppData\\\\Local\\\\Temp\\\\pip-install-ev57tvhk\\\\blist\\\\setup.py'\"'\"'; __file__='\"'\"'C:\\\\Users\\\\krupc\\\\AppData\\\\Local\\\\Temp\\\\pip-install-ev57tvhk\\\\blist\\\\setup.py'\"'\"';f=getattr(tokenize, '\"'\"'open'\"'\"', open)(__file__);code=f.read().replace('\"'\"'\\r\\n'\"'\"', '\"'\"'\\n'\"'\"');f.close();exec(compile(code, __file__, '\"'\"'exec'\"'\"'))' install --record 'C:\\Users\\krupc\\AppData\\Local\\Temp\\pip-record-mymx2box\\install-record.txt' --single-version-externally-managed --compile --install-headers 'c:\\python\\python38\\Include\\blist'\n",
      "         cwd: C:\\Users\\krupc\\AppData\\Local\\Temp\\pip-install-ev57tvhk\\blist\\\n",
      "    Complete output (104 lines):\n",
      "    running install\n",
      "    running build\n",
      "    running build_py\n",
      "    creating build\n",
      "    creating build\\lib.win-amd64-3.8\n",
      "    creating build\\lib.win-amd64-3.8\\blist\n",
      "    copying blist\\_btuple.py -> build\\lib.win-amd64-3.8\\blist\n",
      "    copying blist\\_sorteddict.py -> build\\lib.win-amd64-3.8\\blist\n",
      "    copying blist\\_sortedlist.py -> build\\lib.win-amd64-3.8\\blist\n",
      "    copying blist\\__init__.py -> build\\lib.win-amd64-3.8\\blist\n",
      "    running build_ext\n",
      "    building 'blist._blist' extension\n",
      "    creating build\\temp.win-amd64-3.8\n",
      "    creating build\\temp.win-amd64-3.8\\Release\n",
      "    creating build\\temp.win-amd64-3.8\\Release\\blist\n",
      "    C:\\Program Files (x86)\\Microsoft Visual Studio\\2019\\Community\\VC\\Tools\\MSVC\\14.24.28314\\bin\\HostX86\\x64\\cl.exe /c /nologo /Ox /W3 /GL /DNDEBUG /MD -DBLIST_FLOAT_RADIX_SORT=1 -Ic:\\python\\python38\\include -Ic:\\python\\python38\\include \"-IC:\\Program Files (x86)\\Microsoft Visual Studio\\2019\\Community\\VC\\Tools\\MSVC\\14.24.28314\\ATLMFC\\include\" \"-IC:\\Program Files (x86)\\Microsoft Visual Studio\\2019\\Community\\VC\\Tools\\MSVC\\14.24.28314\\include\" \"-IC:\\Program Files (x86)\\Windows Kits\\NETFXSDK\\4.8\\include\\um\" \"-IC:\\Program Files (x86)\\Windows Kits\\10\\include\\10.0.18362.0\\ucrt\" \"-IC:\\Program Files (x86)\\Windows Kits\\10\\include\\10.0.18362.0\\shared\" \"-IC:\\Program Files (x86)\\Windows Kits\\10\\include\\10.0.18362.0\\um\" \"-IC:\\Program Files (x86)\\Windows Kits\\10\\include\\10.0.18362.0\\winrt\" \"-IC:\\Program Files (x86)\\Windows Kits\\10\\include\\10.0.18362.0\\cppwinrt\" /Tcblist/_blist.c /Fobuild\\temp.win-amd64-3.8\\Release\\blist/_blist.obj\n",
      "    _blist.c\n",
      "    blist/_blist.c(1525): warning C4244: '=': conversÆo de 'Py_ssize_t' para 'int', poss¡vel perda de dados\n",
      "    blist/_blist.c(1537): warning C4244: '=': conversÆo de 'Py_ssize_t' para 'int', poss¡vel perda de dados\n",
      "    blist/_blist.c(1717): warning C4244: 'fun‡Æo': conversÆo de 'Py_ssize_t' para 'unsigned int', poss¡vel perda de dados\n",
      "    blist/_blist.c(1812): warning C4244: 'fun‡Æo': conversÆo de 'Py_ssize_t' para 'unsigned int', poss¡vel perda de dados\n",
      "    blist/_blist.c(2003): warning C4244: 'fun‡Æo': conversÆo de 'Py_ssize_t' para 'unsigned int', poss¡vel perda de dados\n",
      "    blist/_blist.c(2536): warning C4244: 'fun‡Æo': conversÆo de 'Py_ssize_t' para 'int', poss¡vel perda de dados\n",
      "    blist/_blist.c(2543): warning C4244: 'fun‡Æo': conversÆo de 'Py_ssize_t' para 'int', poss¡vel perda de dados\n",
      "    blist/_blist.c(2567): warning C4244: 'fun‡Æo': conversÆo de 'Py_ssize_t' para 'int', poss¡vel perda de dados\n",
      "    blist/_blist.c(2567): warning C4244: 'fun‡Æo': conversÆo de 'Py_ssize_t' para 'int', poss¡vel perda de dados\n",
      "    blist/_blist.c(2569): warning C4244: '=': conversÆo de 'Py_ssize_t' para 'int', poss¡vel perda de dados\n",
      "    blist/_blist.c(2625): warning C4244: 'fun‡Æo': conversÆo de 'Py_ssize_t' para 'int', poss¡vel perda de dados\n",
      "    blist/_blist.c(2625): warning C4244: 'fun‡Æo': conversÆo de 'Py_ssize_t' para 'int', poss¡vel perda de dados\n",
      "    blist/_blist.c(2859): warning C4244: '=': conversÆo de 'Py_ssize_t' para 'int', poss¡vel perda de dados\n",
      "    blist/_blist.c(3046): warning C4244: 'fun‡Æo': conversÆo de 'Py_ssize_t' para 'long', poss¡vel perda de dados\n",
      "    blist/_blist.c(3043): warning C4244: 'inicializando': conversÆo de 'Py_ssize_t' para 'int', poss¡vel perda de dados\n",
      "    blist/_blist.c(3115): warning C4244: '=': conversÆo de 'Py_ssize_t' para 'int', poss¡vel perda de dados\n",
      "    blist/_blist.c(3197): warning C4244: '=': conversÆo de 'Py_ssize_t' para 'int', poss¡vel perda de dados\n",
      "    blist/_blist.c(3257): warning C4244: 'fun‡Æo': conversÆo de 'Py_ssize_t' para 'long', poss¡vel perda de dados\n",
      "    blist/_blist.c(3541): warning C4244: '=': conversÆo de 'Py_ssize_t' para 'unsigned int', poss¡vel perda de dados\n",
      "    blist/_blist.c(3554): warning C4244: '=': conversÆo de 'Py_ssize_t' para 'unsigned int', poss¡vel perda de dados\n",
      "    blist/_blist.c(3643): warning C4244: '=': conversÆo de 'Py_ssize_t' para 'int', poss¡vel perda de dados\n",
      "    blist/_blist.c(3676): warning C4244: '=': conversÆo de '__int64' para 'int', poss¡vel perda de dados\n",
      "    blist/_blist.c(4305): warning C4244: 'fun‡Æo': conversÆo de 'Py_ssize_t' para 'int', poss¡vel perda de dados\n",
      "    blist/_blist.c(4305): warning C4244: 'fun‡Æo': conversÆo de 'Py_ssize_t' para 'int', poss¡vel perda de dados\n",
      "    blist/_blist.c(4308): warning C4244: 'fun‡Æo': conversÆo de 'Py_ssize_t' para 'int', poss¡vel perda de dados\n",
      "    blist/_blist.c(4308): warning C4244: 'fun‡Æo': conversÆo de 'Py_ssize_t' para 'int', poss¡vel perda de dados\n",
      "    blist/_blist.c(4310): warning C4244: '=': conversÆo de 'Py_ssize_t' para 'int', poss¡vel perda de dados\n",
      "    blist/_blist.c(4329): warning C4244: 'fun‡Æo': conversÆo de 'Py_ssize_t' para 'int', poss¡vel perda de dados\n",
      "    blist/_blist.c(4330): warning C4244: '=': conversÆo de 'Py_ssize_t' para 'int', poss¡vel perda de dados\n",
      "    blist/_blist.c(4437): warning C4244: '=': conversÆo de 'Py_ssize_t' para 'int', poss¡vel perda de dados\n",
      "    blist/_blist.c(5008): warning C4244: 'inicializando': conversÆo de '__int64' para 'int', poss¡vel perda de dados\n",
      "    blist/_blist.c(5145): warning C4244: 'fun‡Æo': conversÆo de 'Py_ssize_t' para 'int', poss¡vel perda de dados\n",
      "    blist/_blist.c(5145): warning C4244: 'fun‡Æo': conversÆo de 'Py_ssize_t' para 'int', poss¡vel perda de dados\n",
      "    blist/_blist.c(5148): warning C4244: 'fun‡Æo': conversÆo de 'Py_ssize_t' para 'int', poss¡vel perda de dados\n",
      "    blist/_blist.c(5148): warning C4244: 'fun‡Æo': conversÆo de 'Py_ssize_t' para 'int', poss¡vel perda de dados\n",
      "    blist/_blist.c(5159): warning C4244: 'fun‡Æo': conversÆo de 'Py_ssize_t' para 'int', poss¡vel perda de dados\n",
      "    blist/_blist.c(5159): warning C4244: 'fun‡Æo': conversÆo de 'Py_ssize_t' para 'int', poss¡vel perda de dados\n",
      "    blist/_blist.c(5180): warning C4244: 'return': conversÆo de 'Py_ssize_t' para 'int', poss¡vel perda de dados\n",
      "    blist/_blist.c(5239): warning C4244: 'fun‡Æo': conversÆo de 'Py_ssize_t' para 'int', poss¡vel perda de dados\n",
      "    blist/_blist.c(5243): warning C4244: 'fun‡Æo': conversÆo de 'Py_ssize_t' para 'int', poss¡vel perda de dados\n",
      "    blist/_blist.c(5243): warning C4244: 'fun‡Æo': conversÆo de 'Py_ssize_t' para 'int', poss¡vel perda de dados\n",
      "    blist/_blist.c(5244): warning C4244: '-=': conversÆo de 'Py_ssize_t' para 'int', poss¡vel perda de dados\n",
      "    blist/_blist.c(5246): warning C4244: 'fun‡Æo': conversÆo de 'Py_ssize_t' para 'int', poss¡vel perda de dados\n",
      "    blist/_blist.c(5253): warning C4244: 'fun‡Æo': conversÆo de 'Py_ssize_t' para 'int', poss¡vel perda de dados\n",
      "    blist/_blist.c(5253): warning C4244: 'fun‡Æo': conversÆo de 'Py_ssize_t' para 'int', poss¡vel perda de dados\n",
      "    blist/_blist.c(5254): warning C4244: '-=': conversÆo de 'Py_ssize_t' para 'int', poss¡vel perda de dados\n",
      "    blist/_blist.c(5256): warning C4244: 'fun‡Æo': conversÆo de 'Py_ssize_t' para 'int', poss¡vel perda de dados\n",
      "    blist/_blist.c(5262): warning C4244: 'fun‡Æo': conversÆo de 'Py_ssize_t' para 'int', poss¡vel perda de dados\n",
      "    blist/_blist.c(5282): warning C4244: 'return': conversÆo de 'Py_ssize_t' para 'int', poss¡vel perda de dados\n",
      "    blist/_blist.c(5551): warning C4244: 'fun‡Æo': conversÆo de 'Py_ssize_t' para 'int', poss¡vel perda de dados\n",
      "    blist/_blist.c(5551): warning C4244: 'fun‡Æo': conversÆo de 'Py_ssize_t' para 'int', poss¡vel perda de dados\n",
      "    blist/_blist.c(5582): warning C4244: 'fun‡Æo': conversÆo de 'Py_ssize_t' para 'int', poss¡vel perda de dados\n",
      "    blist/_blist.c(5582): warning C4244: 'fun‡Æo': conversÆo de 'Py_ssize_t' para 'int', poss¡vel perda de dados\n",
      "    blist/_blist.c(5590): warning C4244: 'fun‡Æo': conversÆo de 'Py_ssize_t' para 'int', poss¡vel perda de dados\n",
      "    blist/_blist.c(5601): warning C4244: 'fun‡Æo': conversÆo de 'Py_ssize_t' para 'int', poss¡vel perda de dados\n",
      "    blist/_blist.c(5601): warning C4244: 'fun‡Æo': conversÆo de 'Py_ssize_t' para 'int', poss¡vel perda de dados\n",
      "    blist/_blist.c(5602): warning C4244: 'fun‡Æo': conversÆo de 'Py_ssize_t' para 'int', poss¡vel perda de dados\n",
      "    blist/_blist.c(5892): warning C4244: 'fun‡Æo': conversÆo de 'Py_ssize_t' para 'int', poss¡vel perda de dados\n",
      "    blist/_blist.c(5892): warning C4244: 'fun‡Æo': conversÆo de 'Py_ssize_t' para 'int', poss¡vel perda de dados\n",
      "    blist/_blist.c(5894): warning C4244: 'fun‡Æo': conversÆo de 'Py_ssize_t' para 'int', poss¡vel perda de dados\n",
      "    blist/_blist.c(5894): warning C4244: 'fun‡Æo': conversÆo de 'Py_ssize_t' para 'int', poss¡vel perda de dados\n",
      "    blist/_blist.c(5895): warning C4244: '+=': conversÆo de 'Py_ssize_t' para 'int', poss¡vel perda de dados\n",
      "    blist/_blist.c(5896): warning C4244: 'fun‡Æo': conversÆo de 'Py_ssize_t' para 'int', poss¡vel perda de dados\n",
      "    blist/_blist.c(5896): warning C4244: 'fun‡Æo': conversÆo de 'Py_ssize_t' para 'int', poss¡vel perda de dados\n",
      "    blist/_blist.c(5958): warning C4244: 'fun‡Æo': conversÆo de 'Py_ssize_t' para 'int', poss¡vel perda de dados\n",
      "    blist/_blist.c(5994): error C2121: '#': caractere inv lido: possivelmente o resultado de uma expansÆo de macro\n",
      "    blist/_blist.c(5994): error C2065: 'endif': identificador nÆo declarado\n",
      "    blist/_blist.c(5994): warning C4047: 'fun‡Æo': 'Py_ssize_t *' difere em n¡veis de indire‡Æo de 'Py_ssize_t'\n",
      "    blist/_blist.c(5994): warning C4024: 'PySlice_Unpack': tipos diferentes para parƒmetro formal e real 2\n",
      "    blist/_blist.c(5994): warning C4024: 'PySlice_AdjustIndices': tipos diferentes para parƒmetro formal e real 2\n",
      "    blist/_blist.c(6216): warning C4244: 'fun‡Æo': conversÆo de 'Py_ssize_t' para 'int', poss¡vel perda de dados\n",
      "    blist/_blist.c(6216): warning C4244: 'fun‡Æo': conversÆo de 'Py_ssize_t' para 'int', poss¡vel perda de dados\n",
      "    blist/_blist.c(6217): warning C4244: '=': conversÆo de 'Py_ssize_t' para 'int', poss¡vel perda de dados\n",
      "    blist/_blist.c(6323): warning C4244: 'fun‡Æo': conversÆo de 'Py_ssize_t' para 'int', poss¡vel perda de dados\n",
      "    blist/_blist.c(6324): warning C4244: 'fun‡Æo': conversÆo de 'Py_ssize_t' para 'int', poss¡vel perda de dados\n",
      "    blist/_blist.c(6324): warning C4244: 'fun‡Æo': conversÆo de 'Py_ssize_t' para 'int', poss¡vel perda de dados\n",
      "    blist/_blist.c(6325): warning C4244: '=': conversÆo de 'Py_ssize_t' para 'int', poss¡vel perda de dados\n",
      "    blist/_blist.c(6614): warning C4244: '=': conversÆo de 'Py_ssize_t' para 'int', poss¡vel perda de dados\n",
      "    blist/_blist.c(6883): warning C4244: 'fun‡Æo': conversÆo de 'Py_ssize_t' para 'int', poss¡vel perda de dados\n",
      "    blist/_blist.c(6963): error C2121: '#': caractere inv lido: possivelmente o resultado de uma expansÆo de macro\n",
      "    blist/_blist.c(6963): error C2065: 'endif': identificador nÆo declarado\n",
      "    blist/_blist.c(6963): warning C4047: 'fun‡Æo': 'Py_ssize_t *' difere em n¡veis de indire‡Æo de 'Py_ssize_t'\n",
      "    blist/_blist.c(6963): warning C4024: 'PySlice_Unpack': tipos diferentes para parƒmetro formal e real 2\n",
      "    blist/_blist.c(6963): warning C4024: 'PySlice_AdjustIndices': tipos diferentes para parƒmetro formal e real 2\n",
      "    blist/_blist.c(7073): warning C4244: '=': conversÆo de 'Py_ssize_t' para 'int', poss¡vel perda de dados\n",
      "    blist/_blist.c(7742): fatal error C1070: par #if/#endif sem correspondˆncia no arquivo 'C:\\Users\\krupc\\AppData\\Local\\Temp\\pip-install-ev57tvhk\\blist\\blist\\_blist.c'\n",
      "    error: command 'C:\\\\Program Files (x86)\\\\Microsoft Visual Studio\\\\2019\\\\Community\\\\VC\\\\Tools\\\\MSVC\\\\14.24.28314\\\\bin\\\\HostX86\\\\x64\\\\cl.exe' failed with exit status 2\n",
      "    ----------------------------------------\n",
      "ERROR: Command errored out with exit status 1: 'c:\\python\\python38\\python.exe' -u -c 'import sys, setuptools, tokenize; sys.argv[0] = '\"'\"'C:\\\\Users\\\\krupc\\\\AppData\\\\Local\\\\Temp\\\\pip-install-ev57tvhk\\\\blist\\\\setup.py'\"'\"'; __file__='\"'\"'C:\\\\Users\\\\krupc\\\\AppData\\\\Local\\\\Temp\\\\pip-install-ev57tvhk\\\\blist\\\\setup.py'\"'\"';f=getattr(tokenize, '\"'\"'open'\"'\"', open)(__file__);code=f.read().replace('\"'\"'\\r\\n'\"'\"', '\"'\"'\\n'\"'\"');f.close();exec(compile(code, __file__, '\"'\"'exec'\"'\"'))' install --record 'C:\\Users\\krupc\\AppData\\Local\\Temp\\pip-record-mymx2box\\install-record.txt' --single-version-externally-managed --compile --install-headers 'c:\\python\\python38\\Include\\blist' Check the logs for full command output.\n",
      "WARNING: You are using pip version 20.2.3; however, version 22.1.2 is available.\n",
      "You should consider upgrading via the 'c:\\python\\python38\\python.exe -m pip install --upgrade pip' command.\n"
     ]
    }
   ],
   "source": [
    "# O pacote blist é uma substituição drop-in para as listas Python que fornece melhor performance quando é necessário \n",
    "# modificar grandes listas de dados\n",
    "!pip install blist"
   ]
  },
  {
   "cell_type": "code",
   "execution_count": 28,
   "metadata": {},
   "outputs": [
    {
     "ename": "ModuleNotFoundError",
     "evalue": "No module named 'blist'",
     "output_type": "error",
     "traceback": [
      "\u001b[1;31m---------------------------------------------------------------------------\u001b[0m",
      "\u001b[1;31mModuleNotFoundError\u001b[0m                       Traceback (most recent call last)",
      "\u001b[1;32m~\\AppData\\Local\\Temp/ipykernel_13568/1295814295.py\u001b[0m in \u001b[0;36m<module>\u001b[1;34m\u001b[0m\n\u001b[1;32m----> 1\u001b[1;33m \u001b[1;32mfrom\u001b[0m \u001b[0mblist\u001b[0m \u001b[1;32mimport\u001b[0m \u001b[0mblist\u001b[0m\u001b[1;33m\u001b[0m\u001b[1;33m\u001b[0m\u001b[0m\n\u001b[0m\u001b[0;32m      2\u001b[0m \u001b[0mblist\u001b[0m\u001b[1;33m(\u001b[0m\u001b[0mpalavras\u001b[0m\u001b[1;33m)\u001b[0m\u001b[1;33m\u001b[0m\u001b[1;33m\u001b[0m\u001b[0m\n",
      "\u001b[1;31mModuleNotFoundError\u001b[0m: No module named 'blist'"
     ]
    }
   ],
   "source": [
    "from blist import blist\n",
    "blist(palavras)"
   ]
  },
  {
   "cell_type": "code",
   "execution_count": null,
   "metadata": {},
   "outputs": [],
   "source": [
    "# O pacote Marisa-trie pode consumir de 50 a 100x menos memória que um dicionário padrão em Python.\n",
    "# Esse pacote fornece ainda busca por prefixo\n",
    "!pip install marisa_trie"
   ]
  },
  {
   "cell_type": "code",
   "execution_count": null,
   "metadata": {},
   "outputs": [],
   "source": [
    "import marisa_trie\n",
    "trie = marisa_trie.Trie(palavras)\n",
    "trie.items()"
   ]
  },
  {
   "cell_type": "code",
   "execution_count": null,
   "metadata": {},
   "outputs": [],
   "source": [
    "'abacate' in trie"
   ]
  },
  {
   "cell_type": "code",
   "execution_count": null,
   "metadata": {},
   "outputs": [],
   "source": [
    "trie.keys('aba')"
   ]
  },
  {
   "cell_type": "markdown",
   "metadata": {},
   "source": [
    "## Expressões Regulares"
   ]
  },
  {
   "cell_type": "markdown",
   "metadata": {},
   "source": [
    "https://docs.python.org/3/howto/regex.html"
   ]
  },
  {
   "cell_type": "code",
   "execution_count": 29,
   "metadata": {},
   "outputs": [],
   "source": [
    "import re"
   ]
  },
  {
   "cell_type": "markdown",
   "metadata": {},
   "source": [
    "Python oferece duas operações primitivas diferentes baseadas em expressões regulares: match verifica uma correspondência apenas no início da seqüência de caracteres, enquanto search verifica uma correspondência em qualquer parte da seqüência de caracteres."
   ]
  },
  {
   "cell_type": "code",
   "execution_count": 30,
   "metadata": {},
   "outputs": [
    {
     "name": "stdout",
     "output_type": "stream",
     "text": [
      "matchObj.group()  :  Cats are smarter than dogs\n",
      "matchObj.group(1) :  Cats\n",
      "matchObj.group(2) :  smarter\n"
     ]
    }
   ],
   "source": [
    "line = \"Cats are smarter than dogs\"\n",
    "\n",
    "matchObj = re.match( r'(.*) are (.*?) .*', line, re.M|re.I)\n",
    "\n",
    "if matchObj:\n",
    "   print (\"matchObj.group()  : \", matchObj.group())\n",
    "   print (\"matchObj.group(1) : \", matchObj.group(1))\n",
    "   print (\"matchObj.group(2) : \", matchObj.group(2))\n",
    "else:\n",
    "   print (\"No match!!\")"
   ]
  },
  {
   "cell_type": "code",
   "execution_count": 31,
   "metadata": {},
   "outputs": [
    {
     "name": "stdout",
     "output_type": "stream",
     "text": [
      "No match!!\n",
      "search --> searchObj.group() :  dogs\n"
     ]
    }
   ],
   "source": [
    "# re.I - case-insensitive match\n",
    "# re.M - match no final de uma linha (e não apenas o final da sequência) \n",
    "line = \"Cats are smarter than dogs\";\n",
    "\n",
    "matchObj = re.match(r'dogs', line, re.M|re.I)\n",
    "\n",
    "if matchObj:\n",
    "   print (\"match --> matchObj.group() : \", matchObj.group())\n",
    "else:\n",
    "   print (\"No match!!\")\n",
    "\n",
    "searchObj = re.search( r'dogs', line, re.M|re.I)\n",
    "if searchObj:\n",
    "   print (\"search --> searchObj.group() : \", searchObj.group())\n",
    "else:\n",
    "   print (\"Nothing found!!\")"
   ]
  },
  {
   "cell_type": "code",
   "execution_count": 32,
   "metadata": {},
   "outputs": [
    {
     "name": "stdout",
     "output_type": "stream",
     "text": [
      "Phone Num :  2004-959-559 \n",
      "Phone Num :  2004959559\n"
     ]
    }
   ],
   "source": [
    "# Search e Replace\n",
    "phone = \"2004-959-559 # This is Phone Number\"\n",
    "\n",
    "# Remove os comentários da frase (começando com #)\n",
    "num = re.sub(r'#.*$', \"\", phone)\n",
    "print (\"Phone Num : \", num)\n",
    "\n",
    "# Remove tudo que não for dígito\n",
    "num = re.sub(r'\\D', \"\", phone)    \n",
    "print (\"Phone Num : \", num)"
   ]
  },
  {
   "cell_type": "code",
   "execution_count": 33,
   "metadata": {},
   "outputs": [
    {
     "data": {
      "text/plain": [
       "['16', '3456', '4567']"
      ]
     },
     "execution_count": 33,
     "metadata": {},
     "output_type": "execute_result"
    }
   ],
   "source": [
    "# Retorna todos os padrões encontrados em uma string\n",
    "re.findall(r'\\d+',u'(16) 3456-4567')"
   ]
  },
  {
   "cell_type": "code",
   "execution_count": 34,
   "metadata": {},
   "outputs": [
    {
     "name": "stdout",
     "output_type": "stream",
     "text": [
      "16\n"
     ]
    }
   ],
   "source": [
    "prog = re.search(r'(\\d)+',u'(16) 3456-4567')\n",
    "if prog:\n",
    "    print (prog.group(0))"
   ]
  },
  {
   "cell_type": "code",
   "execution_count": 35,
   "metadata": {},
   "outputs": [
    {
     "data": {
      "text/plain": [
       "['uma', 'palavra', 'ou', 'outra']"
      ]
     },
     "execution_count": 35,
     "metadata": {},
     "output_type": "execute_result"
    }
   ],
   "source": [
    "# Muito utilizado em tokenization\n",
    "re.findall(r'\\w+',u'uma palavra ou outra')"
   ]
  },
  {
   "cell_type": "code",
   "execution_count": 36,
   "metadata": {},
   "outputs": [
    {
     "data": {
      "text/plain": [
       "['maça', 'é', 'uma', 'fruta']"
      ]
     },
     "execution_count": 36,
     "metadata": {},
     "output_type": "execute_result"
    }
   ],
   "source": [
    "# Utilize a flag unicode\n",
    "re.findall(r'\\w+',u'maça  é uma  fruta')"
   ]
  },
  {
   "cell_type": "code",
   "execution_count": 37,
   "metadata": {},
   "outputs": [
    {
     "data": {
      "text/plain": [
       "['maça', 'é', 'uma', 'fruta']"
      ]
     },
     "execution_count": 37,
     "metadata": {},
     "output_type": "execute_result"
    }
   ],
   "source": [
    "# Utilize a flag unicode\n",
    "re.findall(r'\\w+',u'maça é uma fruta', flags = re.UNICODE+re.IGNORECASE)"
   ]
  }
 ],
 "metadata": {
  "anaconda-cloud": {},
  "interpreter": {
   "hash": "b081a66ee97bd2b6a16f43955f1d810b7ea816d6eaeb65e157ef9e038445f0c6"
  },
  "kernelspec": {
   "display_name": "Python 3.8.9 64-bit",
   "language": "python",
   "name": "python3"
  },
  "language_info": {
   "codemirror_mode": {
    "name": "ipython",
    "version": 3
   },
   "file_extension": ".py",
   "mimetype": "text/x-python",
   "name": "python",
   "nbconvert_exporter": "python",
   "pygments_lexer": "ipython3",
   "version": "3.8.9"
  }
 },
 "nbformat": 4,
 "nbformat_minor": 4
}
