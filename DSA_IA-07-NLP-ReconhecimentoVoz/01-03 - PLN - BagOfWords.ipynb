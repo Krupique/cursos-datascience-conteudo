{
 "cells": [
  {
   "cell_type": "markdown",
   "metadata": {},
   "source": [
    "# Processamento de Linguagem Natural"
   ]
  },
  {
   "cell_type": "markdown",
   "metadata": {},
   "source": [
    "## Bag of Words\n",
    "\n",
    "\n",
    "O modelo de \"saco de palavras\" é uma representação simplificada usada no processamento de linguagem natural e recuperação de informação. Neste modelo, um texto (como uma sentença ou um documento) é representado como o saco (multiset) de suas palavras, desconsiderando a gramática e até a ordem das palavras, mas mantendo a multiplicidade.\n",
    "\n",
    "Na classificação de documentos, um saco de palavras é um vetor esparso de ocorrência de contagens de palavras; Ou seja, um histograma esparso sobre o vocabulário."
   ]
  },
  {
   "cell_type": "markdown",
   "metadata": {},
   "source": [
    "### Carregando um Dataset de um Site de E-commerce (em português)"
   ]
  },
  {
   "cell_type": "code",
   "execution_count": 1,
   "metadata": {},
   "outputs": [],
   "source": [
    "import gzip\n",
    "import json"
   ]
  },
  {
   "cell_type": "code",
   "execution_count": 2,
   "metadata": {},
   "outputs": [],
   "source": [
    "# Carregando o dataset\n",
    "corpus = list()\n",
    "with gzip.open('ecommerce.json.gz') as fp:\n",
    "    for line in fp:\n",
    "        entry = line.decode('utf8')\n",
    "        corpus.append(json.loads(entry))"
   ]
  },
  {
   "cell_type": "code",
   "execution_count": 3,
   "metadata": {},
   "outputs": [
    {
     "name": "stdout",
     "output_type": "stream",
     "text": [
      "{'_id': 120008322,\n",
      " 'cat': ' Automotivo',\n",
      " 'descr': 'Chegou o kit que junta resistência e conforto, além de níveis '\n",
      "          'máximos de segurança. São 4 pneus para seu carro ficar completo e '\n",
      "          'com a qualificação que você precisa.\\n'\n",
      "          'Com os conhecimentos avançados de hoje e um entusiasmo pela '\n",
      "          'direção, os engenheiros da Pirelli puderam dar grandes passos. Cada '\n",
      "          'pneu da Pirelli é responsável não só pelo desempenho, mas também '\n",
      "          'por uma \"vontade de ir pra estrada\", comunicando-se com o motorista '\n",
      "          'e gerando um melhor entendimento do desempenho do veículo, ou seja, '\n",
      "          'a Pirelli transforma a sua viagem em uma aventura divertida e livre '\n",
      "          'de problemas. Pneu Pirelli para carros com rodas aro 16, modelo '\n",
      "          'high performance Phanthon, perfil baixo proporcionando maior '\n",
      "          'estabilidade nas curvas, excelente qualidade e durabilidade para '\n",
      "          'pistas.\\n'\n",
      "          '\\n'\n",
      "          'Imagens meramente ilustrativas.\\n'\n",
      "          'Todas as informações divulgadas são de responsabilidade do '\n",
      "          'fabricante/fornecedor.',\n",
      " 'features': {'Aro': '16',\n",
      "              'Categoria': 'Alta Performance,Pneu automotivo',\n",
      "              'Composição/Material': 'Borracha',\n",
      "              'Dimensões aproximadas da embalagem (cm) - AxLxP': '63x23x63cm',\n",
      "              'Distância do furo central ao eixo': 'Não informado pelo '\n",
      "                                                   'fornecedor',\n",
      "              'Distância entre furos': 'Não informado pelo fornecedor',\n",
      "              'Fornecedor': 'Pirelli',\n",
      "              'Garantia do Fornecedor': '60 meses',\n",
      "              'Indicação': 'Carro',\n",
      "              'Largura do Pneu': 'Não informado pelo fornecedor',\n",
      "              'Marca': 'Pirelli',\n",
      "              'Modelo': '7895119967121',\n",
      "              'Número de furos': 'Não informado pelo fornecedor',\n",
      "              'PRODUTO': 'Pneu Pirelli Aro 16 205/55R16 Phantom',\n",
      "              'Peso aproximado da embalagem do produto (kg)': '10kg',\n",
      "              'Referência do Modelo': '7895119967121',\n",
      "              'Relação altura do flanco x altura do pneu': '62x22x62cm',\n",
      "              'SAC': '0800 7287638',\n",
      "              'Tala': 'Não informdo pelo fornecedor',\n",
      "              'Índice de carga': '615'},\n",
      " 'image_urls': ['http://iacom1-a.akamaihd.net/img/_staging/bf15acom.png',\n",
      "                'http://iacom1-a.akamaihd.net/produtos/01/00/item/120008/3/120008322_2GG.jpg',\n",
      "                'http://iacom1-a.akamaihd.net/produtos/01/00/item/120008/3/120008322_1GG.png'],\n",
      " 'name': 'Kit com 4 Pneus de Alta Performance Pirelli Aro 16 205/55R16 Phantom',\n",
      " 'ratings': 0,\n",
      " 'stars': 0.0,\n",
      " 'subcat': ' Pneus e Rodas',\n",
      " 'url': 'http://www.americanas.com.br/produto/120008322/kit-com-4-pneus-de-alta-performance-pirelli-aro-16-205-55r16-phantom??chave=dp_automotivo_dt1'}\n"
     ]
    }
   ],
   "source": [
    "from pprint import pprint\n",
    "pprint(corpus[0])"
   ]
  },
  {
   "cell_type": "code",
   "execution_count": 4,
   "metadata": {},
   "outputs": [
    {
     "name": "stdout",
     "output_type": "stream",
     "text": [
      "Chegou o kit que junta resistência e conforto, além de níveis máximos de segurança. São 4 pneus para seu carro ficar completo e com a qualificação que você precisa.\n",
      "Com os conhecimentos avançados de hoje e um entusiasmo pela direção, os engenheiros da Pirelli puderam dar grandes passos. Cada pneu da Pirelli é responsável não só pelo desempenho, mas também por uma \"vontade de ir pra estrada\", comunicando-se com o motorista e gerando um melhor entendimento do desempenho do veículo, ou seja, a Pirelli transforma a sua viagem em uma aventura divertida e livre de problemas. Pneu Pirelli para carros com rodas aro 16, modelo high performance Phanthon, perfil baixo proporcionando maior estabilidade nas curvas, excelente qualidade e durabilidade para pistas.\n",
      "\n",
      "Imagens meramente ilustrativas.\n",
      "Todas as informações divulgadas são de responsabilidade do fabricante/fornecedor.\n"
     ]
    }
   ],
   "source": [
    "print (corpus[0]['descr'])"
   ]
  },
  {
   "cell_type": "code",
   "execution_count": 5,
   "metadata": {},
   "outputs": [
    {
     "data": {
      "text/plain": [
       "65875"
      ]
     },
     "execution_count": 5,
     "metadata": {},
     "output_type": "execute_result"
    }
   ],
   "source": [
    "len(corpus)"
   ]
  },
  {
   "cell_type": "markdown",
   "metadata": {},
   "source": [
    "## Gensim - Modelagem de Tópicos"
   ]
  },
  {
   "cell_type": "markdown",
   "metadata": {},
   "source": [
    "https://github.com/RaRe-Technologies/gensim"
   ]
  },
  {
   "cell_type": "code",
   "execution_count": 6,
   "metadata": {},
   "outputs": [],
   "source": [
    "# Por enquanto disponíve, apenas para Python 2.7\n",
    "#!pip install pattern"
   ]
  },
  {
   "cell_type": "code",
   "execution_count": 7,
   "metadata": {},
   "outputs": [],
   "source": [
    "import warnings\n",
    "warnings.filterwarnings(\"ignore\")"
   ]
  },
  {
   "cell_type": "code",
   "execution_count": 10,
   "metadata": {
    "collapsed": true,
    "jupyter": {
     "outputs_hidden": true
    },
    "tags": []
   },
   "outputs": [
    {
     "name": "stdout",
     "output_type": "stream",
     "text": [
      "Collecting gensim==3.6.0\n",
      "  Using cached gensim-3.6.0-cp39-cp39-win_amd64.whl\n",
      "Requirement already satisfied: numpy>=1.11.3 in c:\\programdata\\anaconda3\\lib\\site-packages (from gensim==3.6.0) (1.20.3)\n",
      "Requirement already satisfied: scipy>=0.18.1 in c:\\programdata\\anaconda3\\lib\\site-packages (from gensim==3.6.0) (1.7.1)\n",
      "Requirement already satisfied: six>=1.5.0 in c:\\programdata\\anaconda3\\lib\\site-packages (from gensim==3.6.0) (1.16.0)\n",
      "Collecting smart-open>=1.2.1\n",
      "  Downloading smart_open-6.0.0-py3-none-any.whl (58 kB)\n",
      "Installing collected packages: smart-open, gensim\n",
      "Successfully installed gensim-3.6.0 smart-open-6.0.0\n"
     ]
    },
    {
     "name": "stderr",
     "output_type": "stream",
     "text": [
      "WARNING: Ignoring invalid distribution -umpy (c:\\programdata\\anaconda3\\lib\\site-packages)\n",
      "WARNING: Ignoring invalid distribution - (c:\\programdata\\anaconda3\\lib\\site-packages)\n",
      "WARNING: Ignoring invalid distribution -equests (c:\\programdata\\anaconda3\\lib\\site-packages)\n",
      "WARNING: Ignoring invalid distribution -umpy (c:\\programdata\\anaconda3\\lib\\site-packages)\n",
      "WARNING: Ignoring invalid distribution - (c:\\programdata\\anaconda3\\lib\\site-packages)\n",
      "WARNING: Ignoring invalid distribution -equests (c:\\programdata\\anaconda3\\lib\\site-packages)\n",
      "WARNING: Ignoring invalid distribution -umpy (c:\\programdata\\anaconda3\\lib\\site-packages)\n",
      "WARNING: Ignoring invalid distribution - (c:\\programdata\\anaconda3\\lib\\site-packages)\n",
      "WARNING: Ignoring invalid distribution -equests (c:\\programdata\\anaconda3\\lib\\site-packages)\n",
      "WARNING: Ignoring invalid distribution -umpy (c:\\programdata\\anaconda3\\lib\\site-packages)\n",
      "WARNING: Ignoring invalid distribution - (c:\\programdata\\anaconda3\\lib\\site-packages)\n",
      "WARNING: Ignoring invalid distribution -equests (c:\\programdata\\anaconda3\\lib\\site-packages)\n",
      "WARNING: Ignoring invalid distribution -umpy (c:\\programdata\\anaconda3\\lib\\site-packages)\n",
      "WARNING: Ignoring invalid distribution - (c:\\programdata\\anaconda3\\lib\\site-packages)\n",
      "WARNING: Ignoring invalid distribution -equests (c:\\programdata\\anaconda3\\lib\\site-packages)\n",
      "WARNING: Ignoring invalid distribution -umpy (c:\\programdata\\anaconda3\\lib\\site-packages)\n",
      "WARNING: Ignoring invalid distribution - (c:\\programdata\\anaconda3\\lib\\site-packages)\n",
      "WARNING: Ignoring invalid distribution -equests (c:\\programdata\\anaconda3\\lib\\site-packages)\n",
      "WARNING: Ignoring invalid distribution -umpy (c:\\programdata\\anaconda3\\lib\\site-packages)\n",
      "WARNING: Ignoring invalid distribution - (c:\\programdata\\anaconda3\\lib\\site-packages)\n",
      "WARNING: Ignoring invalid distribution -equests (c:\\programdata\\anaconda3\\lib\\site-packages)\n",
      "WARNING: Ignoring invalid distribution -umpy (c:\\programdata\\anaconda3\\lib\\site-packages)\n",
      "WARNING: Ignoring invalid distribution - (c:\\programdata\\anaconda3\\lib\\site-packages)\n",
      "WARNING: Ignoring invalid distribution -equests (c:\\programdata\\anaconda3\\lib\\site-packages)\n"
     ]
    }
   ],
   "source": [
    "!pip install gensim==3.6.0"
   ]
  },
  {
   "cell_type": "code",
   "execution_count": 11,
   "metadata": {},
   "outputs": [],
   "source": [
    "from gensim.summarization.summarizer import summarize"
   ]
  },
  {
   "cell_type": "code",
   "execution_count": 12,
   "metadata": {},
   "outputs": [
    {
     "name": "stdout",
     "output_type": "stream",
     "text": [
      "São 4 pneus para seu carro ficar completo e com a qualificação que você precisa.\n"
     ]
    }
   ],
   "source": [
    "import gensim\n",
    "print (gensim.summarization.summarize(corpus[0]['descr']))"
   ]
  },
  {
   "cell_type": "code",
   "execution_count": 13,
   "metadata": {},
   "outputs": [
    {
     "data": {
      "text/plain": [
       "65875"
      ]
     },
     "execution_count": 13,
     "metadata": {},
     "output_type": "execute_result"
    }
   ],
   "source": [
    "len(corpus)"
   ]
  },
  {
   "cell_type": "code",
   "execution_count": 14,
   "metadata": {},
   "outputs": [],
   "source": [
    "# Construindo um classificador para produtos e categorias (considerando apenas os 10 mil primeiros produtos)\n",
    "dataset = list()\n",
    "for entry in corpus:\n",
    "    if 'cat' in entry:\n",
    "        dataset.append( (entry['name'], entry['cat'].lower().strip()) )"
   ]
  },
  {
   "cell_type": "code",
   "execution_count": 15,
   "metadata": {},
   "outputs": [
    {
     "data": {
      "text/plain": [
       "65465"
      ]
     },
     "execution_count": 15,
     "metadata": {},
     "output_type": "execute_result"
    }
   ],
   "source": [
    "len(dataset)"
   ]
  },
  {
   "cell_type": "code",
   "execution_count": 16,
   "metadata": {},
   "outputs": [
    {
     "name": "stdout",
     "output_type": "stream",
     "text": [
      "[('livros', 18021),\n",
      " ('ferramentas e jardim', 5672),\n",
      " ('música', 4784),\n",
      " ('móveis e decoração', 4749),\n",
      " ('esporte e lazer', 3340),\n",
      " ('cama, mesa e banho', 2683),\n",
      " ('relógios', 2666),\n",
      " ('informática', 2479),\n",
      " ('suplementos e vitaminas', 2440),\n",
      " ('perfumaria', 2421),\n",
      " ('bebês', 2359),\n",
      " ('dvds e blu-ray', 1944),\n",
      " ('eletroportáteis', 1587),\n",
      " ('games', 1504),\n",
      " ('papelaria', 1301),\n",
      " ('automotivo', 920),\n",
      " ('utilidades domésticas', 858),\n",
      " ('instrumentos musicais', 807),\n",
      " ('brinquedos', 779),\n",
      " ('ar-condicionado e aquecedores', 754),\n",
      " ('tv e home theater', 644),\n",
      " ('celulares e telefones', 550),\n",
      " ('malas e acessórios', 513),\n",
      " ('beleza e saúde', 500),\n",
      " ('pet shop', 394),\n",
      " ('câmeras e filmadoras', 326),\n",
      " ('eletrodomésticos', 217),\n",
      " ('áudio', 129),\n",
      " ('alimentos e bebidas', 96),\n",
      " ('livros importados', 11),\n",
      " ('blu-ray', 10),\n",
      " ('moda', 6),\n",
      " ('linha industrial', 1)]\n"
     ]
    }
   ],
   "source": [
    "# Quantas categorias distintas nós temos e quantos itens por categoria?\n",
    "from collections import Counter\n",
    "counter = Counter([cat for prod, cat in dataset])\n",
    "pprint(counter.most_common())"
   ]
  },
  {
   "cell_type": "markdown",
   "metadata": {},
   "source": [
    "# Construindo um Classificador SVM com Bag of Words"
   ]
  },
  {
   "cell_type": "markdown",
   "metadata": {},
   "source": [
    "http://scikit-learn.org/stable/tutorial/text_analytics/working_with_text_data.html"
   ]
  },
  {
   "cell_type": "code",
   "execution_count": 17,
   "metadata": {},
   "outputs": [],
   "source": [
    "from sklearn.pipeline import Pipeline\n",
    "from sklearn.svm import SVC\n",
    "from sklearn.preprocessing import LabelEncoder\n",
    "from sklearn.feature_extraction.text import TfidfVectorizer\n",
    "from sklearn.feature_extraction.text import CountVectorizer"
   ]
  },
  {
   "cell_type": "code",
   "execution_count": 18,
   "metadata": {},
   "outputs": [],
   "source": [
    "import nltk\n",
    "stopwords = nltk.corpus.stopwords.words('portuguese')"
   ]
  },
  {
   "cell_type": "code",
   "execution_count": 19,
   "metadata": {},
   "outputs": [],
   "source": [
    "# Construindo o modelo SVM com Pipeline\n",
    "modelo = Pipeline([('vect', TfidfVectorizer()), ('clf', SVC(kernel = 'linear', probability = True))])"
   ]
  },
  {
   "cell_type": "code",
   "execution_count": 20,
   "metadata": {
    "collapsed": true,
    "jupyter": {
     "outputs_hidden": true
    },
    "tags": []
   },
   "outputs": [
    {
     "name": "stdout",
     "output_type": "stream",
     "text": [
      "\u001b[1;31mInit signature:\u001b[0m \u001b[0mLabelEncoder\u001b[0m\u001b[1;33m(\u001b[0m\u001b[1;33m)\u001b[0m\u001b[1;33m\u001b[0m\u001b[1;33m\u001b[0m\u001b[0m\n",
      "\u001b[1;31mDocstring:\u001b[0m     \n",
      "Encode target labels with value between 0 and n_classes-1.\n",
      "\n",
      "This transformer should be used to encode target values, *i.e.* `y`, and\n",
      "not the input `X`.\n",
      "\n",
      "Read more in the :ref:`User Guide <preprocessing_targets>`.\n",
      "\n",
      ".. versionadded:: 0.12\n",
      "\n",
      "Attributes\n",
      "----------\n",
      "classes_ : ndarray of shape (n_classes,)\n",
      "    Holds the label for each class.\n",
      "\n",
      "Examples\n",
      "--------\n",
      "`LabelEncoder` can be used to normalize labels.\n",
      "\n",
      ">>> from sklearn import preprocessing\n",
      ">>> le = preprocessing.LabelEncoder()\n",
      ">>> le.fit([1, 2, 2, 6])\n",
      "LabelEncoder()\n",
      ">>> le.classes_\n",
      "array([1, 2, 6])\n",
      ">>> le.transform([1, 1, 2, 6])\n",
      "array([0, 0, 1, 2]...)\n",
      ">>> le.inverse_transform([0, 0, 1, 2])\n",
      "array([1, 1, 2, 6])\n",
      "\n",
      "It can also be used to transform non-numerical labels (as long as they are\n",
      "hashable and comparable) to numerical labels.\n",
      "\n",
      ">>> le = preprocessing.LabelEncoder()\n",
      ">>> le.fit([\"paris\", \"paris\", \"tokyo\", \"amsterdam\"])\n",
      "LabelEncoder()\n",
      ">>> list(le.classes_)\n",
      "['amsterdam', 'paris', 'tokyo']\n",
      ">>> le.transform([\"tokyo\", \"tokyo\", \"paris\"])\n",
      "array([2, 2, 1]...)\n",
      ">>> list(le.inverse_transform([2, 2, 1]))\n",
      "['tokyo', 'tokyo', 'paris']\n",
      "\n",
      "See Also\n",
      "--------\n",
      "OrdinalEncoder : Encode categorical features using an ordinal encoding\n",
      "    scheme.\n",
      "OneHotEncoder : Encode categorical features as a one-hot numeric array.\n",
      "\u001b[1;31mFile:\u001b[0m           c:\\programdata\\anaconda3\\lib\\site-packages\\sklearn\\preprocessing\\_label.py\n",
      "\u001b[1;31mType:\u001b[0m           type\n",
      "\u001b[1;31mSubclasses:\u001b[0m     \n"
     ]
    }
   ],
   "source": [
    "?LabelEncoder"
   ]
  },
  {
   "cell_type": "code",
   "execution_count": 21,
   "metadata": {},
   "outputs": [],
   "source": [
    "# Objeto para Normalização dos labels\n",
    "encoder = LabelEncoder()"
   ]
  },
  {
   "cell_type": "code",
   "execution_count": 22,
   "metadata": {},
   "outputs": [
    {
     "data": {
      "text/plain": [
       "65465"
      ]
     },
     "execution_count": 22,
     "metadata": {},
     "output_type": "execute_result"
    }
   ],
   "source": [
    "# Obtendo dados e labels\n",
    "data = [prod for prod, cat in dataset]\n",
    "labels = [cat for prod, cat in dataset]\n",
    "len(data)"
   ]
  },
  {
   "cell_type": "code",
   "execution_count": 23,
   "metadata": {},
   "outputs": [],
   "source": [
    "# Normalização dos labels\n",
    "target = encoder.fit_transform(labels)"
   ]
  },
  {
   "cell_type": "code",
   "execution_count": 24,
   "metadata": {},
   "outputs": [
    {
     "data": {
      "text/plain": [
       "'ar-condicionado e aquecedores'"
      ]
     },
     "execution_count": 24,
     "metadata": {},
     "output_type": "execute_result"
    }
   ],
   "source": [
    "# Items\n",
    "encoder.classes_.item(1)"
   ]
  },
  {
   "cell_type": "code",
   "execution_count": 47,
   "metadata": {},
   "outputs": [
    {
     "data": {
      "text/plain": [
       "Pipeline(steps=[('vect', TfidfVectorizer()),\n",
       "                ('clf', SVC(kernel='linear', probability=True))])"
      ]
     },
     "execution_count": 47,
     "metadata": {},
     "output_type": "execute_result"
    }
   ],
   "source": [
    "# Fit do modelo\n",
    "modelo.fit(data, target)"
   ]
  },
  {
   "cell_type": "code",
   "execution_count": 82,
   "metadata": {},
   "outputs": [],
   "source": [
    "# Prevendo a categoria a partir da descrição\n",
    "classeId = modelo.predict([\"Piano Steinway and songs spirio\"])[0]"
   ]
  },
  {
   "cell_type": "code",
   "execution_count": 83,
   "metadata": {},
   "outputs": [
    {
     "name": "stdout",
     "output_type": "stream",
     "text": [
      "instrumentos musicais\n"
     ]
    }
   ],
   "source": [
    "# Prevendo a categoria a partir da descrição\n",
    "print (encoder.classes_[classeId])"
   ]
  },
  {
   "cell_type": "code",
   "execution_count": 84,
   "metadata": {},
   "outputs": [
    {
     "data": {
      "text/plain": [
       "array(['alimentos e bebidas', 'ar-condicionado e aquecedores',\n",
       "       'automotivo', 'bebês', 'beleza e saúde', 'blu-ray', 'brinquedos',\n",
       "       'cama, mesa e banho', 'celulares e telefones',\n",
       "       'câmeras e filmadoras', 'dvds e blu-ray', 'eletrodomésticos',\n",
       "       'eletroportáteis', 'esporte e lazer', 'ferramentas e jardim',\n",
       "       'games', 'informática', 'instrumentos musicais',\n",
       "       'linha industrial', 'livros', 'livros importados',\n",
       "       'malas e acessórios', 'moda', 'móveis e decoração', 'música',\n",
       "       'papelaria', 'perfumaria', 'pet shop', 'relógios',\n",
       "       'suplementos e vitaminas', 'tv e home theater',\n",
       "       'utilidades domésticas', 'áudio'], dtype='<U29')"
      ]
     },
     "execution_count": 84,
     "metadata": {},
     "output_type": "execute_result"
    }
   ],
   "source": [
    "encoder.classes_"
   ]
  },
  {
   "cell_type": "code",
   "execution_count": 88,
   "metadata": {},
   "outputs": [],
   "source": [
    "# Probabilidades de um produto\n",
    "probs = modelo.predict_proba([\"Samsung\"])"
   ]
  },
  {
   "cell_type": "code",
   "execution_count": 91,
   "metadata": {},
   "outputs": [],
   "source": [
    "# Probabidades de categorias para o objeto Ventilador\n",
    "guess = [(class_, probs.item(n)) for n, class_ in enumerate(encoder.classes_)]\n",
    "#pprint(guess)"
   ]
  },
  {
   "cell_type": "code",
   "execution_count": 92,
   "metadata": {},
   "outputs": [
    {
     "name": "stdout",
     "output_type": "stream",
     "text": [
      "informática: 0.5205\n",
      "tv e home theater: 0.1231\n",
      "celulares e telefones: 0.1088\n",
      "eletrodomésticos: 0.0688\n",
      "livros: 0.0240\n",
      "áudio: 0.0186\n",
      "esporte e lazer: 0.0169\n",
      "ferramentas e jardim: 0.0134\n",
      "câmeras e filmadoras: 0.0113\n",
      "suplementos e vitaminas: 0.0097\n",
      "música: 0.0090\n",
      "bebês: 0.0086\n",
      "dvds e blu-ray: 0.0054\n",
      "papelaria: 0.0052\n",
      "instrumentos musicais: 0.0050\n",
      "perfumaria: 0.0047\n",
      "móveis e decoração: 0.0046\n",
      "moda: 0.0046\n",
      "beleza e saúde: 0.0042\n",
      "automotivo: 0.0039\n",
      "brinquedos: 0.0037\n",
      "games: 0.0036\n",
      "eletroportáteis: 0.0035\n",
      "pet shop: 0.0035\n",
      "alimentos e bebidas: 0.0031\n",
      "malas e acessórios: 0.0024\n",
      "cama, mesa e banho: 0.0022\n",
      "utilidades domésticas: 0.0021\n",
      "ar-condicionado e aquecedores: 0.0018\n",
      "livros importados: 0.0012\n",
      "relógios: 0.0011\n",
      "blu-ray: 0.0007\n",
      "linha industrial: 0.0007\n"
     ]
    }
   ],
   "source": [
    "# Probabidade ajustada de categorias para o objeto Ventilador\n",
    "from operator import itemgetter\n",
    "for cat, proba in sorted(guess, key = itemgetter(1), reverse = True):\n",
    "    print ('{}: {:.4f}'.format(cat, proba))"
   ]
  }
 ],
 "metadata": {
  "anaconda-cloud": {},
  "interpreter": {
   "hash": "ad2bdc8ecc057115af97d19610ffacc2b4e99fae6737bb82f5d7fb13d2f2c186"
  },
  "kernelspec": {
   "display_name": "Python 3.9.7 ('base')",
   "language": "python",
   "name": "python3"
  },
  "language_info": {
   "codemirror_mode": {
    "name": "ipython",
    "version": 3
   },
   "file_extension": ".py",
   "mimetype": "text/x-python",
   "name": "python",
   "nbconvert_exporter": "python",
   "pygments_lexer": "ipython3",
   "version": "3.9.7"
  }
 },
 "nbformat": 4,
 "nbformat_minor": 4
}
