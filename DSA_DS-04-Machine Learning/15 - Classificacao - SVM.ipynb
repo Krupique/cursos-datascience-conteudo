{
 "cells": [
  {
   "cell_type": "markdown",
   "metadata": {},
   "source": [
    "# Support Vector Machines"
   ]
  },
  {
   "cell_type": "markdown",
   "metadata": {},
   "source": [
    "SVM é um classificador linear binário não probabilístico. O SVM tenta encontrar uma linha de separação entre as duas classes.<br/>\n",
    "Os algoritmos de SVM geralmente são utilizados quando trabalhamos com um conjunto de dados mais complexos.\n",
    "\n",
    "<img src=\"assets/svm00.png\"/>\n",
    "\n",
    "**Algumas características das SVM’s:**<br/>\n",
    "* Em caso de outliers a SVM busca a melhor forma possível de classificação e, se necessário, desconsiderar o outlier.\n",
    "* É um classificador criado para fornecer separação linear;\n",
    "* Funciona  muito bem em domínios complicados, em que existe uma clara margem de separação;\n",
    "* Não funciona bem em conjuntos de dados muito grandes, pois o tempo de treinamento é muito custoso;\n",
    "* Não funciona bem em conjuntos de dados com grande quantidade de ruídos;\n",
    "* Se as classes estiverem muito sobrepostas deve-se utilizar apenas evidências independentes.\n",
    "\n",
    "\n",
    "**O que são SVM’s**<br/>\n",
    "Support Vector Machines (SVM’s) são modelos de ML supervisionada, que possuem algoritmos de aprendizagem que analisam dados e reconhecem padrões, utilizados para classificação e análise de regressão.<br/>\n",
    "O algoritmo escolhe a linha de hiperplano baseado nas melhores margens possíveis.<br/>\n",
    "Caso os dados não sejam linearmente separáveis, o algoritmo utiliza um conceito chamado Kernel Trick (truque do kernel). O que ele faz na prática é adicionar uma nova coluna ao conjunto de dados, aumentando a dimensão dos dados, e assim separando em dois grupos. Com isso, torna-se possível traçar o hiperplano baseado nas margens.<br/>\n",
    "\n",
    "<img src=\"assets/svm01.png\"/>\n",
    "\n",
    "\n",
    "**Teoria do aprendizado estatístico**<br/>\n",
    "Aula: 09.06.02 Teoria do Aprendizado Estatístico\n",
    "\n",
    "**SVM’s lineares x SVM’s não lineares**<br/>\n",
    "* **Lineares**: O melhor hiperplano para uma SVM significa aquele com maior margem entre as duas classes.\n",
    "* **Não lineares**: Alguns problemas de classificação binária não tem um hiperplano simples como um critério de separação útil. Um truque simples seria transformar as duas variáveis x e y em um novo espaço de característica envolvendo x (ou y) e uma nova variável z definida.\n",
    "\n",
    "\n",
    "Como qualquer modelo de aprendizagem supervisionado, você primeiro treina uma máquina de vetores de suporte e, em seguida, valida o classificador.\n",
    "Para conseguir um nível de acurácia satisfatório, precisamos fazer o tuning dos parâmetros das funções kernel.\n",
    "\n",
    "**Métodos Kernel**<br/>\n",
    "Em ML os métodos kernel são uma classe de algoritmos para análise de padrões. As mais conhecidas são as SVM’s.<br/>\n",
    "O truque do kernel substitui os atributos(preditores) por uma função kernel. Qualquer modelo linear pode se tornar não linear utilizando o truque do kernel.\n",
    "Principais funções de Kernel utilizadas atualmente:\n",
    "\n",
    "<img src=\"assets/svm02.png\"/>\n",
    "\n",
    "SVM’s com margens flexíveis e SVM’s com margens rígidas\n",
    "Aula: 09.11 SVM's com Margens Rígidas x Margens Rígidas\n"
   ]
  },
  {
   "cell_type": "markdown",
   "metadata": {},
   "source": [
    "## Dados Linearmente Separáveis"
   ]
  },
  {
   "cell_type": "markdown",
   "metadata": {},
   "source": [
    "Na geometria euclidiana, a separabilidade linear é uma propriedade geométrica de um par de conjuntos de pontos. Isso é mais facilmente visualizado em duas dimensões (o plano euclidiano) por pensar em um conjunto de pontos como sendo de cor azul e o outro conjunto de pontos como sendo de cor rosa. Estes dois conjuntos são linearmente separáveis se existir pelo menos uma linha no plano com todos os pontos azuis em um lado da linha e todos os pontos vermelhos do outro lado. Esta ideia imediatamente generaliza para espaços euclidianos de dimensão superior se a linha for substituída por hiperplano."
   ]
  },
  {
   "cell_type": "markdown",
   "metadata": {},
   "source": [
    "## Dados Não Linearmente Separáveis"
   ]
  },
  {
   "cell_type": "markdown",
   "metadata": {},
   "source": [
    "Em SVM, é fácil ter um hiperplano linear entre estas duas classes. Mas, a questão que surge é: e quando precisamos separar dados que não são linearmente separáveis? Para esses casos, o SVM tem uma técnica chamada truque do kernel (kernel trick). Estas são funções que tomam um espaço de entrada de baixa dimensão e transformam em um espaço com mais dimensões, isto é, converte problema não separável em um problema separável, essas funções são chamadas de kernels. Elas são mais úteis em problemas de separação não-linear. Simplificando, o SVM faz algumas transformações de dados extremamente complexas, em seguida, descobre o processo para separar os dados com base nos labels ou saídas que você definiu."
   ]
  },
  {
   "cell_type": "code",
   "execution_count": null,
   "metadata": {},
   "outputs": [],
   "source": [
    "from IPython.display import Image\n",
    "Image(url = 'SVM_5.png')"
   ]
  },
  {
   "cell_type": "markdown",
   "metadata": {},
   "source": [
    "## Construindo um Modelo SVM"
   ]
  },
  {
   "cell_type": "markdown",
   "metadata": {},
   "source": [
    "http://scikit-learn.org/stable/modules/generated/sklearn.svm.SVC.html#sklearn.svm.SVC"
   ]
  },
  {
   "cell_type": "code",
   "execution_count": 7,
   "metadata": {},
   "outputs": [],
   "source": [
    "# Importando os módulos\n",
    "import numpy as np\n",
    "import matplotlib.pyplot as plt\n",
    "import pandas as pd\n",
    "import sklearn as sk\n",
    "import matplotlib\n",
    "from sklearn import svm, datasets\n",
    "%matplotlib inline"
   ]
  },
  {
   "cell_type": "code",
   "execution_count": 8,
   "metadata": {},
   "outputs": [
    {
     "name": "stdout",
     "output_type": "stream",
     "text": [
      "numpy version: 1.20.3\n",
      "scikit-learn version: 1.0.2\n",
      "matplotlib version: 3.5.1\n"
     ]
    }
   ],
   "source": [
    "# Versão dos pacotes principais\n",
    "print ('numpy version:', np.__version__)\n",
    "print ('scikit-learn version:', sk.__version__)\n",
    "print ('matplotlib version:', matplotlib.__version__)"
   ]
  },
  {
   "cell_type": "code",
   "execution_count": 9,
   "metadata": {},
   "outputs": [],
   "source": [
    "# Carregando o dataset iris\n",
    "iris = datasets.load_iris()"
   ]
  },
  {
   "cell_type": "code",
   "execution_count": 10,
   "metadata": {},
   "outputs": [],
   "source": [
    "# Extraindo os 2 primeiros atributos para variáveis preditoras (x) e a variável target (y)\n",
    "X = iris.data[:, :2] \n",
    "y = iris.target"
   ]
  },
  {
   "cell_type": "markdown",
   "metadata": {},
   "source": [
    "Kernel: Temos várias opções disponíveis com kernel como, \"linear\", \"rbf\", \"poly\", \"sigmoide\", \"precomputed\" e outros (o valor padrão é \"rbf\"). Os kernels \"rbf\" e \"poli\" são úteis para hiperplano não-linear. Vejamos o exemplo, onde usamos o kernel linear em dois atributos do conjunto de dados da íris para classificar sua classe."
   ]
  },
  {
   "cell_type": "markdown",
   "metadata": {},
   "source": [
    "### Kernel Linear"
   ]
  },
  {
   "cell_type": "markdown",
   "metadata": {},
   "source": [
    "Sugerimos que você use o kernel linear se você tiver um grande número de atributos (> 1000), porque é mais provável que os dados sejam linearmente separáveis no espaço de alta dimensão. "
   ]
  },
  {
   "cell_type": "code",
   "execution_count": 11,
   "metadata": {},
   "outputs": [],
   "source": [
    "# Criamos o modelo SVC (Support Vector Classification) e então fazemos fit dos dados\n",
    "svc_model = svm.SVC(kernel = 'linear').fit(X, y)"
   ]
  },
  {
   "cell_type": "code",
   "execution_count": 12,
   "metadata": {},
   "outputs": [
    {
     "data": {
      "text/plain": [
       "SVC(kernel='linear')"
      ]
     },
     "execution_count": 12,
     "metadata": {},
     "output_type": "execute_result"
    }
   ],
   "source": [
    "svc_model"
   ]
  },
  {
   "cell_type": "code",
   "execution_count": 13,
   "metadata": {},
   "outputs": [],
   "source": [
    "# Criando um meshgrid para o Plot\n",
    "x_min, x_max = X[:, 0].min() - 1, X[:, 0].max() + 1\n",
    "y_min, y_max = X[:, 1].min() - 1, X[:, 1].max() + 1\n",
    "h = (x_max / x_min)/100\n",
    "xx, yy = np.meshgrid(np.arange(x_min, x_max, h), np.arange(y_min, y_max, h))"
   ]
  },
  {
   "cell_type": "code",
   "execution_count": 14,
   "metadata": {},
   "outputs": [
    {
     "data": {
      "image/png": "[encoded data removed]",
      "text/plain": [
       "<Figure size 432x288 with 1 Axes>"
      ]
     },
     "metadata": {
      "needs_background": "light"
     },
     "output_type": "display_data"
    }
   ],
   "source": [
    "# Plot\n",
    "plt.subplot(1, 1, 1)\n",
    "Z = svc_model.predict(np.c_[xx.ravel(), yy.ravel()])\n",
    "Z = Z.reshape(xx.shape)\n",
    "plt.contourf(xx, yy, Z, cmap = plt.cm.Paired, alpha = 0.8)\n",
    "plt.scatter(X[:, 0], X[:, 1], c = y, cmap = plt.cm.Paired)\n",
    "plt.xlabel('Sepal length')\n",
    "plt.ylabel('Sepal width')\n",
    "plt.xlim(xx.min(), xx.max())\n",
    "plt.title('SVC com Kernel Linear')\n",
    "plt.show()"
   ]
  },
  {
   "cell_type": "markdown",
   "metadata": {},
   "source": [
    "### Kernel RBF"
   ]
  },
  {
   "cell_type": "code",
   "execution_count": 15,
   "metadata": {},
   "outputs": [],
   "source": [
    "svc_model = svm.SVC(kernel = 'rbf').fit(X, y)"
   ]
  },
  {
   "cell_type": "code",
   "execution_count": 16,
   "metadata": {},
   "outputs": [
    {
     "data": {
      "image/png": "[encoded data removed]",
      "text/plain": [
       "<Figure size 432x288 with 1 Axes>"
      ]
     },
     "metadata": {
      "needs_background": "light"
     },
     "output_type": "display_data"
    }
   ],
   "source": [
    "# Plot\n",
    "plt.subplot(1, 1, 1)\n",
    "Z = svc_model.predict(np.c_[xx.ravel(), yy.ravel()])\n",
    "Z = Z.reshape(xx.shape)\n",
    "plt.contourf(xx, yy, Z, cmap = plt.cm.Paired, alpha = 0.8)\n",
    "plt.scatter(X[:, 0], X[:, 1], c = y, cmap = plt.cm.Paired)\n",
    "plt.xlabel('Sepal length')\n",
    "plt.ylabel('Sepal width')\n",
    "plt.xlim(xx.min(), xx.max())\n",
    "plt.title('SVC com Kernel RBF')\n",
    "plt.show()"
   ]
  },
  {
   "cell_type": "markdown",
   "metadata": {},
   "source": [
    "Ao usar o RBF, não se esqueça de usar cross-validation para os seus parâmetros a fim de evitar overfitting."
   ]
  },
  {
   "cell_type": "markdown",
   "metadata": {},
   "source": [
    "### Fim"
   ]
  },
  {
   "cell_type": "markdown",
   "metadata": {},
   "source": [
    "### Obrigado - Data Science Academy - <a href=http://facebook.com/dsacademy>facebook.com/dsacademybr</a>"
   ]
  }
 ],
 "metadata": {
  "anaconda-cloud": {},
  "kernelspec": {
   "display_name": "Python 3 (ipykernel)",
   "language": "python",
   "name": "python3"
  },
  "language_info": {
   "codemirror_mode": {
    "name": "ipython",
    "version": 3
   },
   "file_extension": ".py",
   "mimetype": "text/x-python",
   "name": "python",
   "nbconvert_exporter": "python",
   "pygments_lexer": "ipython3",
   "version": "3.9.12"
  }
 },
 "nbformat": 4,
 "nbformat_minor": 4
}
