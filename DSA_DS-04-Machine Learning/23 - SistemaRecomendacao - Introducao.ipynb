{
 "cells": [
  {
   "cell_type": "markdown",
   "metadata": {},
   "source": [
    "# Sistemas de Recomendação"
   ]
  },
  {
   "cell_type": "markdown",
   "metadata": {},
   "source": [
    "Os sistemas de recomendações nos ajudam a fornecer informações úteis e relevantes para os clientes e usuários. São na sua essência análise preditiva.<br/>\n",
    "\n",
    "Os motores de recomendação são um ramo da recuperação de informações e inteligência artificial e são poderosas ferramentas e técnicas para analisar enormes volumes de dados, especialmente informações de produtos e informações de usuários e, em seguida, fornecer sugestões relevantes baseadas em abordagens de mineração de dados.\n",
    "\n",
    "\n",
    "**O que são sistemas de recomendação?**<br/>\n",
    "São as aplicações que personalizam a experiência de compra do seu cliente, recomendando as melhores opções seguintes à luz das suas recentes compras ou atividades de navegação. Portanto, são modelos preditivos que a partir de análise estatística, determinam a probabilidade de um cliente estar interessado por um outro item similar ao que está comprando em um dado momento.\n",
    "\n",
    "Alguns itens para levar em consideração:\n",
    "* **Substitutos**: Existe algum produto que seja equivalente ao produto que o cliente quer comprar e que possa substituir?\n",
    "* **Complementares**: Existem itens suplementares que possam ser acrescentados pelo cliente?\n",
    "* **Ideias**: O cliente está navegando por novos produtos que ele pode comprar, quais são os produtos que ele tem mais chance de comprar?\n",
    "* **Sequência**: A ordem que os produtos são apresentados são importantes para maximizar a satisfação do cliente. Ordem de consumo.\n",
    "\n",
    "Leve em consideração:\n",
    "* Filmes, livros e músicas: Grandes estoques em rápida mudança para consumo imediato.\n",
    "* Eletrônica ou hardware: Estoques grandes, porém mais estáveis, com muitas subcategorias de escolhas complementares e muitos objetivos e motivações diferentes do comprador.\n",
    "* Vestuário feminino: Estoques grandes e com rápidas e com mudanças com muito menos atributos ou difíceis comparações, mas um grande número de subatributos como cor e tamanho.\n",
    "\n",
    "\n",
    "**Tipos de sistemas de recomendação:**<br/>\n",
    "* Eles dependem de diferentes algoritmos;\n",
    "* Alguns têm um foco maior nas semelhanças de clientes, alguns em similaridades de conteúdo e alguns uma mistura dos dois.\n",
    "* Diferentes algoritmos variam em sua utilidade com base no quanto você sabe com antecedência sobre seus clientes, seu conteúdo e se você pode obter feedback de seus clientes após a compra (isso seria fundamental).\n",
    "* Todos devem satisfazer a exigência geral de oferecer um resultado personalizado dentro de cerca de 50ms (esse é um desafio).\n",
    "\n",
    "**Existem basicamente 5 modelos de sistemas de recomendação:**<br/>\n",
    "\n",
    "<img src=\"assets/rec00.png\"/>\n",
    "\n",
    "**Sistema de recomendação baseado no item mais popular**<br/>\n",
    "Esse é o modelo mais básico e simples de implementação, a estratégia é simplesmente oferecer ao usuário o item que é mais popular. Pode ser útil se eu não sei quase nada sobre o visitante do meu site.\n",
    "\n",
    "**Associações e Market Basket**<br/>\n",
    "Esses sistemas olham quase exclusivamente em conteúdo. Analisam a relação entre os produtos que os clientes estão comprando.<br/>\n",
    "Etapas principais:\n",
    "* Avaliar a força da relação entre cada um de seus produtos e todos os outros produtos que você oferece usando os algoritmos de associação.\n",
    "* Identificar aqueles pares que têm afinidade muito forte (tipicamente um pontuação de afinidade de 2 ou superior). Por exemplo, um cliente com um cartão de crédito pode ter duas ou três vezes mais probabilidade de adquirir um empréstimo do que um cliente selecionado ao acaso.\n",
    "* Criar uma oferta personalizada para clientes que têm um produto (de um par de produtos fortemente associados), mas não o outro.\n",
    "\n",
    "Vantagens:\n",
    "* É extremamente simples e rápido;\n",
    "* Funcionará com bases de clientes muito pequenas ou escassas;\n",
    "* O conhecimento do cliente e seu relacionamento com produtos e serviços não é necessário;\n",
    "* A preparação de dados é mínima;\n",
    "* Associação e Market Basket Analysis são normalmente o método mais rentável para criar ofertas personalizadas.\n",
    "\n",
    "\n",
    "**Filtros colaborativos**<br/>\n",
    "A filtragem colaborativa foca usuário e outros usuários que são matematicamente similares. Se dois usuários têm uma forte semelhança entre gostos e desgostos do passado, é provável que irão continuar assim no futuro.\n",
    "\n",
    "<img src=\"assets/rec01.png\"/>\n",
    "\n",
    "Para um bom filtro colaborativo precisamos de duas etapas.<br/>\n",
    "A primeira etapa:\n",
    "* Pedir ao usuário que classifique um item em uma escala de cinco pontos ou use um botão como gostei/não gostei.\n",
    "* Pedir ao usuário para procurar um item e observar os termos usados  (caixas de pesquisa).\n",
    "* Criar um perfil de gostos e desgostos por diferentes fatores, como gênero, autor ou outros fatores semelhantes.\n",
    "* Apresentar duas alternativas e perguntar ao usuário o que é melhor (análise conjunta).\n",
    "\n",
    "A segunda etapa:\n",
    "* Observar os itens visualizados, incluindo o tempo gasto na visualização. Compras reais.\n",
    "* Se permitido, a coleta de dados do computador do usuário, como listas de itens realmente acessados, ouvidos ou assistidos.\n",
    "* Usar fontes de dados extremas como sites de redes sociais para adicionar gostos e desgostos para esse usuário.\n",
    "\n",
    "**Forças de fraquezas:**\n",
    "\n",
    "<img src=\"assets/rec02.png\"/>\n",
    "<img src=\"assets/rec02_2.png\"/>\n",
    "<img src=\"assets/rec03.png\"/>\n",
    "<img src=\"assets/rec04.png\"/>\n",
    "<img src=\"assets/rec05.png\"/>\n",
    "<img src=\"assets/rec06.png\"/>\n",
    "\n",
    "\n",
    "**Filtragem de conteúdo**<br/>\n",
    "Busca a semelhança entre os itens que o usuário navegou no passado para indicar novos itens no futuro. Esse tipo de recomendação se torna inviável quando o conjunto de dados for muito grande.\n",
    "\n",
    "Diferença entre filtragem de conteúdo e filtros colaborativos:\n",
    "\n",
    "Essa técnica não leva em consideração as preferências de vizinhança do usuário. Portanto, não exige uma grande preferência do usuário por itens para uma melhor precisão de recomendação. Considera apenas as preferências passadas do usuário e as propriedades/ características dos itens.\n",
    "\n",
    "**Forças e fraquezas:**\n",
    "\n",
    "<img src=\"assets/rec07.png\"/>\n",
    "<img src=\"assets/rec08.png\"/>\n",
    "<img src=\"assets/rec09.png\"/>\n",
    "<img src=\"assets/rec10.png\"/>\n",
    "\n",
    "\n",
    "\n",
    "**Modelos Híbridos**<br/>\n",
    "Basicamente os sistemas de recomendação híbridos são de dois tipos:\n",
    "\n",
    "<img src=\"assets/rec11.png\"/><br/>\n",
    "<img src=\"assets/rec12.png\"/>\n",
    "\n",
    "\n",
    "**Evolução dos sistemas de recomendação**<br/>\n",
    "Ao longo dos anos, os métodos de recomendação evoluíram, passaram de sistemas mais básicos para sistemas de recomendação mais personalizadas, baseadas em contexto e em tempo real.\n",
    "\n",
    "<img src=\"assets/rec13.png\"/>\n",
    "\n",
    "**Sistemas de recomendação Neighborhood-based**<br/>\n",
    "É a técnica mais comumente utilizada para calcular a similaridade entre os usuários:\n",
    "* Distância Euclidiana;\n",
    "* Similaridade de Cosseno;\n",
    "* Similaridade Jaccard;\n",
    "* Coeficiente de correlação Pearson.\n",
    "\n",
    "\n",
    "**Sistemas de recomendação Mathematical-Based**<br/>\n",
    "Modelos matemáticos provaram ser muito precisos quando se tratam de construir motores de recomendação sobre as medidas de cálculo de similaridade e vem sendo aplicados em sistemas híbridos quando devem tratar de dados que possuem alta complexidade. Existem basicamente 3 métodos usados na construção de sistemas de recomendação:\n",
    "* Fatoração de matriz;\n",
    "* Alternando mínimos quadrados;\n",
    "* Singular value decomposition (SVD);\n",
    "\n",
    "\n",
    "**Sistemas de recomendação Machine Learning-Based**<br/>\n",
    "Quase tudo pode ser utilizado como ferramenta para construir um sistema de recomendação baseado em machine learning:\n",
    "* Regressão Linear;\n",
    "* Classificação;\n",
    "* Clustering;\n",
    "* Support Vector Machine;\n",
    "* Árvore de Decisão e Métodos Ensemble;\n",
    "* Redes Neurais e Deep Learning.\n"
   ]
  },
  {
   "cell_type": "markdown",
   "metadata": {},
   "source": [
    "## Filtros Colaborativos em Python"
   ]
  },
  {
   "cell_type": "code",
   "execution_count": 1,
   "metadata": {},
   "outputs": [],
   "source": [
    "import pandas as pd\n",
    "import numpy as np\n",
    "import matplotlib.pyplot as plt \n",
    "from sklearn.model_selection import train_test_split \n",
    "from sklearn.metrics.pairwise import cosine_distances\n",
    "from sklearn.metrics import mean_squared_error\n",
    "from sklearn.neighbors import NearestNeighbors\n",
    "%matplotlib inline"
   ]
  },
  {
   "cell_type": "code",
   "execution_count": 2,
   "metadata": {
    "scrolled": true
   },
   "outputs": [
    {
     "data": {
      "text/plain": [
       "pandas.core.frame.DataFrame"
      ]
     },
     "execution_count": 2,
     "metadata": {},
     "output_type": "execute_result"
    }
   ],
   "source": [
    "arquivo = \"movies.csv\" \n",
    "df = pd.read_csv(arquivo, sep = '\\t') \n",
    "type(df)"
   ]
  },
  {
   "cell_type": "code",
   "execution_count": 3,
   "metadata": {},
   "outputs": [
    {
     "data": {
      "text/html": [
       "<div>\n",
       "<style scoped>\n",
       "    .dataframe tbody tr th:only-of-type {\n",
       "        vertical-align: middle;\n",
       "    }\n",
       "\n",
       "    .dataframe tbody tr th {\n",
       "        vertical-align: top;\n",
       "    }\n",
       "\n",
       "    .dataframe thead th {\n",
       "        text-align: right;\n",
       "    }\n",
       "</style>\n",
       "<table border=\"1\" class=\"dataframe\">\n",
       "  <thead>\n",
       "    <tr style=\"text-align: right;\">\n",
       "      <th></th>\n",
       "      <th>UserID</th>\n",
       "      <th>ItemID</th>\n",
       "      <th>Rating</th>\n",
       "      <th>Timestamp</th>\n",
       "    </tr>\n",
       "  </thead>\n",
       "  <tbody>\n",
       "    <tr>\n",
       "      <th>0</th>\n",
       "      <td>196</td>\n",
       "      <td>242</td>\n",
       "      <td>3</td>\n",
       "      <td>881250949</td>\n",
       "    </tr>\n",
       "    <tr>\n",
       "      <th>1</th>\n",
       "      <td>186</td>\n",
       "      <td>302</td>\n",
       "      <td>3</td>\n",
       "      <td>891717742</td>\n",
       "    </tr>\n",
       "    <tr>\n",
       "      <th>2</th>\n",
       "      <td>22</td>\n",
       "      <td>377</td>\n",
       "      <td>1</td>\n",
       "      <td>878887116</td>\n",
       "    </tr>\n",
       "    <tr>\n",
       "      <th>3</th>\n",
       "      <td>244</td>\n",
       "      <td>51</td>\n",
       "      <td>2</td>\n",
       "      <td>880606923</td>\n",
       "    </tr>\n",
       "    <tr>\n",
       "      <th>4</th>\n",
       "      <td>166</td>\n",
       "      <td>346</td>\n",
       "      <td>1</td>\n",
       "      <td>886397596</td>\n",
       "    </tr>\n",
       "  </tbody>\n",
       "</table>\n",
       "</div>"
      ],
      "text/plain": [
       "   UserID  ItemID  Rating  Timestamp\n",
       "0     196     242       3  881250949\n",
       "1     186     302       3  891717742\n",
       "2      22     377       1  878887116\n",
       "3     244      51       2  880606923\n",
       "4     166     346       1  886397596"
      ]
     },
     "execution_count": 3,
     "metadata": {},
     "output_type": "execute_result"
    }
   ],
   "source": [
    "df.head()"
   ]
  },
  {
   "cell_type": "code",
   "execution_count": 4,
   "metadata": {},
   "outputs": [
    {
     "data": {
      "text/plain": [
       "Index(['UserID', 'ItemID', 'Rating', 'Timestamp'], dtype='object')"
      ]
     },
     "execution_count": 4,
     "metadata": {},
     "output_type": "execute_result"
    }
   ],
   "source": [
    "df.columns"
   ]
  },
  {
   "cell_type": "code",
   "execution_count": 5,
   "metadata": {},
   "outputs": [
    {
     "data": {
      "text/plain": [
       "(100000, 4)"
      ]
     },
     "execution_count": 5,
     "metadata": {},
     "output_type": "execute_result"
    }
   ],
   "source": [
    "df.shape"
   ]
  },
  {
   "cell_type": "code",
   "execution_count": 9,
   "metadata": {},
   "outputs": [
    {
     "data": {
      "text/plain": [
       "(array([ 6110.,     0., 11370.,     0.,     0., 27145.,     0., 34174.,\n",
       "            0., 21201.]),\n",
       " array([1. , 1.4, 1.8, 2.2, 2.6, 3. , 3.4, 3.8, 4.2, 4.6, 5. ]),\n",
       " <BarContainer object of 10 artists>)"
      ]
     },
     "execution_count": 9,
     "metadata": {},
     "output_type": "execute_result"
    },
    {
     "data": {
      "image/png": "[encoded data removed]",
      "text/plain": [
       "<Figure size 432x288 with 1 Axes>"
      ]
     },
     "metadata": {
      "needs_background": "light"
     },
     "output_type": "display_data"
    }
   ],
   "source": [
    "# Distribuição dos Ratings\n",
    "plt.hist(df['Rating'])"
   ]
  },
  {
   "cell_type": "code",
   "execution_count": 28,
   "metadata": {},
   "outputs": [
    {
     "data": {
      "text/plain": [
       "Rating\n",
       "1     6110\n",
       "2    11370\n",
       "3    27145\n",
       "4    34174\n",
       "5    21201\n",
       "Name: UserID, dtype: int64"
      ]
     },
     "execution_count": 28,
     "metadata": {},
     "output_type": "execute_result"
    }
   ],
   "source": [
    "df.groupby(['Rating'])['UserID'].count()\n",
    "#df.Rating.value_counts()"
   ]
  },
  {
   "cell_type": "code",
   "execution_count": 42,
   "metadata": {},
   "outputs": [
    {
     "data": {
      "text/plain": [
       "Text(0, 0.5, 'Qtd avaliações')"
      ]
     },
     "execution_count": 42,
     "metadata": {},
     "output_type": "execute_result"
    },
    {
     "data": {
      "image/png": "[encoded data removed]",
      "text/plain": [
       "<Figure size 432x288 with 1 Axes>"
      ]
     },
     "metadata": {
      "needs_background": "light"
     },
     "output_type": "display_data"
    }
   ],
   "source": [
    "teste = pd.DataFrame(df.groupby(['Rating'])['UserID'].count()).reset_index(inplace=False)\n",
    "plt.bar(teste.Rating, teste.UserID)\n",
    "plt.xlabel('Rating')\n",
    "plt.ylabel('Qtd avaliações')"
   ]
  },
  {
   "cell_type": "code",
   "execution_count": 43,
   "metadata": {},
   "outputs": [],
   "source": [
    "# Criando a variável n_users para encontrar o número total de usuários únicos\n",
    "n_users = df.UserID.unique().shape[0] "
   ]
  },
  {
   "cell_type": "code",
   "execution_count": 44,
   "metadata": {},
   "outputs": [],
   "source": [
    "# Criando a variável n_items para encontrar o número total de filmes únicos\n",
    "n_items = df['ItemID'].unique().shape[0] "
   ]
  },
  {
   "cell_type": "code",
   "execution_count": 45,
   "metadata": {},
   "outputs": [
    {
     "name": "stdout",
     "output_type": "stream",
     "text": [
      "943 usuários\n",
      "1682 filmes\n"
     ]
    }
   ],
   "source": [
    "# Print\n",
    "print(str(n_users) + ' usuários') \n",
    "print(str(n_items) + ' filmes') "
   ]
  },
  {
   "cell_type": "code",
   "execution_count": 57,
   "metadata": {},
   "outputs": [],
   "source": [
    "# Cria uma matriz de zeros com tamanho (n_users X n_items) para armazenar os ratings nas células\n",
    "ratings = np.zeros((n_users, n_items)) "
   ]
  },
  {
   "cell_type": "code",
   "execution_count": 58,
   "metadata": {},
   "outputs": [
    {
     "data": {
      "text/plain": [
       "(943, 1682)"
      ]
     },
     "execution_count": 58,
     "metadata": {},
     "output_type": "execute_result"
    }
   ],
   "source": [
    "ratings.shape"
   ]
  },
  {
   "cell_type": "code",
   "execution_count": 61,
   "metadata": {},
   "outputs": [],
   "source": [
    "# Para cada registro do dataset, extrair a informação de cada coluna de cada linha e armazenar na matriz de ratings\n",
    "for  row in df.itertuples():\n",
    "  ratings[row[1]-1, row[2]-1] = row[3] "
   ]
  },
  {
   "cell_type": "code",
   "execution_count": 62,
   "metadata": {},
   "outputs": [
    {
     "data": {
      "text/plain": [
       "numpy.ndarray"
      ]
     },
     "execution_count": 62,
     "metadata": {},
     "output_type": "execute_result"
    }
   ],
   "source": [
    "type(ratings)"
   ]
  },
  {
   "cell_type": "code",
   "execution_count": 63,
   "metadata": {},
   "outputs": [
    {
     "data": {
      "text/plain": [
       "(943, 1682)"
      ]
     },
     "execution_count": 63,
     "metadata": {},
     "output_type": "execute_result"
    }
   ],
   "source": [
    "ratings.shape"
   ]
  },
  {
   "cell_type": "code",
   "execution_count": 64,
   "metadata": {},
   "outputs": [
    {
     "data": {
      "text/plain": [
       "array([[5., 3., 4., ..., 0., 0., 0.],\n",
       "       [4., 0., 0., ..., 0., 0., 0.],\n",
       "       [0., 0., 0., ..., 0., 0., 0.],\n",
       "       ...,\n",
       "       [5., 0., 0., ..., 0., 0., 0.],\n",
       "       [0., 0., 0., ..., 0., 0., 0.],\n",
       "       [0., 5., 0., ..., 0., 0., 0.]])"
      ]
     },
     "execution_count": 64,
     "metadata": {},
     "output_type": "execute_result"
    }
   ],
   "source": [
    "ratings"
   ]
  },
  {
   "cell_type": "code",
   "execution_count": 65,
   "metadata": {},
   "outputs": [
    {
     "name": "stdout",
     "output_type": "stream",
     "text": [
      "Sparsity: 6.30%\n"
     ]
    }
   ],
   "source": [
    "# Calculando a esparsidade da matriz\n",
    "# Esse resultado significa que temos apenas 6.3% de ratings neste conjunto de dados e que todo o \n",
    "# resto está preenchido com zeros (esses zeros NÃO representam ratings e sim valores missing)\n",
    "sparsity = float(len(ratings.nonzero()[0]))\n",
    "sparsity /= (ratings.shape[0] * ratings.shape[1])\n",
    "sparsity *= 100 \n",
    "print('Sparsity: {:4.2f}%'.format(sparsity))"
   ]
  },
  {
   "cell_type": "code",
   "execution_count": 66,
   "metadata": {},
   "outputs": [
    {
     "data": {
      "text/plain": [
       "(312, 1682)"
      ]
     },
     "execution_count": 66,
     "metadata": {},
     "output_type": "execute_result"
    }
   ],
   "source": [
    "# Criando conjunto de dados de treino e de teste para treinar o motor de recomendação\n",
    "ratings_train, ratings_test = train_test_split(ratings, test_size = 0.33, random_state = 42)\n",
    "ratings_test.shape"
   ]
  },
  {
   "cell_type": "markdown",
   "metadata": {},
   "source": [
    "### User Based Colaborative Filtering (UBCF)"
   ]
  },
  {
   "cell_type": "code",
   "execution_count": 76,
   "metadata": {},
   "outputs": [],
   "source": [
    "# Calculando a matriz de distâncias com: cosine_distances(ratings_train)\n",
    "dist_out = 1 - cosine_distances(ratings_train)"
   ]
  },
  {
   "cell_type": "code",
   "execution_count": 77,
   "metadata": {},
   "outputs": [
    {
     "data": {
      "text/plain": [
       "numpy.ndarray"
      ]
     },
     "execution_count": 77,
     "metadata": {},
     "output_type": "execute_result"
    }
   ],
   "source": [
    "type(dist_out)"
   ]
  },
  {
   "cell_type": "code",
   "execution_count": 78,
   "metadata": {},
   "outputs": [
    {
     "data": {
      "text/plain": [
       "(631, 631)"
      ]
     },
     "execution_count": 78,
     "metadata": {},
     "output_type": "execute_result"
    }
   ],
   "source": [
    "dist_out.shape"
   ]
  },
  {
   "cell_type": "code",
   "execution_count": 70,
   "metadata": {},
   "outputs": [
    {
     "data": {
      "text/plain": [
       "array([[1.        , 0.36475764, 0.44246231, ..., 0.02010641, 0.33107929,\n",
       "        0.25638518],\n",
       "       [0.36475764, 1.        , 0.42635255, ..., 0.06694419, 0.27339314,\n",
       "        0.22337268],\n",
       "       [0.44246231, 0.42635255, 1.        , ..., 0.06675756, 0.25424373,\n",
       "        0.22320126],\n",
       "       ...,\n",
       "       [0.02010641, 0.06694419, 0.06675756, ..., 1.        , 0.04853428,\n",
       "        0.05142508],\n",
       "       [0.33107929, 0.27339314, 0.25424373, ..., 0.04853428, 1.        ,\n",
       "        0.1198022 ],\n",
       "       [0.25638518, 0.22337268, 0.22320126, ..., 0.05142508, 0.1198022 ,\n",
       "        1.        ]])"
      ]
     },
     "execution_count": 70,
     "metadata": {},
     "output_type": "execute_result"
    }
   ],
   "source": [
    "dist_out"
   ]
  },
  {
   "cell_type": "code",
   "execution_count": 79,
   "metadata": {},
   "outputs": [],
   "source": [
    "# Prevendo os ratings\n",
    "# Isso é feito através da multiplicação da matriz de distâncias com a matriz de ratings\n",
    "user_pred = dist_out.dot(ratings_train) / np.array([np.abs(dist_out).sum(axis=1)]).T"
   ]
  },
  {
   "cell_type": "code",
   "execution_count": 80,
   "metadata": {},
   "outputs": [
    {
     "data": {
      "text/plain": [
       "array([[2.46573349, 0.82987753, 0.46745119, ..., 0.        , 0.01051423,\n",
       "        0.00930566],\n",
       "       [2.20129624, 0.5513313 , 0.44342882, ..., 0.        , 0.00682653,\n",
       "        0.00629833],\n",
       "       [2.23857808, 0.68874746, 0.45178516, ..., 0.        , 0.00863713,\n",
       "        0.0084224 ],\n",
       "       ...,\n",
       "       [1.74346476, 0.40503715, 0.32435436, ..., 0.        , 0.00284126,\n",
       "        0.0094319 ],\n",
       "       [2.32393481, 0.81386209, 0.48334765, ..., 0.        , 0.01058346,\n",
       "        0.01011386],\n",
       "       [2.35304498, 0.59746852, 0.38845057, ..., 0.        , 0.00669755,\n",
       "        0.00562433]])"
      ]
     },
     "execution_count": 80,
     "metadata": {},
     "output_type": "execute_result"
    }
   ],
   "source": [
    "user_pred"
   ]
  },
  {
   "cell_type": "code",
   "execution_count": 81,
   "metadata": {},
   "outputs": [],
   "source": [
    "# Função para obter as métricas\n",
    "# Usaremos o MSE (Mean Square Error) para avaliar os erros comparando valores atuais e valores previstos\n",
    "# Quanto menor, melhor!\n",
    "def get_mse(pred, actual):\n",
    "    pred = pred[actual.nonzero()].flatten()\n",
    "    actual = actual[actual.nonzero()].flatten()\n",
    "    return mean_squared_error(pred, actual)"
   ]
  },
  {
   "cell_type": "code",
   "execution_count": 82,
   "metadata": {},
   "outputs": [
    {
     "data": {
      "text/plain": [
       "7.882193991551003"
      ]
     },
     "execution_count": 82,
     "metadata": {},
     "output_type": "execute_result"
    }
   ],
   "source": [
    "# Avaliando as previsões nos dados de treino\n",
    "get_mse(user_pred, ratings_train)"
   ]
  },
  {
   "cell_type": "code",
   "execution_count": 83,
   "metadata": {},
   "outputs": [
    {
     "data": {
      "text/plain": [
       "8.922495431696548"
      ]
     },
     "execution_count": 83,
     "metadata": {},
     "output_type": "execute_result"
    }
   ],
   "source": [
    "# Avaliando as previsões nos dados de teste\n",
    "get_mse(user_pred, ratings_test)"
   ]
  },
  {
   "cell_type": "markdown",
   "metadata": {},
   "source": [
    "Os valores dos erros acima estão muito altos. Precisamos fazer algo para tentar reduzir os erros nas previsões deste motor de recomendações. Por que não tentar Machine Learning?"
   ]
  },
  {
   "cell_type": "markdown",
   "metadata": {},
   "source": [
    "A provável causa do valor alto para os erros, pode ter sido o fato de usarmos todos os ratings em nossos cálculos. Vamos agora usar apenas os \"top 5 usuários similares\" enquanto estivermos preparando nossas previsões."
   ]
  },
  {
   "cell_type": "code",
   "execution_count": 100,
   "metadata": {},
   "outputs": [],
   "source": [
    "# Definindo o valor de k para o top 5\n",
    "k = 15"
   ]
  },
  {
   "cell_type": "markdown",
   "metadata": {},
   "source": [
    "Vamos usar o modelo KNN (tenho certeza que você se lembra dele, pois tivemos um capítulo inteiro dedicado ao KNN aqui no curso). Vamos usar uma medida de similaridade (cosine) para encontrar o \"top 5 usuários similares\"."
   ]
  },
  {
   "cell_type": "code",
   "execution_count": 101,
   "metadata": {},
   "outputs": [],
   "source": [
    "# Definir o objeto NearestNeighbors passando k como parâmetro e definindo o método de similaridade para criar o modelo\n",
    "modelo = NearestNeighbors(n_neighbors=k, algorithm='auto')"
   ]
  },
  {
   "cell_type": "code",
   "execution_count": 102,
   "metadata": {},
   "outputs": [
    {
     "data": {
      "text/plain": [
       "NearestNeighbors(n_neighbors=15)"
      ]
     },
     "execution_count": 102,
     "metadata": {},
     "output_type": "execute_result"
    }
   ],
   "source": [
    "# Fit dos dados de treino no modelo\n",
    "modelo.fit(ratings_train)"
   ]
  },
  {
   "cell_type": "code",
   "execution_count": 103,
   "metadata": {},
   "outputs": [],
   "source": [
    "# Extraindo os usuários top 5 em similaridade\n",
    "top_k_distances, top_k_users = modelo.kneighbors(ratings_train, return_distance = True)"
   ]
  },
  {
   "cell_type": "code",
   "execution_count": 104,
   "metadata": {},
   "outputs": [
    {
     "data": {
      "text/plain": [
       "(631, 15)"
      ]
     },
     "execution_count": 104,
     "metadata": {},
     "output_type": "execute_result"
    }
   ],
   "source": [
    "top_k_distances.shape"
   ]
  },
  {
   "cell_type": "code",
   "execution_count": 105,
   "metadata": {},
   "outputs": [
    {
     "data": {
      "text/plain": [
       "(631, 15)"
      ]
     },
     "execution_count": 105,
     "metadata": {},
     "output_type": "execute_result"
    }
   ],
   "source": [
    "top_k_users.shape"
   ]
  },
  {
   "cell_type": "code",
   "execution_count": 106,
   "metadata": {},
   "outputs": [
    {
     "data": {
      "text/plain": [
       "array([  0,  82, 511, 184, 207, 141,  33, 288, 147, 368,   7, 148, 144,\n",
       "       238, 216], dtype=int64)"
      ]
     },
     "execution_count": 106,
     "metadata": {},
     "output_type": "execute_result"
    }
   ],
   "source": [
    "top_k_users[0]"
   ]
  },
  {
   "cell_type": "code",
   "execution_count": 107,
   "metadata": {},
   "outputs": [],
   "source": [
    "# Preparando a matriz de zeros\n",
    "user_pred_k = np.zeros(ratings_train.shape)"
   ]
  },
  {
   "cell_type": "code",
   "execution_count": 108,
   "metadata": {},
   "outputs": [],
   "source": [
    "# Fazendo as previsões\n",
    "for i in range(ratings_train.shape[0]):\n",
    "  user_pred_k[i,:] = top_k_distances[i].T.dot(ratings_train[top_k_users][i])/np.array([np.abs(top_k_distances[i].T).sum(axis=0)]).T"
   ]
  },
  {
   "cell_type": "code",
   "execution_count": 109,
   "metadata": {},
   "outputs": [
    {
     "data": {
      "text/plain": [
       "(631, 1682)"
      ]
     },
     "execution_count": 109,
     "metadata": {},
     "output_type": "execute_result"
    }
   ],
   "source": [
    "user_pred_k.shape"
   ]
  },
  {
   "cell_type": "code",
   "execution_count": 110,
   "metadata": {},
   "outputs": [
    {
     "data": {
      "text/plain": [
       "array([[3.78650964, 1.50055529, 0.        , ..., 0.        , 0.        ,\n",
       "        0.        ],\n",
       "       [2.64793501, 0.        , 0.99597534, ..., 0.        , 0.        ,\n",
       "        0.        ],\n",
       "       [2.44327219, 1.1427631 , 0.56865066, ..., 0.        , 0.        ,\n",
       "        0.        ],\n",
       "       ...,\n",
       "       [0.        , 0.        , 0.        , ..., 0.        , 0.        ,\n",
       "        0.        ],\n",
       "       [0.42610133, 0.        , 0.        , ..., 0.        , 0.        ,\n",
       "        0.        ],\n",
       "       [1.0502818 , 0.        , 0.        , ..., 0.        , 0.        ,\n",
       "        0.        ]])"
      ]
     },
     "execution_count": 110,
     "metadata": {},
     "output_type": "execute_result"
    }
   ],
   "source": [
    "user_pred_k"
   ]
  },
  {
   "cell_type": "code",
   "execution_count": 111,
   "metadata": {},
   "outputs": [
    {
     "data": {
      "text/plain": [
       "8.412013491073367"
      ]
     },
     "execution_count": 111,
     "metadata": {},
     "output_type": "execute_result"
    }
   ],
   "source": [
    "get_mse(user_pred_k, ratings_train)"
   ]
  },
  {
   "cell_type": "code",
   "execution_count": 112,
   "metadata": {},
   "outputs": [
    {
     "data": {
      "text/plain": [
       "11.505920663761643"
      ]
     },
     "execution_count": 112,
     "metadata": {},
     "output_type": "execute_result"
    }
   ],
   "source": [
    "get_mse(user_pred_k, ratings_test)"
   ]
  }
 ],
 "metadata": {
  "anaconda-cloud": {},
  "kernelspec": {
   "display_name": "Python 3 (ipykernel)",
   "language": "python",
   "name": "python3"
  },
  "language_info": {
   "codemirror_mode": {
    "name": "ipython",
    "version": 3
   },
   "file_extension": ".py",
   "mimetype": "text/x-python",
   "name": "python",
   "nbconvert_exporter": "python",
   "pygments_lexer": "ipython3",
   "version": "3.9.12"
  }
 },
 "nbformat": 4,
 "nbformat_minor": 4
}
